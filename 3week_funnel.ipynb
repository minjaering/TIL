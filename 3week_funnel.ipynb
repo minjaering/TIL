{
 "cells": [
  {
   "cell_type": "code",
   "execution_count": 243,
   "metadata": {
    "id": "F5KADmLgvibA"
   },
   "outputs": [],
   "source": [
    "import pandas as pd # python에서의 엑셀과 같은 역할\n",
    "import numpy as np # 계산을 편하게 해 주는 라이브러리\n",
    "import matplotlib.pyplot as plt # 시각화\n",
    "import seaborn as sns # 시각화\n",
    "\n",
    "import matplotlib.ticker as ticker # 시각화\n",
    "import matplotlib.dates as mdates # 시각화\n",
    "\n",
    "import warnings\n",
    "warnings.filterwarnings('ignore')"
   ]
  },
  {
   "cell_type": "markdown",
   "metadata": {
    "id": "wnoDqD8EsZpp"
   },
   "source": [
    "# ★ 실습 목적\n",
    "    * Funnel data를 다루고\n",
    "    * 그것을 직관적으로 파악할 수 있는 시각화"
   ]
  },
  {
   "cell_type": "markdown",
   "metadata": {
    "id": "sEsaC8Uxbech"
   },
   "source": [
    "# _1. 데이터 불러오기"
   ]
  },
  {
   "cell_type": "markdown",
   "metadata": {
    "id": "d1BUl987Mdei"
   },
   "source": [
    "* 구글드라이브 연결"
   ]
  },
  {
   "cell_type": "code",
   "execution_count": 244,
   "metadata": {
    "colab": {
     "base_uri": "https://localhost:8080/"
    },
    "id": "2kR8fjYnxtUB",
    "outputId": "1ea9b1ce-1e3a-42d8-f3e5-9ed6c7d4120c"
   },
   "outputs": [],
   "source": [
    "# 구글드라이브랑 연동하기 전에 실행시켜주기\n",
    "#from google.colab import drive\n",
    "#drive.mount('/content/drive')"
   ]
  },
  {
   "cell_type": "code",
   "execution_count": 245,
   "metadata": {
    "colab": {
     "base_uri": "https://localhost:8080/"
    },
    "id": "EAFEx4HFvqRy",
    "outputId": "0c74f0af-0358-409c-a924-ffb4fddab6f7"
   },
   "outputs": [
    {
     "name": "stdout",
     "output_type": "stream",
     "text": [
      "Wall time: 14.4 s\n"
     ]
    }
   ],
   "source": [
    "%%time\n",
    "df = pd.read_csv('C:/Users/minja/product_analysis/data/funnel_sample_final.csv')\n",
    "df_base = df.copy()"
   ]
  },
  {
   "cell_type": "markdown",
   "metadata": {
    "id": "FVOSQaFrbh3E"
   },
   "source": [
    "## 1.1 data spec 확인"
   ]
  },
  {
   "cell_type": "code",
   "execution_count": 246,
   "metadata": {
    "colab": {
     "base_uri": "https://localhost:8080/"
    },
    "id": "-rkTAn_rv3IQ",
    "outputId": "7162d60d-d85c-4ed0-a3f7-b6cf8bf47a94"
   },
   "outputs": [
    {
     "name": "stdout",
     "output_type": "stream",
     "text": [
      "<class 'pandas.core.frame.DataFrame'>\n",
      "RangeIndex: 1902435 entries, 0 to 1902434\n",
      "Data columns (total 33 columns):\n",
      " #   Column                 Dtype  \n",
      "---  ------                 -----  \n",
      " 0   dates                  object \n",
      " 1   hours                  int64  \n",
      " 2   age_layer              object \n",
      " 3   se_inflowed            int64  \n",
      " 4   se_joined              float64\n",
      " 5   se_cert_pv             float64\n",
      " 6   se_cert_done           float64\n",
      " 7   se_tax_calculation     float64\n",
      " 8   se_tax_check           float64\n",
      " 9   se_pay_pv              float64\n",
      " 10  se_is_not_target       float64\n",
      " 11  se_ref                 float64\n",
      " 12  se_ref_kt              float64\n",
      " 13  se_ref_lk              float64\n",
      " 14  se_additional_info_pv  float64\n",
      " 15  se_add_done            float64\n",
      " 16  se_edit_done           float64\n",
      " 17  se_save_done           float64\n",
      " 18  et_inflowed            object \n",
      " 19  et_joined              object \n",
      " 20  et_cert_pv             object \n",
      " 21  et_cert_done           object \n",
      " 22  et_tax_calculation     object \n",
      " 23  et_tax_check           object \n",
      " 24  et_pay_pv              object \n",
      " 25  et_is_not_target       object \n",
      " 26  et_ref                 object \n",
      " 27  et_ref_kt              object \n",
      " 28  et_ref_lk              object \n",
      " 29  et_additional_info_pv  object \n",
      " 30  et_add_done            object \n",
      " 31  et_edit_done           object \n",
      " 32  et_save_done           object \n",
      "dtypes: float64(14), int64(2), object(17)\n",
      "memory usage: 479.0+ MB\n"
     ]
    }
   ],
   "source": [
    "df_base.info()"
   ]
  },
  {
   "cell_type": "code",
   "execution_count": 247,
   "metadata": {
    "colab": {
     "base_uri": "https://localhost:8080/"
    },
    "id": "aprD-pD4qv9q",
    "outputId": "d3440630-9b79-458d-db14-cf170b5c90b5"
   },
   "outputs": [
    {
     "name": "stdout",
     "output_type": "stream",
     "text": [
      "1902435\n",
      "1902435\n",
      "1,902,435\n"
     ]
    }
   ],
   "source": [
    "# 소소한 팁 → 숫자 서식 중, 천 단위 컴마 찍기 // data type이 숫자가 아님. 출력할 때만 사용 권장\n",
    "##  len 은  raw 수와 동일 \n",
    "print(len(df_base))\n",
    "print(f'{len(df_base)}')\n",
    "print(f'{len(df_base):0,.0f}')"
   ]
  },
  {
   "cell_type": "code",
   "execution_count": 248,
   "metadata": {
    "colab": {
     "base_uri": "https://localhost:8080/",
     "height": 386
    },
    "id": "t-VNhXPZv8ny",
    "outputId": "5023840b-f9a5-4e6a-a651-ad8dd8cd7678"
   },
   "outputs": [
    {
     "data": {
      "text/html": [
       "<div>\n",
       "<style scoped>\n",
       "    .dataframe tbody tr th:only-of-type {\n",
       "        vertical-align: middle;\n",
       "    }\n",
       "\n",
       "    .dataframe tbody tr th {\n",
       "        vertical-align: top;\n",
       "    }\n",
       "\n",
       "    .dataframe thead th {\n",
       "        text-align: right;\n",
       "    }\n",
       "</style>\n",
       "<table border=\"1\" class=\"dataframe\">\n",
       "  <thead>\n",
       "    <tr style=\"text-align: right;\">\n",
       "      <th></th>\n",
       "      <th>dates</th>\n",
       "      <th>hours</th>\n",
       "      <th>age_layer</th>\n",
       "      <th>se_inflowed</th>\n",
       "      <th>se_joined</th>\n",
       "      <th>se_cert_pv</th>\n",
       "      <th>se_cert_done</th>\n",
       "      <th>se_tax_calculation</th>\n",
       "      <th>se_tax_check</th>\n",
       "      <th>se_pay_pv</th>\n",
       "      <th>...</th>\n",
       "      <th>et_tax_check</th>\n",
       "      <th>et_pay_pv</th>\n",
       "      <th>et_is_not_target</th>\n",
       "      <th>et_ref</th>\n",
       "      <th>et_ref_kt</th>\n",
       "      <th>et_ref_lk</th>\n",
       "      <th>et_additional_info_pv</th>\n",
       "      <th>et_add_done</th>\n",
       "      <th>et_edit_done</th>\n",
       "      <th>et_save_done</th>\n",
       "    </tr>\n",
       "  </thead>\n",
       "  <tbody>\n",
       "    <tr>\n",
       "      <th>592036</th>\n",
       "      <td>2021-04-25</td>\n",
       "      <td>12</td>\n",
       "      <td>Unknown</td>\n",
       "      <td>1650857544857</td>\n",
       "      <td>NaN</td>\n",
       "      <td>NaN</td>\n",
       "      <td>NaN</td>\n",
       "      <td>NaN</td>\n",
       "      <td>NaN</td>\n",
       "      <td>NaN</td>\n",
       "      <td>...</td>\n",
       "      <td>NaN</td>\n",
       "      <td>NaN</td>\n",
       "      <td>NaN</td>\n",
       "      <td>NaN</td>\n",
       "      <td>NaN</td>\n",
       "      <td>NaN</td>\n",
       "      <td>NaN</td>\n",
       "      <td>NaN</td>\n",
       "      <td>NaN</td>\n",
       "      <td>NaN</td>\n",
       "    </tr>\n",
       "    <tr>\n",
       "      <th>654108</th>\n",
       "      <td>2021-04-27</td>\n",
       "      <td>17</td>\n",
       "      <td>Unknown</td>\n",
       "      <td>1651046460147</td>\n",
       "      <td>NaN</td>\n",
       "      <td>NaN</td>\n",
       "      <td>NaN</td>\n",
       "      <td>NaN</td>\n",
       "      <td>NaN</td>\n",
       "      <td>NaN</td>\n",
       "      <td>...</td>\n",
       "      <td>NaN</td>\n",
       "      <td>NaN</td>\n",
       "      <td>NaN</td>\n",
       "      <td>NaN</td>\n",
       "      <td>NaN</td>\n",
       "      <td>NaN</td>\n",
       "      <td>NaN</td>\n",
       "      <td>NaN</td>\n",
       "      <td>NaN</td>\n",
       "      <td>NaN</td>\n",
       "    </tr>\n",
       "    <tr>\n",
       "      <th>787590</th>\n",
       "      <td>2021-04-27</td>\n",
       "      <td>16</td>\n",
       "      <td>Unknown</td>\n",
       "      <td>1651045110631</td>\n",
       "      <td>NaN</td>\n",
       "      <td>NaN</td>\n",
       "      <td>NaN</td>\n",
       "      <td>NaN</td>\n",
       "      <td>NaN</td>\n",
       "      <td>NaN</td>\n",
       "      <td>...</td>\n",
       "      <td>NaN</td>\n",
       "      <td>NaN</td>\n",
       "      <td>NaN</td>\n",
       "      <td>NaN</td>\n",
       "      <td>NaN</td>\n",
       "      <td>NaN</td>\n",
       "      <td>NaN</td>\n",
       "      <td>NaN</td>\n",
       "      <td>NaN</td>\n",
       "      <td>NaN</td>\n",
       "    </tr>\n",
       "    <tr>\n",
       "      <th>802728</th>\n",
       "      <td>2021-04-23</td>\n",
       "      <td>22</td>\n",
       "      <td>Unknown</td>\n",
       "      <td>1650719312952</td>\n",
       "      <td>NaN</td>\n",
       "      <td>NaN</td>\n",
       "      <td>NaN</td>\n",
       "      <td>NaN</td>\n",
       "      <td>NaN</td>\n",
       "      <td>NaN</td>\n",
       "      <td>...</td>\n",
       "      <td>NaN</td>\n",
       "      <td>NaN</td>\n",
       "      <td>NaN</td>\n",
       "      <td>NaN</td>\n",
       "      <td>NaN</td>\n",
       "      <td>NaN</td>\n",
       "      <td>NaN</td>\n",
       "      <td>NaN</td>\n",
       "      <td>NaN</td>\n",
       "      <td>NaN</td>\n",
       "    </tr>\n",
       "    <tr>\n",
       "      <th>815289</th>\n",
       "      <td>2021-04-25</td>\n",
       "      <td>14</td>\n",
       "      <td>Unknown</td>\n",
       "      <td>1650865535420</td>\n",
       "      <td>NaN</td>\n",
       "      <td>NaN</td>\n",
       "      <td>NaN</td>\n",
       "      <td>NaN</td>\n",
       "      <td>NaN</td>\n",
       "      <td>NaN</td>\n",
       "      <td>...</td>\n",
       "      <td>NaN</td>\n",
       "      <td>NaN</td>\n",
       "      <td>NaN</td>\n",
       "      <td>NaN</td>\n",
       "      <td>NaN</td>\n",
       "      <td>NaN</td>\n",
       "      <td>NaN</td>\n",
       "      <td>NaN</td>\n",
       "      <td>NaN</td>\n",
       "      <td>NaN</td>\n",
       "    </tr>\n",
       "  </tbody>\n",
       "</table>\n",
       "<p>5 rows × 33 columns</p>\n",
       "</div>"
      ],
      "text/plain": [
       "             dates  hours age_layer    se_inflowed  se_joined  se_cert_pv  \\\n",
       "592036  2021-04-25     12   Unknown  1650857544857        NaN         NaN   \n",
       "654108  2021-04-27     17   Unknown  1651046460147        NaN         NaN   \n",
       "787590  2021-04-27     16   Unknown  1651045110631        NaN         NaN   \n",
       "802728  2021-04-23     22   Unknown  1650719312952        NaN         NaN   \n",
       "815289  2021-04-25     14   Unknown  1650865535420        NaN         NaN   \n",
       "\n",
       "        se_cert_done  se_tax_calculation  se_tax_check  se_pay_pv  ...  \\\n",
       "592036           NaN                 NaN           NaN        NaN  ...   \n",
       "654108           NaN                 NaN           NaN        NaN  ...   \n",
       "787590           NaN                 NaN           NaN        NaN  ...   \n",
       "802728           NaN                 NaN           NaN        NaN  ...   \n",
       "815289           NaN                 NaN           NaN        NaN  ...   \n",
       "\n",
       "        et_tax_check  et_pay_pv  et_is_not_target  et_ref  et_ref_kt  \\\n",
       "592036           NaN        NaN               NaN     NaN        NaN   \n",
       "654108           NaN        NaN               NaN     NaN        NaN   \n",
       "787590           NaN        NaN               NaN     NaN        NaN   \n",
       "802728           NaN        NaN               NaN     NaN        NaN   \n",
       "815289           NaN        NaN               NaN     NaN        NaN   \n",
       "\n",
       "        et_ref_lk  et_additional_info_pv  et_add_done et_edit_done  \\\n",
       "592036        NaN                    NaN          NaN          NaN   \n",
       "654108        NaN                    NaN          NaN          NaN   \n",
       "787590        NaN                    NaN          NaN          NaN   \n",
       "802728        NaN                    NaN          NaN          NaN   \n",
       "815289        NaN                    NaN          NaN          NaN   \n",
       "\n",
       "       et_save_done  \n",
       "592036          NaN  \n",
       "654108          NaN  \n",
       "787590          NaN  \n",
       "802728          NaN  \n",
       "815289          NaN  \n",
       "\n",
       "[5 rows x 33 columns]"
      ]
     },
     "execution_count": 248,
     "metadata": {},
     "output_type": "execute_result"
    }
   ],
   "source": [
    "df_base.sample(5)"
   ]
  },
  {
   "cell_type": "markdown",
   "metadata": {
    "id": "VENGYZvMccOG"
   },
   "source": [
    "# _2. data scheme"
   ]
  },
  {
   "cell_type": "markdown",
   "metadata": {
    "id": "nQtgpMPwdDD0"
   },
   "source": [
    "| idx | column | desc | type |\n",
    "| --- | --- | --- | --- |\n",
    "| 0 | dates | 날짜 | category | \n",
    "| 1 | hours | 시각 | category | \n",
    "| 2 | age_layer | 연령대 | category | \n",
    "| ------ | ------------------------------ | ------------------------------ | ------------------------------ |\n",
    "| 3 | se_inflowed | session_유입 | 가입_이용 |\n",
    "| 4 | se_joined | session_가입 |  가입_이용 |\n",
    "| 5 | se_cert_pv | session_인증 |  가입_이용 |\n",
    "| 6 | se_cert_done | session_인증완료 | 가입_이용 |\n",
    "| 7 | se_tax_calculation | session_계산 |  가입_이용 |\n",
    "| 8 | se_tax_check | session_조회 |  가입_이용 |\n",
    "| 9 | se_pay_pv | session_결제화면 |  가입_이용 |\n",
    "| 10 | se_is_not_target | session_서비스_비대상 | 가입 _ 이용 |\n",
    "| 11 | se_ref | session_친구소개 | 친구소개 |\n",
    "| 12 | se_ref_kt | session_친구소개_시도_1 | 친구소개 |\n",
    "| 13 | se_ref_lk | session_친구소개_시도_2 | 친구소개 |\n",
    "| 14 | se_addition_info_pv | session_추가정보입력안내 | 추가정보입력 |\n",
    "| 15 | se_add_done | session_추가하기 | 추가정보입력 |\n",
    "| 16 | se_edit_done | session_수정완료 | 추가정보입력 |\n",
    "| 17 | se_save_done | session_저장완료 | 추가정보입력 |\n",
    "| ------ | ------------------------------ | ------------------------------ |\n",
    "| 18 | et_inflowed | event_time_유입 | 가입_이용 |\n",
    "| 19 | et_joined | event_time_가입 | 가입_이용 |\n",
    "| 20 | et_cert_pv | event_time_인증 | 가입_이용 |\n",
    "| 21 | et_cert_done | event_time_인증완료 | 가입_이용 |\n",
    "| 22 | et_tax_calculation | event_time_계산 | 가입_이용 |\n",
    "| 23 | et_tax_check | event_time_조회 | 가입_이용 |\n",
    "| 24 | et_pay_pv | event_time_결제화면 | 가입_이용 |\n",
    "| 25 | et_is_not_target | event_time_서비스_비대상 | 가입_이용 |\n",
    "| 26 | et_ref | event_time_친구소개 | 친구소개 |\n",
    "| 27 | et_ref_kt | event_time_친구소개_시도_1 | 친구소개 |\n",
    "| 28 | et_ref_lk | event_time_친구소개_시도_2 | 친구소개 |\n",
    "| 29 | et_addition_info_pv | event_time_추가정보입력안내 | 추가정보입력 |\n",
    "| 30 | et_add_done | event_time_추가하기 | 추가정보입력 |\n",
    "| 31 | et_edit_done | event_time_수정완료 | 추가정보입력 |\n",
    "| 32 | et_save_done | event_time_저장완료 | 추가정보입력 |"
   ]
  },
  {
   "cell_type": "code",
   "execution_count": 249,
   "metadata": {
    "id": "IbSiLu-dwANS"
   },
   "outputs": [],
   "source": [
    "df_base['basic'] = 1 ##count 대신에 쓰기 위해 생성 "
   ]
  },
  {
   "cell_type": "markdown",
   "metadata": {
    "id": "Qgy0xjQddIzn"
   },
   "source": [
    "## 2.1 column 구분해 보기\n"
   ]
  },
  {
   "cell_type": "code",
   "execution_count": 250,
   "metadata": {
    "colab": {
     "base_uri": "https://localhost:8080/",
     "height": 386
    },
    "id": "59bMUFVDoPll",
    "outputId": "70b0aa60-b038-4fa9-ba83-a718a8addc8b"
   },
   "outputs": [
    {
     "data": {
      "text/html": [
       "<div>\n",
       "<style scoped>\n",
       "    .dataframe tbody tr th:only-of-type {\n",
       "        vertical-align: middle;\n",
       "    }\n",
       "\n",
       "    .dataframe tbody tr th {\n",
       "        vertical-align: top;\n",
       "    }\n",
       "\n",
       "    .dataframe thead th {\n",
       "        text-align: right;\n",
       "    }\n",
       "</style>\n",
       "<table border=\"1\" class=\"dataframe\">\n",
       "  <thead>\n",
       "    <tr style=\"text-align: right;\">\n",
       "      <th></th>\n",
       "      <th>dates</th>\n",
       "      <th>hours</th>\n",
       "      <th>age_layer</th>\n",
       "      <th>se_inflowed</th>\n",
       "      <th>se_joined</th>\n",
       "      <th>se_cert_pv</th>\n",
       "      <th>se_cert_done</th>\n",
       "      <th>se_tax_calculation</th>\n",
       "      <th>se_tax_check</th>\n",
       "      <th>se_pay_pv</th>\n",
       "      <th>...</th>\n",
       "      <th>et_pay_pv</th>\n",
       "      <th>et_is_not_target</th>\n",
       "      <th>et_ref</th>\n",
       "      <th>et_ref_kt</th>\n",
       "      <th>et_ref_lk</th>\n",
       "      <th>et_additional_info_pv</th>\n",
       "      <th>et_add_done</th>\n",
       "      <th>et_edit_done</th>\n",
       "      <th>et_save_done</th>\n",
       "      <th>basic</th>\n",
       "    </tr>\n",
       "  </thead>\n",
       "  <tbody>\n",
       "    <tr>\n",
       "      <th>0</th>\n",
       "      <td>2021-04-29</td>\n",
       "      <td>1</td>\n",
       "      <td>Unknown</td>\n",
       "      <td>1651164079013</td>\n",
       "      <td>NaN</td>\n",
       "      <td>NaN</td>\n",
       "      <td>NaN</td>\n",
       "      <td>NaN</td>\n",
       "      <td>NaN</td>\n",
       "      <td>NaN</td>\n",
       "      <td>...</td>\n",
       "      <td>NaN</td>\n",
       "      <td>NaN</td>\n",
       "      <td>NaN</td>\n",
       "      <td>NaN</td>\n",
       "      <td>NaN</td>\n",
       "      <td>NaN</td>\n",
       "      <td>NaN</td>\n",
       "      <td>NaN</td>\n",
       "      <td>NaN</td>\n",
       "      <td>1</td>\n",
       "    </tr>\n",
       "    <tr>\n",
       "      <th>1</th>\n",
       "      <td>2021-04-29</td>\n",
       "      <td>4</td>\n",
       "      <td>Unknown</td>\n",
       "      <td>1651175470863</td>\n",
       "      <td>NaN</td>\n",
       "      <td>NaN</td>\n",
       "      <td>NaN</td>\n",
       "      <td>NaN</td>\n",
       "      <td>NaN</td>\n",
       "      <td>NaN</td>\n",
       "      <td>...</td>\n",
       "      <td>NaN</td>\n",
       "      <td>NaN</td>\n",
       "      <td>NaN</td>\n",
       "      <td>NaN</td>\n",
       "      <td>NaN</td>\n",
       "      <td>NaN</td>\n",
       "      <td>NaN</td>\n",
       "      <td>NaN</td>\n",
       "      <td>NaN</td>\n",
       "      <td>1</td>\n",
       "    </tr>\n",
       "    <tr>\n",
       "      <th>2</th>\n",
       "      <td>2021-04-29</td>\n",
       "      <td>3</td>\n",
       "      <td>Unknown</td>\n",
       "      <td>1651172275521</td>\n",
       "      <td>NaN</td>\n",
       "      <td>NaN</td>\n",
       "      <td>NaN</td>\n",
       "      <td>NaN</td>\n",
       "      <td>NaN</td>\n",
       "      <td>NaN</td>\n",
       "      <td>...</td>\n",
       "      <td>NaN</td>\n",
       "      <td>NaN</td>\n",
       "      <td>NaN</td>\n",
       "      <td>NaN</td>\n",
       "      <td>NaN</td>\n",
       "      <td>NaN</td>\n",
       "      <td>NaN</td>\n",
       "      <td>NaN</td>\n",
       "      <td>NaN</td>\n",
       "      <td>1</td>\n",
       "    </tr>\n",
       "    <tr>\n",
       "      <th>3</th>\n",
       "      <td>2021-04-28</td>\n",
       "      <td>10</td>\n",
       "      <td>Unknown</td>\n",
       "      <td>1651107651854</td>\n",
       "      <td>NaN</td>\n",
       "      <td>NaN</td>\n",
       "      <td>NaN</td>\n",
       "      <td>NaN</td>\n",
       "      <td>NaN</td>\n",
       "      <td>NaN</td>\n",
       "      <td>...</td>\n",
       "      <td>NaN</td>\n",
       "      <td>NaN</td>\n",
       "      <td>NaN</td>\n",
       "      <td>NaN</td>\n",
       "      <td>NaN</td>\n",
       "      <td>NaN</td>\n",
       "      <td>NaN</td>\n",
       "      <td>NaN</td>\n",
       "      <td>NaN</td>\n",
       "      <td>1</td>\n",
       "    </tr>\n",
       "    <tr>\n",
       "      <th>4</th>\n",
       "      <td>2021-04-28</td>\n",
       "      <td>21</td>\n",
       "      <td>Unknown</td>\n",
       "      <td>1651149494804</td>\n",
       "      <td>NaN</td>\n",
       "      <td>NaN</td>\n",
       "      <td>NaN</td>\n",
       "      <td>NaN</td>\n",
       "      <td>NaN</td>\n",
       "      <td>NaN</td>\n",
       "      <td>...</td>\n",
       "      <td>NaN</td>\n",
       "      <td>NaN</td>\n",
       "      <td>NaN</td>\n",
       "      <td>NaN</td>\n",
       "      <td>NaN</td>\n",
       "      <td>NaN</td>\n",
       "      <td>NaN</td>\n",
       "      <td>NaN</td>\n",
       "      <td>NaN</td>\n",
       "      <td>1</td>\n",
       "    </tr>\n",
       "  </tbody>\n",
       "</table>\n",
       "<p>5 rows × 34 columns</p>\n",
       "</div>"
      ],
      "text/plain": [
       "        dates  hours age_layer    se_inflowed  se_joined  se_cert_pv  \\\n",
       "0  2021-04-29      1   Unknown  1651164079013        NaN         NaN   \n",
       "1  2021-04-29      4   Unknown  1651175470863        NaN         NaN   \n",
       "2  2021-04-29      3   Unknown  1651172275521        NaN         NaN   \n",
       "3  2021-04-28     10   Unknown  1651107651854        NaN         NaN   \n",
       "4  2021-04-28     21   Unknown  1651149494804        NaN         NaN   \n",
       "\n",
       "   se_cert_done  se_tax_calculation  se_tax_check  se_pay_pv  ...  et_pay_pv  \\\n",
       "0           NaN                 NaN           NaN        NaN  ...        NaN   \n",
       "1           NaN                 NaN           NaN        NaN  ...        NaN   \n",
       "2           NaN                 NaN           NaN        NaN  ...        NaN   \n",
       "3           NaN                 NaN           NaN        NaN  ...        NaN   \n",
       "4           NaN                 NaN           NaN        NaN  ...        NaN   \n",
       "\n",
       "   et_is_not_target  et_ref  et_ref_kt  et_ref_lk  et_additional_info_pv  \\\n",
       "0               NaN     NaN        NaN        NaN                    NaN   \n",
       "1               NaN     NaN        NaN        NaN                    NaN   \n",
       "2               NaN     NaN        NaN        NaN                    NaN   \n",
       "3               NaN     NaN        NaN        NaN                    NaN   \n",
       "4               NaN     NaN        NaN        NaN                    NaN   \n",
       "\n",
       "   et_add_done  et_edit_done et_save_done basic  \n",
       "0          NaN           NaN          NaN     1  \n",
       "1          NaN           NaN          NaN     1  \n",
       "2          NaN           NaN          NaN     1  \n",
       "3          NaN           NaN          NaN     1  \n",
       "4          NaN           NaN          NaN     1  \n",
       "\n",
       "[5 rows x 34 columns]"
      ]
     },
     "execution_count": 250,
     "metadata": {},
     "output_type": "execute_result"
    }
   ],
   "source": [
    "df_base.head()"
   ]
  },
  {
   "cell_type": "markdown",
   "metadata": {
    "id": "CYODeJWVdWDD"
   },
   "source": [
    "### 2.1.1 category( df_category )"
   ]
  },
  {
   "cell_type": "code",
   "execution_count": 251,
   "metadata": {
    "colab": {
     "base_uri": "https://localhost:8080/",
     "height": 112
    },
    "id": "IFoFEf41dgaj",
    "outputId": "18f6a35e-f019-482f-cca0-7495a804de54"
   },
   "outputs": [
    {
     "data": {
      "text/html": [
       "<div>\n",
       "<style scoped>\n",
       "    .dataframe tbody tr th:only-of-type {\n",
       "        vertical-align: middle;\n",
       "    }\n",
       "\n",
       "    .dataframe tbody tr th {\n",
       "        vertical-align: top;\n",
       "    }\n",
       "\n",
       "    .dataframe thead th {\n",
       "        text-align: right;\n",
       "    }\n",
       "</style>\n",
       "<table border=\"1\" class=\"dataframe\">\n",
       "  <thead>\n",
       "    <tr style=\"text-align: right;\">\n",
       "      <th></th>\n",
       "      <th>dates</th>\n",
       "      <th>hours</th>\n",
       "      <th>age_layer</th>\n",
       "    </tr>\n",
       "  </thead>\n",
       "  <tbody>\n",
       "    <tr>\n",
       "      <th>0</th>\n",
       "      <td>2021-04-29</td>\n",
       "      <td>1</td>\n",
       "      <td>Unknown</td>\n",
       "    </tr>\n",
       "    <tr>\n",
       "      <th>1</th>\n",
       "      <td>2021-04-29</td>\n",
       "      <td>4</td>\n",
       "      <td>Unknown</td>\n",
       "    </tr>\n",
       "  </tbody>\n",
       "</table>\n",
       "</div>"
      ],
      "text/plain": [
       "        dates  hours age_layer\n",
       "0  2021-04-29      1   Unknown\n",
       "1  2021-04-29      4   Unknown"
      ]
     },
     "execution_count": 251,
     "metadata": {},
     "output_type": "execute_result"
    }
   ],
   "source": [
    "# 집계 기준이 되는 컬럼\n",
    "# 'dates', 'hours', 'age_layer' :  날짜, 시간, 연령대\n",
    "df_base[['dates', 'hours', 'age_layer']].head(2)"
   ]
  },
  {
   "cell_type": "code",
   "execution_count": 252,
   "metadata": {
    "colab": {
     "base_uri": "https://localhost:8080/"
    },
    "id": "anB5hdHYd7ig",
    "outputId": "fd4748df-84c8-4696-c5a6-33df2463f877"
   },
   "outputs": [
    {
     "data": {
      "text/plain": [
       "['dates', 'hours']"
      ]
     },
     "execution_count": 252,
     "metadata": {},
     "output_type": "execute_result"
    }
   ],
   "source": [
    "# Python은 0부터 넘버링\n",
    "## 칼럼만 출력해서 리스트 형태로 만들기 \n",
    "df_base.columns[0:2].tolist()"
   ]
  },
  {
   "cell_type": "code",
   "execution_count": 253,
   "metadata": {
    "colab": {
     "base_uri": "https://localhost:8080/"
    },
    "id": "b82hiSevd_Kt",
    "outputId": "a25348d3-54d3-415e-8a87-b12f42026acc"
   },
   "outputs": [
    {
     "data": {
      "text/plain": [
       "['dates', 'hours', 'age_layer']"
      ]
     },
     "execution_count": 253,
     "metadata": {},
     "output_type": "execute_result"
    }
   ],
   "source": [
    "# 마지막 넘버 + 1로 마무리\n",
    "df_base.columns[0:2+1].tolist()"
   ]
  },
  {
   "cell_type": "code",
   "execution_count": 254,
   "metadata": {
    "colab": {
     "base_uri": "https://localhost:8080/"
    },
    "id": "BMWbDwrtfos1",
    "outputId": "4d9eb204-a06f-43e3-ac52-3a39f4372165"
   },
   "outputs": [
    {
     "data": {
      "text/plain": [
       "['dates', 'hours', 'age_layer']"
      ]
     },
     "execution_count": 254,
     "metadata": {},
     "output_type": "execute_result"
    }
   ],
   "source": [
    "# 위의 [리스트] 결과를 새로운 변수로 선언 해 줌: category\n",
    "category = df_base.columns[0:2+1].tolist()\n",
    "category"
   ]
  },
  {
   "cell_type": "code",
   "execution_count": 255,
   "metadata": {
    "colab": {
     "base_uri": "https://localhost:8080/",
     "height": 112
    },
    "id": "K02P_O_FdrZq",
    "outputId": "7eeb4249-e25b-40eb-c6e6-9029e174d8a7",
    "scrolled": true
   },
   "outputs": [
    {
     "data": {
      "text/html": [
       "<div>\n",
       "<style scoped>\n",
       "    .dataframe tbody tr th:only-of-type {\n",
       "        vertical-align: middle;\n",
       "    }\n",
       "\n",
       "    .dataframe tbody tr th {\n",
       "        vertical-align: top;\n",
       "    }\n",
       "\n",
       "    .dataframe thead th {\n",
       "        text-align: right;\n",
       "    }\n",
       "</style>\n",
       "<table border=\"1\" class=\"dataframe\">\n",
       "  <thead>\n",
       "    <tr style=\"text-align: right;\">\n",
       "      <th></th>\n",
       "      <th>dates</th>\n",
       "      <th>hours</th>\n",
       "      <th>age_layer</th>\n",
       "    </tr>\n",
       "  </thead>\n",
       "  <tbody>\n",
       "    <tr>\n",
       "      <th>0</th>\n",
       "      <td>2021-04-29</td>\n",
       "      <td>1</td>\n",
       "      <td>Unknown</td>\n",
       "    </tr>\n",
       "    <tr>\n",
       "      <th>1</th>\n",
       "      <td>2021-04-29</td>\n",
       "      <td>4</td>\n",
       "      <td>Unknown</td>\n",
       "    </tr>\n",
       "  </tbody>\n",
       "</table>\n",
       "</div>"
      ],
      "text/plain": [
       "        dates  hours age_layer\n",
       "0  2021-04-29      1   Unknown\n",
       "1  2021-04-29      4   Unknown"
      ]
     },
     "execution_count": 255,
     "metadata": {},
     "output_type": "execute_result"
    }
   ],
   "source": [
    "df_base[category].head(2)\n",
    "# 첫 번째 셀 참고\n",
    "# df_base[['dates', 'hours', 'age_layer']].head(2)★"
   ]
  },
  {
   "cell_type": "code",
   "execution_count": 256,
   "metadata": {
    "scrolled": true
   },
   "outputs": [
    {
     "data": {
      "text/html": [
       "<div>\n",
       "<style scoped>\n",
       "    .dataframe tbody tr th:only-of-type {\n",
       "        vertical-align: middle;\n",
       "    }\n",
       "\n",
       "    .dataframe tbody tr th {\n",
       "        vertical-align: top;\n",
       "    }\n",
       "\n",
       "    .dataframe thead th {\n",
       "        text-align: right;\n",
       "    }\n",
       "</style>\n",
       "<table border=\"1\" class=\"dataframe\">\n",
       "  <thead>\n",
       "    <tr style=\"text-align: right;\">\n",
       "      <th></th>\n",
       "      <th>dates</th>\n",
       "      <th>hours</th>\n",
       "      <th>age_layer</th>\n",
       "    </tr>\n",
       "  </thead>\n",
       "  <tbody>\n",
       "    <tr>\n",
       "      <th>0</th>\n",
       "      <td>2021-04-29</td>\n",
       "      <td>1</td>\n",
       "      <td>Unknown</td>\n",
       "    </tr>\n",
       "    <tr>\n",
       "      <th>1</th>\n",
       "      <td>2021-04-29</td>\n",
       "      <td>4</td>\n",
       "      <td>Unknown</td>\n",
       "    </tr>\n",
       "    <tr>\n",
       "      <th>2</th>\n",
       "      <td>2021-04-29</td>\n",
       "      <td>3</td>\n",
       "      <td>Unknown</td>\n",
       "    </tr>\n",
       "    <tr>\n",
       "      <th>3</th>\n",
       "      <td>2021-04-28</td>\n",
       "      <td>10</td>\n",
       "      <td>Unknown</td>\n",
       "    </tr>\n",
       "    <tr>\n",
       "      <th>4</th>\n",
       "      <td>2021-04-28</td>\n",
       "      <td>21</td>\n",
       "      <td>Unknown</td>\n",
       "    </tr>\n",
       "    <tr>\n",
       "      <th>...</th>\n",
       "      <td>...</td>\n",
       "      <td>...</td>\n",
       "      <td>...</td>\n",
       "    </tr>\n",
       "    <tr>\n",
       "      <th>1902430</th>\n",
       "      <td>2021-04-23</td>\n",
       "      <td>18</td>\n",
       "      <td>Unknown</td>\n",
       "    </tr>\n",
       "    <tr>\n",
       "      <th>1902431</th>\n",
       "      <td>2021-04-28</td>\n",
       "      <td>11</td>\n",
       "      <td>30s</td>\n",
       "    </tr>\n",
       "    <tr>\n",
       "      <th>1902432</th>\n",
       "      <td>2021-04-23</td>\n",
       "      <td>23</td>\n",
       "      <td>Unknown</td>\n",
       "    </tr>\n",
       "    <tr>\n",
       "      <th>1902433</th>\n",
       "      <td>2021-04-26</td>\n",
       "      <td>9</td>\n",
       "      <td>Unknown</td>\n",
       "    </tr>\n",
       "    <tr>\n",
       "      <th>1902434</th>\n",
       "      <td>2021-04-26</td>\n",
       "      <td>10</td>\n",
       "      <td>20s</td>\n",
       "    </tr>\n",
       "  </tbody>\n",
       "</table>\n",
       "<p>1902435 rows × 3 columns</p>\n",
       "</div>"
      ],
      "text/plain": [
       "              dates  hours age_layer\n",
       "0        2021-04-29      1   Unknown\n",
       "1        2021-04-29      4   Unknown\n",
       "2        2021-04-29      3   Unknown\n",
       "3        2021-04-28     10   Unknown\n",
       "4        2021-04-28     21   Unknown\n",
       "...             ...    ...       ...\n",
       "1902430  2021-04-23     18   Unknown\n",
       "1902431  2021-04-28     11       30s\n",
       "1902432  2021-04-23     23   Unknown\n",
       "1902433  2021-04-26      9   Unknown\n",
       "1902434  2021-04-26     10       20s\n",
       "\n",
       "[1902435 rows x 3 columns]"
      ]
     },
     "execution_count": 256,
     "metadata": {},
     "output_type": "execute_result"
    }
   ],
   "source": [
    "df_base[category]"
   ]
  },
  {
   "cell_type": "code",
   "execution_count": 257,
   "metadata": {
    "colab": {
     "base_uri": "https://localhost:8080/",
     "height": 112
    },
    "id": "7lTvuTP0onj7",
    "outputId": "3c7ef67a-8b9e-49ea-9a0a-9f8d2296fcd2"
   },
   "outputs": [
    {
     "data": {
      "text/html": [
       "<div>\n",
       "<style scoped>\n",
       "    .dataframe tbody tr th:only-of-type {\n",
       "        vertical-align: middle;\n",
       "    }\n",
       "\n",
       "    .dataframe tbody tr th {\n",
       "        vertical-align: top;\n",
       "    }\n",
       "\n",
       "    .dataframe thead th {\n",
       "        text-align: right;\n",
       "    }\n",
       "</style>\n",
       "<table border=\"1\" class=\"dataframe\">\n",
       "  <thead>\n",
       "    <tr style=\"text-align: right;\">\n",
       "      <th></th>\n",
       "      <th>dates</th>\n",
       "      <th>hours</th>\n",
       "      <th>age_layer</th>\n",
       "    </tr>\n",
       "  </thead>\n",
       "  <tbody>\n",
       "    <tr>\n",
       "      <th>0</th>\n",
       "      <td>2021-04-29</td>\n",
       "      <td>1</td>\n",
       "      <td>Unknown</td>\n",
       "    </tr>\n",
       "    <tr>\n",
       "      <th>1</th>\n",
       "      <td>2021-04-29</td>\n",
       "      <td>4</td>\n",
       "      <td>Unknown</td>\n",
       "    </tr>\n",
       "  </tbody>\n",
       "</table>\n",
       "</div>"
      ],
      "text/plain": [
       "        dates  hours age_layer\n",
       "0  2021-04-29      1   Unknown\n",
       "1  2021-04-29      4   Unknown"
      ]
     },
     "execution_count": 257,
     "metadata": {},
     "output_type": "execute_result"
    }
   ],
   "source": [
    "# 위 결과를 새로운 df로 선언( df_category )\n",
    "df_category = df_base[category]\n",
    "df_category.head(2)"
   ]
  },
  {
   "cell_type": "markdown",
   "metadata": {
    "id": "01HtvcteeJJS"
   },
   "source": [
    "### 2.1.2. 가입( df_signup )"
   ]
  },
  {
   "cell_type": "code",
   "execution_count": 258,
   "metadata": {
    "colab": {
     "base_uri": "https://localhost:8080/"
    },
    "id": "Cuxze480eS5_",
    "outputId": "acf71b5e-6e9d-4429-b66f-88228c1de57a",
    "scrolled": true
   },
   "outputs": [
    {
     "data": {
      "text/plain": [
       "['se_inflowed',\n",
       " 'se_joined',\n",
       " 'se_cert_pv',\n",
       " 'se_cert_done',\n",
       " 'se_tax_calculation',\n",
       " 'se_tax_check',\n",
       " 'se_pay_pv',\n",
       " 'se_is_not_target']"
      ]
     },
     "execution_count": 258,
     "metadata": {},
     "output_type": "execute_result"
    }
   ],
   "source": [
    "# 가입부터 이용까지 컬럼 가져오기\n",
    "df_base.columns[3:10+1].tolist()"
   ]
  },
  {
   "cell_type": "code",
   "execution_count": 259,
   "metadata": {
    "colab": {
     "base_uri": "https://localhost:8080/"
    },
    "id": "OUmFT6Y1rtuJ",
    "outputId": "f410741b-9786-4824-f11e-2b07408ea804",
    "scrolled": true
   },
   "outputs": [
    {
     "data": {
      "text/plain": [
       "['se_inflowed',\n",
       " 'se_joined',\n",
       " 'se_cert_pv',\n",
       " 'se_cert_done',\n",
       " 'se_tax_calculation',\n",
       " 'se_tax_check',\n",
       " 'se_pay_pv',\n",
       " 'se_is_not_target']"
      ]
     },
     "execution_count": 259,
     "metadata": {},
     "output_type": "execute_result"
    }
   ],
   "source": [
    "# 가져온 컬럼 [리스트]를 새로운 변수로 선언( signup )\n",
    "signup = df_base.columns[3:10+1].tolist()\n",
    "signup"
   ]
  },
  {
   "cell_type": "code",
   "execution_count": 260,
   "metadata": {
    "colab": {
     "base_uri": "https://localhost:8080/",
     "height": 206
    },
    "id": "eRbXMoD1r0ik",
    "outputId": "ad07d5d7-9464-4ead-ca10-90a968ba670f"
   },
   "outputs": [
    {
     "data": {
      "text/html": [
       "<div>\n",
       "<style scoped>\n",
       "    .dataframe tbody tr th:only-of-type {\n",
       "        vertical-align: middle;\n",
       "    }\n",
       "\n",
       "    .dataframe tbody tr th {\n",
       "        vertical-align: top;\n",
       "    }\n",
       "\n",
       "    .dataframe thead th {\n",
       "        text-align: right;\n",
       "    }\n",
       "</style>\n",
       "<table border=\"1\" class=\"dataframe\">\n",
       "  <thead>\n",
       "    <tr style=\"text-align: right;\">\n",
       "      <th></th>\n",
       "      <th>se_inflowed</th>\n",
       "      <th>se_joined</th>\n",
       "      <th>se_cert_pv</th>\n",
       "      <th>se_cert_done</th>\n",
       "      <th>se_tax_calculation</th>\n",
       "      <th>se_tax_check</th>\n",
       "      <th>se_pay_pv</th>\n",
       "      <th>se_is_not_target</th>\n",
       "    </tr>\n",
       "  </thead>\n",
       "  <tbody>\n",
       "    <tr>\n",
       "      <th>0</th>\n",
       "      <td>1651164079013</td>\n",
       "      <td>NaN</td>\n",
       "      <td>NaN</td>\n",
       "      <td>NaN</td>\n",
       "      <td>NaN</td>\n",
       "      <td>NaN</td>\n",
       "      <td>NaN</td>\n",
       "      <td>NaN</td>\n",
       "    </tr>\n",
       "    <tr>\n",
       "      <th>1</th>\n",
       "      <td>1651175470863</td>\n",
       "      <td>NaN</td>\n",
       "      <td>NaN</td>\n",
       "      <td>NaN</td>\n",
       "      <td>NaN</td>\n",
       "      <td>NaN</td>\n",
       "      <td>NaN</td>\n",
       "      <td>NaN</td>\n",
       "    </tr>\n",
       "    <tr>\n",
       "      <th>2</th>\n",
       "      <td>1651172275521</td>\n",
       "      <td>NaN</td>\n",
       "      <td>NaN</td>\n",
       "      <td>NaN</td>\n",
       "      <td>NaN</td>\n",
       "      <td>NaN</td>\n",
       "      <td>NaN</td>\n",
       "      <td>NaN</td>\n",
       "    </tr>\n",
       "    <tr>\n",
       "      <th>3</th>\n",
       "      <td>1651107651854</td>\n",
       "      <td>NaN</td>\n",
       "      <td>NaN</td>\n",
       "      <td>NaN</td>\n",
       "      <td>NaN</td>\n",
       "      <td>NaN</td>\n",
       "      <td>NaN</td>\n",
       "      <td>NaN</td>\n",
       "    </tr>\n",
       "    <tr>\n",
       "      <th>4</th>\n",
       "      <td>1651149494804</td>\n",
       "      <td>NaN</td>\n",
       "      <td>NaN</td>\n",
       "      <td>NaN</td>\n",
       "      <td>NaN</td>\n",
       "      <td>NaN</td>\n",
       "      <td>NaN</td>\n",
       "      <td>NaN</td>\n",
       "    </tr>\n",
       "  </tbody>\n",
       "</table>\n",
       "</div>"
      ],
      "text/plain": [
       "     se_inflowed  se_joined  se_cert_pv  se_cert_done  se_tax_calculation  \\\n",
       "0  1651164079013        NaN         NaN           NaN                 NaN   \n",
       "1  1651175470863        NaN         NaN           NaN                 NaN   \n",
       "2  1651172275521        NaN         NaN           NaN                 NaN   \n",
       "3  1651107651854        NaN         NaN           NaN                 NaN   \n",
       "4  1651149494804        NaN         NaN           NaN                 NaN   \n",
       "\n",
       "   se_tax_check  se_pay_pv  se_is_not_target  \n",
       "0           NaN        NaN               NaN  \n",
       "1           NaN        NaN               NaN  \n",
       "2           NaN        NaN               NaN  \n",
       "3           NaN        NaN               NaN  \n",
       "4           NaN        NaN               NaN  "
      ]
     },
     "execution_count": 260,
     "metadata": {},
     "output_type": "execute_result"
    }
   ],
   "source": [
    "# 선언한 변수를 활용하여 df 샘플링\n",
    "df_base[signup].head(5)"
   ]
  },
  {
   "cell_type": "code",
   "execution_count": 261,
   "metadata": {
    "colab": {
     "base_uri": "https://localhost:8080/"
    },
    "id": "vthWfrpEr7Xh",
    "outputId": "06e632d2-da47-4d44-8b59-e3d35a9289b9",
    "scrolled": true
   },
   "outputs": [
    {
     "data": {
      "text/plain": [
       "['dates',\n",
       " 'hours',\n",
       " 'age_layer',\n",
       " 'se_inflowed',\n",
       " 'se_joined',\n",
       " 'se_cert_pv',\n",
       " 'se_cert_done',\n",
       " 'se_tax_calculation',\n",
       " 'se_tax_check',\n",
       " 'se_pay_pv',\n",
       " 'se_is_not_target']"
      ]
     },
     "execution_count": 261,
     "metadata": {},
     "output_type": "execute_result"
    }
   ],
   "source": [
    "# category data 와 합치기: 합쳐진 리스트 = 리스트 + 리스트★\n",
    "signup_v1 = category + signup\n",
    "signup_v1"
   ]
  },
  {
   "cell_type": "code",
   "execution_count": 262,
   "metadata": {
    "colab": {
     "base_uri": "https://localhost:8080/"
    },
    "id": "MWbunrJ8e2aU",
    "outputId": "ff34dfe2-49a0-4bba-9635-dd6bff3850a9"
   },
   "outputs": [
    {
     "name": "stdout",
     "output_type": "stream",
     "text": [
      "<class 'pandas.core.frame.DataFrame'>\n",
      "RangeIndex: 1902435 entries, 0 to 1902434\n",
      "Data columns (total 11 columns):\n",
      " #   Column              Dtype  \n",
      "---  ------              -----  \n",
      " 0   dates               object \n",
      " 1   hours               int64  \n",
      " 2   age_layer           object \n",
      " 3   se_inflowed         int64  \n",
      " 4   se_joined           float64\n",
      " 5   se_cert_pv          float64\n",
      " 6   se_cert_done        float64\n",
      " 7   se_tax_calculation  float64\n",
      " 8   se_tax_check        float64\n",
      " 9   se_pay_pv           float64\n",
      " 10  se_is_not_target    float64\n",
      "dtypes: float64(7), int64(2), object(2)\n",
      "memory usage: 159.7+ MB\n"
     ]
    }
   ],
   "source": [
    "# ↑위의 컬럼들로 이루어진 새로운 df 생성\n",
    "df_signup = df_base[signup_v1]\n",
    "df_signup.info()"
   ]
  },
  {
   "cell_type": "code",
   "execution_count": 263,
   "metadata": {
    "colab": {
     "base_uri": "https://localhost:8080/",
     "height": 112
    },
    "id": "fl9Ze5UWApRX",
    "outputId": "f44b7480-0395-41be-d616-39b6eb2f0c53"
   },
   "outputs": [
    {
     "data": {
      "text/html": [
       "<div>\n",
       "<style scoped>\n",
       "    .dataframe tbody tr th:only-of-type {\n",
       "        vertical-align: middle;\n",
       "    }\n",
       "\n",
       "    .dataframe tbody tr th {\n",
       "        vertical-align: top;\n",
       "    }\n",
       "\n",
       "    .dataframe thead th {\n",
       "        text-align: right;\n",
       "    }\n",
       "</style>\n",
       "<table border=\"1\" class=\"dataframe\">\n",
       "  <thead>\n",
       "    <tr style=\"text-align: right;\">\n",
       "      <th></th>\n",
       "      <th>dates</th>\n",
       "      <th>hours</th>\n",
       "      <th>age_layer</th>\n",
       "      <th>se_inflowed</th>\n",
       "      <th>se_joined</th>\n",
       "      <th>se_cert_pv</th>\n",
       "      <th>se_cert_done</th>\n",
       "      <th>se_tax_calculation</th>\n",
       "      <th>se_tax_check</th>\n",
       "      <th>se_pay_pv</th>\n",
       "      <th>se_is_not_target</th>\n",
       "    </tr>\n",
       "  </thead>\n",
       "  <tbody>\n",
       "    <tr>\n",
       "      <th>0</th>\n",
       "      <td>2021-04-29</td>\n",
       "      <td>1</td>\n",
       "      <td>Unknown</td>\n",
       "      <td>1651164079013</td>\n",
       "      <td>NaN</td>\n",
       "      <td>NaN</td>\n",
       "      <td>NaN</td>\n",
       "      <td>NaN</td>\n",
       "      <td>NaN</td>\n",
       "      <td>NaN</td>\n",
       "      <td>NaN</td>\n",
       "    </tr>\n",
       "    <tr>\n",
       "      <th>1</th>\n",
       "      <td>2021-04-29</td>\n",
       "      <td>4</td>\n",
       "      <td>Unknown</td>\n",
       "      <td>1651175470863</td>\n",
       "      <td>NaN</td>\n",
       "      <td>NaN</td>\n",
       "      <td>NaN</td>\n",
       "      <td>NaN</td>\n",
       "      <td>NaN</td>\n",
       "      <td>NaN</td>\n",
       "      <td>NaN</td>\n",
       "    </tr>\n",
       "  </tbody>\n",
       "</table>\n",
       "</div>"
      ],
      "text/plain": [
       "        dates  hours age_layer    se_inflowed  se_joined  se_cert_pv  \\\n",
       "0  2021-04-29      1   Unknown  1651164079013        NaN         NaN   \n",
       "1  2021-04-29      4   Unknown  1651175470863        NaN         NaN   \n",
       "\n",
       "   se_cert_done  se_tax_calculation  se_tax_check  se_pay_pv  se_is_not_target  \n",
       "0           NaN                 NaN           NaN        NaN               NaN  \n",
       "1           NaN                 NaN           NaN        NaN               NaN  "
      ]
     },
     "execution_count": 263,
     "metadata": {},
     "output_type": "execute_result"
    }
   ],
   "source": [
    "df_signup.head(2)"
   ]
  },
  {
   "cell_type": "markdown",
   "metadata": {
    "id": "1n9DWG9rfFZI"
   },
   "source": [
    "### 2.1.3. 친구소개( df_ref )"
   ]
  },
  {
   "cell_type": "code",
   "execution_count": 264,
   "metadata": {
    "colab": {
     "base_uri": "https://localhost:8080/",
     "height": 112
    },
    "id": "a4pM8nmZfEn8",
    "outputId": "97ddf6ac-9103-430f-ad38-cf2562330a01"
   },
   "outputs": [
    {
     "data": {
      "text/html": [
       "<div>\n",
       "<style scoped>\n",
       "    .dataframe tbody tr th:only-of-type {\n",
       "        vertical-align: middle;\n",
       "    }\n",
       "\n",
       "    .dataframe tbody tr th {\n",
       "        vertical-align: top;\n",
       "    }\n",
       "\n",
       "    .dataframe thead th {\n",
       "        text-align: right;\n",
       "    }\n",
       "</style>\n",
       "<table border=\"1\" class=\"dataframe\">\n",
       "  <thead>\n",
       "    <tr style=\"text-align: right;\">\n",
       "      <th></th>\n",
       "      <th>dates</th>\n",
       "      <th>age_layer</th>\n",
       "      <th>se_pay_pv</th>\n",
       "      <th>se_ref</th>\n",
       "      <th>se_ref_kt</th>\n",
       "      <th>se_ref_lk</th>\n",
       "    </tr>\n",
       "  </thead>\n",
       "  <tbody>\n",
       "    <tr>\n",
       "      <th>0</th>\n",
       "      <td>2021-04-29</td>\n",
       "      <td>Unknown</td>\n",
       "      <td>NaN</td>\n",
       "      <td>NaN</td>\n",
       "      <td>NaN</td>\n",
       "      <td>NaN</td>\n",
       "    </tr>\n",
       "    <tr>\n",
       "      <th>1</th>\n",
       "      <td>2021-04-29</td>\n",
       "      <td>Unknown</td>\n",
       "      <td>NaN</td>\n",
       "      <td>NaN</td>\n",
       "      <td>NaN</td>\n",
       "      <td>NaN</td>\n",
       "    </tr>\n",
       "  </tbody>\n",
       "</table>\n",
       "</div>"
      ],
      "text/plain": [
       "        dates age_layer  se_pay_pv  se_ref  se_ref_kt  se_ref_lk\n",
       "0  2021-04-29   Unknown        NaN     NaN        NaN        NaN\n",
       "1  2021-04-29   Unknown        NaN     NaN        NaN        NaN"
      ]
     },
     "execution_count": 264,
     "metadata": {},
     "output_type": "execute_result"
    }
   ],
   "source": [
    "# 1) 친구소개 화면으로 진입하는 2가지 경로 중 첫 번째: 결제 가능 회원 - df_ref_pay\n",
    "# 'dates', 'age_layer', 'se_pay_pv', 'se_ref', 'se_ref_kt', 'se_ref_lk' ## se_pay_pv : 결제화면\n",
    "df_ref_pay = df_base[['dates', 'age_layer', 'se_pay_pv', 'se_ref', 'se_ref_kt', 'se_ref_lk']]\n",
    "df_ref_pay.head(2)"
   ]
  },
  {
   "cell_type": "code",
   "execution_count": 265,
   "metadata": {},
   "outputs": [
    {
     "data": {
      "text/plain": [
       "0          False\n",
       "1          False\n",
       "2          False\n",
       "3          False\n",
       "4          False\n",
       "           ...  \n",
       "1902430    False\n",
       "1902431    False\n",
       "1902432    False\n",
       "1902433    False\n",
       "1902434    False\n",
       "Name: se_pay_pv, Length: 1902435, dtype: bool"
      ]
     },
     "execution_count": 265,
     "metadata": {},
     "output_type": "execute_result"
    }
   ],
   "source": [
    "df_ref_pay['se_pay_pv'].notnull()"
   ]
  },
  {
   "cell_type": "code",
   "execution_count": 266,
   "metadata": {
    "colab": {
     "base_uri": "https://localhost:8080/",
     "height": 112
    },
    "id": "Y-TFH2vHfjOB",
    "outputId": "66549f91-e833-456f-97d2-a34339c4d6d0"
   },
   "outputs": [
    {
     "data": {
      "text/html": [
       "<div>\n",
       "<style scoped>\n",
       "    .dataframe tbody tr th:only-of-type {\n",
       "        vertical-align: middle;\n",
       "    }\n",
       "\n",
       "    .dataframe tbody tr th {\n",
       "        vertical-align: top;\n",
       "    }\n",
       "\n",
       "    .dataframe thead th {\n",
       "        text-align: right;\n",
       "    }\n",
       "</style>\n",
       "<table border=\"1\" class=\"dataframe\">\n",
       "  <thead>\n",
       "    <tr style=\"text-align: right;\">\n",
       "      <th></th>\n",
       "      <th>dates</th>\n",
       "      <th>age_layer</th>\n",
       "      <th>se_pay_pv</th>\n",
       "      <th>se_ref</th>\n",
       "      <th>se_ref_kt</th>\n",
       "      <th>se_ref_lk</th>\n",
       "    </tr>\n",
       "  </thead>\n",
       "  <tbody>\n",
       "    <tr>\n",
       "      <th>2392</th>\n",
       "      <td>2021-04-25</td>\n",
       "      <td>40s</td>\n",
       "      <td>1.650849e+12</td>\n",
       "      <td>NaN</td>\n",
       "      <td>NaN</td>\n",
       "      <td>NaN</td>\n",
       "    </tr>\n",
       "    <tr>\n",
       "      <th>4586</th>\n",
       "      <td>2021-04-23</td>\n",
       "      <td>50s</td>\n",
       "      <td>1.650713e+12</td>\n",
       "      <td>NaN</td>\n",
       "      <td>NaN</td>\n",
       "      <td>NaN</td>\n",
       "    </tr>\n",
       "  </tbody>\n",
       "</table>\n",
       "</div>"
      ],
      "text/plain": [
       "           dates age_layer     se_pay_pv  se_ref  se_ref_kt  se_ref_lk\n",
       "2392  2021-04-25       40s  1.650849e+12     NaN        NaN        NaN\n",
       "4586  2021-04-23       50s  1.650713e+12     NaN        NaN        NaN"
      ]
     },
     "execution_count": 266,
     "metadata": {},
     "output_type": "execute_result"
    }
   ],
   "source": [
    "# 친구소개 화면으로 진입하는 2가지 경로 중 첫 번째: 결제 가능 회원\n",
    "# 결제가능 여부를 알아야 하기에, se_pay_pv에 진입한 회원들을 보기로 함( notnull() 사용 )\n",
    "df_ref_pay = df_ref_pay[df_ref_pay['se_pay_pv'].notnull()]\n",
    "df_ref_pay.head(2)"
   ]
  },
  {
   "cell_type": "code",
   "execution_count": 267,
   "metadata": {
    "colab": {
     "base_uri": "https://localhost:8080/",
     "height": 112
    },
    "id": "6XMYN_VFFl0-",
    "outputId": "0a6f690d-3a4c-4150-e515-6ce6db241c2f"
   },
   "outputs": [
    {
     "data": {
      "text/html": [
       "<div>\n",
       "<style scoped>\n",
       "    .dataframe tbody tr th:only-of-type {\n",
       "        vertical-align: middle;\n",
       "    }\n",
       "\n",
       "    .dataframe tbody tr th {\n",
       "        vertical-align: top;\n",
       "    }\n",
       "\n",
       "    .dataframe thead th {\n",
       "        text-align: right;\n",
       "    }\n",
       "</style>\n",
       "<table border=\"1\" class=\"dataframe\">\n",
       "  <thead>\n",
       "    <tr style=\"text-align: right;\">\n",
       "      <th></th>\n",
       "      <th>dates</th>\n",
       "      <th>age_layer</th>\n",
       "      <th>se_is_not_target</th>\n",
       "      <th>se_ref</th>\n",
       "      <th>se_ref_kt</th>\n",
       "      <th>se_ref_lk</th>\n",
       "    </tr>\n",
       "  </thead>\n",
       "  <tbody>\n",
       "    <tr>\n",
       "      <th>0</th>\n",
       "      <td>2021-04-29</td>\n",
       "      <td>Unknown</td>\n",
       "      <td>NaN</td>\n",
       "      <td>NaN</td>\n",
       "      <td>NaN</td>\n",
       "      <td>NaN</td>\n",
       "    </tr>\n",
       "    <tr>\n",
       "      <th>1</th>\n",
       "      <td>2021-04-29</td>\n",
       "      <td>Unknown</td>\n",
       "      <td>NaN</td>\n",
       "      <td>NaN</td>\n",
       "      <td>NaN</td>\n",
       "      <td>NaN</td>\n",
       "    </tr>\n",
       "  </tbody>\n",
       "</table>\n",
       "</div>"
      ],
      "text/plain": [
       "        dates age_layer  se_is_not_target  se_ref  se_ref_kt  se_ref_lk\n",
       "0  2021-04-29   Unknown               NaN     NaN        NaN        NaN\n",
       "1  2021-04-29   Unknown               NaN     NaN        NaN        NaN"
      ]
     },
     "execution_count": 267,
     "metadata": {},
     "output_type": "execute_result"
    }
   ],
   "source": [
    "# 2) 친구소개 화면으로 진입하는 2가지 경로 중 첫 번째: 결제 불가능 회원 - df_ref_none\n",
    "# 'dates', 'age_layer', 'se_is_not_target', 'se_ref', 'se_ref_kt', 'se_ref_lk' ## 'se_is_not_target' : (가입- 이용) 서비스 비대상\n",
    "df_ref_none = df_base[['dates', 'age_layer', 'se_is_not_target', 'se_ref', 'se_ref_kt', 'se_ref_lk']]\n",
    "df_ref_none.head(2)"
   ]
  },
  {
   "cell_type": "code",
   "execution_count": 268,
   "metadata": {
    "colab": {
     "base_uri": "https://localhost:8080/",
     "height": 112
    },
    "id": "9ZViAypUFlx9",
    "outputId": "b34c746c-e38d-4809-a8a0-542ae0d6cd67"
   },
   "outputs": [
    {
     "data": {
      "text/html": [
       "<div>\n",
       "<style scoped>\n",
       "    .dataframe tbody tr th:only-of-type {\n",
       "        vertical-align: middle;\n",
       "    }\n",
       "\n",
       "    .dataframe tbody tr th {\n",
       "        vertical-align: top;\n",
       "    }\n",
       "\n",
       "    .dataframe thead th {\n",
       "        text-align: right;\n",
       "    }\n",
       "</style>\n",
       "<table border=\"1\" class=\"dataframe\">\n",
       "  <thead>\n",
       "    <tr style=\"text-align: right;\">\n",
       "      <th></th>\n",
       "      <th>dates</th>\n",
       "      <th>age_layer</th>\n",
       "      <th>se_is_not_target</th>\n",
       "      <th>se_ref</th>\n",
       "      <th>se_ref_kt</th>\n",
       "      <th>se_ref_lk</th>\n",
       "    </tr>\n",
       "  </thead>\n",
       "  <tbody>\n",
       "    <tr>\n",
       "      <th>863</th>\n",
       "      <td>2021-04-23</td>\n",
       "      <td>40s</td>\n",
       "      <td>1.650707e+12</td>\n",
       "      <td>NaN</td>\n",
       "      <td>NaN</td>\n",
       "      <td>NaN</td>\n",
       "    </tr>\n",
       "    <tr>\n",
       "      <th>993</th>\n",
       "      <td>2021-04-26</td>\n",
       "      <td>20s</td>\n",
       "      <td>1.650973e+12</td>\n",
       "      <td>NaN</td>\n",
       "      <td>NaN</td>\n",
       "      <td>NaN</td>\n",
       "    </tr>\n",
       "  </tbody>\n",
       "</table>\n",
       "</div>"
      ],
      "text/plain": [
       "          dates age_layer  se_is_not_target  se_ref  se_ref_kt  se_ref_lk\n",
       "863  2021-04-23       40s      1.650707e+12     NaN        NaN        NaN\n",
       "993  2021-04-26       20s      1.650973e+12     NaN        NaN        NaN"
      ]
     },
     "execution_count": 268,
     "metadata": {},
     "output_type": "execute_result"
    }
   ],
   "source": [
    "# 친구소개 화면으로 진입하는 2가지 경로 중 첫 번째: 결제 불가능 회원\n",
    "# 결제가능 여부를 알아야 하기에, se_is_not_target에 진입한 회원들을 보기로 함( notnull() 사용 )\n",
    "df_ref_none = df_ref_none[df_ref_none['se_is_not_target'].notnull()]\n",
    "df_ref_none.head(2)"
   ]
  },
  {
   "cell_type": "markdown",
   "metadata": {
    "id": "ERcUseb1g3r6"
   },
   "source": [
    "# _3. 전환율"
   ]
  },
  {
   "cell_type": "markdown",
   "metadata": {
    "id": "H0XNe4ichEh4"
   },
   "source": [
    "## 3.1. 가입 전환율"
   ]
  },
  {
   "cell_type": "markdown",
   "metadata": {
    "id": "tyDCfAXchI6J"
   },
   "source": [
    "### 3.1.1 데이터 준비"
   ]
  },
  {
   "cell_type": "markdown",
   "metadata": {
    "id": "8wKNFWruqSAE"
   },
   "source": [
    "* 데이터 준비 목적\n",
    "    * 분석 하기 좋은 형태로의 변환\n",
    "    * 현재는 funnel 단계마다 컬럼으로 표현 되어있는 데이터를\n",
    "    * 단계를 나타내는 컬럼과, 각 단계의 이벤트 수를 나타내는 컬럼으로 집계하여 가공 할 예정( melt 활용 )"
   ]
  },
  {
   "cell_type": "markdown",
   "metadata": {
    "id": "Z6Pm9ZESqyhn"
   },
   "source": [
    "예를 들어, 아래의 형태를  \n",
    "\n",
    "| dates | hours | age_layer | se_inflowed | se_joined |se_cert_pv | ...... |\n",
    "| --- | --- | --- | --- | --- | --- | --- |\n",
    "| 2021-04-28 | 15 | Unknown | 1650952870701 | NaN | NaN | NaN |\n",
    "| 2021-04-28 | 15 | Unknown | 1650707891811 | 1650707891811 | 1650707891811 | NaN |\n"
   ]
  },
  {
   "cell_type": "markdown",
   "metadata": {
    "id": "Zf2WwkEPrwyv"
   },
   "source": [
    "| dates | hours | age_layer | step | cnts | \n",
    "| --- | --- | --- | --- | --- |\n",
    "| 2021-04-28 | 15 | Unknown | se_inflowed | 2 |\n",
    "| 2021-04-28 | 15 | Unknown | se_joined | 1 |\n",
    "| 2021-04-28 | 15 | Unknown | se_cert_pv | 1 |\n",
    "| ... | ... | ... | ... | ... |\n",
    "\n",
    "* 이와 같은 형태로 변경 할 예정\n",
    "* why? 시각화 하기 좋은 형태!"
   ]
  },
  {
   "cell_type": "code",
   "execution_count": 269,
   "metadata": {
    "colab": {
     "base_uri": "https://localhost:8080/",
     "height": 112
    },
    "id": "vCFZ6GMsg1eX",
    "outputId": "542d9932-78fe-4c3d-b6b1-bea292b5cc80"
   },
   "outputs": [
    {
     "data": {
      "text/html": [
       "<div>\n",
       "<style scoped>\n",
       "    .dataframe tbody tr th:only-of-type {\n",
       "        vertical-align: middle;\n",
       "    }\n",
       "\n",
       "    .dataframe tbody tr th {\n",
       "        vertical-align: top;\n",
       "    }\n",
       "\n",
       "    .dataframe thead th {\n",
       "        text-align: right;\n",
       "    }\n",
       "</style>\n",
       "<table border=\"1\" class=\"dataframe\">\n",
       "  <thead>\n",
       "    <tr style=\"text-align: right;\">\n",
       "      <th></th>\n",
       "      <th>dates</th>\n",
       "      <th>hours</th>\n",
       "      <th>age_layer</th>\n",
       "      <th>se_inflowed</th>\n",
       "      <th>se_joined</th>\n",
       "      <th>se_cert_pv</th>\n",
       "      <th>se_cert_done</th>\n",
       "      <th>se_tax_calculation</th>\n",
       "      <th>se_tax_check</th>\n",
       "      <th>se_pay_pv</th>\n",
       "      <th>se_is_not_target</th>\n",
       "    </tr>\n",
       "  </thead>\n",
       "  <tbody>\n",
       "    <tr>\n",
       "      <th>0</th>\n",
       "      <td>2021-04-29</td>\n",
       "      <td>1</td>\n",
       "      <td>Unknown</td>\n",
       "      <td>1651164079013</td>\n",
       "      <td>NaN</td>\n",
       "      <td>NaN</td>\n",
       "      <td>NaN</td>\n",
       "      <td>NaN</td>\n",
       "      <td>NaN</td>\n",
       "      <td>NaN</td>\n",
       "      <td>NaN</td>\n",
       "    </tr>\n",
       "    <tr>\n",
       "      <th>1</th>\n",
       "      <td>2021-04-29</td>\n",
       "      <td>4</td>\n",
       "      <td>Unknown</td>\n",
       "      <td>1651175470863</td>\n",
       "      <td>NaN</td>\n",
       "      <td>NaN</td>\n",
       "      <td>NaN</td>\n",
       "      <td>NaN</td>\n",
       "      <td>NaN</td>\n",
       "      <td>NaN</td>\n",
       "      <td>NaN</td>\n",
       "    </tr>\n",
       "  </tbody>\n",
       "</table>\n",
       "</div>"
      ],
      "text/plain": [
       "        dates  hours age_layer    se_inflowed  se_joined  se_cert_pv  \\\n",
       "0  2021-04-29      1   Unknown  1651164079013        NaN         NaN   \n",
       "1  2021-04-29      4   Unknown  1651175470863        NaN         NaN   \n",
       "\n",
       "   se_cert_done  se_tax_calculation  se_tax_check  se_pay_pv  se_is_not_target  \n",
       "0           NaN                 NaN           NaN        NaN               NaN  \n",
       "1           NaN                 NaN           NaN        NaN               NaN  "
      ]
     },
     "execution_count": 269,
     "metadata": {},
     "output_type": "execute_result"
    }
   ],
   "source": [
    "# 데이터 확인( df_signup )\n",
    "df_signup.head(2)"
   ]
  },
  {
   "cell_type": "code",
   "execution_count": 270,
   "metadata": {
    "colab": {
     "base_uri": "https://localhost:8080/",
     "height": 112
    },
    "id": "brXls6idlZo3",
    "outputId": "e235f6b1-c8c7-4ee6-ede3-66c4ca5607db"
   },
   "outputs": [
    {
     "data": {
      "text/html": [
       "<div>\n",
       "<style scoped>\n",
       "    .dataframe tbody tr th:only-of-type {\n",
       "        vertical-align: middle;\n",
       "    }\n",
       "\n",
       "    .dataframe tbody tr th {\n",
       "        vertical-align: top;\n",
       "    }\n",
       "\n",
       "    .dataframe thead th {\n",
       "        text-align: right;\n",
       "    }\n",
       "</style>\n",
       "<table border=\"1\" class=\"dataframe\">\n",
       "  <thead>\n",
       "    <tr style=\"text-align: right;\">\n",
       "      <th></th>\n",
       "      <th>dates</th>\n",
       "      <th>hours</th>\n",
       "      <th>age_layer</th>\n",
       "      <th>se_inflowed</th>\n",
       "      <th>se_joined</th>\n",
       "      <th>se_cert_pv</th>\n",
       "      <th>se_cert_done</th>\n",
       "      <th>se_tax_calculation</th>\n",
       "      <th>se_tax_check</th>\n",
       "      <th>se_pay_pv</th>\n",
       "      <th>se_is_not_target</th>\n",
       "      <th>basic</th>\n",
       "    </tr>\n",
       "  </thead>\n",
       "  <tbody>\n",
       "    <tr>\n",
       "      <th>0</th>\n",
       "      <td>2021-04-29</td>\n",
       "      <td>1</td>\n",
       "      <td>Unknown</td>\n",
       "      <td>1651164079013</td>\n",
       "      <td>NaN</td>\n",
       "      <td>NaN</td>\n",
       "      <td>NaN</td>\n",
       "      <td>NaN</td>\n",
       "      <td>NaN</td>\n",
       "      <td>NaN</td>\n",
       "      <td>NaN</td>\n",
       "      <td>1</td>\n",
       "    </tr>\n",
       "    <tr>\n",
       "      <th>1</th>\n",
       "      <td>2021-04-29</td>\n",
       "      <td>4</td>\n",
       "      <td>Unknown</td>\n",
       "      <td>1651175470863</td>\n",
       "      <td>NaN</td>\n",
       "      <td>NaN</td>\n",
       "      <td>NaN</td>\n",
       "      <td>NaN</td>\n",
       "      <td>NaN</td>\n",
       "      <td>NaN</td>\n",
       "      <td>NaN</td>\n",
       "      <td>1</td>\n",
       "    </tr>\n",
       "  </tbody>\n",
       "</table>\n",
       "</div>"
      ],
      "text/plain": [
       "        dates  hours age_layer    se_inflowed  se_joined  se_cert_pv  \\\n",
       "0  2021-04-29      1   Unknown  1651164079013        NaN         NaN   \n",
       "1  2021-04-29      4   Unknown  1651175470863        NaN         NaN   \n",
       "\n",
       "   se_cert_done  se_tax_calculation  se_tax_check  se_pay_pv  \\\n",
       "0           NaN                 NaN           NaN        NaN   \n",
       "1           NaN                 NaN           NaN        NaN   \n",
       "\n",
       "   se_is_not_target  basic  \n",
       "0               NaN      1  \n",
       "1               NaN      1  "
      ]
     },
     "execution_count": 270,
     "metadata": {},
     "output_type": "execute_result"
    }
   ],
   "source": [
    "## 이벤트 수 카운트 하기 위해 basic 칼럼 1로 생성하기\n",
    "df_signup['basic'] = 1\n",
    "df_signup.head(2)"
   ]
  },
  {
   "cell_type": "code",
   "execution_count": 271,
   "metadata": {
    "colab": {
     "base_uri": "https://localhost:8080/",
     "height": 117
    },
    "id": "wjR2L3uwlj8B",
    "outputId": "8e3d2701-71db-459e-a009-7bd0eb8fae09"
   },
   "outputs": [
    {
     "name": "stdout",
     "output_type": "stream",
     "text": [
      "Wall time: 3.83 s\n"
     ]
    },
    {
     "data": {
      "text/html": [
       "<div>\n",
       "<style scoped>\n",
       "    .dataframe tbody tr th:only-of-type {\n",
       "        vertical-align: middle;\n",
       "    }\n",
       "\n",
       "    .dataframe tbody tr th {\n",
       "        vertical-align: top;\n",
       "    }\n",
       "\n",
       "    .dataframe thead th {\n",
       "        text-align: right;\n",
       "    }\n",
       "</style>\n",
       "<table border=\"1\" class=\"dataframe\">\n",
       "  <thead>\n",
       "    <tr style=\"text-align: right;\">\n",
       "      <th></th>\n",
       "      <th>basic</th>\n",
       "      <th>se_inflowed</th>\n",
       "      <th>se_joined</th>\n",
       "      <th>se_cert_pv</th>\n",
       "      <th>se_cert_done</th>\n",
       "      <th>se_tax_calculation</th>\n",
       "      <th>se_tax_check</th>\n",
       "      <th>se_pay_pv</th>\n",
       "      <th>se_is_not_target</th>\n",
       "    </tr>\n",
       "  </thead>\n",
       "  <tbody>\n",
       "    <tr>\n",
       "      <th>0</th>\n",
       "      <td>1</td>\n",
       "      <td>1899715</td>\n",
       "      <td>598172</td>\n",
       "      <td>304479</td>\n",
       "      <td>180434</td>\n",
       "      <td>148759</td>\n",
       "      <td>144110</td>\n",
       "      <td>34086</td>\n",
       "      <td>39573</td>\n",
       "    </tr>\n",
       "  </tbody>\n",
       "</table>\n",
       "</div>"
      ],
      "text/plain": [
       "   basic  se_inflowed  se_joined  se_cert_pv  se_cert_done  \\\n",
       "0      1      1899715     598172      304479        180434   \n",
       "\n",
       "   se_tax_calculation  se_tax_check  se_pay_pv  se_is_not_target  \n",
       "0              148759        144110      34086             39573  "
      ]
     },
     "execution_count": 271,
     "metadata": {},
     "output_type": "execute_result"
    }
   ],
   "source": [
    "%%time\n",
    "# 각 단계 별 이벤트 로그 총 개수 집계\n",
    "# 'se_inflowed', 'se_joined', 'se_cert_pv', 'se_cert_done', 'se_tax_calculation', 'se_tax_check', 'se_pay_pv', 'se_is_not_target'\n",
    "df_base.groupby(['basic'])['se_inflowed', 'se_joined', 'se_cert_pv', 'se_cert_done', 'se_tax_calculation', 'se_tax_check', 'se_pay_pv', 'se_is_not_target'].agg('nunique').reset_index()\n",
    "\n",
    "## groupby()\n",
    "## agg()\n",
    "## reset_index()\n"
   ]
  },
  {
   "cell_type": "code",
   "execution_count": 272,
   "metadata": {
    "colab": {
     "base_uri": "https://localhost:8080/"
    },
    "id": "86QAK27atTOt",
    "outputId": "f2787014-70cf-4f54-ea68-b05163215b20"
   },
   "outputs": [
    {
     "data": {
      "text/plain": [
       "Index(['se_inflowed', 'se_joined', 'se_cert_pv', 'se_cert_done',\n",
       "       'se_tax_calculation', 'se_tax_check', 'se_pay_pv', 'se_is_not_target'],\n",
       "      dtype='object')"
      ]
     },
     "execution_count": 272,
     "metadata": {},
     "output_type": "execute_result"
    }
   ],
   "source": [
    "# 컬럼 명만 가져와보기\n",
    "df_signup.columns[3:-2+1]"
   ]
  },
  {
   "cell_type": "code",
   "execution_count": 273,
   "metadata": {
    "colab": {
     "base_uri": "https://localhost:8080/",
     "height": 300
    },
    "id": "kzEH2o4jmWHT",
    "outputId": "78b95efd-5e7f-4546-a361-a0b5beb699db"
   },
   "outputs": [
    {
     "data": {
      "text/html": [
       "<div>\n",
       "<style scoped>\n",
       "    .dataframe tbody tr th:only-of-type {\n",
       "        vertical-align: middle;\n",
       "    }\n",
       "\n",
       "    .dataframe tbody tr th {\n",
       "        vertical-align: top;\n",
       "    }\n",
       "\n",
       "    .dataframe thead th {\n",
       "        text-align: right;\n",
       "    }\n",
       "</style>\n",
       "<table border=\"1\" class=\"dataframe\">\n",
       "  <thead>\n",
       "    <tr style=\"text-align: right;\">\n",
       "      <th>basic</th>\n",
       "      <th>step</th>\n",
       "      <th>cnts</th>\n",
       "    </tr>\n",
       "  </thead>\n",
       "  <tbody>\n",
       "    <tr>\n",
       "      <th>0</th>\n",
       "      <td>se_inflowed</td>\n",
       "      <td>1899715</td>\n",
       "    </tr>\n",
       "    <tr>\n",
       "      <th>1</th>\n",
       "      <td>se_joined</td>\n",
       "      <td>598172</td>\n",
       "    </tr>\n",
       "    <tr>\n",
       "      <th>2</th>\n",
       "      <td>se_cert_pv</td>\n",
       "      <td>304479</td>\n",
       "    </tr>\n",
       "    <tr>\n",
       "      <th>3</th>\n",
       "      <td>se_cert_done</td>\n",
       "      <td>180434</td>\n",
       "    </tr>\n",
       "    <tr>\n",
       "      <th>4</th>\n",
       "      <td>se_tax_calculation</td>\n",
       "      <td>148759</td>\n",
       "    </tr>\n",
       "    <tr>\n",
       "      <th>5</th>\n",
       "      <td>se_tax_check</td>\n",
       "      <td>144110</td>\n",
       "    </tr>\n",
       "    <tr>\n",
       "      <th>6</th>\n",
       "      <td>se_pay_pv</td>\n",
       "      <td>34086</td>\n",
       "    </tr>\n",
       "    <tr>\n",
       "      <th>7</th>\n",
       "      <td>se_is_not_target</td>\n",
       "      <td>39573</td>\n",
       "    </tr>\n",
       "  </tbody>\n",
       "</table>\n",
       "</div>"
      ],
      "text/plain": [
       "basic                step     cnts\n",
       "0             se_inflowed  1899715\n",
       "1               se_joined   598172\n",
       "2              se_cert_pv   304479\n",
       "3            se_cert_done   180434\n",
       "4      se_tax_calculation   148759\n",
       "5            se_tax_check   144110\n",
       "6               se_pay_pv    34086\n",
       "7        se_is_not_target    39573"
      ]
     },
     "execution_count": 273,
     "metadata": {},
     "output_type": "execute_result"
    }
   ],
   "source": [
    "# 단계별로 하나씩\n",
    "# 좌변 → 우변 으로 읽는 것이 아닌, 우변 → 좌변 으로 읽기\n",
    "\n",
    "temp_columns = df_signup.columns[3:-2+1].tolist()\n",
    "df_signup_raw = df_signup.groupby(['basic'])[temp_columns].agg('nunique')\n",
    "df_signup_raw = df_signup_raw.T # 가로열, 세로열 전환\n",
    "df_signup_raw = df_signup_raw.reset_index()\n",
    "df_signup_raw = df_signup_raw.rename(columns = {'index':'step', 1:'cnts'})\n",
    "\n",
    "df_signup_raw"
   ]
  },
  {
   "cell_type": "code",
   "execution_count": 274,
   "metadata": {
    "id": "6glNUqmmL9aB"
   },
   "outputs": [],
   "source": [
    "# groupby 없이 해보기"
   ]
  },
  {
   "cell_type": "code",
   "execution_count": 275,
   "metadata": {
    "scrolled": false
   },
   "outputs": [
    {
     "data": {
      "text/plain": [
       "['se_inflowed',\n",
       " 'se_joined',\n",
       " 'se_cert_pv',\n",
       " 'se_cert_done',\n",
       " 'se_tax_calculation',\n",
       " 'se_tax_check',\n",
       " 'se_pay_pv',\n",
       " 'se_is_not_target']"
      ]
     },
     "execution_count": 275,
     "metadata": {},
     "output_type": "execute_result"
    }
   ],
   "source": [
    "temp_columns"
   ]
  },
  {
   "cell_type": "code",
   "execution_count": 276,
   "metadata": {},
   "outputs": [],
   "source": [
    "## tdf_signup 데이터에서\n",
    "## raw수를 append 이용해서 리스트 형태로 넣기 cnts \n",
    "## step이름 을 append 이용해서 리스트 형태로 넣기 df_list\n",
    "## 두 리스트를 pd.DataFrame() 이용해서 데이터 셋으로 생성하기 temp_df\n",
    "#### 요기서부터 다시 시작 ★★"
   ]
  },
  {
   "cell_type": "code",
   "execution_count": 277,
   "metadata": {
    "colab": {
     "base_uri": "https://localhost:8080/"
    },
    "id": "ceDdkMrjwjVy",
    "outputId": "da506487-b6a8-43b8-b536-813891ac8ba0"
   },
   "outputs": [
    {
     "name": "stdout",
     "output_type": "stream",
     "text": [
      "se_inflowed 1899715\n",
      "se_joined 598172\n",
      "se_cert_pv 304479\n",
      "se_cert_done 180434\n",
      "se_tax_calculation 148759\n",
      "se_tax_check 144110\n",
      "se_pay_pv 34086\n",
      "se_is_not_target 39573\n",
      "Wall time: 875 ms\n"
     ]
    },
    {
     "data": {
      "text/html": [
       "<div>\n",
       "<style scoped>\n",
       "    .dataframe tbody tr th:only-of-type {\n",
       "        vertical-align: middle;\n",
       "    }\n",
       "\n",
       "    .dataframe tbody tr th {\n",
       "        vertical-align: top;\n",
       "    }\n",
       "\n",
       "    .dataframe thead th {\n",
       "        text-align: right;\n",
       "    }\n",
       "</style>\n",
       "<table border=\"1\" class=\"dataframe\">\n",
       "  <thead>\n",
       "    <tr style=\"text-align: right;\">\n",
       "      <th></th>\n",
       "      <th>step</th>\n",
       "      <th>cnts</th>\n",
       "    </tr>\n",
       "  </thead>\n",
       "  <tbody>\n",
       "    <tr>\n",
       "      <th>0</th>\n",
       "      <td>se_inflowed</td>\n",
       "      <td>1899715</td>\n",
       "    </tr>\n",
       "    <tr>\n",
       "      <th>1</th>\n",
       "      <td>se_joined</td>\n",
       "      <td>598172</td>\n",
       "    </tr>\n",
       "    <tr>\n",
       "      <th>2</th>\n",
       "      <td>se_cert_pv</td>\n",
       "      <td>304479</td>\n",
       "    </tr>\n",
       "    <tr>\n",
       "      <th>3</th>\n",
       "      <td>se_cert_done</td>\n",
       "      <td>180434</td>\n",
       "    </tr>\n",
       "    <tr>\n",
       "      <th>4</th>\n",
       "      <td>se_tax_calculation</td>\n",
       "      <td>148759</td>\n",
       "    </tr>\n",
       "    <tr>\n",
       "      <th>5</th>\n",
       "      <td>se_tax_check</td>\n",
       "      <td>144110</td>\n",
       "    </tr>\n",
       "    <tr>\n",
       "      <th>6</th>\n",
       "      <td>se_pay_pv</td>\n",
       "      <td>34086</td>\n",
       "    </tr>\n",
       "    <tr>\n",
       "      <th>7</th>\n",
       "      <td>se_is_not_target</td>\n",
       "      <td>39573</td>\n",
       "    </tr>\n",
       "  </tbody>\n",
       "</table>\n",
       "</div>"
      ],
      "text/plain": [
       "                 step     cnts\n",
       "0         se_inflowed  1899715\n",
       "1           se_joined   598172\n",
       "2          se_cert_pv   304479\n",
       "3        se_cert_done   180434\n",
       "4  se_tax_calculation   148759\n",
       "5        se_tax_check   144110\n",
       "6           se_pay_pv    34086\n",
       "7    se_is_not_target    39573"
      ]
     },
     "execution_count": 277,
     "metadata": {},
     "output_type": "execute_result"
    }
   ],
   "source": [
    "%%time\n",
    "cnts = []\n",
    "\n",
    "for temp_col in temp_columns:\n",
    "    temp_cnts = df_signup[temp_col].nunique() ## 가입경로 데이터에서 각각의 칼럼에 있는 세션의 고유 개수를 세어줌 \n",
    "    print(temp_col, temp_cnts)\n",
    "    cnts.append(temp_cnts) ## 세어준 값들을 리스트에 넣는다.\n",
    "\n",
    "df_list = []\n",
    "df_list.append(temp_columns)\n",
    "df_list.append(cnts)\n",
    "\n",
    "temp_df = pd.DataFrame(data = df_list, index = ['step', 'cnts']).T\n",
    "temp_df"
   ]
  },
  {
   "cell_type": "code",
   "execution_count": 278,
   "metadata": {
    "id": "QgoZ8T6LMDNE"
   },
   "outputs": [
    {
     "data": {
      "text/html": [
       "<div>\n",
       "<style scoped>\n",
       "    .dataframe tbody tr th:only-of-type {\n",
       "        vertical-align: middle;\n",
       "    }\n",
       "\n",
       "    .dataframe tbody tr th {\n",
       "        vertical-align: top;\n",
       "    }\n",
       "\n",
       "    .dataframe thead th {\n",
       "        text-align: right;\n",
       "    }\n",
       "</style>\n",
       "<table border=\"1\" class=\"dataframe\">\n",
       "  <thead>\n",
       "    <tr style=\"text-align: right;\">\n",
       "      <th></th>\n",
       "      <th>step</th>\n",
       "      <th>cnts</th>\n",
       "    </tr>\n",
       "  </thead>\n",
       "  <tbody>\n",
       "    <tr>\n",
       "      <th>0</th>\n",
       "      <td>se_inflowed</td>\n",
       "      <td>1899715</td>\n",
       "    </tr>\n",
       "    <tr>\n",
       "      <th>1</th>\n",
       "      <td>se_joined</td>\n",
       "      <td>598172</td>\n",
       "    </tr>\n",
       "    <tr>\n",
       "      <th>2</th>\n",
       "      <td>se_cert_pv</td>\n",
       "      <td>304479</td>\n",
       "    </tr>\n",
       "    <tr>\n",
       "      <th>3</th>\n",
       "      <td>se_cert_done</td>\n",
       "      <td>180434</td>\n",
       "    </tr>\n",
       "    <tr>\n",
       "      <th>4</th>\n",
       "      <td>se_tax_calculation</td>\n",
       "      <td>148759</td>\n",
       "    </tr>\n",
       "    <tr>\n",
       "      <th>5</th>\n",
       "      <td>se_tax_check</td>\n",
       "      <td>144110</td>\n",
       "    </tr>\n",
       "    <tr>\n",
       "      <th>6</th>\n",
       "      <td>se_pay_pv</td>\n",
       "      <td>34086</td>\n",
       "    </tr>\n",
       "    <tr>\n",
       "      <th>7</th>\n",
       "      <td>se_is_not_target</td>\n",
       "      <td>39573</td>\n",
       "    </tr>\n",
       "  </tbody>\n",
       "</table>\n",
       "</div>"
      ],
      "text/plain": [
       "                 step     cnts\n",
       "0         se_inflowed  1899715\n",
       "1           se_joined   598172\n",
       "2          se_cert_pv   304479\n",
       "3        se_cert_done   180434\n",
       "4  se_tax_calculation   148759\n",
       "5        se_tax_check   144110\n",
       "6           se_pay_pv    34086\n",
       "7    se_is_not_target    39573"
      ]
     },
     "execution_count": 278,
     "metadata": {},
     "output_type": "execute_result"
    }
   ],
   "source": [
    "temp_df"
   ]
  },
  {
   "cell_type": "code",
   "execution_count": 279,
   "metadata": {
    "colab": {
     "base_uri": "https://localhost:8080/",
     "height": 238
    },
    "id": "Kqrz9UBOJyN0",
    "outputId": "97fb6778-391c-41fa-b76c-5df071c17940"
   },
   "outputs": [
    {
     "data": {
      "text/html": [
       "<div>\n",
       "<style scoped>\n",
       "    .dataframe tbody tr th:only-of-type {\n",
       "        vertical-align: middle;\n",
       "    }\n",
       "\n",
       "    .dataframe tbody tr th {\n",
       "        vertical-align: top;\n",
       "    }\n",
       "\n",
       "    .dataframe thead th {\n",
       "        text-align: right;\n",
       "    }\n",
       "</style>\n",
       "<table border=\"1\" class=\"dataframe\">\n",
       "  <thead>\n",
       "    <tr style=\"text-align: right;\">\n",
       "      <th>basic</th>\n",
       "      <th>step</th>\n",
       "      <th>cnts</th>\n",
       "    </tr>\n",
       "  </thead>\n",
       "  <tbody>\n",
       "    <tr>\n",
       "      <th>0</th>\n",
       "      <td>se_inflowed</td>\n",
       "      <td>1899715</td>\n",
       "    </tr>\n",
       "    <tr>\n",
       "      <th>1</th>\n",
       "      <td>se_joined</td>\n",
       "      <td>598172</td>\n",
       "    </tr>\n",
       "    <tr>\n",
       "      <th>2</th>\n",
       "      <td>se_cert_pv</td>\n",
       "      <td>304479</td>\n",
       "    </tr>\n",
       "    <tr>\n",
       "      <th>3</th>\n",
       "      <td>se_cert_done</td>\n",
       "      <td>180434</td>\n",
       "    </tr>\n",
       "    <tr>\n",
       "      <th>4</th>\n",
       "      <td>se_tax_calculation</td>\n",
       "      <td>148759</td>\n",
       "    </tr>\n",
       "    <tr>\n",
       "      <th>5</th>\n",
       "      <td>se_tax_check</td>\n",
       "      <td>144110</td>\n",
       "    </tr>\n",
       "  </tbody>\n",
       "</table>\n",
       "</div>"
      ],
      "text/plain": [
       "basic                step     cnts\n",
       "0             se_inflowed  1899715\n",
       "1               se_joined   598172\n",
       "2              se_cert_pv   304479\n",
       "3            se_cert_done   180434\n",
       "4      se_tax_calculation   148759\n",
       "5            se_tax_check   144110"
      ]
     },
     "execution_count": 279,
     "metadata": {},
     "output_type": "execute_result"
    }
   ],
   "source": [
    "# 마지막 2개의 단계는 funnel이 아니라, 직전 단계의 결과를 케이스로 구분한 것: result 행 추가하여 통합된 결과로 만들기 위해\n",
    "# 마지막 2개 직전까지만 잘라서\n",
    "## se_pay_pv, se_is_not_target 제외하기\n",
    "df_signup_raw.iloc[:5+1, :]"
   ]
  },
  {
   "cell_type": "code",
   "execution_count": 280,
   "metadata": {
    "colab": {
     "base_uri": "https://localhost:8080/"
    },
    "id": "ELyfgAldKfMv",
    "outputId": "c721cf88-ae05-4f5f-96a1-ec4a27656fb0"
   },
   "outputs": [
    {
     "data": {
      "text/plain": [
       "73659"
      ]
     },
     "execution_count": 280,
     "metadata": {},
     "output_type": "execute_result"
    }
   ],
   "source": [
    "# 마지막 2개 단계 합친 결과 -- result_check \n",
    "result_check = df_signup_raw.iloc[6,1] + df_signup_raw.iloc[7,1]\n",
    "result_check\n"
   ]
  },
  {
   "cell_type": "code",
   "execution_count": 281,
   "metadata": {
    "colab": {
     "base_uri": "https://localhost:8080/",
     "height": 81
    },
    "id": "-SS1-JqGKDaf",
    "outputId": "09b90670-ef90-4104-a168-82a01fc8ff07"
   },
   "outputs": [
    {
     "data": {
      "text/html": [
       "<div>\n",
       "<style scoped>\n",
       "    .dataframe tbody tr th:only-of-type {\n",
       "        vertical-align: middle;\n",
       "    }\n",
       "\n",
       "    .dataframe tbody tr th {\n",
       "        vertical-align: top;\n",
       "    }\n",
       "\n",
       "    .dataframe thead th {\n",
       "        text-align: right;\n",
       "    }\n",
       "</style>\n",
       "<table border=\"1\" class=\"dataframe\">\n",
       "  <thead>\n",
       "    <tr style=\"text-align: right;\">\n",
       "      <th></th>\n",
       "      <th>step</th>\n",
       "      <th>cnts</th>\n",
       "    </tr>\n",
       "  </thead>\n",
       "  <tbody>\n",
       "    <tr>\n",
       "      <th>0</th>\n",
       "      <td>se_tax_result</td>\n",
       "      <td>73659</td>\n",
       "    </tr>\n",
       "  </tbody>\n",
       "</table>\n",
       "</div>"
      ],
      "text/plain": [
       "            step   cnts\n",
       "0  se_tax_result  73659"
      ]
     },
     "execution_count": 281,
     "metadata": {},
     "output_type": "execute_result"
    }
   ],
   "source": [
    "# result 행으로만 구성된 임시 df 만들기\n",
    "temp_df = pd.DataFrame(data = ['se_tax_result', result_check], index = ['step', 'cnts']).T\n",
    "temp_df"
   ]
  },
  {
   "cell_type": "code",
   "execution_count": 282,
   "metadata": {
    "colab": {
     "base_uri": "https://localhost:8080/",
     "height": 269
    },
    "id": "8ROyn0bJK1co",
    "outputId": "c895e2f7-963c-4206-d3e1-49772acd8ddc"
   },
   "outputs": [
    {
     "data": {
      "text/html": [
       "<div>\n",
       "<style scoped>\n",
       "    .dataframe tbody tr th:only-of-type {\n",
       "        vertical-align: middle;\n",
       "    }\n",
       "\n",
       "    .dataframe tbody tr th {\n",
       "        vertical-align: top;\n",
       "    }\n",
       "\n",
       "    .dataframe thead th {\n",
       "        text-align: right;\n",
       "    }\n",
       "</style>\n",
       "<table border=\"1\" class=\"dataframe\">\n",
       "  <thead>\n",
       "    <tr style=\"text-align: right;\">\n",
       "      <th></th>\n",
       "      <th>step</th>\n",
       "      <th>cnts</th>\n",
       "    </tr>\n",
       "  </thead>\n",
       "  <tbody>\n",
       "    <tr>\n",
       "      <th>0</th>\n",
       "      <td>se_inflowed</td>\n",
       "      <td>1899715</td>\n",
       "    </tr>\n",
       "    <tr>\n",
       "      <th>1</th>\n",
       "      <td>se_joined</td>\n",
       "      <td>598172</td>\n",
       "    </tr>\n",
       "    <tr>\n",
       "      <th>2</th>\n",
       "      <td>se_cert_pv</td>\n",
       "      <td>304479</td>\n",
       "    </tr>\n",
       "    <tr>\n",
       "      <th>3</th>\n",
       "      <td>se_cert_done</td>\n",
       "      <td>180434</td>\n",
       "    </tr>\n",
       "    <tr>\n",
       "      <th>4</th>\n",
       "      <td>se_tax_calculation</td>\n",
       "      <td>148759</td>\n",
       "    </tr>\n",
       "    <tr>\n",
       "      <th>5</th>\n",
       "      <td>se_tax_check</td>\n",
       "      <td>144110</td>\n",
       "    </tr>\n",
       "    <tr>\n",
       "      <th>6</th>\n",
       "      <td>se_tax_result</td>\n",
       "      <td>73659</td>\n",
       "    </tr>\n",
       "  </tbody>\n",
       "</table>\n",
       "</div>"
      ],
      "text/plain": [
       "                 step     cnts\n",
       "0         se_inflowed  1899715\n",
       "1           se_joined   598172\n",
       "2          se_cert_pv   304479\n",
       "3        se_cert_done   180434\n",
       "4  se_tax_calculation   148759\n",
       "5        se_tax_check   144110\n",
       "6       se_tax_result    73659"
      ]
     },
     "execution_count": 282,
     "metadata": {},
     "output_type": "execute_result"
    }
   ],
   "source": [
    "# result 행으로만 구성된 임시 df와 메인 df를 붙여주기\n",
    "df_signup_raw_v1 = pd.concat([df_signup_raw.iloc[:5+1, :],temp_df], axis = 0, ignore_index = True)\n",
    "df_signup_raw_v1"
   ]
  },
  {
   "cell_type": "code",
   "execution_count": 283,
   "metadata": {
    "colab": {
     "base_uri": "https://localhost:8080/"
    },
    "id": "idRg4eKaMjBX",
    "outputId": "d02b1df0-97cf-4b84-8c99-6014e380ec86"
   },
   "outputs": [
    {
     "name": "stdout",
     "output_type": "stream",
     "text": [
      "<class 'pandas.core.frame.DataFrame'>\n",
      "RangeIndex: 7 entries, 0 to 6\n",
      "Data columns (total 2 columns):\n",
      " #   Column  Non-Null Count  Dtype \n",
      "---  ------  --------------  ----- \n",
      " 0   step    7 non-null      object\n",
      " 1   cnts    7 non-null      object\n",
      "dtypes: object(2)\n",
      "memory usage: 240.0+ bytes\n"
     ]
    }
   ],
   "source": [
    "# 붙여진 결과 확인\n",
    "df_signup_raw_v1.info()"
   ]
  },
  {
   "cell_type": "code",
   "execution_count": 284,
   "metadata": {
    "colab": {
     "base_uri": "https://localhost:8080/"
    },
    "id": "_1QAZrrUMiyl",
    "outputId": "89d1fea4-5a46-4fd0-d1e7-648d20e4a92b"
   },
   "outputs": [
    {
     "name": "stdout",
     "output_type": "stream",
     "text": [
      "<class 'pandas.core.frame.DataFrame'>\n",
      "RangeIndex: 7 entries, 0 to 6\n",
      "Data columns (total 2 columns):\n",
      " #   Column  Non-Null Count  Dtype \n",
      "---  ------  --------------  ----- \n",
      " 0   step    7 non-null      object\n",
      " 1   cnts    7 non-null      int32 \n",
      "dtypes: int32(1), object(1)\n",
      "memory usage: 212.0+ bytes\n"
     ]
    }
   ],
   "source": [
    "# data type 변경\n",
    "df_signup_raw_v1['cnts'] = df_signup_raw_v1['cnts'].astype(int)\n",
    "df_signup_raw_v1.info()"
   ]
  },
  {
   "cell_type": "markdown",
   "metadata": {
    "id": "VUPuhn4hKHPp"
   },
   "source": [
    "### 3.1.2. total 가입 전환율"
   ]
  },
  {
   "cell_type": "code",
   "execution_count": 285,
   "metadata": {
    "colab": {
     "base_uri": "https://localhost:8080/",
     "height": 437
    },
    "id": "UMn2Uh6Wtkbu",
    "outputId": "052915c0-dfe9-4776-828d-d29846a4d9f7"
   },
   "outputs": [
    {
     "data": {
      "image/png": "[encoded data removed]",
      "text/plain": [
       "<Figure size 1728x432 with 1 Axes>"
      ]
     },
     "metadata": {
      "needs_background": "light"
     },
     "output_type": "display_data"
    },
    {
     "name": "stdout",
     "output_type": "stream",
     "text": [
      "Wall time: 493 ms\n"
     ]
    }
   ],
   "source": [
    "%%time\n",
    "\n",
    "# 이벤트 개수로 그려보기\n",
    "\n",
    "fig, ax = plt.subplots(nrows = 1, ncols = 1, figsize = (24, 6))\n",
    "\n",
    "sns.barplot(\n",
    "    data = df_signup_raw_v1,\n",
    "    x = 'step',\n",
    "    y = 'cnts'\n",
    ")\n",
    "\n",
    "plt.show()"
   ]
  },
  {
   "cell_type": "code",
   "execution_count": 286,
   "metadata": {
    "colab": {
     "base_uri": "https://localhost:8080/",
     "height": 426
    },
    "id": "sS1jalx1xlxa",
    "outputId": "98c792fa-85fa-4c9e-cb7e-165b2648b7c0"
   },
   "outputs": [
    {
     "data": {
      "image/png": "[encoded data removed]",
      "text/plain": [
       "<Figure size 1728x432 with 1 Axes>"
      ]
     },
     "metadata": {
      "needs_background": "light"
     },
     "output_type": "display_data"
    },
    {
     "name": "stdout",
     "output_type": "stream",
     "text": [
      "Wall time: 253 ms\n"
     ]
    }
   ],
   "source": [
    "%%time\n",
    "\n",
    "# y축 서식 → ax.get_yaxis().set_major_formatter(ticker.FuncFormatter(lambda x, p: f'{x: 0,.0f}'))\n",
    "\n",
    "fig, ax = plt.subplots(nrows = 1, ncols = 1, figsize = (24, 6))\n",
    "\n",
    "sns.barplot(\n",
    "    data = df_signup_raw_v1,\n",
    "    x = 'step',\n",
    "    y = 'cnts'\n",
    ")\n",
    "\n",
    "ax.get_yaxis().set_major_formatter(ticker.FuncFormatter(lambda x, p: f'{x: 0,.0f}'))\n",
    "\n",
    "plt.show()"
   ]
  },
  {
   "cell_type": "code",
   "execution_count": 287,
   "metadata": {
    "id": "bscbDFQjMNmS"
   },
   "outputs": [],
   "source": [
    "# 조금 더 funnel스럽게 그려보기"
   ]
  },
  {
   "cell_type": "code",
   "execution_count": 288,
   "metadata": {
    "id": "jKKu71LvFC2x"
   },
   "outputs": [],
   "source": [
    "# plotly library 사용\n",
    "import plotly.express as px"
   ]
  },
  {
   "cell_type": "code",
   "execution_count": 289,
   "metadata": {
    "colab": {
     "base_uri": "https://localhost:8080/",
     "height": 542
    },
    "id": "uKuv0IqIFCzs",
    "outputId": "dacb4e76-7600-496e-c6de-cc4f95f87e1e"
   },
   "outputs": [
    {
     "data": {
      "application/vnd.plotly.v1+json": {
       "config": {
        "plotlyServerURL": "https://plot.ly"
       },
       "data": [
        {
         "hovertemplate": "step=%{x}<br>cnts=%{y}<extra></extra>",
         "legendgroup": "",
         "marker": {
          "color": "#636efa"
         },
         "name": "",
         "orientation": "v",
         "showlegend": false,
         "type": "funnel",
         "x": [
          "se_inflowed",
          "se_joined",
          "se_cert_pv",
          "se_cert_done",
          "se_tax_calculation",
          "se_tax_check",
          "se_tax_result"
         ],
         "xaxis": "x",
         "y": [
          1899715,
          598172,
          304479,
          180434,
          148759,
          144110,
          73659
         ],
         "yaxis": "y"
        }
       ],
       "layout": {
        "legend": {
         "tracegroupgap": 0
        },
        "template": {
         "data": {
          "bar": [
           {
            "error_x": {
             "color": "#2a3f5f"
            },
            "error_y": {
             "color": "#2a3f5f"
            },
            "marker": {
             "line": {
              "color": "#E5ECF6",
              "width": 0.5
             },
             "pattern": {
              "fillmode": "overlay",
              "size": 10,
              "solidity": 0.2
             }
            },
            "type": "bar"
           }
          ],
          "barpolar": [
           {
            "marker": {
             "line": {
              "color": "#E5ECF6",
              "width": 0.5
             },
             "pattern": {
              "fillmode": "overlay",
              "size": 10,
              "solidity": 0.2
             }
            },
            "type": "barpolar"
           }
          ],
          "carpet": [
           {
            "aaxis": {
             "endlinecolor": "#2a3f5f",
             "gridcolor": "white",
             "linecolor": "white",
             "minorgridcolor": "white",
             "startlinecolor": "#2a3f5f"
            },
            "baxis": {
             "endlinecolor": "#2a3f5f",
             "gridcolor": "white",
             "linecolor": "white",
             "minorgridcolor": "white",
             "startlinecolor": "#2a3f5f"
            },
            "type": "carpet"
           }
          ],
          "choropleth": [
           {
            "colorbar": {
             "outlinewidth": 0,
             "ticks": ""
            },
            "type": "choropleth"
           }
          ],
          "contour": [
           {
            "colorbar": {
             "outlinewidth": 0,
             "ticks": ""
            },
            "colorscale": [
             [
              0,
              "#0d0887"
             ],
             [
              0.1111111111111111,
              "#46039f"
             ],
             [
              0.2222222222222222,
              "#7201a8"
             ],
             [
              0.3333333333333333,
              "#9c179e"
             ],
             [
              0.4444444444444444,
              "#bd3786"
             ],
             [
              0.5555555555555556,
              "#d8576b"
             ],
             [
              0.6666666666666666,
              "#ed7953"
             ],
             [
              0.7777777777777778,
              "#fb9f3a"
             ],
             [
              0.8888888888888888,
              "#fdca26"
             ],
             [
              1,
              "#f0f921"
             ]
            ],
            "type": "contour"
           }
          ],
          "contourcarpet": [
           {
            "colorbar": {
             "outlinewidth": 0,
             "ticks": ""
            },
            "type": "contourcarpet"
           }
          ],
          "heatmap": [
           {
            "colorbar": {
             "outlinewidth": 0,
             "ticks": ""
            },
            "colorscale": [
             [
              0,
              "#0d0887"
             ],
             [
              0.1111111111111111,
              "#46039f"
             ],
             [
              0.2222222222222222,
              "#7201a8"
             ],
             [
              0.3333333333333333,
              "#9c179e"
             ],
             [
              0.4444444444444444,
              "#bd3786"
             ],
             [
              0.5555555555555556,
              "#d8576b"
             ],
             [
              0.6666666666666666,
              "#ed7953"
             ],
             [
              0.7777777777777778,
              "#fb9f3a"
             ],
             [
              0.8888888888888888,
              "#fdca26"
             ],
             [
              1,
              "#f0f921"
             ]
            ],
            "type": "heatmap"
           }
          ],
          "heatmapgl": [
           {
            "colorbar": {
             "outlinewidth": 0,
             "ticks": ""
            },
            "colorscale": [
             [
              0,
              "#0d0887"
             ],
             [
              0.1111111111111111,
              "#46039f"
             ],
             [
              0.2222222222222222,
              "#7201a8"
             ],
             [
              0.3333333333333333,
              "#9c179e"
             ],
             [
              0.4444444444444444,
              "#bd3786"
             ],
             [
              0.5555555555555556,
              "#d8576b"
             ],
             [
              0.6666666666666666,
              "#ed7953"
             ],
             [
              0.7777777777777778,
              "#fb9f3a"
             ],
             [
              0.8888888888888888,
              "#fdca26"
             ],
             [
              1,
              "#f0f921"
             ]
            ],
            "type": "heatmapgl"
           }
          ],
          "histogram": [
           {
            "marker": {
             "pattern": {
              "fillmode": "overlay",
              "size": 10,
              "solidity": 0.2
             }
            },
            "type": "histogram"
           }
          ],
          "histogram2d": [
           {
            "colorbar": {
             "outlinewidth": 0,
             "ticks": ""
            },
            "colorscale": [
             [
              0,
              "#0d0887"
             ],
             [
              0.1111111111111111,
              "#46039f"
             ],
             [
              0.2222222222222222,
              "#7201a8"
             ],
             [
              0.3333333333333333,
              "#9c179e"
             ],
             [
              0.4444444444444444,
              "#bd3786"
             ],
             [
              0.5555555555555556,
              "#d8576b"
             ],
             [
              0.6666666666666666,
              "#ed7953"
             ],
             [
              0.7777777777777778,
              "#fb9f3a"
             ],
             [
              0.8888888888888888,
              "#fdca26"
             ],
             [
              1,
              "#f0f921"
             ]
            ],
            "type": "histogram2d"
           }
          ],
          "histogram2dcontour": [
           {
            "colorbar": {
             "outlinewidth": 0,
             "ticks": ""
            },
            "colorscale": [
             [
              0,
              "#0d0887"
             ],
             [
              0.1111111111111111,
              "#46039f"
             ],
             [
              0.2222222222222222,
              "#7201a8"
             ],
             [
              0.3333333333333333,
              "#9c179e"
             ],
             [
              0.4444444444444444,
              "#bd3786"
             ],
             [
              0.5555555555555556,
              "#d8576b"
             ],
             [
              0.6666666666666666,
              "#ed7953"
             ],
             [
              0.7777777777777778,
              "#fb9f3a"
             ],
             [
              0.8888888888888888,
              "#fdca26"
             ],
             [
              1,
              "#f0f921"
             ]
            ],
            "type": "histogram2dcontour"
           }
          ],
          "mesh3d": [
           {
            "colorbar": {
             "outlinewidth": 0,
             "ticks": ""
            },
            "type": "mesh3d"
           }
          ],
          "parcoords": [
           {
            "line": {
             "colorbar": {
              "outlinewidth": 0,
              "ticks": ""
             }
            },
            "type": "parcoords"
           }
          ],
          "pie": [
           {
            "automargin": true,
            "type": "pie"
           }
          ],
          "scatter": [
           {
            "fillpattern": {
             "fillmode": "overlay",
             "size": 10,
             "solidity": 0.2
            },
            "type": "scatter"
           }
          ],
          "scatter3d": [
           {
            "line": {
             "colorbar": {
              "outlinewidth": 0,
              "ticks": ""
             }
            },
            "marker": {
             "colorbar": {
              "outlinewidth": 0,
              "ticks": ""
             }
            },
            "type": "scatter3d"
           }
          ],
          "scattercarpet": [
           {
            "marker": {
             "colorbar": {
              "outlinewidth": 0,
              "ticks": ""
             }
            },
            "type": "scattercarpet"
           }
          ],
          "scattergeo": [
           {
            "marker": {
             "colorbar": {
              "outlinewidth": 0,
              "ticks": ""
             }
            },
            "type": "scattergeo"
           }
          ],
          "scattergl": [
           {
            "marker": {
             "colorbar": {
              "outlinewidth": 0,
              "ticks": ""
             }
            },
            "type": "scattergl"
           }
          ],
          "scattermapbox": [
           {
            "marker": {
             "colorbar": {
              "outlinewidth": 0,
              "ticks": ""
             }
            },
            "type": "scattermapbox"
           }
          ],
          "scatterpolar": [
           {
            "marker": {
             "colorbar": {
              "outlinewidth": 0,
              "ticks": ""
             }
            },
            "type": "scatterpolar"
           }
          ],
          "scatterpolargl": [
           {
            "marker": {
             "colorbar": {
              "outlinewidth": 0,
              "ticks": ""
             }
            },
            "type": "scatterpolargl"
           }
          ],
          "scatterternary": [
           {
            "marker": {
             "colorbar": {
              "outlinewidth": 0,
              "ticks": ""
             }
            },
            "type": "scatterternary"
           }
          ],
          "surface": [
           {
            "colorbar": {
             "outlinewidth": 0,
             "ticks": ""
            },
            "colorscale": [
             [
              0,
              "#0d0887"
             ],
             [
              0.1111111111111111,
              "#46039f"
             ],
             [
              0.2222222222222222,
              "#7201a8"
             ],
             [
              0.3333333333333333,
              "#9c179e"
             ],
             [
              0.4444444444444444,
              "#bd3786"
             ],
             [
              0.5555555555555556,
              "#d8576b"
             ],
             [
              0.6666666666666666,
              "#ed7953"
             ],
             [
              0.7777777777777778,
              "#fb9f3a"
             ],
             [
              0.8888888888888888,
              "#fdca26"
             ],
             [
              1,
              "#f0f921"
             ]
            ],
            "type": "surface"
           }
          ],
          "table": [
           {
            "cells": {
             "fill": {
              "color": "#EBF0F8"
             },
             "line": {
              "color": "white"
             }
            },
            "header": {
             "fill": {
              "color": "#C8D4E3"
             },
             "line": {
              "color": "white"
             }
            },
            "type": "table"
           }
          ]
         },
         "layout": {
          "annotationdefaults": {
           "arrowcolor": "#2a3f5f",
           "arrowhead": 0,
           "arrowwidth": 1
          },
          "autotypenumbers": "strict",
          "coloraxis": {
           "colorbar": {
            "outlinewidth": 0,
            "ticks": ""
           }
          },
          "colorscale": {
           "diverging": [
            [
             0,
             "#8e0152"
            ],
            [
             0.1,
             "#c51b7d"
            ],
            [
             0.2,
             "#de77ae"
            ],
            [
             0.3,
             "#f1b6da"
            ],
            [
             0.4,
             "#fde0ef"
            ],
            [
             0.5,
             "#f7f7f7"
            ],
            [
             0.6,
             "#e6f5d0"
            ],
            [
             0.7,
             "#b8e186"
            ],
            [
             0.8,
             "#7fbc41"
            ],
            [
             0.9,
             "#4d9221"
            ],
            [
             1,
             "#276419"
            ]
           ],
           "sequential": [
            [
             0,
             "#0d0887"
            ],
            [
             0.1111111111111111,
             "#46039f"
            ],
            [
             0.2222222222222222,
             "#7201a8"
            ],
            [
             0.3333333333333333,
             "#9c179e"
            ],
            [
             0.4444444444444444,
             "#bd3786"
            ],
            [
             0.5555555555555556,
             "#d8576b"
            ],
            [
             0.6666666666666666,
             "#ed7953"
            ],
            [
             0.7777777777777778,
             "#fb9f3a"
            ],
            [
             0.8888888888888888,
             "#fdca26"
            ],
            [
             1,
             "#f0f921"
            ]
           ],
           "sequentialminus": [
            [
             0,
             "#0d0887"
            ],
            [
             0.1111111111111111,
             "#46039f"
            ],
            [
             0.2222222222222222,
             "#7201a8"
            ],
            [
             0.3333333333333333,
             "#9c179e"
            ],
            [
             0.4444444444444444,
             "#bd3786"
            ],
            [
             0.5555555555555556,
             "#d8576b"
            ],
            [
             0.6666666666666666,
             "#ed7953"
            ],
            [
             0.7777777777777778,
             "#fb9f3a"
            ],
            [
             0.8888888888888888,
             "#fdca26"
            ],
            [
             1,
             "#f0f921"
            ]
           ]
          },
          "colorway": [
           "#636efa",
           "#EF553B",
           "#00cc96",
           "#ab63fa",
           "#FFA15A",
           "#19d3f3",
           "#FF6692",
           "#B6E880",
           "#FF97FF",
           "#FECB52"
          ],
          "font": {
           "color": "#2a3f5f"
          },
          "geo": {
           "bgcolor": "white",
           "lakecolor": "white",
           "landcolor": "#E5ECF6",
           "showlakes": true,
           "showland": true,
           "subunitcolor": "white"
          },
          "hoverlabel": {
           "align": "left"
          },
          "hovermode": "closest",
          "mapbox": {
           "style": "light"
          },
          "paper_bgcolor": "white",
          "plot_bgcolor": "#E5ECF6",
          "polar": {
           "angularaxis": {
            "gridcolor": "white",
            "linecolor": "white",
            "ticks": ""
           },
           "bgcolor": "#E5ECF6",
           "radialaxis": {
            "gridcolor": "white",
            "linecolor": "white",
            "ticks": ""
           }
          },
          "scene": {
           "xaxis": {
            "backgroundcolor": "#E5ECF6",
            "gridcolor": "white",
            "gridwidth": 2,
            "linecolor": "white",
            "showbackground": true,
            "ticks": "",
            "zerolinecolor": "white"
           },
           "yaxis": {
            "backgroundcolor": "#E5ECF6",
            "gridcolor": "white",
            "gridwidth": 2,
            "linecolor": "white",
            "showbackground": true,
            "ticks": "",
            "zerolinecolor": "white"
           },
           "zaxis": {
            "backgroundcolor": "#E5ECF6",
            "gridcolor": "white",
            "gridwidth": 2,
            "linecolor": "white",
            "showbackground": true,
            "ticks": "",
            "zerolinecolor": "white"
           }
          },
          "shapedefaults": {
           "line": {
            "color": "#2a3f5f"
           }
          },
          "ternary": {
           "aaxis": {
            "gridcolor": "white",
            "linecolor": "white",
            "ticks": ""
           },
           "baxis": {
            "gridcolor": "white",
            "linecolor": "white",
            "ticks": ""
           },
           "bgcolor": "#E5ECF6",
           "caxis": {
            "gridcolor": "white",
            "linecolor": "white",
            "ticks": ""
           }
          },
          "title": {
           "x": 0.05
          },
          "xaxis": {
           "automargin": true,
           "gridcolor": "white",
           "linecolor": "white",
           "ticks": "",
           "title": {
            "standoff": 15
           },
           "zerolinecolor": "white",
           "zerolinewidth": 2
          },
          "yaxis": {
           "automargin": true,
           "gridcolor": "white",
           "linecolor": "white",
           "ticks": "",
           "title": {
            "standoff": 15
           },
           "zerolinecolor": "white",
           "zerolinewidth": 2
          }
         }
        },
        "title": {
         "text": "Funnel"
        },
        "xaxis": {
         "anchor": "y",
         "domain": [
          0,
          1
         ],
         "title": {
          "text": "step"
         }
        },
        "yaxis": {
         "anchor": "x",
         "domain": [
          0,
          1
         ],
         "title": {
          "text": "cnts"
         }
        }
       }
      },
      "text/html": [
       "<div>                            <div id=\"f915d10e-a449-4f73-969d-048345bfb56e\" class=\"plotly-graph-div\" style=\"height:525px; width:100%;\"></div>            <script type=\"text/javascript\">                require([\"plotly\"], function(Plotly) {                    window.PLOTLYENV=window.PLOTLYENV || {};                                    if (document.getElementById(\"f915d10e-a449-4f73-969d-048345bfb56e\")) {                    Plotly.newPlot(                        \"f915d10e-a449-4f73-969d-048345bfb56e\",                        [{\"hovertemplate\":\"step=%{x}<br>cnts=%{y}<extra></extra>\",\"legendgroup\":\"\",\"marker\":{\"color\":\"#636efa\"},\"name\":\"\",\"orientation\":\"v\",\"showlegend\":false,\"x\":[\"se_inflowed\",\"se_joined\",\"se_cert_pv\",\"se_cert_done\",\"se_tax_calculation\",\"se_tax_check\",\"se_tax_result\"],\"xaxis\":\"x\",\"y\":[1899715,598172,304479,180434,148759,144110,73659],\"yaxis\":\"y\",\"type\":\"funnel\"}],                        {\"template\":{\"data\":{\"histogram2dcontour\":[{\"type\":\"histogram2dcontour\",\"colorbar\":{\"outlinewidth\":0,\"ticks\":\"\"},\"colorscale\":[[0.0,\"#0d0887\"],[0.1111111111111111,\"#46039f\"],[0.2222222222222222,\"#7201a8\"],[0.3333333333333333,\"#9c179e\"],[0.4444444444444444,\"#bd3786\"],[0.5555555555555556,\"#d8576b\"],[0.6666666666666666,\"#ed7953\"],[0.7777777777777778,\"#fb9f3a\"],[0.8888888888888888,\"#fdca26\"],[1.0,\"#f0f921\"]]}],\"choropleth\":[{\"type\":\"choropleth\",\"colorbar\":{\"outlinewidth\":0,\"ticks\":\"\"}}],\"histogram2d\":[{\"type\":\"histogram2d\",\"colorbar\":{\"outlinewidth\":0,\"ticks\":\"\"},\"colorscale\":[[0.0,\"#0d0887\"],[0.1111111111111111,\"#46039f\"],[0.2222222222222222,\"#7201a8\"],[0.3333333333333333,\"#9c179e\"],[0.4444444444444444,\"#bd3786\"],[0.5555555555555556,\"#d8576b\"],[0.6666666666666666,\"#ed7953\"],[0.7777777777777778,\"#fb9f3a\"],[0.8888888888888888,\"#fdca26\"],[1.0,\"#f0f921\"]]}],\"heatmap\":[{\"type\":\"heatmap\",\"colorbar\":{\"outlinewidth\":0,\"ticks\":\"\"},\"colorscale\":[[0.0,\"#0d0887\"],[0.1111111111111111,\"#46039f\"],[0.2222222222222222,\"#7201a8\"],[0.3333333333333333,\"#9c179e\"],[0.4444444444444444,\"#bd3786\"],[0.5555555555555556,\"#d8576b\"],[0.6666666666666666,\"#ed7953\"],[0.7777777777777778,\"#fb9f3a\"],[0.8888888888888888,\"#fdca26\"],[1.0,\"#f0f921\"]]}],\"heatmapgl\":[{\"type\":\"heatmapgl\",\"colorbar\":{\"outlinewidth\":0,\"ticks\":\"\"},\"colorscale\":[[0.0,\"#0d0887\"],[0.1111111111111111,\"#46039f\"],[0.2222222222222222,\"#7201a8\"],[0.3333333333333333,\"#9c179e\"],[0.4444444444444444,\"#bd3786\"],[0.5555555555555556,\"#d8576b\"],[0.6666666666666666,\"#ed7953\"],[0.7777777777777778,\"#fb9f3a\"],[0.8888888888888888,\"#fdca26\"],[1.0,\"#f0f921\"]]}],\"contourcarpet\":[{\"type\":\"contourcarpet\",\"colorbar\":{\"outlinewidth\":0,\"ticks\":\"\"}}],\"contour\":[{\"type\":\"contour\",\"colorbar\":{\"outlinewidth\":0,\"ticks\":\"\"},\"colorscale\":[[0.0,\"#0d0887\"],[0.1111111111111111,\"#46039f\"],[0.2222222222222222,\"#7201a8\"],[0.3333333333333333,\"#9c179e\"],[0.4444444444444444,\"#bd3786\"],[0.5555555555555556,\"#d8576b\"],[0.6666666666666666,\"#ed7953\"],[0.7777777777777778,\"#fb9f3a\"],[0.8888888888888888,\"#fdca26\"],[1.0,\"#f0f921\"]]}],\"surface\":[{\"type\":\"surface\",\"colorbar\":{\"outlinewidth\":0,\"ticks\":\"\"},\"colorscale\":[[0.0,\"#0d0887\"],[0.1111111111111111,\"#46039f\"],[0.2222222222222222,\"#7201a8\"],[0.3333333333333333,\"#9c179e\"],[0.4444444444444444,\"#bd3786\"],[0.5555555555555556,\"#d8576b\"],[0.6666666666666666,\"#ed7953\"],[0.7777777777777778,\"#fb9f3a\"],[0.8888888888888888,\"#fdca26\"],[1.0,\"#f0f921\"]]}],\"mesh3d\":[{\"type\":\"mesh3d\",\"colorbar\":{\"outlinewidth\":0,\"ticks\":\"\"}}],\"scatter\":[{\"fillpattern\":{\"fillmode\":\"overlay\",\"size\":10,\"solidity\":0.2},\"type\":\"scatter\"}],\"parcoords\":[{\"type\":\"parcoords\",\"line\":{\"colorbar\":{\"outlinewidth\":0,\"ticks\":\"\"}}}],\"scatterpolargl\":[{\"type\":\"scatterpolargl\",\"marker\":{\"colorbar\":{\"outlinewidth\":0,\"ticks\":\"\"}}}],\"bar\":[{\"error_x\":{\"color\":\"#2a3f5f\"},\"error_y\":{\"color\":\"#2a3f5f\"},\"marker\":{\"line\":{\"color\":\"#E5ECF6\",\"width\":0.5},\"pattern\":{\"fillmode\":\"overlay\",\"size\":10,\"solidity\":0.2}},\"type\":\"bar\"}],\"scattergeo\":[{\"type\":\"scattergeo\",\"marker\":{\"colorbar\":{\"outlinewidth\":0,\"ticks\":\"\"}}}],\"scatterpolar\":[{\"type\":\"scatterpolar\",\"marker\":{\"colorbar\":{\"outlinewidth\":0,\"ticks\":\"\"}}}],\"histogram\":[{\"marker\":{\"pattern\":{\"fillmode\":\"overlay\",\"size\":10,\"solidity\":0.2}},\"type\":\"histogram\"}],\"scattergl\":[{\"type\":\"scattergl\",\"marker\":{\"colorbar\":{\"outlinewidth\":0,\"ticks\":\"\"}}}],\"scatter3d\":[{\"type\":\"scatter3d\",\"line\":{\"colorbar\":{\"outlinewidth\":0,\"ticks\":\"\"}},\"marker\":{\"colorbar\":{\"outlinewidth\":0,\"ticks\":\"\"}}}],\"scattermapbox\":[{\"type\":\"scattermapbox\",\"marker\":{\"colorbar\":{\"outlinewidth\":0,\"ticks\":\"\"}}}],\"scatterternary\":[{\"type\":\"scatterternary\",\"marker\":{\"colorbar\":{\"outlinewidth\":0,\"ticks\":\"\"}}}],\"scattercarpet\":[{\"type\":\"scattercarpet\",\"marker\":{\"colorbar\":{\"outlinewidth\":0,\"ticks\":\"\"}}}],\"carpet\":[{\"aaxis\":{\"endlinecolor\":\"#2a3f5f\",\"gridcolor\":\"white\",\"linecolor\":\"white\",\"minorgridcolor\":\"white\",\"startlinecolor\":\"#2a3f5f\"},\"baxis\":{\"endlinecolor\":\"#2a3f5f\",\"gridcolor\":\"white\",\"linecolor\":\"white\",\"minorgridcolor\":\"white\",\"startlinecolor\":\"#2a3f5f\"},\"type\":\"carpet\"}],\"table\":[{\"cells\":{\"fill\":{\"color\":\"#EBF0F8\"},\"line\":{\"color\":\"white\"}},\"header\":{\"fill\":{\"color\":\"#C8D4E3\"},\"line\":{\"color\":\"white\"}},\"type\":\"table\"}],\"barpolar\":[{\"marker\":{\"line\":{\"color\":\"#E5ECF6\",\"width\":0.5},\"pattern\":{\"fillmode\":\"overlay\",\"size\":10,\"solidity\":0.2}},\"type\":\"barpolar\"}],\"pie\":[{\"automargin\":true,\"type\":\"pie\"}]},\"layout\":{\"autotypenumbers\":\"strict\",\"colorway\":[\"#636efa\",\"#EF553B\",\"#00cc96\",\"#ab63fa\",\"#FFA15A\",\"#19d3f3\",\"#FF6692\",\"#B6E880\",\"#FF97FF\",\"#FECB52\"],\"font\":{\"color\":\"#2a3f5f\"},\"hovermode\":\"closest\",\"hoverlabel\":{\"align\":\"left\"},\"paper_bgcolor\":\"white\",\"plot_bgcolor\":\"#E5ECF6\",\"polar\":{\"bgcolor\":\"#E5ECF6\",\"angularaxis\":{\"gridcolor\":\"white\",\"linecolor\":\"white\",\"ticks\":\"\"},\"radialaxis\":{\"gridcolor\":\"white\",\"linecolor\":\"white\",\"ticks\":\"\"}},\"ternary\":{\"bgcolor\":\"#E5ECF6\",\"aaxis\":{\"gridcolor\":\"white\",\"linecolor\":\"white\",\"ticks\":\"\"},\"baxis\":{\"gridcolor\":\"white\",\"linecolor\":\"white\",\"ticks\":\"\"},\"caxis\":{\"gridcolor\":\"white\",\"linecolor\":\"white\",\"ticks\":\"\"}},\"coloraxis\":{\"colorbar\":{\"outlinewidth\":0,\"ticks\":\"\"}},\"colorscale\":{\"sequential\":[[0.0,\"#0d0887\"],[0.1111111111111111,\"#46039f\"],[0.2222222222222222,\"#7201a8\"],[0.3333333333333333,\"#9c179e\"],[0.4444444444444444,\"#bd3786\"],[0.5555555555555556,\"#d8576b\"],[0.6666666666666666,\"#ed7953\"],[0.7777777777777778,\"#fb9f3a\"],[0.8888888888888888,\"#fdca26\"],[1.0,\"#f0f921\"]],\"sequentialminus\":[[0.0,\"#0d0887\"],[0.1111111111111111,\"#46039f\"],[0.2222222222222222,\"#7201a8\"],[0.3333333333333333,\"#9c179e\"],[0.4444444444444444,\"#bd3786\"],[0.5555555555555556,\"#d8576b\"],[0.6666666666666666,\"#ed7953\"],[0.7777777777777778,\"#fb9f3a\"],[0.8888888888888888,\"#fdca26\"],[1.0,\"#f0f921\"]],\"diverging\":[[0,\"#8e0152\"],[0.1,\"#c51b7d\"],[0.2,\"#de77ae\"],[0.3,\"#f1b6da\"],[0.4,\"#fde0ef\"],[0.5,\"#f7f7f7\"],[0.6,\"#e6f5d0\"],[0.7,\"#b8e186\"],[0.8,\"#7fbc41\"],[0.9,\"#4d9221\"],[1,\"#276419\"]]},\"xaxis\":{\"gridcolor\":\"white\",\"linecolor\":\"white\",\"ticks\":\"\",\"title\":{\"standoff\":15},\"zerolinecolor\":\"white\",\"automargin\":true,\"zerolinewidth\":2},\"yaxis\":{\"gridcolor\":\"white\",\"linecolor\":\"white\",\"ticks\":\"\",\"title\":{\"standoff\":15},\"zerolinecolor\":\"white\",\"automargin\":true,\"zerolinewidth\":2},\"scene\":{\"xaxis\":{\"backgroundcolor\":\"#E5ECF6\",\"gridcolor\":\"white\",\"linecolor\":\"white\",\"showbackground\":true,\"ticks\":\"\",\"zerolinecolor\":\"white\",\"gridwidth\":2},\"yaxis\":{\"backgroundcolor\":\"#E5ECF6\",\"gridcolor\":\"white\",\"linecolor\":\"white\",\"showbackground\":true,\"ticks\":\"\",\"zerolinecolor\":\"white\",\"gridwidth\":2},\"zaxis\":{\"backgroundcolor\":\"#E5ECF6\",\"gridcolor\":\"white\",\"linecolor\":\"white\",\"showbackground\":true,\"ticks\":\"\",\"zerolinecolor\":\"white\",\"gridwidth\":2}},\"shapedefaults\":{\"line\":{\"color\":\"#2a3f5f\"}},\"annotationdefaults\":{\"arrowcolor\":\"#2a3f5f\",\"arrowhead\":0,\"arrowwidth\":1},\"geo\":{\"bgcolor\":\"white\",\"landcolor\":\"#E5ECF6\",\"subunitcolor\":\"white\",\"showland\":true,\"showlakes\":true,\"lakecolor\":\"white\"},\"title\":{\"x\":0.05},\"mapbox\":{\"style\":\"light\"}}},\"xaxis\":{\"anchor\":\"y\",\"domain\":[0.0,1.0],\"title\":{\"text\":\"step\"}},\"yaxis\":{\"anchor\":\"x\",\"domain\":[0.0,1.0],\"title\":{\"text\":\"cnts\"}},\"legend\":{\"tracegroupgap\":0},\"title\":{\"text\":\"Funnel\"}},                        {\"responsive\": true}                    ).then(function(){\n",
       "                            \n",
       "var gd = document.getElementById('f915d10e-a449-4f73-969d-048345bfb56e');\n",
       "var x = new MutationObserver(function (mutations, observer) {{\n",
       "        var display = window.getComputedStyle(gd).display;\n",
       "        if (!display || display === 'none') {{\n",
       "            console.log([gd, 'removed!']);\n",
       "            Plotly.purge(gd);\n",
       "            observer.disconnect();\n",
       "        }}\n",
       "}});\n",
       "\n",
       "// Listen for the removal of the full notebook cells\n",
       "var notebookContainer = gd.closest('#notebook-container');\n",
       "if (notebookContainer) {{\n",
       "    x.observe(notebookContainer, {childList: true});\n",
       "}}\n",
       "\n",
       "// Listen for the clearing of the current output cell\n",
       "var outputEl = gd.closest('.output');\n",
       "if (outputEl) {{\n",
       "    x.observe(outputEl, {childList: true});\n",
       "}}\n",
       "\n",
       "                        })                };                });            </script>        </div>"
      ]
     },
     "metadata": {},
     "output_type": "display_data"
    }
   ],
   "source": [
    "\n",
    "fig = px.funnel(\n",
    "    data_frame = df_signup_raw_v1,\n",
    "    x = 'step',\n",
    "    y = 'cnts',\n",
    "    title = 'Funnel'\n",
    ")\n",
    "\n",
    "fig.show()"
   ]
  },
  {
   "cell_type": "code",
   "execution_count": 290,
   "metadata": {
    "colab": {
     "base_uri": "https://localhost:8080/",
     "height": 542
    },
    "id": "zVY4Z_6UFCoV",
    "outputId": "0e9e1fa3-606d-421f-feb3-86d44a193773"
   },
   "outputs": [
    {
     "data": {
      "application/vnd.plotly.v1+json": {
       "config": {
        "plotlyServerURL": "https://plot.ly"
       },
       "data": [
        {
         "hovertemplate": "cnts=%{x}<br>step=%{y}<extra></extra>",
         "legendgroup": "",
         "marker": {
          "color": "#636efa"
         },
         "name": "",
         "orientation": "h",
         "showlegend": false,
         "type": "funnel",
         "x": [
          1899715,
          598172,
          304479,
          180434,
          148759,
          144110,
          73659
         ],
         "xaxis": "x",
         "y": [
          "se_inflowed",
          "se_joined",
          "se_cert_pv",
          "se_cert_done",
          "se_tax_calculation",
          "se_tax_check",
          "se_tax_result"
         ],
         "yaxis": "y"
        }
       ],
       "layout": {
        "legend": {
         "tracegroupgap": 0
        },
        "template": {
         "data": {
          "bar": [
           {
            "error_x": {
             "color": "#2a3f5f"
            },
            "error_y": {
             "color": "#2a3f5f"
            },
            "marker": {
             "line": {
              "color": "#E5ECF6",
              "width": 0.5
             },
             "pattern": {
              "fillmode": "overlay",
              "size": 10,
              "solidity": 0.2
             }
            },
            "type": "bar"
           }
          ],
          "barpolar": [
           {
            "marker": {
             "line": {
              "color": "#E5ECF6",
              "width": 0.5
             },
             "pattern": {
              "fillmode": "overlay",
              "size": 10,
              "solidity": 0.2
             }
            },
            "type": "barpolar"
           }
          ],
          "carpet": [
           {
            "aaxis": {
             "endlinecolor": "#2a3f5f",
             "gridcolor": "white",
             "linecolor": "white",
             "minorgridcolor": "white",
             "startlinecolor": "#2a3f5f"
            },
            "baxis": {
             "endlinecolor": "#2a3f5f",
             "gridcolor": "white",
             "linecolor": "white",
             "minorgridcolor": "white",
             "startlinecolor": "#2a3f5f"
            },
            "type": "carpet"
           }
          ],
          "choropleth": [
           {
            "colorbar": {
             "outlinewidth": 0,
             "ticks": ""
            },
            "type": "choropleth"
           }
          ],
          "contour": [
           {
            "colorbar": {
             "outlinewidth": 0,
             "ticks": ""
            },
            "colorscale": [
             [
              0,
              "#0d0887"
             ],
             [
              0.1111111111111111,
              "#46039f"
             ],
             [
              0.2222222222222222,
              "#7201a8"
             ],
             [
              0.3333333333333333,
              "#9c179e"
             ],
             [
              0.4444444444444444,
              "#bd3786"
             ],
             [
              0.5555555555555556,
              "#d8576b"
             ],
             [
              0.6666666666666666,
              "#ed7953"
             ],
             [
              0.7777777777777778,
              "#fb9f3a"
             ],
             [
              0.8888888888888888,
              "#fdca26"
             ],
             [
              1,
              "#f0f921"
             ]
            ],
            "type": "contour"
           }
          ],
          "contourcarpet": [
           {
            "colorbar": {
             "outlinewidth": 0,
             "ticks": ""
            },
            "type": "contourcarpet"
           }
          ],
          "heatmap": [
           {
            "colorbar": {
             "outlinewidth": 0,
             "ticks": ""
            },
            "colorscale": [
             [
              0,
              "#0d0887"
             ],
             [
              0.1111111111111111,
              "#46039f"
             ],
             [
              0.2222222222222222,
              "#7201a8"
             ],
             [
              0.3333333333333333,
              "#9c179e"
             ],
             [
              0.4444444444444444,
              "#bd3786"
             ],
             [
              0.5555555555555556,
              "#d8576b"
             ],
             [
              0.6666666666666666,
              "#ed7953"
             ],
             [
              0.7777777777777778,
              "#fb9f3a"
             ],
             [
              0.8888888888888888,
              "#fdca26"
             ],
             [
              1,
              "#f0f921"
             ]
            ],
            "type": "heatmap"
           }
          ],
          "heatmapgl": [
           {
            "colorbar": {
             "outlinewidth": 0,
             "ticks": ""
            },
            "colorscale": [
             [
              0,
              "#0d0887"
             ],
             [
              0.1111111111111111,
              "#46039f"
             ],
             [
              0.2222222222222222,
              "#7201a8"
             ],
             [
              0.3333333333333333,
              "#9c179e"
             ],
             [
              0.4444444444444444,
              "#bd3786"
             ],
             [
              0.5555555555555556,
              "#d8576b"
             ],
             [
              0.6666666666666666,
              "#ed7953"
             ],
             [
              0.7777777777777778,
              "#fb9f3a"
             ],
             [
              0.8888888888888888,
              "#fdca26"
             ],
             [
              1,
              "#f0f921"
             ]
            ],
            "type": "heatmapgl"
           }
          ],
          "histogram": [
           {
            "marker": {
             "pattern": {
              "fillmode": "overlay",
              "size": 10,
              "solidity": 0.2
             }
            },
            "type": "histogram"
           }
          ],
          "histogram2d": [
           {
            "colorbar": {
             "outlinewidth": 0,
             "ticks": ""
            },
            "colorscale": [
             [
              0,
              "#0d0887"
             ],
             [
              0.1111111111111111,
              "#46039f"
             ],
             [
              0.2222222222222222,
              "#7201a8"
             ],
             [
              0.3333333333333333,
              "#9c179e"
             ],
             [
              0.4444444444444444,
              "#bd3786"
             ],
             [
              0.5555555555555556,
              "#d8576b"
             ],
             [
              0.6666666666666666,
              "#ed7953"
             ],
             [
              0.7777777777777778,
              "#fb9f3a"
             ],
             [
              0.8888888888888888,
              "#fdca26"
             ],
             [
              1,
              "#f0f921"
             ]
            ],
            "type": "histogram2d"
           }
          ],
          "histogram2dcontour": [
           {
            "colorbar": {
             "outlinewidth": 0,
             "ticks": ""
            },
            "colorscale": [
             [
              0,
              "#0d0887"
             ],
             [
              0.1111111111111111,
              "#46039f"
             ],
             [
              0.2222222222222222,
              "#7201a8"
             ],
             [
              0.3333333333333333,
              "#9c179e"
             ],
             [
              0.4444444444444444,
              "#bd3786"
             ],
             [
              0.5555555555555556,
              "#d8576b"
             ],
             [
              0.6666666666666666,
              "#ed7953"
             ],
             [
              0.7777777777777778,
              "#fb9f3a"
             ],
             [
              0.8888888888888888,
              "#fdca26"
             ],
             [
              1,
              "#f0f921"
             ]
            ],
            "type": "histogram2dcontour"
           }
          ],
          "mesh3d": [
           {
            "colorbar": {
             "outlinewidth": 0,
             "ticks": ""
            },
            "type": "mesh3d"
           }
          ],
          "parcoords": [
           {
            "line": {
             "colorbar": {
              "outlinewidth": 0,
              "ticks": ""
             }
            },
            "type": "parcoords"
           }
          ],
          "pie": [
           {
            "automargin": true,
            "type": "pie"
           }
          ],
          "scatter": [
           {
            "fillpattern": {
             "fillmode": "overlay",
             "size": 10,
             "solidity": 0.2
            },
            "type": "scatter"
           }
          ],
          "scatter3d": [
           {
            "line": {
             "colorbar": {
              "outlinewidth": 0,
              "ticks": ""
             }
            },
            "marker": {
             "colorbar": {
              "outlinewidth": 0,
              "ticks": ""
             }
            },
            "type": "scatter3d"
           }
          ],
          "scattercarpet": [
           {
            "marker": {
             "colorbar": {
              "outlinewidth": 0,
              "ticks": ""
             }
            },
            "type": "scattercarpet"
           }
          ],
          "scattergeo": [
           {
            "marker": {
             "colorbar": {
              "outlinewidth": 0,
              "ticks": ""
             }
            },
            "type": "scattergeo"
           }
          ],
          "scattergl": [
           {
            "marker": {
             "colorbar": {
              "outlinewidth": 0,
              "ticks": ""
             }
            },
            "type": "scattergl"
           }
          ],
          "scattermapbox": [
           {
            "marker": {
             "colorbar": {
              "outlinewidth": 0,
              "ticks": ""
             }
            },
            "type": "scattermapbox"
           }
          ],
          "scatterpolar": [
           {
            "marker": {
             "colorbar": {
              "outlinewidth": 0,
              "ticks": ""
             }
            },
            "type": "scatterpolar"
           }
          ],
          "scatterpolargl": [
           {
            "marker": {
             "colorbar": {
              "outlinewidth": 0,
              "ticks": ""
             }
            },
            "type": "scatterpolargl"
           }
          ],
          "scatterternary": [
           {
            "marker": {
             "colorbar": {
              "outlinewidth": 0,
              "ticks": ""
             }
            },
            "type": "scatterternary"
           }
          ],
          "surface": [
           {
            "colorbar": {
             "outlinewidth": 0,
             "ticks": ""
            },
            "colorscale": [
             [
              0,
              "#0d0887"
             ],
             [
              0.1111111111111111,
              "#46039f"
             ],
             [
              0.2222222222222222,
              "#7201a8"
             ],
             [
              0.3333333333333333,
              "#9c179e"
             ],
             [
              0.4444444444444444,
              "#bd3786"
             ],
             [
              0.5555555555555556,
              "#d8576b"
             ],
             [
              0.6666666666666666,
              "#ed7953"
             ],
             [
              0.7777777777777778,
              "#fb9f3a"
             ],
             [
              0.8888888888888888,
              "#fdca26"
             ],
             [
              1,
              "#f0f921"
             ]
            ],
            "type": "surface"
           }
          ],
          "table": [
           {
            "cells": {
             "fill": {
              "color": "#EBF0F8"
             },
             "line": {
              "color": "white"
             }
            },
            "header": {
             "fill": {
              "color": "#C8D4E3"
             },
             "line": {
              "color": "white"
             }
            },
            "type": "table"
           }
          ]
         },
         "layout": {
          "annotationdefaults": {
           "arrowcolor": "#2a3f5f",
           "arrowhead": 0,
           "arrowwidth": 1
          },
          "autotypenumbers": "strict",
          "coloraxis": {
           "colorbar": {
            "outlinewidth": 0,
            "ticks": ""
           }
          },
          "colorscale": {
           "diverging": [
            [
             0,
             "#8e0152"
            ],
            [
             0.1,
             "#c51b7d"
            ],
            [
             0.2,
             "#de77ae"
            ],
            [
             0.3,
             "#f1b6da"
            ],
            [
             0.4,
             "#fde0ef"
            ],
            [
             0.5,
             "#f7f7f7"
            ],
            [
             0.6,
             "#e6f5d0"
            ],
            [
             0.7,
             "#b8e186"
            ],
            [
             0.8,
             "#7fbc41"
            ],
            [
             0.9,
             "#4d9221"
            ],
            [
             1,
             "#276419"
            ]
           ],
           "sequential": [
            [
             0,
             "#0d0887"
            ],
            [
             0.1111111111111111,
             "#46039f"
            ],
            [
             0.2222222222222222,
             "#7201a8"
            ],
            [
             0.3333333333333333,
             "#9c179e"
            ],
            [
             0.4444444444444444,
             "#bd3786"
            ],
            [
             0.5555555555555556,
             "#d8576b"
            ],
            [
             0.6666666666666666,
             "#ed7953"
            ],
            [
             0.7777777777777778,
             "#fb9f3a"
            ],
            [
             0.8888888888888888,
             "#fdca26"
            ],
            [
             1,
             "#f0f921"
            ]
           ],
           "sequentialminus": [
            [
             0,
             "#0d0887"
            ],
            [
             0.1111111111111111,
             "#46039f"
            ],
            [
             0.2222222222222222,
             "#7201a8"
            ],
            [
             0.3333333333333333,
             "#9c179e"
            ],
            [
             0.4444444444444444,
             "#bd3786"
            ],
            [
             0.5555555555555556,
             "#d8576b"
            ],
            [
             0.6666666666666666,
             "#ed7953"
            ],
            [
             0.7777777777777778,
             "#fb9f3a"
            ],
            [
             0.8888888888888888,
             "#fdca26"
            ],
            [
             1,
             "#f0f921"
            ]
           ]
          },
          "colorway": [
           "#636efa",
           "#EF553B",
           "#00cc96",
           "#ab63fa",
           "#FFA15A",
           "#19d3f3",
           "#FF6692",
           "#B6E880",
           "#FF97FF",
           "#FECB52"
          ],
          "font": {
           "color": "#2a3f5f"
          },
          "geo": {
           "bgcolor": "white",
           "lakecolor": "white",
           "landcolor": "#E5ECF6",
           "showlakes": true,
           "showland": true,
           "subunitcolor": "white"
          },
          "hoverlabel": {
           "align": "left"
          },
          "hovermode": "closest",
          "mapbox": {
           "style": "light"
          },
          "paper_bgcolor": "white",
          "plot_bgcolor": "#E5ECF6",
          "polar": {
           "angularaxis": {
            "gridcolor": "white",
            "linecolor": "white",
            "ticks": ""
           },
           "bgcolor": "#E5ECF6",
           "radialaxis": {
            "gridcolor": "white",
            "linecolor": "white",
            "ticks": ""
           }
          },
          "scene": {
           "xaxis": {
            "backgroundcolor": "#E5ECF6",
            "gridcolor": "white",
            "gridwidth": 2,
            "linecolor": "white",
            "showbackground": true,
            "ticks": "",
            "zerolinecolor": "white"
           },
           "yaxis": {
            "backgroundcolor": "#E5ECF6",
            "gridcolor": "white",
            "gridwidth": 2,
            "linecolor": "white",
            "showbackground": true,
            "ticks": "",
            "zerolinecolor": "white"
           },
           "zaxis": {
            "backgroundcolor": "#E5ECF6",
            "gridcolor": "white",
            "gridwidth": 2,
            "linecolor": "white",
            "showbackground": true,
            "ticks": "",
            "zerolinecolor": "white"
           }
          },
          "shapedefaults": {
           "line": {
            "color": "#2a3f5f"
           }
          },
          "ternary": {
           "aaxis": {
            "gridcolor": "white",
            "linecolor": "white",
            "ticks": ""
           },
           "baxis": {
            "gridcolor": "white",
            "linecolor": "white",
            "ticks": ""
           },
           "bgcolor": "#E5ECF6",
           "caxis": {
            "gridcolor": "white",
            "linecolor": "white",
            "ticks": ""
           }
          },
          "title": {
           "x": 0.05
          },
          "xaxis": {
           "automargin": true,
           "gridcolor": "white",
           "linecolor": "white",
           "ticks": "",
           "title": {
            "standoff": 15
           },
           "zerolinecolor": "white",
           "zerolinewidth": 2
          },
          "yaxis": {
           "automargin": true,
           "gridcolor": "white",
           "linecolor": "white",
           "ticks": "",
           "title": {
            "standoff": 15
           },
           "zerolinecolor": "white",
           "zerolinewidth": 2
          }
         }
        },
        "title": {
         "text": "Funnel"
        },
        "xaxis": {
         "anchor": "y",
         "domain": [
          0,
          1
         ],
         "title": {
          "text": "cnts"
         }
        },
        "yaxis": {
         "anchor": "x",
         "domain": [
          0,
          1
         ],
         "title": {
          "text": "step"
         }
        }
       }
      },
      "text/html": [
       "<div>                            <div id=\"71e70763-de39-4736-bb1d-85799068931c\" class=\"plotly-graph-div\" style=\"height:525px; width:100%;\"></div>            <script type=\"text/javascript\">                require([\"plotly\"], function(Plotly) {                    window.PLOTLYENV=window.PLOTLYENV || {};                                    if (document.getElementById(\"71e70763-de39-4736-bb1d-85799068931c\")) {                    Plotly.newPlot(                        \"71e70763-de39-4736-bb1d-85799068931c\",                        [{\"hovertemplate\":\"cnts=%{x}<br>step=%{y}<extra></extra>\",\"legendgroup\":\"\",\"marker\":{\"color\":\"#636efa\"},\"name\":\"\",\"orientation\":\"h\",\"showlegend\":false,\"x\":[1899715,598172,304479,180434,148759,144110,73659],\"xaxis\":\"x\",\"y\":[\"se_inflowed\",\"se_joined\",\"se_cert_pv\",\"se_cert_done\",\"se_tax_calculation\",\"se_tax_check\",\"se_tax_result\"],\"yaxis\":\"y\",\"type\":\"funnel\"}],                        {\"template\":{\"data\":{\"histogram2dcontour\":[{\"type\":\"histogram2dcontour\",\"colorbar\":{\"outlinewidth\":0,\"ticks\":\"\"},\"colorscale\":[[0.0,\"#0d0887\"],[0.1111111111111111,\"#46039f\"],[0.2222222222222222,\"#7201a8\"],[0.3333333333333333,\"#9c179e\"],[0.4444444444444444,\"#bd3786\"],[0.5555555555555556,\"#d8576b\"],[0.6666666666666666,\"#ed7953\"],[0.7777777777777778,\"#fb9f3a\"],[0.8888888888888888,\"#fdca26\"],[1.0,\"#f0f921\"]]}],\"choropleth\":[{\"type\":\"choropleth\",\"colorbar\":{\"outlinewidth\":0,\"ticks\":\"\"}}],\"histogram2d\":[{\"type\":\"histogram2d\",\"colorbar\":{\"outlinewidth\":0,\"ticks\":\"\"},\"colorscale\":[[0.0,\"#0d0887\"],[0.1111111111111111,\"#46039f\"],[0.2222222222222222,\"#7201a8\"],[0.3333333333333333,\"#9c179e\"],[0.4444444444444444,\"#bd3786\"],[0.5555555555555556,\"#d8576b\"],[0.6666666666666666,\"#ed7953\"],[0.7777777777777778,\"#fb9f3a\"],[0.8888888888888888,\"#fdca26\"],[1.0,\"#f0f921\"]]}],\"heatmap\":[{\"type\":\"heatmap\",\"colorbar\":{\"outlinewidth\":0,\"ticks\":\"\"},\"colorscale\":[[0.0,\"#0d0887\"],[0.1111111111111111,\"#46039f\"],[0.2222222222222222,\"#7201a8\"],[0.3333333333333333,\"#9c179e\"],[0.4444444444444444,\"#bd3786\"],[0.5555555555555556,\"#d8576b\"],[0.6666666666666666,\"#ed7953\"],[0.7777777777777778,\"#fb9f3a\"],[0.8888888888888888,\"#fdca26\"],[1.0,\"#f0f921\"]]}],\"heatmapgl\":[{\"type\":\"heatmapgl\",\"colorbar\":{\"outlinewidth\":0,\"ticks\":\"\"},\"colorscale\":[[0.0,\"#0d0887\"],[0.1111111111111111,\"#46039f\"],[0.2222222222222222,\"#7201a8\"],[0.3333333333333333,\"#9c179e\"],[0.4444444444444444,\"#bd3786\"],[0.5555555555555556,\"#d8576b\"],[0.6666666666666666,\"#ed7953\"],[0.7777777777777778,\"#fb9f3a\"],[0.8888888888888888,\"#fdca26\"],[1.0,\"#f0f921\"]]}],\"contourcarpet\":[{\"type\":\"contourcarpet\",\"colorbar\":{\"outlinewidth\":0,\"ticks\":\"\"}}],\"contour\":[{\"type\":\"contour\",\"colorbar\":{\"outlinewidth\":0,\"ticks\":\"\"},\"colorscale\":[[0.0,\"#0d0887\"],[0.1111111111111111,\"#46039f\"],[0.2222222222222222,\"#7201a8\"],[0.3333333333333333,\"#9c179e\"],[0.4444444444444444,\"#bd3786\"],[0.5555555555555556,\"#d8576b\"],[0.6666666666666666,\"#ed7953\"],[0.7777777777777778,\"#fb9f3a\"],[0.8888888888888888,\"#fdca26\"],[1.0,\"#f0f921\"]]}],\"surface\":[{\"type\":\"surface\",\"colorbar\":{\"outlinewidth\":0,\"ticks\":\"\"},\"colorscale\":[[0.0,\"#0d0887\"],[0.1111111111111111,\"#46039f\"],[0.2222222222222222,\"#7201a8\"],[0.3333333333333333,\"#9c179e\"],[0.4444444444444444,\"#bd3786\"],[0.5555555555555556,\"#d8576b\"],[0.6666666666666666,\"#ed7953\"],[0.7777777777777778,\"#fb9f3a\"],[0.8888888888888888,\"#fdca26\"],[1.0,\"#f0f921\"]]}],\"mesh3d\":[{\"type\":\"mesh3d\",\"colorbar\":{\"outlinewidth\":0,\"ticks\":\"\"}}],\"scatter\":[{\"fillpattern\":{\"fillmode\":\"overlay\",\"size\":10,\"solidity\":0.2},\"type\":\"scatter\"}],\"parcoords\":[{\"type\":\"parcoords\",\"line\":{\"colorbar\":{\"outlinewidth\":0,\"ticks\":\"\"}}}],\"scatterpolargl\":[{\"type\":\"scatterpolargl\",\"marker\":{\"colorbar\":{\"outlinewidth\":0,\"ticks\":\"\"}}}],\"bar\":[{\"error_x\":{\"color\":\"#2a3f5f\"},\"error_y\":{\"color\":\"#2a3f5f\"},\"marker\":{\"line\":{\"color\":\"#E5ECF6\",\"width\":0.5},\"pattern\":{\"fillmode\":\"overlay\",\"size\":10,\"solidity\":0.2}},\"type\":\"bar\"}],\"scattergeo\":[{\"type\":\"scattergeo\",\"marker\":{\"colorbar\":{\"outlinewidth\":0,\"ticks\":\"\"}}}],\"scatterpolar\":[{\"type\":\"scatterpolar\",\"marker\":{\"colorbar\":{\"outlinewidth\":0,\"ticks\":\"\"}}}],\"histogram\":[{\"marker\":{\"pattern\":{\"fillmode\":\"overlay\",\"size\":10,\"solidity\":0.2}},\"type\":\"histogram\"}],\"scattergl\":[{\"type\":\"scattergl\",\"marker\":{\"colorbar\":{\"outlinewidth\":0,\"ticks\":\"\"}}}],\"scatter3d\":[{\"type\":\"scatter3d\",\"line\":{\"colorbar\":{\"outlinewidth\":0,\"ticks\":\"\"}},\"marker\":{\"colorbar\":{\"outlinewidth\":0,\"ticks\":\"\"}}}],\"scattermapbox\":[{\"type\":\"scattermapbox\",\"marker\":{\"colorbar\":{\"outlinewidth\":0,\"ticks\":\"\"}}}],\"scatterternary\":[{\"type\":\"scatterternary\",\"marker\":{\"colorbar\":{\"outlinewidth\":0,\"ticks\":\"\"}}}],\"scattercarpet\":[{\"type\":\"scattercarpet\",\"marker\":{\"colorbar\":{\"outlinewidth\":0,\"ticks\":\"\"}}}],\"carpet\":[{\"aaxis\":{\"endlinecolor\":\"#2a3f5f\",\"gridcolor\":\"white\",\"linecolor\":\"white\",\"minorgridcolor\":\"white\",\"startlinecolor\":\"#2a3f5f\"},\"baxis\":{\"endlinecolor\":\"#2a3f5f\",\"gridcolor\":\"white\",\"linecolor\":\"white\",\"minorgridcolor\":\"white\",\"startlinecolor\":\"#2a3f5f\"},\"type\":\"carpet\"}],\"table\":[{\"cells\":{\"fill\":{\"color\":\"#EBF0F8\"},\"line\":{\"color\":\"white\"}},\"header\":{\"fill\":{\"color\":\"#C8D4E3\"},\"line\":{\"color\":\"white\"}},\"type\":\"table\"}],\"barpolar\":[{\"marker\":{\"line\":{\"color\":\"#E5ECF6\",\"width\":0.5},\"pattern\":{\"fillmode\":\"overlay\",\"size\":10,\"solidity\":0.2}},\"type\":\"barpolar\"}],\"pie\":[{\"automargin\":true,\"type\":\"pie\"}]},\"layout\":{\"autotypenumbers\":\"strict\",\"colorway\":[\"#636efa\",\"#EF553B\",\"#00cc96\",\"#ab63fa\",\"#FFA15A\",\"#19d3f3\",\"#FF6692\",\"#B6E880\",\"#FF97FF\",\"#FECB52\"],\"font\":{\"color\":\"#2a3f5f\"},\"hovermode\":\"closest\",\"hoverlabel\":{\"align\":\"left\"},\"paper_bgcolor\":\"white\",\"plot_bgcolor\":\"#E5ECF6\",\"polar\":{\"bgcolor\":\"#E5ECF6\",\"angularaxis\":{\"gridcolor\":\"white\",\"linecolor\":\"white\",\"ticks\":\"\"},\"radialaxis\":{\"gridcolor\":\"white\",\"linecolor\":\"white\",\"ticks\":\"\"}},\"ternary\":{\"bgcolor\":\"#E5ECF6\",\"aaxis\":{\"gridcolor\":\"white\",\"linecolor\":\"white\",\"ticks\":\"\"},\"baxis\":{\"gridcolor\":\"white\",\"linecolor\":\"white\",\"ticks\":\"\"},\"caxis\":{\"gridcolor\":\"white\",\"linecolor\":\"white\",\"ticks\":\"\"}},\"coloraxis\":{\"colorbar\":{\"outlinewidth\":0,\"ticks\":\"\"}},\"colorscale\":{\"sequential\":[[0.0,\"#0d0887\"],[0.1111111111111111,\"#46039f\"],[0.2222222222222222,\"#7201a8\"],[0.3333333333333333,\"#9c179e\"],[0.4444444444444444,\"#bd3786\"],[0.5555555555555556,\"#d8576b\"],[0.6666666666666666,\"#ed7953\"],[0.7777777777777778,\"#fb9f3a\"],[0.8888888888888888,\"#fdca26\"],[1.0,\"#f0f921\"]],\"sequentialminus\":[[0.0,\"#0d0887\"],[0.1111111111111111,\"#46039f\"],[0.2222222222222222,\"#7201a8\"],[0.3333333333333333,\"#9c179e\"],[0.4444444444444444,\"#bd3786\"],[0.5555555555555556,\"#d8576b\"],[0.6666666666666666,\"#ed7953\"],[0.7777777777777778,\"#fb9f3a\"],[0.8888888888888888,\"#fdca26\"],[1.0,\"#f0f921\"]],\"diverging\":[[0,\"#8e0152\"],[0.1,\"#c51b7d\"],[0.2,\"#de77ae\"],[0.3,\"#f1b6da\"],[0.4,\"#fde0ef\"],[0.5,\"#f7f7f7\"],[0.6,\"#e6f5d0\"],[0.7,\"#b8e186\"],[0.8,\"#7fbc41\"],[0.9,\"#4d9221\"],[1,\"#276419\"]]},\"xaxis\":{\"gridcolor\":\"white\",\"linecolor\":\"white\",\"ticks\":\"\",\"title\":{\"standoff\":15},\"zerolinecolor\":\"white\",\"automargin\":true,\"zerolinewidth\":2},\"yaxis\":{\"gridcolor\":\"white\",\"linecolor\":\"white\",\"ticks\":\"\",\"title\":{\"standoff\":15},\"zerolinecolor\":\"white\",\"automargin\":true,\"zerolinewidth\":2},\"scene\":{\"xaxis\":{\"backgroundcolor\":\"#E5ECF6\",\"gridcolor\":\"white\",\"linecolor\":\"white\",\"showbackground\":true,\"ticks\":\"\",\"zerolinecolor\":\"white\",\"gridwidth\":2},\"yaxis\":{\"backgroundcolor\":\"#E5ECF6\",\"gridcolor\":\"white\",\"linecolor\":\"white\",\"showbackground\":true,\"ticks\":\"\",\"zerolinecolor\":\"white\",\"gridwidth\":2},\"zaxis\":{\"backgroundcolor\":\"#E5ECF6\",\"gridcolor\":\"white\",\"linecolor\":\"white\",\"showbackground\":true,\"ticks\":\"\",\"zerolinecolor\":\"white\",\"gridwidth\":2}},\"shapedefaults\":{\"line\":{\"color\":\"#2a3f5f\"}},\"annotationdefaults\":{\"arrowcolor\":\"#2a3f5f\",\"arrowhead\":0,\"arrowwidth\":1},\"geo\":{\"bgcolor\":\"white\",\"landcolor\":\"#E5ECF6\",\"subunitcolor\":\"white\",\"showland\":true,\"showlakes\":true,\"lakecolor\":\"white\"},\"title\":{\"x\":0.05},\"mapbox\":{\"style\":\"light\"}}},\"xaxis\":{\"anchor\":\"y\",\"domain\":[0.0,1.0],\"title\":{\"text\":\"cnts\"}},\"yaxis\":{\"anchor\":\"x\",\"domain\":[0.0,1.0],\"title\":{\"text\":\"step\"}},\"legend\":{\"tracegroupgap\":0},\"title\":{\"text\":\"Funnel\"}},                        {\"responsive\": true}                    ).then(function(){\n",
       "                            \n",
       "var gd = document.getElementById('71e70763-de39-4736-bb1d-85799068931c');\n",
       "var x = new MutationObserver(function (mutations, observer) {{\n",
       "        var display = window.getComputedStyle(gd).display;\n",
       "        if (!display || display === 'none') {{\n",
       "            console.log([gd, 'removed!']);\n",
       "            Plotly.purge(gd);\n",
       "            observer.disconnect();\n",
       "        }}\n",
       "}});\n",
       "\n",
       "// Listen for the removal of the full notebook cells\n",
       "var notebookContainer = gd.closest('#notebook-container');\n",
       "if (notebookContainer) {{\n",
       "    x.observe(notebookContainer, {childList: true});\n",
       "}}\n",
       "\n",
       "// Listen for the clearing of the current output cell\n",
       "var outputEl = gd.closest('.output');\n",
       "if (outputEl) {{\n",
       "    x.observe(outputEl, {childList: true});\n",
       "}}\n",
       "\n",
       "                        })                };                });            </script>        </div>"
      ]
     },
     "metadata": {},
     "output_type": "display_data"
    }
   ],
   "source": [
    "fig = px.funnel(\n",
    "    data_frame = df_signup_raw_v1,\n",
    "    y = 'step',\n",
    "    x = 'cnts',\n",
    "    title = 'Funnel'\n",
    ")\n",
    "\n",
    "fig.show()"
   ]
  },
  {
   "cell_type": "code",
   "execution_count": 291,
   "metadata": {
    "colab": {
     "base_uri": "https://localhost:8080/",
     "height": 269
    },
    "id": "NMHHi9GyM7tC",
    "outputId": "2b013593-b247-4ae1-aa80-553f6cd05a9f"
   },
   "outputs": [
    {
     "data": {
      "text/html": [
       "<div>\n",
       "<style scoped>\n",
       "    .dataframe tbody tr th:only-of-type {\n",
       "        vertical-align: middle;\n",
       "    }\n",
       "\n",
       "    .dataframe tbody tr th {\n",
       "        vertical-align: top;\n",
       "    }\n",
       "\n",
       "    .dataframe thead th {\n",
       "        text-align: right;\n",
       "    }\n",
       "</style>\n",
       "<table border=\"1\" class=\"dataframe\">\n",
       "  <thead>\n",
       "    <tr style=\"text-align: right;\">\n",
       "      <th></th>\n",
       "      <th>step</th>\n",
       "      <th>cnts</th>\n",
       "    </tr>\n",
       "  </thead>\n",
       "  <tbody>\n",
       "    <tr>\n",
       "      <th>0</th>\n",
       "      <td>se_inflowed</td>\n",
       "      <td>1899715</td>\n",
       "    </tr>\n",
       "    <tr>\n",
       "      <th>1</th>\n",
       "      <td>se_joined</td>\n",
       "      <td>598172</td>\n",
       "    </tr>\n",
       "    <tr>\n",
       "      <th>2</th>\n",
       "      <td>se_cert_pv</td>\n",
       "      <td>304479</td>\n",
       "    </tr>\n",
       "    <tr>\n",
       "      <th>3</th>\n",
       "      <td>se_cert_done</td>\n",
       "      <td>180434</td>\n",
       "    </tr>\n",
       "    <tr>\n",
       "      <th>4</th>\n",
       "      <td>se_tax_calculation</td>\n",
       "      <td>148759</td>\n",
       "    </tr>\n",
       "    <tr>\n",
       "      <th>5</th>\n",
       "      <td>se_tax_check</td>\n",
       "      <td>144110</td>\n",
       "    </tr>\n",
       "    <tr>\n",
       "      <th>6</th>\n",
       "      <td>se_tax_result</td>\n",
       "      <td>73659</td>\n",
       "    </tr>\n",
       "  </tbody>\n",
       "</table>\n",
       "</div>"
      ],
      "text/plain": [
       "                 step     cnts\n",
       "0         se_inflowed  1899715\n",
       "1           se_joined   598172\n",
       "2          se_cert_pv   304479\n",
       "3        se_cert_done   180434\n",
       "4  se_tax_calculation   148759\n",
       "5        se_tax_check   144110\n",
       "6       se_tax_result    73659"
      ]
     },
     "execution_count": 291,
     "metadata": {},
     "output_type": "execute_result"
    }
   ],
   "source": [
    "# 누적 전환율 계산\n",
    "df_signup_raw_v1"
   ]
  },
  {
   "cell_type": "code",
   "execution_count": 292,
   "metadata": {
    "colab": {
     "base_uri": "https://localhost:8080/"
    },
    "id": "xvDoyIfyutpl",
    "outputId": "8f3bc8c2-8706-435f-98d7-ffa461e5c674"
   },
   "outputs": [
    {
     "name": "stdout",
     "output_type": "stream",
     "text": [
      "Wall time: 1.99 ms\n"
     ]
    }
   ],
   "source": [
    "%%time\n",
    "# 분모 컬럼 생성 방법 세 가지\n",
    "# 분모 컬럼 생성 방법 1. 가장 단순한 방법: 바로, 1899715를 복사하여 컬럼을 생성해 주기\n",
    "df_signup_raw_v1['value_1'] = 1899715\n",
    "df_signup_raw_v1['stacked_conversion'] = df_signup_raw_v1['cnts']/df_signup_raw_v1['value_1']"
   ]
  },
  {
   "cell_type": "code",
   "execution_count": 293,
   "metadata": {
    "colab": {
     "base_uri": "https://localhost:8080/",
     "height": 269
    },
    "id": "9aPRQendNDSl",
    "outputId": "795eb3ab-26d1-47d8-890f-adedb84297e1"
   },
   "outputs": [
    {
     "data": {
      "text/html": [
       "<div>\n",
       "<style scoped>\n",
       "    .dataframe tbody tr th:only-of-type {\n",
       "        vertical-align: middle;\n",
       "    }\n",
       "\n",
       "    .dataframe tbody tr th {\n",
       "        vertical-align: top;\n",
       "    }\n",
       "\n",
       "    .dataframe thead th {\n",
       "        text-align: right;\n",
       "    }\n",
       "</style>\n",
       "<table border=\"1\" class=\"dataframe\">\n",
       "  <thead>\n",
       "    <tr style=\"text-align: right;\">\n",
       "      <th></th>\n",
       "      <th>step</th>\n",
       "      <th>cnts</th>\n",
       "      <th>value_1</th>\n",
       "      <th>stacked_conversion</th>\n",
       "    </tr>\n",
       "  </thead>\n",
       "  <tbody>\n",
       "    <tr>\n",
       "      <th>0</th>\n",
       "      <td>se_inflowed</td>\n",
       "      <td>1899715</td>\n",
       "      <td>1899715</td>\n",
       "      <td>1.000000</td>\n",
       "    </tr>\n",
       "    <tr>\n",
       "      <th>1</th>\n",
       "      <td>se_joined</td>\n",
       "      <td>598172</td>\n",
       "      <td>1899715</td>\n",
       "      <td>0.314875</td>\n",
       "    </tr>\n",
       "    <tr>\n",
       "      <th>2</th>\n",
       "      <td>se_cert_pv</td>\n",
       "      <td>304479</td>\n",
       "      <td>1899715</td>\n",
       "      <td>0.160276</td>\n",
       "    </tr>\n",
       "    <tr>\n",
       "      <th>3</th>\n",
       "      <td>se_cert_done</td>\n",
       "      <td>180434</td>\n",
       "      <td>1899715</td>\n",
       "      <td>0.094980</td>\n",
       "    </tr>\n",
       "    <tr>\n",
       "      <th>4</th>\n",
       "      <td>se_tax_calculation</td>\n",
       "      <td>148759</td>\n",
       "      <td>1899715</td>\n",
       "      <td>0.078306</td>\n",
       "    </tr>\n",
       "    <tr>\n",
       "      <th>5</th>\n",
       "      <td>se_tax_check</td>\n",
       "      <td>144110</td>\n",
       "      <td>1899715</td>\n",
       "      <td>0.075859</td>\n",
       "    </tr>\n",
       "    <tr>\n",
       "      <th>6</th>\n",
       "      <td>se_tax_result</td>\n",
       "      <td>73659</td>\n",
       "      <td>1899715</td>\n",
       "      <td>0.038774</td>\n",
       "    </tr>\n",
       "  </tbody>\n",
       "</table>\n",
       "</div>"
      ],
      "text/plain": [
       "                 step     cnts  value_1  stacked_conversion\n",
       "0         se_inflowed  1899715  1899715            1.000000\n",
       "1           se_joined   598172  1899715            0.314875\n",
       "2          se_cert_pv   304479  1899715            0.160276\n",
       "3        se_cert_done   180434  1899715            0.094980\n",
       "4  se_tax_calculation   148759  1899715            0.078306\n",
       "5        se_tax_check   144110  1899715            0.075859\n",
       "6       se_tax_result    73659  1899715            0.038774"
      ]
     },
     "execution_count": 293,
     "metadata": {},
     "output_type": "execute_result"
    }
   ],
   "source": [
    "df_signup_raw_v1"
   ]
  },
  {
   "cell_type": "code",
   "execution_count": 294,
   "metadata": {
    "colab": {
     "base_uri": "https://localhost:8080/"
    },
    "id": "GgrPoGrYvIQ-",
    "outputId": "0b69351f-93fb-41cd-9133-f720d3d027fc"
   },
   "outputs": [
    {
     "name": "stdout",
     "output_type": "stream",
     "text": [
      "Wall time: 7.98 ms\n"
     ]
    }
   ],
   "source": [
    "%%time\n",
    "# 누적 전환율 계산\n",
    "# 분모 컬럼 생성 방법 2. event log 집계 수 중, 가장 큰 값으로\n",
    "# 누적 전환율이기에 분모로 들어갈 수는 당연히 가장 큰 수 일것이라는 ( 합리적인 ) 기대 == 전환율은 1을 넘어갈 수 없을 것이라는 기대\n",
    "\n",
    "df_signup_raw_v1['basic'] = 1\n",
    "df_signup_raw_v1['value_2'] = df_signup_raw_v1.groupby(['basic'])['cnts'].transform('max')"
   ]
  },
  {
   "cell_type": "code",
   "execution_count": 295,
   "metadata": {
    "colab": {
     "base_uri": "https://localhost:8080/",
     "height": 269
    },
    "id": "gLv0YAWSvIPG",
    "outputId": "18f11a60-0150-4281-9d35-ba53fd68fae6"
   },
   "outputs": [
    {
     "data": {
      "text/html": [
       "<div>\n",
       "<style scoped>\n",
       "    .dataframe tbody tr th:only-of-type {\n",
       "        vertical-align: middle;\n",
       "    }\n",
       "\n",
       "    .dataframe tbody tr th {\n",
       "        vertical-align: top;\n",
       "    }\n",
       "\n",
       "    .dataframe thead th {\n",
       "        text-align: right;\n",
       "    }\n",
       "</style>\n",
       "<table border=\"1\" class=\"dataframe\">\n",
       "  <thead>\n",
       "    <tr style=\"text-align: right;\">\n",
       "      <th></th>\n",
       "      <th>step</th>\n",
       "      <th>cnts</th>\n",
       "      <th>value_1</th>\n",
       "      <th>stacked_conversion</th>\n",
       "      <th>basic</th>\n",
       "      <th>value_2</th>\n",
       "    </tr>\n",
       "  </thead>\n",
       "  <tbody>\n",
       "    <tr>\n",
       "      <th>0</th>\n",
       "      <td>se_inflowed</td>\n",
       "      <td>1899715</td>\n",
       "      <td>1899715</td>\n",
       "      <td>1.000000</td>\n",
       "      <td>1</td>\n",
       "      <td>1899715</td>\n",
       "    </tr>\n",
       "    <tr>\n",
       "      <th>1</th>\n",
       "      <td>se_joined</td>\n",
       "      <td>598172</td>\n",
       "      <td>1899715</td>\n",
       "      <td>0.314875</td>\n",
       "      <td>1</td>\n",
       "      <td>1899715</td>\n",
       "    </tr>\n",
       "    <tr>\n",
       "      <th>2</th>\n",
       "      <td>se_cert_pv</td>\n",
       "      <td>304479</td>\n",
       "      <td>1899715</td>\n",
       "      <td>0.160276</td>\n",
       "      <td>1</td>\n",
       "      <td>1899715</td>\n",
       "    </tr>\n",
       "    <tr>\n",
       "      <th>3</th>\n",
       "      <td>se_cert_done</td>\n",
       "      <td>180434</td>\n",
       "      <td>1899715</td>\n",
       "      <td>0.094980</td>\n",
       "      <td>1</td>\n",
       "      <td>1899715</td>\n",
       "    </tr>\n",
       "    <tr>\n",
       "      <th>4</th>\n",
       "      <td>se_tax_calculation</td>\n",
       "      <td>148759</td>\n",
       "      <td>1899715</td>\n",
       "      <td>0.078306</td>\n",
       "      <td>1</td>\n",
       "      <td>1899715</td>\n",
       "    </tr>\n",
       "    <tr>\n",
       "      <th>5</th>\n",
       "      <td>se_tax_check</td>\n",
       "      <td>144110</td>\n",
       "      <td>1899715</td>\n",
       "      <td>0.075859</td>\n",
       "      <td>1</td>\n",
       "      <td>1899715</td>\n",
       "    </tr>\n",
       "    <tr>\n",
       "      <th>6</th>\n",
       "      <td>se_tax_result</td>\n",
       "      <td>73659</td>\n",
       "      <td>1899715</td>\n",
       "      <td>0.038774</td>\n",
       "      <td>1</td>\n",
       "      <td>1899715</td>\n",
       "    </tr>\n",
       "  </tbody>\n",
       "</table>\n",
       "</div>"
      ],
      "text/plain": [
       "                 step     cnts  value_1  stacked_conversion  basic  value_2\n",
       "0         se_inflowed  1899715  1899715            1.000000      1  1899715\n",
       "1           se_joined   598172  1899715            0.314875      1  1899715\n",
       "2          se_cert_pv   304479  1899715            0.160276      1  1899715\n",
       "3        se_cert_done   180434  1899715            0.094980      1  1899715\n",
       "4  se_tax_calculation   148759  1899715            0.078306      1  1899715\n",
       "5        se_tax_check   144110  1899715            0.075859      1  1899715\n",
       "6       se_tax_result    73659  1899715            0.038774      1  1899715"
      ]
     },
     "execution_count": 295,
     "metadata": {},
     "output_type": "execute_result"
    }
   ],
   "source": [
    "df_signup_raw_v1"
   ]
  },
  {
   "cell_type": "code",
   "execution_count": 296,
   "metadata": {
    "id": "YYOnbzwnxZkx"
   },
   "outputs": [],
   "source": [
    "# TMI\n",
    "# transform 응용"
   ]
  },
  {
   "cell_type": "code",
   "execution_count": 297,
   "metadata": {
    "colab": {
     "base_uri": "https://localhost:8080/",
     "height": 269
    },
    "id": "lS0u3WYmxJMQ",
    "outputId": "043e9ff8-6fd6-4b00-b1fb-5b0a6adb826b"
   },
   "outputs": [
    {
     "data": {
      "text/html": [
       "<div>\n",
       "<style scoped>\n",
       "    .dataframe tbody tr th:only-of-type {\n",
       "        vertical-align: middle;\n",
       "    }\n",
       "\n",
       "    .dataframe tbody tr th {\n",
       "        vertical-align: top;\n",
       "    }\n",
       "\n",
       "    .dataframe thead th {\n",
       "        text-align: right;\n",
       "    }\n",
       "</style>\n",
       "<table border=\"1\" class=\"dataframe\">\n",
       "  <thead>\n",
       "    <tr style=\"text-align: right;\">\n",
       "      <th></th>\n",
       "      <th>step</th>\n",
       "      <th>cnts</th>\n",
       "      <th>value_1</th>\n",
       "      <th>stacked_conversion</th>\n",
       "      <th>basic</th>\n",
       "      <th>value_2</th>\n",
       "      <th>partition</th>\n",
       "    </tr>\n",
       "  </thead>\n",
       "  <tbody>\n",
       "    <tr>\n",
       "      <th>0</th>\n",
       "      <td>se_inflowed</td>\n",
       "      <td>1899715</td>\n",
       "      <td>1899715</td>\n",
       "      <td>1.000000</td>\n",
       "      <td>1</td>\n",
       "      <td>1899715</td>\n",
       "      <td>A</td>\n",
       "    </tr>\n",
       "    <tr>\n",
       "      <th>1</th>\n",
       "      <td>se_joined</td>\n",
       "      <td>598172</td>\n",
       "      <td>1899715</td>\n",
       "      <td>0.314875</td>\n",
       "      <td>1</td>\n",
       "      <td>1899715</td>\n",
       "      <td>A</td>\n",
       "    </tr>\n",
       "    <tr>\n",
       "      <th>2</th>\n",
       "      <td>se_cert_pv</td>\n",
       "      <td>304479</td>\n",
       "      <td>1899715</td>\n",
       "      <td>0.160276</td>\n",
       "      <td>1</td>\n",
       "      <td>1899715</td>\n",
       "      <td>A</td>\n",
       "    </tr>\n",
       "    <tr>\n",
       "      <th>3</th>\n",
       "      <td>se_cert_done</td>\n",
       "      <td>180434</td>\n",
       "      <td>1899715</td>\n",
       "      <td>0.094980</td>\n",
       "      <td>1</td>\n",
       "      <td>1899715</td>\n",
       "      <td>A</td>\n",
       "    </tr>\n",
       "    <tr>\n",
       "      <th>4</th>\n",
       "      <td>se_tax_calculation</td>\n",
       "      <td>148759</td>\n",
       "      <td>1899715</td>\n",
       "      <td>0.078306</td>\n",
       "      <td>1</td>\n",
       "      <td>1899715</td>\n",
       "      <td>B</td>\n",
       "    </tr>\n",
       "    <tr>\n",
       "      <th>5</th>\n",
       "      <td>se_tax_check</td>\n",
       "      <td>144110</td>\n",
       "      <td>1899715</td>\n",
       "      <td>0.075859</td>\n",
       "      <td>1</td>\n",
       "      <td>1899715</td>\n",
       "      <td>B</td>\n",
       "    </tr>\n",
       "    <tr>\n",
       "      <th>6</th>\n",
       "      <td>se_tax_result</td>\n",
       "      <td>73659</td>\n",
       "      <td>1899715</td>\n",
       "      <td>0.038774</td>\n",
       "      <td>1</td>\n",
       "      <td>1899715</td>\n",
       "      <td>B</td>\n",
       "    </tr>\n",
       "  </tbody>\n",
       "</table>\n",
       "</div>"
      ],
      "text/plain": [
       "                 step     cnts  value_1  stacked_conversion  basic  value_2  \\\n",
       "0         se_inflowed  1899715  1899715            1.000000      1  1899715   \n",
       "1           se_joined   598172  1899715            0.314875      1  1899715   \n",
       "2          se_cert_pv   304479  1899715            0.160276      1  1899715   \n",
       "3        se_cert_done   180434  1899715            0.094980      1  1899715   \n",
       "4  se_tax_calculation   148759  1899715            0.078306      1  1899715   \n",
       "5        se_tax_check   144110  1899715            0.075859      1  1899715   \n",
       "6       se_tax_result    73659  1899715            0.038774      1  1899715   \n",
       "\n",
       "  partition  \n",
       "0         A  \n",
       "1         A  \n",
       "2         A  \n",
       "3         A  \n",
       "4         B  \n",
       "5         B  \n",
       "6         B  "
      ]
     },
     "execution_count": 297,
     "metadata": {},
     "output_type": "execute_result"
    }
   ],
   "source": [
    "df_signup_raw_v1['partition'] = ['A', 'A', 'A', 'A', 'B', 'B', 'B']\n",
    "df_signup_raw_v1"
   ]
  },
  {
   "cell_type": "code",
   "execution_count": 298,
   "metadata": {
    "colab": {
     "base_uri": "https://localhost:8080/",
     "height": 269
    },
    "id": "Q0ZEGddYxLx8",
    "outputId": "b7dd27b2-254d-489c-ee48-c9cbb18388b0"
   },
   "outputs": [
    {
     "data": {
      "text/html": [
       "<div>\n",
       "<style scoped>\n",
       "    .dataframe tbody tr th:only-of-type {\n",
       "        vertical-align: middle;\n",
       "    }\n",
       "\n",
       "    .dataframe tbody tr th {\n",
       "        vertical-align: top;\n",
       "    }\n",
       "\n",
       "    .dataframe thead th {\n",
       "        text-align: right;\n",
       "    }\n",
       "</style>\n",
       "<table border=\"1\" class=\"dataframe\">\n",
       "  <thead>\n",
       "    <tr style=\"text-align: right;\">\n",
       "      <th></th>\n",
       "      <th>step</th>\n",
       "      <th>cnts</th>\n",
       "      <th>value_1</th>\n",
       "      <th>stacked_conversion</th>\n",
       "      <th>basic</th>\n",
       "      <th>value_2</th>\n",
       "      <th>partition</th>\n",
       "      <th>partition_sum</th>\n",
       "      <th>partition_min</th>\n",
       "      <th>partition_max</th>\n",
       "      <th>partition_mean</th>\n",
       "    </tr>\n",
       "  </thead>\n",
       "  <tbody>\n",
       "    <tr>\n",
       "      <th>0</th>\n",
       "      <td>se_inflowed</td>\n",
       "      <td>1899715</td>\n",
       "      <td>1899715</td>\n",
       "      <td>1.000000</td>\n",
       "      <td>1</td>\n",
       "      <td>1899715</td>\n",
       "      <td>A</td>\n",
       "      <td>2982800</td>\n",
       "      <td>180434</td>\n",
       "      <td>1899715</td>\n",
       "      <td>745700.0</td>\n",
       "    </tr>\n",
       "    <tr>\n",
       "      <th>1</th>\n",
       "      <td>se_joined</td>\n",
       "      <td>598172</td>\n",
       "      <td>1899715</td>\n",
       "      <td>0.314875</td>\n",
       "      <td>1</td>\n",
       "      <td>1899715</td>\n",
       "      <td>A</td>\n",
       "      <td>2982800</td>\n",
       "      <td>180434</td>\n",
       "      <td>1899715</td>\n",
       "      <td>745700.0</td>\n",
       "    </tr>\n",
       "    <tr>\n",
       "      <th>2</th>\n",
       "      <td>se_cert_pv</td>\n",
       "      <td>304479</td>\n",
       "      <td>1899715</td>\n",
       "      <td>0.160276</td>\n",
       "      <td>1</td>\n",
       "      <td>1899715</td>\n",
       "      <td>A</td>\n",
       "      <td>2982800</td>\n",
       "      <td>180434</td>\n",
       "      <td>1899715</td>\n",
       "      <td>745700.0</td>\n",
       "    </tr>\n",
       "    <tr>\n",
       "      <th>3</th>\n",
       "      <td>se_cert_done</td>\n",
       "      <td>180434</td>\n",
       "      <td>1899715</td>\n",
       "      <td>0.094980</td>\n",
       "      <td>1</td>\n",
       "      <td>1899715</td>\n",
       "      <td>A</td>\n",
       "      <td>2982800</td>\n",
       "      <td>180434</td>\n",
       "      <td>1899715</td>\n",
       "      <td>745700.0</td>\n",
       "    </tr>\n",
       "    <tr>\n",
       "      <th>4</th>\n",
       "      <td>se_tax_calculation</td>\n",
       "      <td>148759</td>\n",
       "      <td>1899715</td>\n",
       "      <td>0.078306</td>\n",
       "      <td>1</td>\n",
       "      <td>1899715</td>\n",
       "      <td>B</td>\n",
       "      <td>366528</td>\n",
       "      <td>73659</td>\n",
       "      <td>148759</td>\n",
       "      <td>122176.0</td>\n",
       "    </tr>\n",
       "    <tr>\n",
       "      <th>5</th>\n",
       "      <td>se_tax_check</td>\n",
       "      <td>144110</td>\n",
       "      <td>1899715</td>\n",
       "      <td>0.075859</td>\n",
       "      <td>1</td>\n",
       "      <td>1899715</td>\n",
       "      <td>B</td>\n",
       "      <td>366528</td>\n",
       "      <td>73659</td>\n",
       "      <td>148759</td>\n",
       "      <td>122176.0</td>\n",
       "    </tr>\n",
       "    <tr>\n",
       "      <th>6</th>\n",
       "      <td>se_tax_result</td>\n",
       "      <td>73659</td>\n",
       "      <td>1899715</td>\n",
       "      <td>0.038774</td>\n",
       "      <td>1</td>\n",
       "      <td>1899715</td>\n",
       "      <td>B</td>\n",
       "      <td>366528</td>\n",
       "      <td>73659</td>\n",
       "      <td>148759</td>\n",
       "      <td>122176.0</td>\n",
       "    </tr>\n",
       "  </tbody>\n",
       "</table>\n",
       "</div>"
      ],
      "text/plain": [
       "                 step     cnts  value_1  stacked_conversion  basic  value_2  \\\n",
       "0         se_inflowed  1899715  1899715            1.000000      1  1899715   \n",
       "1           se_joined   598172  1899715            0.314875      1  1899715   \n",
       "2          se_cert_pv   304479  1899715            0.160276      1  1899715   \n",
       "3        se_cert_done   180434  1899715            0.094980      1  1899715   \n",
       "4  se_tax_calculation   148759  1899715            0.078306      1  1899715   \n",
       "5        se_tax_check   144110  1899715            0.075859      1  1899715   \n",
       "6       se_tax_result    73659  1899715            0.038774      1  1899715   \n",
       "\n",
       "  partition  partition_sum  partition_min  partition_max  partition_mean  \n",
       "0         A        2982800         180434        1899715        745700.0  \n",
       "1         A        2982800         180434        1899715        745700.0  \n",
       "2         A        2982800         180434        1899715        745700.0  \n",
       "3         A        2982800         180434        1899715        745700.0  \n",
       "4         B         366528          73659         148759        122176.0  \n",
       "5         B         366528          73659         148759        122176.0  \n",
       "6         B         366528          73659         148759        122176.0  "
      ]
     },
     "execution_count": 298,
     "metadata": {},
     "output_type": "execute_result"
    }
   ],
   "source": [
    "df_signup_raw_v1['partition_sum'] = df_signup_raw_v1.groupby(['partition'])['cnts'].transform('sum')\n",
    "df_signup_raw_v1['partition_min'] = df_signup_raw_v1.groupby(['partition'])['cnts'].transform('min')\n",
    "df_signup_raw_v1['partition_max'] = df_signup_raw_v1.groupby(['partition'])['cnts'].transform('max')\n",
    "df_signup_raw_v1['partition_mean'] = df_signup_raw_v1.groupby(['partition'])['cnts'].transform('mean')\n",
    "df_signup_raw_v1"
   ]
  },
  {
   "cell_type": "code",
   "execution_count": 299,
   "metadata": {
    "colab": {
     "base_uri": "https://localhost:8080/"
    },
    "id": "9Tag0SBgxLrR",
    "outputId": "50e73139-cd0f-4eb4-d18c-8683302ba6e6"
   },
   "outputs": [
    {
     "data": {
      "text/plain": [
       "366528"
      ]
     },
     "execution_count": 299,
     "metadata": {},
     "output_type": "execute_result"
    }
   ],
   "source": [
    "148759 + 144110 + 73659"
   ]
  },
  {
   "cell_type": "code",
   "execution_count": 300,
   "metadata": {
    "id": "vFIG6M6LxLoA"
   },
   "outputs": [],
   "source": [
    "### TMI 끝\n",
    "df_signup_raw_v1.drop(['partition', 'partition_sum', 'partition_max', 'partition_min', 'partition_mean'], axis = 1, inplace = True)"
   ]
  },
  {
   "cell_type": "code",
   "execution_count": 301,
   "metadata": {
    "colab": {
     "base_uri": "https://localhost:8080/"
    },
    "id": "G_a5cKUMvILq",
    "outputId": "ec438205-b8ef-493e-e0ef-1a01e5691974"
   },
   "outputs": [
    {
     "name": "stdout",
     "output_type": "stream",
     "text": [
      "Wall time: 996 µs\n"
     ]
    }
   ],
   "source": [
    "%%time\n",
    "# 누적 전환율 계산\n",
    "# 분모 컬럼 생성 방법 3. 위치로 찾기: 행렬 원소 위치처럼( 0, 0 )에서 시작\n",
    "df_signup_raw_v1['value_3'] = df_signup_raw_v1.iloc[0, 1]"
   ]
  },
  {
   "cell_type": "code",
   "execution_count": 302,
   "metadata": {
    "colab": {
     "base_uri": "https://localhost:8080/",
     "height": 269
    },
    "id": "mt3htu9uyNc6",
    "outputId": "88673535-8ddf-43f3-f30c-c61510aacb1d"
   },
   "outputs": [
    {
     "data": {
      "text/html": [
       "<div>\n",
       "<style scoped>\n",
       "    .dataframe tbody tr th:only-of-type {\n",
       "        vertical-align: middle;\n",
       "    }\n",
       "\n",
       "    .dataframe tbody tr th {\n",
       "        vertical-align: top;\n",
       "    }\n",
       "\n",
       "    .dataframe thead th {\n",
       "        text-align: right;\n",
       "    }\n",
       "</style>\n",
       "<table border=\"1\" class=\"dataframe\">\n",
       "  <thead>\n",
       "    <tr style=\"text-align: right;\">\n",
       "      <th></th>\n",
       "      <th>step</th>\n",
       "      <th>cnts</th>\n",
       "      <th>value_1</th>\n",
       "      <th>stacked_conversion</th>\n",
       "      <th>basic</th>\n",
       "      <th>value_2</th>\n",
       "      <th>value_3</th>\n",
       "    </tr>\n",
       "  </thead>\n",
       "  <tbody>\n",
       "    <tr>\n",
       "      <th>0</th>\n",
       "      <td>se_inflowed</td>\n",
       "      <td>1899715</td>\n",
       "      <td>1899715</td>\n",
       "      <td>1.000000</td>\n",
       "      <td>1</td>\n",
       "      <td>1899715</td>\n",
       "      <td>1899715</td>\n",
       "    </tr>\n",
       "    <tr>\n",
       "      <th>1</th>\n",
       "      <td>se_joined</td>\n",
       "      <td>598172</td>\n",
       "      <td>1899715</td>\n",
       "      <td>0.314875</td>\n",
       "      <td>1</td>\n",
       "      <td>1899715</td>\n",
       "      <td>1899715</td>\n",
       "    </tr>\n",
       "    <tr>\n",
       "      <th>2</th>\n",
       "      <td>se_cert_pv</td>\n",
       "      <td>304479</td>\n",
       "      <td>1899715</td>\n",
       "      <td>0.160276</td>\n",
       "      <td>1</td>\n",
       "      <td>1899715</td>\n",
       "      <td>1899715</td>\n",
       "    </tr>\n",
       "    <tr>\n",
       "      <th>3</th>\n",
       "      <td>se_cert_done</td>\n",
       "      <td>180434</td>\n",
       "      <td>1899715</td>\n",
       "      <td>0.094980</td>\n",
       "      <td>1</td>\n",
       "      <td>1899715</td>\n",
       "      <td>1899715</td>\n",
       "    </tr>\n",
       "    <tr>\n",
       "      <th>4</th>\n",
       "      <td>se_tax_calculation</td>\n",
       "      <td>148759</td>\n",
       "      <td>1899715</td>\n",
       "      <td>0.078306</td>\n",
       "      <td>1</td>\n",
       "      <td>1899715</td>\n",
       "      <td>1899715</td>\n",
       "    </tr>\n",
       "    <tr>\n",
       "      <th>5</th>\n",
       "      <td>se_tax_check</td>\n",
       "      <td>144110</td>\n",
       "      <td>1899715</td>\n",
       "      <td>0.075859</td>\n",
       "      <td>1</td>\n",
       "      <td>1899715</td>\n",
       "      <td>1899715</td>\n",
       "    </tr>\n",
       "    <tr>\n",
       "      <th>6</th>\n",
       "      <td>se_tax_result</td>\n",
       "      <td>73659</td>\n",
       "      <td>1899715</td>\n",
       "      <td>0.038774</td>\n",
       "      <td>1</td>\n",
       "      <td>1899715</td>\n",
       "      <td>1899715</td>\n",
       "    </tr>\n",
       "  </tbody>\n",
       "</table>\n",
       "</div>"
      ],
      "text/plain": [
       "                 step     cnts  value_1  stacked_conversion  basic  value_2  \\\n",
       "0         se_inflowed  1899715  1899715            1.000000      1  1899715   \n",
       "1           se_joined   598172  1899715            0.314875      1  1899715   \n",
       "2          se_cert_pv   304479  1899715            0.160276      1  1899715   \n",
       "3        se_cert_done   180434  1899715            0.094980      1  1899715   \n",
       "4  se_tax_calculation   148759  1899715            0.078306      1  1899715   \n",
       "5        se_tax_check   144110  1899715            0.075859      1  1899715   \n",
       "6       se_tax_result    73659  1899715            0.038774      1  1899715   \n",
       "\n",
       "   value_3  \n",
       "0  1899715  \n",
       "1  1899715  \n",
       "2  1899715  \n",
       "3  1899715  \n",
       "4  1899715  \n",
       "5  1899715  \n",
       "6  1899715  "
      ]
     },
     "execution_count": 302,
     "metadata": {},
     "output_type": "execute_result"
    }
   ],
   "source": [
    "df_signup_raw_v1"
   ]
  },
  {
   "cell_type": "code",
   "execution_count": 303,
   "metadata": {
    "colab": {
     "base_uri": "https://localhost:8080/"
    },
    "id": "rI1WFqCiuthw",
    "outputId": "13520bea-a76d-49bd-d567-71a035b85c8e"
   },
   "outputs": [
    {
     "name": "stdout",
     "output_type": "stream",
     "text": [
      "<class 'pandas.core.frame.DataFrame'>\n",
      "RangeIndex: 7 entries, 0 to 6\n",
      "Data columns (total 7 columns):\n",
      " #   Column              Non-Null Count  Dtype  \n",
      "---  ------              --------------  -----  \n",
      " 0   step                7 non-null      object \n",
      " 1   cnts                7 non-null      int32  \n",
      " 2   value_1             7 non-null      int64  \n",
      " 3   stacked_conversion  7 non-null      float64\n",
      " 4   basic               7 non-null      int64  \n",
      " 5   value_2             7 non-null      int32  \n",
      " 6   value_3             7 non-null      int32  \n",
      "dtypes: float64(1), int32(3), int64(2), object(1)\n",
      "memory usage: 436.0+ bytes\n"
     ]
    }
   ],
   "source": [
    "df_signup_raw_v1.info()"
   ]
  },
  {
   "cell_type": "code",
   "execution_count": 304,
   "metadata": {
    "colab": {
     "base_uri": "https://localhost:8080/",
     "height": 426
    },
    "id": "QbmqtH4CwRwc",
    "outputId": "9e810ff2-3434-460c-ac08-b9f854163a7b"
   },
   "outputs": [
    {
     "data": {
      "image/png": "[encoded data removed]",
      "text/plain": [
       "<Figure size 1728x432 with 1 Axes>"
      ]
     },
     "metadata": {
      "needs_background": "light"
     },
     "output_type": "display_data"
    },
    {
     "name": "stdout",
     "output_type": "stream",
     "text": [
      "Wall time: 318 ms\n"
     ]
    }
   ],
   "source": [
    "%%time\n",
    "# 누적전환율 시각화( bar )\n",
    "fig, ax = plt.subplots(nrows = 1, ncols = 1, figsize = (24, 6))\n",
    "\n",
    "sns.barplot(\n",
    "    data = df_signup_raw_v1,\n",
    "    x = 'step',\n",
    "    y = 'stacked_conversion'\n",
    ")\n",
    "\n",
    "plt.show()"
   ]
  },
  {
   "cell_type": "code",
   "execution_count": 305,
   "metadata": {
    "id": "XOmIrvTUyZkc"
   },
   "outputs": [],
   "source": [
    "### funnel스러운 차트 다시 한번"
   ]
  },
  {
   "cell_type": "code",
   "execution_count": 306,
   "metadata": {
    "colab": {
     "base_uri": "https://localhost:8080/",
     "height": 542
    },
    "id": "8QcJaT6CO4XI",
    "outputId": "f20da61f-08de-44b9-c80d-f226a49d8561"
   },
   "outputs": [
    {
     "data": {
      "application/vnd.plotly.v1+json": {
       "config": {
        "plotlyServerURL": "https://plot.ly"
       },
       "data": [
        {
         "hovertemplate": "step=%{x}<br>stacked_conversion=%{y}<extra></extra>",
         "legendgroup": "",
         "marker": {
          "color": "#636efa"
         },
         "name": "",
         "orientation": "v",
         "showlegend": false,
         "type": "funnel",
         "x": [
          "se_inflowed",
          "se_joined",
          "se_cert_pv",
          "se_cert_done",
          "se_tax_calculation",
          "se_tax_check",
          "se_tax_result"
         ],
         "xaxis": "x",
         "y": [
          1,
          0.3148745996109943,
          0.16027614668516066,
          0.0949795100844074,
          0.07830595641977875,
          0.0758587472331376,
          0.038773710793461126
         ],
         "yaxis": "y"
        }
       ],
       "layout": {
        "legend": {
         "tracegroupgap": 0
        },
        "margin": {
         "t": 60
        },
        "template": {
         "data": {
          "bar": [
           {
            "error_x": {
             "color": "#2a3f5f"
            },
            "error_y": {
             "color": "#2a3f5f"
            },
            "marker": {
             "line": {
              "color": "#E5ECF6",
              "width": 0.5
             },
             "pattern": {
              "fillmode": "overlay",
              "size": 10,
              "solidity": 0.2
             }
            },
            "type": "bar"
           }
          ],
          "barpolar": [
           {
            "marker": {
             "line": {
              "color": "#E5ECF6",
              "width": 0.5
             },
             "pattern": {
              "fillmode": "overlay",
              "size": 10,
              "solidity": 0.2
             }
            },
            "type": "barpolar"
           }
          ],
          "carpet": [
           {
            "aaxis": {
             "endlinecolor": "#2a3f5f",
             "gridcolor": "white",
             "linecolor": "white",
             "minorgridcolor": "white",
             "startlinecolor": "#2a3f5f"
            },
            "baxis": {
             "endlinecolor": "#2a3f5f",
             "gridcolor": "white",
             "linecolor": "white",
             "minorgridcolor": "white",
             "startlinecolor": "#2a3f5f"
            },
            "type": "carpet"
           }
          ],
          "choropleth": [
           {
            "colorbar": {
             "outlinewidth": 0,
             "ticks": ""
            },
            "type": "choropleth"
           }
          ],
          "contour": [
           {
            "colorbar": {
             "outlinewidth": 0,
             "ticks": ""
            },
            "colorscale": [
             [
              0,
              "#0d0887"
             ],
             [
              0.1111111111111111,
              "#46039f"
             ],
             [
              0.2222222222222222,
              "#7201a8"
             ],
             [
              0.3333333333333333,
              "#9c179e"
             ],
             [
              0.4444444444444444,
              "#bd3786"
             ],
             [
              0.5555555555555556,
              "#d8576b"
             ],
             [
              0.6666666666666666,
              "#ed7953"
             ],
             [
              0.7777777777777778,
              "#fb9f3a"
             ],
             [
              0.8888888888888888,
              "#fdca26"
             ],
             [
              1,
              "#f0f921"
             ]
            ],
            "type": "contour"
           }
          ],
          "contourcarpet": [
           {
            "colorbar": {
             "outlinewidth": 0,
             "ticks": ""
            },
            "type": "contourcarpet"
           }
          ],
          "heatmap": [
           {
            "colorbar": {
             "outlinewidth": 0,
             "ticks": ""
            },
            "colorscale": [
             [
              0,
              "#0d0887"
             ],
             [
              0.1111111111111111,
              "#46039f"
             ],
             [
              0.2222222222222222,
              "#7201a8"
             ],
             [
              0.3333333333333333,
              "#9c179e"
             ],
             [
              0.4444444444444444,
              "#bd3786"
             ],
             [
              0.5555555555555556,
              "#d8576b"
             ],
             [
              0.6666666666666666,
              "#ed7953"
             ],
             [
              0.7777777777777778,
              "#fb9f3a"
             ],
             [
              0.8888888888888888,
              "#fdca26"
             ],
             [
              1,
              "#f0f921"
             ]
            ],
            "type": "heatmap"
           }
          ],
          "heatmapgl": [
           {
            "colorbar": {
             "outlinewidth": 0,
             "ticks": ""
            },
            "colorscale": [
             [
              0,
              "#0d0887"
             ],
             [
              0.1111111111111111,
              "#46039f"
             ],
             [
              0.2222222222222222,
              "#7201a8"
             ],
             [
              0.3333333333333333,
              "#9c179e"
             ],
             [
              0.4444444444444444,
              "#bd3786"
             ],
             [
              0.5555555555555556,
              "#d8576b"
             ],
             [
              0.6666666666666666,
              "#ed7953"
             ],
             [
              0.7777777777777778,
              "#fb9f3a"
             ],
             [
              0.8888888888888888,
              "#fdca26"
             ],
             [
              1,
              "#f0f921"
             ]
            ],
            "type": "heatmapgl"
           }
          ],
          "histogram": [
           {
            "marker": {
             "pattern": {
              "fillmode": "overlay",
              "size": 10,
              "solidity": 0.2
             }
            },
            "type": "histogram"
           }
          ],
          "histogram2d": [
           {
            "colorbar": {
             "outlinewidth": 0,
             "ticks": ""
            },
            "colorscale": [
             [
              0,
              "#0d0887"
             ],
             [
              0.1111111111111111,
              "#46039f"
             ],
             [
              0.2222222222222222,
              "#7201a8"
             ],
             [
              0.3333333333333333,
              "#9c179e"
             ],
             [
              0.4444444444444444,
              "#bd3786"
             ],
             [
              0.5555555555555556,
              "#d8576b"
             ],
             [
              0.6666666666666666,
              "#ed7953"
             ],
             [
              0.7777777777777778,
              "#fb9f3a"
             ],
             [
              0.8888888888888888,
              "#fdca26"
             ],
             [
              1,
              "#f0f921"
             ]
            ],
            "type": "histogram2d"
           }
          ],
          "histogram2dcontour": [
           {
            "colorbar": {
             "outlinewidth": 0,
             "ticks": ""
            },
            "colorscale": [
             [
              0,
              "#0d0887"
             ],
             [
              0.1111111111111111,
              "#46039f"
             ],
             [
              0.2222222222222222,
              "#7201a8"
             ],
             [
              0.3333333333333333,
              "#9c179e"
             ],
             [
              0.4444444444444444,
              "#bd3786"
             ],
             [
              0.5555555555555556,
              "#d8576b"
             ],
             [
              0.6666666666666666,
              "#ed7953"
             ],
             [
              0.7777777777777778,
              "#fb9f3a"
             ],
             [
              0.8888888888888888,
              "#fdca26"
             ],
             [
              1,
              "#f0f921"
             ]
            ],
            "type": "histogram2dcontour"
           }
          ],
          "mesh3d": [
           {
            "colorbar": {
             "outlinewidth": 0,
             "ticks": ""
            },
            "type": "mesh3d"
           }
          ],
          "parcoords": [
           {
            "line": {
             "colorbar": {
              "outlinewidth": 0,
              "ticks": ""
             }
            },
            "type": "parcoords"
           }
          ],
          "pie": [
           {
            "automargin": true,
            "type": "pie"
           }
          ],
          "scatter": [
           {
            "fillpattern": {
             "fillmode": "overlay",
             "size": 10,
             "solidity": 0.2
            },
            "type": "scatter"
           }
          ],
          "scatter3d": [
           {
            "line": {
             "colorbar": {
              "outlinewidth": 0,
              "ticks": ""
             }
            },
            "marker": {
             "colorbar": {
              "outlinewidth": 0,
              "ticks": ""
             }
            },
            "type": "scatter3d"
           }
          ],
          "scattercarpet": [
           {
            "marker": {
             "colorbar": {
              "outlinewidth": 0,
              "ticks": ""
             }
            },
            "type": "scattercarpet"
           }
          ],
          "scattergeo": [
           {
            "marker": {
             "colorbar": {
              "outlinewidth": 0,
              "ticks": ""
             }
            },
            "type": "scattergeo"
           }
          ],
          "scattergl": [
           {
            "marker": {
             "colorbar": {
              "outlinewidth": 0,
              "ticks": ""
             }
            },
            "type": "scattergl"
           }
          ],
          "scattermapbox": [
           {
            "marker": {
             "colorbar": {
              "outlinewidth": 0,
              "ticks": ""
             }
            },
            "type": "scattermapbox"
           }
          ],
          "scatterpolar": [
           {
            "marker": {
             "colorbar": {
              "outlinewidth": 0,
              "ticks": ""
             }
            },
            "type": "scatterpolar"
           }
          ],
          "scatterpolargl": [
           {
            "marker": {
             "colorbar": {
              "outlinewidth": 0,
              "ticks": ""
             }
            },
            "type": "scatterpolargl"
           }
          ],
          "scatterternary": [
           {
            "marker": {
             "colorbar": {
              "outlinewidth": 0,
              "ticks": ""
             }
            },
            "type": "scatterternary"
           }
          ],
          "surface": [
           {
            "colorbar": {
             "outlinewidth": 0,
             "ticks": ""
            },
            "colorscale": [
             [
              0,
              "#0d0887"
             ],
             [
              0.1111111111111111,
              "#46039f"
             ],
             [
              0.2222222222222222,
              "#7201a8"
             ],
             [
              0.3333333333333333,
              "#9c179e"
             ],
             [
              0.4444444444444444,
              "#bd3786"
             ],
             [
              0.5555555555555556,
              "#d8576b"
             ],
             [
              0.6666666666666666,
              "#ed7953"
             ],
             [
              0.7777777777777778,
              "#fb9f3a"
             ],
             [
              0.8888888888888888,
              "#fdca26"
             ],
             [
              1,
              "#f0f921"
             ]
            ],
            "type": "surface"
           }
          ],
          "table": [
           {
            "cells": {
             "fill": {
              "color": "#EBF0F8"
             },
             "line": {
              "color": "white"
             }
            },
            "header": {
             "fill": {
              "color": "#C8D4E3"
             },
             "line": {
              "color": "white"
             }
            },
            "type": "table"
           }
          ]
         },
         "layout": {
          "annotationdefaults": {
           "arrowcolor": "#2a3f5f",
           "arrowhead": 0,
           "arrowwidth": 1
          },
          "autotypenumbers": "strict",
          "coloraxis": {
           "colorbar": {
            "outlinewidth": 0,
            "ticks": ""
           }
          },
          "colorscale": {
           "diverging": [
            [
             0,
             "#8e0152"
            ],
            [
             0.1,
             "#c51b7d"
            ],
            [
             0.2,
             "#de77ae"
            ],
            [
             0.3,
             "#f1b6da"
            ],
            [
             0.4,
             "#fde0ef"
            ],
            [
             0.5,
             "#f7f7f7"
            ],
            [
             0.6,
             "#e6f5d0"
            ],
            [
             0.7,
             "#b8e186"
            ],
            [
             0.8,
             "#7fbc41"
            ],
            [
             0.9,
             "#4d9221"
            ],
            [
             1,
             "#276419"
            ]
           ],
           "sequential": [
            [
             0,
             "#0d0887"
            ],
            [
             0.1111111111111111,
             "#46039f"
            ],
            [
             0.2222222222222222,
             "#7201a8"
            ],
            [
             0.3333333333333333,
             "#9c179e"
            ],
            [
             0.4444444444444444,
             "#bd3786"
            ],
            [
             0.5555555555555556,
             "#d8576b"
            ],
            [
             0.6666666666666666,
             "#ed7953"
            ],
            [
             0.7777777777777778,
             "#fb9f3a"
            ],
            [
             0.8888888888888888,
             "#fdca26"
            ],
            [
             1,
             "#f0f921"
            ]
           ],
           "sequentialminus": [
            [
             0,
             "#0d0887"
            ],
            [
             0.1111111111111111,
             "#46039f"
            ],
            [
             0.2222222222222222,
             "#7201a8"
            ],
            [
             0.3333333333333333,
             "#9c179e"
            ],
            [
             0.4444444444444444,
             "#bd3786"
            ],
            [
             0.5555555555555556,
             "#d8576b"
            ],
            [
             0.6666666666666666,
             "#ed7953"
            ],
            [
             0.7777777777777778,
             "#fb9f3a"
            ],
            [
             0.8888888888888888,
             "#fdca26"
            ],
            [
             1,
             "#f0f921"
            ]
           ]
          },
          "colorway": [
           "#636efa",
           "#EF553B",
           "#00cc96",
           "#ab63fa",
           "#FFA15A",
           "#19d3f3",
           "#FF6692",
           "#B6E880",
           "#FF97FF",
           "#FECB52"
          ],
          "font": {
           "color": "#2a3f5f"
          },
          "geo": {
           "bgcolor": "white",
           "lakecolor": "white",
           "landcolor": "#E5ECF6",
           "showlakes": true,
           "showland": true,
           "subunitcolor": "white"
          },
          "hoverlabel": {
           "align": "left"
          },
          "hovermode": "closest",
          "mapbox": {
           "style": "light"
          },
          "paper_bgcolor": "white",
          "plot_bgcolor": "#E5ECF6",
          "polar": {
           "angularaxis": {
            "gridcolor": "white",
            "linecolor": "white",
            "ticks": ""
           },
           "bgcolor": "#E5ECF6",
           "radialaxis": {
            "gridcolor": "white",
            "linecolor": "white",
            "ticks": ""
           }
          },
          "scene": {
           "xaxis": {
            "backgroundcolor": "#E5ECF6",
            "gridcolor": "white",
            "gridwidth": 2,
            "linecolor": "white",
            "showbackground": true,
            "ticks": "",
            "zerolinecolor": "white"
           },
           "yaxis": {
            "backgroundcolor": "#E5ECF6",
            "gridcolor": "white",
            "gridwidth": 2,
            "linecolor": "white",
            "showbackground": true,
            "ticks": "",
            "zerolinecolor": "white"
           },
           "zaxis": {
            "backgroundcolor": "#E5ECF6",
            "gridcolor": "white",
            "gridwidth": 2,
            "linecolor": "white",
            "showbackground": true,
            "ticks": "",
            "zerolinecolor": "white"
           }
          },
          "shapedefaults": {
           "line": {
            "color": "#2a3f5f"
           }
          },
          "ternary": {
           "aaxis": {
            "gridcolor": "white",
            "linecolor": "white",
            "ticks": ""
           },
           "baxis": {
            "gridcolor": "white",
            "linecolor": "white",
            "ticks": ""
           },
           "bgcolor": "#E5ECF6",
           "caxis": {
            "gridcolor": "white",
            "linecolor": "white",
            "ticks": ""
           }
          },
          "title": {
           "x": 0.05
          },
          "xaxis": {
           "automargin": true,
           "gridcolor": "white",
           "linecolor": "white",
           "ticks": "",
           "title": {
            "standoff": 15
           },
           "zerolinecolor": "white",
           "zerolinewidth": 2
          },
          "yaxis": {
           "automargin": true,
           "gridcolor": "white",
           "linecolor": "white",
           "ticks": "",
           "title": {
            "standoff": 15
           },
           "zerolinecolor": "white",
           "zerolinewidth": 2
          }
         }
        },
        "xaxis": {
         "anchor": "y",
         "domain": [
          0,
          1
         ],
         "title": {
          "text": "step"
         }
        },
        "yaxis": {
         "anchor": "x",
         "domain": [
          0,
          1
         ],
         "title": {
          "text": "stacked_conversion"
         }
        }
       }
      },
      "text/html": [
       "<div>                            <div id=\"39ecc502-88c4-4716-8e53-ef82b601e88d\" class=\"plotly-graph-div\" style=\"height:525px; width:100%;\"></div>            <script type=\"text/javascript\">                require([\"plotly\"], function(Plotly) {                    window.PLOTLYENV=window.PLOTLYENV || {};                                    if (document.getElementById(\"39ecc502-88c4-4716-8e53-ef82b601e88d\")) {                    Plotly.newPlot(                        \"39ecc502-88c4-4716-8e53-ef82b601e88d\",                        [{\"hovertemplate\":\"step=%{x}<br>stacked_conversion=%{y}<extra></extra>\",\"legendgroup\":\"\",\"marker\":{\"color\":\"#636efa\"},\"name\":\"\",\"orientation\":\"v\",\"showlegend\":false,\"x\":[\"se_inflowed\",\"se_joined\",\"se_cert_pv\",\"se_cert_done\",\"se_tax_calculation\",\"se_tax_check\",\"se_tax_result\"],\"xaxis\":\"x\",\"y\":[1.0,0.3148745996109943,0.16027614668516066,0.0949795100844074,0.07830595641977875,0.0758587472331376,0.038773710793461126],\"yaxis\":\"y\",\"type\":\"funnel\"}],                        {\"template\":{\"data\":{\"histogram2dcontour\":[{\"type\":\"histogram2dcontour\",\"colorbar\":{\"outlinewidth\":0,\"ticks\":\"\"},\"colorscale\":[[0.0,\"#0d0887\"],[0.1111111111111111,\"#46039f\"],[0.2222222222222222,\"#7201a8\"],[0.3333333333333333,\"#9c179e\"],[0.4444444444444444,\"#bd3786\"],[0.5555555555555556,\"#d8576b\"],[0.6666666666666666,\"#ed7953\"],[0.7777777777777778,\"#fb9f3a\"],[0.8888888888888888,\"#fdca26\"],[1.0,\"#f0f921\"]]}],\"choropleth\":[{\"type\":\"choropleth\",\"colorbar\":{\"outlinewidth\":0,\"ticks\":\"\"}}],\"histogram2d\":[{\"type\":\"histogram2d\",\"colorbar\":{\"outlinewidth\":0,\"ticks\":\"\"},\"colorscale\":[[0.0,\"#0d0887\"],[0.1111111111111111,\"#46039f\"],[0.2222222222222222,\"#7201a8\"],[0.3333333333333333,\"#9c179e\"],[0.4444444444444444,\"#bd3786\"],[0.5555555555555556,\"#d8576b\"],[0.6666666666666666,\"#ed7953\"],[0.7777777777777778,\"#fb9f3a\"],[0.8888888888888888,\"#fdca26\"],[1.0,\"#f0f921\"]]}],\"heatmap\":[{\"type\":\"heatmap\",\"colorbar\":{\"outlinewidth\":0,\"ticks\":\"\"},\"colorscale\":[[0.0,\"#0d0887\"],[0.1111111111111111,\"#46039f\"],[0.2222222222222222,\"#7201a8\"],[0.3333333333333333,\"#9c179e\"],[0.4444444444444444,\"#bd3786\"],[0.5555555555555556,\"#d8576b\"],[0.6666666666666666,\"#ed7953\"],[0.7777777777777778,\"#fb9f3a\"],[0.8888888888888888,\"#fdca26\"],[1.0,\"#f0f921\"]]}],\"heatmapgl\":[{\"type\":\"heatmapgl\",\"colorbar\":{\"outlinewidth\":0,\"ticks\":\"\"},\"colorscale\":[[0.0,\"#0d0887\"],[0.1111111111111111,\"#46039f\"],[0.2222222222222222,\"#7201a8\"],[0.3333333333333333,\"#9c179e\"],[0.4444444444444444,\"#bd3786\"],[0.5555555555555556,\"#d8576b\"],[0.6666666666666666,\"#ed7953\"],[0.7777777777777778,\"#fb9f3a\"],[0.8888888888888888,\"#fdca26\"],[1.0,\"#f0f921\"]]}],\"contourcarpet\":[{\"type\":\"contourcarpet\",\"colorbar\":{\"outlinewidth\":0,\"ticks\":\"\"}}],\"contour\":[{\"type\":\"contour\",\"colorbar\":{\"outlinewidth\":0,\"ticks\":\"\"},\"colorscale\":[[0.0,\"#0d0887\"],[0.1111111111111111,\"#46039f\"],[0.2222222222222222,\"#7201a8\"],[0.3333333333333333,\"#9c179e\"],[0.4444444444444444,\"#bd3786\"],[0.5555555555555556,\"#d8576b\"],[0.6666666666666666,\"#ed7953\"],[0.7777777777777778,\"#fb9f3a\"],[0.8888888888888888,\"#fdca26\"],[1.0,\"#f0f921\"]]}],\"surface\":[{\"type\":\"surface\",\"colorbar\":{\"outlinewidth\":0,\"ticks\":\"\"},\"colorscale\":[[0.0,\"#0d0887\"],[0.1111111111111111,\"#46039f\"],[0.2222222222222222,\"#7201a8\"],[0.3333333333333333,\"#9c179e\"],[0.4444444444444444,\"#bd3786\"],[0.5555555555555556,\"#d8576b\"],[0.6666666666666666,\"#ed7953\"],[0.7777777777777778,\"#fb9f3a\"],[0.8888888888888888,\"#fdca26\"],[1.0,\"#f0f921\"]]}],\"mesh3d\":[{\"type\":\"mesh3d\",\"colorbar\":{\"outlinewidth\":0,\"ticks\":\"\"}}],\"scatter\":[{\"fillpattern\":{\"fillmode\":\"overlay\",\"size\":10,\"solidity\":0.2},\"type\":\"scatter\"}],\"parcoords\":[{\"type\":\"parcoords\",\"line\":{\"colorbar\":{\"outlinewidth\":0,\"ticks\":\"\"}}}],\"scatterpolargl\":[{\"type\":\"scatterpolargl\",\"marker\":{\"colorbar\":{\"outlinewidth\":0,\"ticks\":\"\"}}}],\"bar\":[{\"error_x\":{\"color\":\"#2a3f5f\"},\"error_y\":{\"color\":\"#2a3f5f\"},\"marker\":{\"line\":{\"color\":\"#E5ECF6\",\"width\":0.5},\"pattern\":{\"fillmode\":\"overlay\",\"size\":10,\"solidity\":0.2}},\"type\":\"bar\"}],\"scattergeo\":[{\"type\":\"scattergeo\",\"marker\":{\"colorbar\":{\"outlinewidth\":0,\"ticks\":\"\"}}}],\"scatterpolar\":[{\"type\":\"scatterpolar\",\"marker\":{\"colorbar\":{\"outlinewidth\":0,\"ticks\":\"\"}}}],\"histogram\":[{\"marker\":{\"pattern\":{\"fillmode\":\"overlay\",\"size\":10,\"solidity\":0.2}},\"type\":\"histogram\"}],\"scattergl\":[{\"type\":\"scattergl\",\"marker\":{\"colorbar\":{\"outlinewidth\":0,\"ticks\":\"\"}}}],\"scatter3d\":[{\"type\":\"scatter3d\",\"line\":{\"colorbar\":{\"outlinewidth\":0,\"ticks\":\"\"}},\"marker\":{\"colorbar\":{\"outlinewidth\":0,\"ticks\":\"\"}}}],\"scattermapbox\":[{\"type\":\"scattermapbox\",\"marker\":{\"colorbar\":{\"outlinewidth\":0,\"ticks\":\"\"}}}],\"scatterternary\":[{\"type\":\"scatterternary\",\"marker\":{\"colorbar\":{\"outlinewidth\":0,\"ticks\":\"\"}}}],\"scattercarpet\":[{\"type\":\"scattercarpet\",\"marker\":{\"colorbar\":{\"outlinewidth\":0,\"ticks\":\"\"}}}],\"carpet\":[{\"aaxis\":{\"endlinecolor\":\"#2a3f5f\",\"gridcolor\":\"white\",\"linecolor\":\"white\",\"minorgridcolor\":\"white\",\"startlinecolor\":\"#2a3f5f\"},\"baxis\":{\"endlinecolor\":\"#2a3f5f\",\"gridcolor\":\"white\",\"linecolor\":\"white\",\"minorgridcolor\":\"white\",\"startlinecolor\":\"#2a3f5f\"},\"type\":\"carpet\"}],\"table\":[{\"cells\":{\"fill\":{\"color\":\"#EBF0F8\"},\"line\":{\"color\":\"white\"}},\"header\":{\"fill\":{\"color\":\"#C8D4E3\"},\"line\":{\"color\":\"white\"}},\"type\":\"table\"}],\"barpolar\":[{\"marker\":{\"line\":{\"color\":\"#E5ECF6\",\"width\":0.5},\"pattern\":{\"fillmode\":\"overlay\",\"size\":10,\"solidity\":0.2}},\"type\":\"barpolar\"}],\"pie\":[{\"automargin\":true,\"type\":\"pie\"}]},\"layout\":{\"autotypenumbers\":\"strict\",\"colorway\":[\"#636efa\",\"#EF553B\",\"#00cc96\",\"#ab63fa\",\"#FFA15A\",\"#19d3f3\",\"#FF6692\",\"#B6E880\",\"#FF97FF\",\"#FECB52\"],\"font\":{\"color\":\"#2a3f5f\"},\"hovermode\":\"closest\",\"hoverlabel\":{\"align\":\"left\"},\"paper_bgcolor\":\"white\",\"plot_bgcolor\":\"#E5ECF6\",\"polar\":{\"bgcolor\":\"#E5ECF6\",\"angularaxis\":{\"gridcolor\":\"white\",\"linecolor\":\"white\",\"ticks\":\"\"},\"radialaxis\":{\"gridcolor\":\"white\",\"linecolor\":\"white\",\"ticks\":\"\"}},\"ternary\":{\"bgcolor\":\"#E5ECF6\",\"aaxis\":{\"gridcolor\":\"white\",\"linecolor\":\"white\",\"ticks\":\"\"},\"baxis\":{\"gridcolor\":\"white\",\"linecolor\":\"white\",\"ticks\":\"\"},\"caxis\":{\"gridcolor\":\"white\",\"linecolor\":\"white\",\"ticks\":\"\"}},\"coloraxis\":{\"colorbar\":{\"outlinewidth\":0,\"ticks\":\"\"}},\"colorscale\":{\"sequential\":[[0.0,\"#0d0887\"],[0.1111111111111111,\"#46039f\"],[0.2222222222222222,\"#7201a8\"],[0.3333333333333333,\"#9c179e\"],[0.4444444444444444,\"#bd3786\"],[0.5555555555555556,\"#d8576b\"],[0.6666666666666666,\"#ed7953\"],[0.7777777777777778,\"#fb9f3a\"],[0.8888888888888888,\"#fdca26\"],[1.0,\"#f0f921\"]],\"sequentialminus\":[[0.0,\"#0d0887\"],[0.1111111111111111,\"#46039f\"],[0.2222222222222222,\"#7201a8\"],[0.3333333333333333,\"#9c179e\"],[0.4444444444444444,\"#bd3786\"],[0.5555555555555556,\"#d8576b\"],[0.6666666666666666,\"#ed7953\"],[0.7777777777777778,\"#fb9f3a\"],[0.8888888888888888,\"#fdca26\"],[1.0,\"#f0f921\"]],\"diverging\":[[0,\"#8e0152\"],[0.1,\"#c51b7d\"],[0.2,\"#de77ae\"],[0.3,\"#f1b6da\"],[0.4,\"#fde0ef\"],[0.5,\"#f7f7f7\"],[0.6,\"#e6f5d0\"],[0.7,\"#b8e186\"],[0.8,\"#7fbc41\"],[0.9,\"#4d9221\"],[1,\"#276419\"]]},\"xaxis\":{\"gridcolor\":\"white\",\"linecolor\":\"white\",\"ticks\":\"\",\"title\":{\"standoff\":15},\"zerolinecolor\":\"white\",\"automargin\":true,\"zerolinewidth\":2},\"yaxis\":{\"gridcolor\":\"white\",\"linecolor\":\"white\",\"ticks\":\"\",\"title\":{\"standoff\":15},\"zerolinecolor\":\"white\",\"automargin\":true,\"zerolinewidth\":2},\"scene\":{\"xaxis\":{\"backgroundcolor\":\"#E5ECF6\",\"gridcolor\":\"white\",\"linecolor\":\"white\",\"showbackground\":true,\"ticks\":\"\",\"zerolinecolor\":\"white\",\"gridwidth\":2},\"yaxis\":{\"backgroundcolor\":\"#E5ECF6\",\"gridcolor\":\"white\",\"linecolor\":\"white\",\"showbackground\":true,\"ticks\":\"\",\"zerolinecolor\":\"white\",\"gridwidth\":2},\"zaxis\":{\"backgroundcolor\":\"#E5ECF6\",\"gridcolor\":\"white\",\"linecolor\":\"white\",\"showbackground\":true,\"ticks\":\"\",\"zerolinecolor\":\"white\",\"gridwidth\":2}},\"shapedefaults\":{\"line\":{\"color\":\"#2a3f5f\"}},\"annotationdefaults\":{\"arrowcolor\":\"#2a3f5f\",\"arrowhead\":0,\"arrowwidth\":1},\"geo\":{\"bgcolor\":\"white\",\"landcolor\":\"#E5ECF6\",\"subunitcolor\":\"white\",\"showland\":true,\"showlakes\":true,\"lakecolor\":\"white\"},\"title\":{\"x\":0.05},\"mapbox\":{\"style\":\"light\"}}},\"xaxis\":{\"anchor\":\"y\",\"domain\":[0.0,1.0],\"title\":{\"text\":\"step\"}},\"yaxis\":{\"anchor\":\"x\",\"domain\":[0.0,1.0],\"title\":{\"text\":\"stacked_conversion\"}},\"legend\":{\"tracegroupgap\":0},\"margin\":{\"t\":60}},                        {\"responsive\": true}                    ).then(function(){\n",
       "                            \n",
       "var gd = document.getElementById('39ecc502-88c4-4716-8e53-ef82b601e88d');\n",
       "var x = new MutationObserver(function (mutations, observer) {{\n",
       "        var display = window.getComputedStyle(gd).display;\n",
       "        if (!display || display === 'none') {{\n",
       "            console.log([gd, 'removed!']);\n",
       "            Plotly.purge(gd);\n",
       "            observer.disconnect();\n",
       "        }}\n",
       "}});\n",
       "\n",
       "// Listen for the removal of the full notebook cells\n",
       "var notebookContainer = gd.closest('#notebook-container');\n",
       "if (notebookContainer) {{\n",
       "    x.observe(notebookContainer, {childList: true});\n",
       "}}\n",
       "\n",
       "// Listen for the clearing of the current output cell\n",
       "var outputEl = gd.closest('.output');\n",
       "if (outputEl) {{\n",
       "    x.observe(outputEl, {childList: true});\n",
       "}}\n",
       "\n",
       "                        })                };                });            </script>        </div>"
      ]
     },
     "metadata": {},
     "output_type": "display_data"
    }
   ],
   "source": [
    "\n",
    "df_signup_raw_v1['stacked_conversion_v1'] = round(df_signup_raw_v1['stacked_conversion']*100, 1) ## 소수점 한자리까지 출력\n",
    "\n",
    "fig = px.funnel(\n",
    "    data_frame = df_signup_raw_v1,\n",
    "    x = 'step',\n",
    "    y = 'stacked_conversion' ##누적전환율\n",
    ")\n",
    "\n",
    "fig.show()"
   ]
  },
  {
   "cell_type": "code",
   "execution_count": 307,
   "metadata": {
    "colab": {
     "base_uri": "https://localhost:8080/",
     "height": 542
    },
    "id": "rXBmOuQJPFla",
    "outputId": "51498a01-9f86-4c84-de01-1d671b7503ce"
   },
   "outputs": [
    {
     "data": {
      "application/vnd.plotly.v1+json": {
       "config": {
        "plotlyServerURL": "https://plot.ly"
       },
       "data": [
        {
         "hovertemplate": "stacked_conversion=%{x}<br>step=%{y}<extra></extra>",
         "legendgroup": "",
         "marker": {
          "color": "#636efa"
         },
         "name": "",
         "orientation": "h",
         "showlegend": false,
         "type": "funnel",
         "x": [
          1,
          0.3148745996109943,
          0.16027614668516066,
          0.0949795100844074,
          0.07830595641977875,
          0.0758587472331376,
          0.038773710793461126
         ],
         "xaxis": "x",
         "y": [
          "se_inflowed",
          "se_joined",
          "se_cert_pv",
          "se_cert_done",
          "se_tax_calculation",
          "se_tax_check",
          "se_tax_result"
         ],
         "yaxis": "y"
        }
       ],
       "layout": {
        "legend": {
         "tracegroupgap": 0
        },
        "margin": {
         "t": 60
        },
        "template": {
         "data": {
          "bar": [
           {
            "error_x": {
             "color": "#2a3f5f"
            },
            "error_y": {
             "color": "#2a3f5f"
            },
            "marker": {
             "line": {
              "color": "#E5ECF6",
              "width": 0.5
             },
             "pattern": {
              "fillmode": "overlay",
              "size": 10,
              "solidity": 0.2
             }
            },
            "type": "bar"
           }
          ],
          "barpolar": [
           {
            "marker": {
             "line": {
              "color": "#E5ECF6",
              "width": 0.5
             },
             "pattern": {
              "fillmode": "overlay",
              "size": 10,
              "solidity": 0.2
             }
            },
            "type": "barpolar"
           }
          ],
          "carpet": [
           {
            "aaxis": {
             "endlinecolor": "#2a3f5f",
             "gridcolor": "white",
             "linecolor": "white",
             "minorgridcolor": "white",
             "startlinecolor": "#2a3f5f"
            },
            "baxis": {
             "endlinecolor": "#2a3f5f",
             "gridcolor": "white",
             "linecolor": "white",
             "minorgridcolor": "white",
             "startlinecolor": "#2a3f5f"
            },
            "type": "carpet"
           }
          ],
          "choropleth": [
           {
            "colorbar": {
             "outlinewidth": 0,
             "ticks": ""
            },
            "type": "choropleth"
           }
          ],
          "contour": [
           {
            "colorbar": {
             "outlinewidth": 0,
             "ticks": ""
            },
            "colorscale": [
             [
              0,
              "#0d0887"
             ],
             [
              0.1111111111111111,
              "#46039f"
             ],
             [
              0.2222222222222222,
              "#7201a8"
             ],
             [
              0.3333333333333333,
              "#9c179e"
             ],
             [
              0.4444444444444444,
              "#bd3786"
             ],
             [
              0.5555555555555556,
              "#d8576b"
             ],
             [
              0.6666666666666666,
              "#ed7953"
             ],
             [
              0.7777777777777778,
              "#fb9f3a"
             ],
             [
              0.8888888888888888,
              "#fdca26"
             ],
             [
              1,
              "#f0f921"
             ]
            ],
            "type": "contour"
           }
          ],
          "contourcarpet": [
           {
            "colorbar": {
             "outlinewidth": 0,
             "ticks": ""
            },
            "type": "contourcarpet"
           }
          ],
          "heatmap": [
           {
            "colorbar": {
             "outlinewidth": 0,
             "ticks": ""
            },
            "colorscale": [
             [
              0,
              "#0d0887"
             ],
             [
              0.1111111111111111,
              "#46039f"
             ],
             [
              0.2222222222222222,
              "#7201a8"
             ],
             [
              0.3333333333333333,
              "#9c179e"
             ],
             [
              0.4444444444444444,
              "#bd3786"
             ],
             [
              0.5555555555555556,
              "#d8576b"
             ],
             [
              0.6666666666666666,
              "#ed7953"
             ],
             [
              0.7777777777777778,
              "#fb9f3a"
             ],
             [
              0.8888888888888888,
              "#fdca26"
             ],
             [
              1,
              "#f0f921"
             ]
            ],
            "type": "heatmap"
           }
          ],
          "heatmapgl": [
           {
            "colorbar": {
             "outlinewidth": 0,
             "ticks": ""
            },
            "colorscale": [
             [
              0,
              "#0d0887"
             ],
             [
              0.1111111111111111,
              "#46039f"
             ],
             [
              0.2222222222222222,
              "#7201a8"
             ],
             [
              0.3333333333333333,
              "#9c179e"
             ],
             [
              0.4444444444444444,
              "#bd3786"
             ],
             [
              0.5555555555555556,
              "#d8576b"
             ],
             [
              0.6666666666666666,
              "#ed7953"
             ],
             [
              0.7777777777777778,
              "#fb9f3a"
             ],
             [
              0.8888888888888888,
              "#fdca26"
             ],
             [
              1,
              "#f0f921"
             ]
            ],
            "type": "heatmapgl"
           }
          ],
          "histogram": [
           {
            "marker": {
             "pattern": {
              "fillmode": "overlay",
              "size": 10,
              "solidity": 0.2
             }
            },
            "type": "histogram"
           }
          ],
          "histogram2d": [
           {
            "colorbar": {
             "outlinewidth": 0,
             "ticks": ""
            },
            "colorscale": [
             [
              0,
              "#0d0887"
             ],
             [
              0.1111111111111111,
              "#46039f"
             ],
             [
              0.2222222222222222,
              "#7201a8"
             ],
             [
              0.3333333333333333,
              "#9c179e"
             ],
             [
              0.4444444444444444,
              "#bd3786"
             ],
             [
              0.5555555555555556,
              "#d8576b"
             ],
             [
              0.6666666666666666,
              "#ed7953"
             ],
             [
              0.7777777777777778,
              "#fb9f3a"
             ],
             [
              0.8888888888888888,
              "#fdca26"
             ],
             [
              1,
              "#f0f921"
             ]
            ],
            "type": "histogram2d"
           }
          ],
          "histogram2dcontour": [
           {
            "colorbar": {
             "outlinewidth": 0,
             "ticks": ""
            },
            "colorscale": [
             [
              0,
              "#0d0887"
             ],
             [
              0.1111111111111111,
              "#46039f"
             ],
             [
              0.2222222222222222,
              "#7201a8"
             ],
             [
              0.3333333333333333,
              "#9c179e"
             ],
             [
              0.4444444444444444,
              "#bd3786"
             ],
             [
              0.5555555555555556,
              "#d8576b"
             ],
             [
              0.6666666666666666,
              "#ed7953"
             ],
             [
              0.7777777777777778,
              "#fb9f3a"
             ],
             [
              0.8888888888888888,
              "#fdca26"
             ],
             [
              1,
              "#f0f921"
             ]
            ],
            "type": "histogram2dcontour"
           }
          ],
          "mesh3d": [
           {
            "colorbar": {
             "outlinewidth": 0,
             "ticks": ""
            },
            "type": "mesh3d"
           }
          ],
          "parcoords": [
           {
            "line": {
             "colorbar": {
              "outlinewidth": 0,
              "ticks": ""
             }
            },
            "type": "parcoords"
           }
          ],
          "pie": [
           {
            "automargin": true,
            "type": "pie"
           }
          ],
          "scatter": [
           {
            "fillpattern": {
             "fillmode": "overlay",
             "size": 10,
             "solidity": 0.2
            },
            "type": "scatter"
           }
          ],
          "scatter3d": [
           {
            "line": {
             "colorbar": {
              "outlinewidth": 0,
              "ticks": ""
             }
            },
            "marker": {
             "colorbar": {
              "outlinewidth": 0,
              "ticks": ""
             }
            },
            "type": "scatter3d"
           }
          ],
          "scattercarpet": [
           {
            "marker": {
             "colorbar": {
              "outlinewidth": 0,
              "ticks": ""
             }
            },
            "type": "scattercarpet"
           }
          ],
          "scattergeo": [
           {
            "marker": {
             "colorbar": {
              "outlinewidth": 0,
              "ticks": ""
             }
            },
            "type": "scattergeo"
           }
          ],
          "scattergl": [
           {
            "marker": {
             "colorbar": {
              "outlinewidth": 0,
              "ticks": ""
             }
            },
            "type": "scattergl"
           }
          ],
          "scattermapbox": [
           {
            "marker": {
             "colorbar": {
              "outlinewidth": 0,
              "ticks": ""
             }
            },
            "type": "scattermapbox"
           }
          ],
          "scatterpolar": [
           {
            "marker": {
             "colorbar": {
              "outlinewidth": 0,
              "ticks": ""
             }
            },
            "type": "scatterpolar"
           }
          ],
          "scatterpolargl": [
           {
            "marker": {
             "colorbar": {
              "outlinewidth": 0,
              "ticks": ""
             }
            },
            "type": "scatterpolargl"
           }
          ],
          "scatterternary": [
           {
            "marker": {
             "colorbar": {
              "outlinewidth": 0,
              "ticks": ""
             }
            },
            "type": "scatterternary"
           }
          ],
          "surface": [
           {
            "colorbar": {
             "outlinewidth": 0,
             "ticks": ""
            },
            "colorscale": [
             [
              0,
              "#0d0887"
             ],
             [
              0.1111111111111111,
              "#46039f"
             ],
             [
              0.2222222222222222,
              "#7201a8"
             ],
             [
              0.3333333333333333,
              "#9c179e"
             ],
             [
              0.4444444444444444,
              "#bd3786"
             ],
             [
              0.5555555555555556,
              "#d8576b"
             ],
             [
              0.6666666666666666,
              "#ed7953"
             ],
             [
              0.7777777777777778,
              "#fb9f3a"
             ],
             [
              0.8888888888888888,
              "#fdca26"
             ],
             [
              1,
              "#f0f921"
             ]
            ],
            "type": "surface"
           }
          ],
          "table": [
           {
            "cells": {
             "fill": {
              "color": "#EBF0F8"
             },
             "line": {
              "color": "white"
             }
            },
            "header": {
             "fill": {
              "color": "#C8D4E3"
             },
             "line": {
              "color": "white"
             }
            },
            "type": "table"
           }
          ]
         },
         "layout": {
          "annotationdefaults": {
           "arrowcolor": "#2a3f5f",
           "arrowhead": 0,
           "arrowwidth": 1
          },
          "autotypenumbers": "strict",
          "coloraxis": {
           "colorbar": {
            "outlinewidth": 0,
            "ticks": ""
           }
          },
          "colorscale": {
           "diverging": [
            [
             0,
             "#8e0152"
            ],
            [
             0.1,
             "#c51b7d"
            ],
            [
             0.2,
             "#de77ae"
            ],
            [
             0.3,
             "#f1b6da"
            ],
            [
             0.4,
             "#fde0ef"
            ],
            [
             0.5,
             "#f7f7f7"
            ],
            [
             0.6,
             "#e6f5d0"
            ],
            [
             0.7,
             "#b8e186"
            ],
            [
             0.8,
             "#7fbc41"
            ],
            [
             0.9,
             "#4d9221"
            ],
            [
             1,
             "#276419"
            ]
           ],
           "sequential": [
            [
             0,
             "#0d0887"
            ],
            [
             0.1111111111111111,
             "#46039f"
            ],
            [
             0.2222222222222222,
             "#7201a8"
            ],
            [
             0.3333333333333333,
             "#9c179e"
            ],
            [
             0.4444444444444444,
             "#bd3786"
            ],
            [
             0.5555555555555556,
             "#d8576b"
            ],
            [
             0.6666666666666666,
             "#ed7953"
            ],
            [
             0.7777777777777778,
             "#fb9f3a"
            ],
            [
             0.8888888888888888,
             "#fdca26"
            ],
            [
             1,
             "#f0f921"
            ]
           ],
           "sequentialminus": [
            [
             0,
             "#0d0887"
            ],
            [
             0.1111111111111111,
             "#46039f"
            ],
            [
             0.2222222222222222,
             "#7201a8"
            ],
            [
             0.3333333333333333,
             "#9c179e"
            ],
            [
             0.4444444444444444,
             "#bd3786"
            ],
            [
             0.5555555555555556,
             "#d8576b"
            ],
            [
             0.6666666666666666,
             "#ed7953"
            ],
            [
             0.7777777777777778,
             "#fb9f3a"
            ],
            [
             0.8888888888888888,
             "#fdca26"
            ],
            [
             1,
             "#f0f921"
            ]
           ]
          },
          "colorway": [
           "#636efa",
           "#EF553B",
           "#00cc96",
           "#ab63fa",
           "#FFA15A",
           "#19d3f3",
           "#FF6692",
           "#B6E880",
           "#FF97FF",
           "#FECB52"
          ],
          "font": {
           "color": "#2a3f5f"
          },
          "geo": {
           "bgcolor": "white",
           "lakecolor": "white",
           "landcolor": "#E5ECF6",
           "showlakes": true,
           "showland": true,
           "subunitcolor": "white"
          },
          "hoverlabel": {
           "align": "left"
          },
          "hovermode": "closest",
          "mapbox": {
           "style": "light"
          },
          "paper_bgcolor": "white",
          "plot_bgcolor": "#E5ECF6",
          "polar": {
           "angularaxis": {
            "gridcolor": "white",
            "linecolor": "white",
            "ticks": ""
           },
           "bgcolor": "#E5ECF6",
           "radialaxis": {
            "gridcolor": "white",
            "linecolor": "white",
            "ticks": ""
           }
          },
          "scene": {
           "xaxis": {
            "backgroundcolor": "#E5ECF6",
            "gridcolor": "white",
            "gridwidth": 2,
            "linecolor": "white",
            "showbackground": true,
            "ticks": "",
            "zerolinecolor": "white"
           },
           "yaxis": {
            "backgroundcolor": "#E5ECF6",
            "gridcolor": "white",
            "gridwidth": 2,
            "linecolor": "white",
            "showbackground": true,
            "ticks": "",
            "zerolinecolor": "white"
           },
           "zaxis": {
            "backgroundcolor": "#E5ECF6",
            "gridcolor": "white",
            "gridwidth": 2,
            "linecolor": "white",
            "showbackground": true,
            "ticks": "",
            "zerolinecolor": "white"
           }
          },
          "shapedefaults": {
           "line": {
            "color": "#2a3f5f"
           }
          },
          "ternary": {
           "aaxis": {
            "gridcolor": "white",
            "linecolor": "white",
            "ticks": ""
           },
           "baxis": {
            "gridcolor": "white",
            "linecolor": "white",
            "ticks": ""
           },
           "bgcolor": "#E5ECF6",
           "caxis": {
            "gridcolor": "white",
            "linecolor": "white",
            "ticks": ""
           }
          },
          "title": {
           "x": 0.05
          },
          "xaxis": {
           "automargin": true,
           "gridcolor": "white",
           "linecolor": "white",
           "ticks": "",
           "title": {
            "standoff": 15
           },
           "zerolinecolor": "white",
           "zerolinewidth": 2
          },
          "yaxis": {
           "automargin": true,
           "gridcolor": "white",
           "linecolor": "white",
           "ticks": "",
           "title": {
            "standoff": 15
           },
           "zerolinecolor": "white",
           "zerolinewidth": 2
          }
         }
        },
        "xaxis": {
         "anchor": "y",
         "domain": [
          0,
          1
         ],
         "title": {
          "text": "stacked_conversion"
         }
        },
        "yaxis": {
         "anchor": "x",
         "domain": [
          0,
          1
         ],
         "title": {
          "text": "step"
         }
        }
       }
      },
      "text/html": [
       "<div>                            <div id=\"9750f759-50d8-4aae-92d4-519618e54f65\" class=\"plotly-graph-div\" style=\"height:525px; width:100%;\"></div>            <script type=\"text/javascript\">                require([\"plotly\"], function(Plotly) {                    window.PLOTLYENV=window.PLOTLYENV || {};                                    if (document.getElementById(\"9750f759-50d8-4aae-92d4-519618e54f65\")) {                    Plotly.newPlot(                        \"9750f759-50d8-4aae-92d4-519618e54f65\",                        [{\"hovertemplate\":\"stacked_conversion=%{x}<br>step=%{y}<extra></extra>\",\"legendgroup\":\"\",\"marker\":{\"color\":\"#636efa\"},\"name\":\"\",\"orientation\":\"h\",\"showlegend\":false,\"x\":[1.0,0.3148745996109943,0.16027614668516066,0.0949795100844074,0.07830595641977875,0.0758587472331376,0.038773710793461126],\"xaxis\":\"x\",\"y\":[\"se_inflowed\",\"se_joined\",\"se_cert_pv\",\"se_cert_done\",\"se_tax_calculation\",\"se_tax_check\",\"se_tax_result\"],\"yaxis\":\"y\",\"type\":\"funnel\"}],                        {\"template\":{\"data\":{\"histogram2dcontour\":[{\"type\":\"histogram2dcontour\",\"colorbar\":{\"outlinewidth\":0,\"ticks\":\"\"},\"colorscale\":[[0.0,\"#0d0887\"],[0.1111111111111111,\"#46039f\"],[0.2222222222222222,\"#7201a8\"],[0.3333333333333333,\"#9c179e\"],[0.4444444444444444,\"#bd3786\"],[0.5555555555555556,\"#d8576b\"],[0.6666666666666666,\"#ed7953\"],[0.7777777777777778,\"#fb9f3a\"],[0.8888888888888888,\"#fdca26\"],[1.0,\"#f0f921\"]]}],\"choropleth\":[{\"type\":\"choropleth\",\"colorbar\":{\"outlinewidth\":0,\"ticks\":\"\"}}],\"histogram2d\":[{\"type\":\"histogram2d\",\"colorbar\":{\"outlinewidth\":0,\"ticks\":\"\"},\"colorscale\":[[0.0,\"#0d0887\"],[0.1111111111111111,\"#46039f\"],[0.2222222222222222,\"#7201a8\"],[0.3333333333333333,\"#9c179e\"],[0.4444444444444444,\"#bd3786\"],[0.5555555555555556,\"#d8576b\"],[0.6666666666666666,\"#ed7953\"],[0.7777777777777778,\"#fb9f3a\"],[0.8888888888888888,\"#fdca26\"],[1.0,\"#f0f921\"]]}],\"heatmap\":[{\"type\":\"heatmap\",\"colorbar\":{\"outlinewidth\":0,\"ticks\":\"\"},\"colorscale\":[[0.0,\"#0d0887\"],[0.1111111111111111,\"#46039f\"],[0.2222222222222222,\"#7201a8\"],[0.3333333333333333,\"#9c179e\"],[0.4444444444444444,\"#bd3786\"],[0.5555555555555556,\"#d8576b\"],[0.6666666666666666,\"#ed7953\"],[0.7777777777777778,\"#fb9f3a\"],[0.8888888888888888,\"#fdca26\"],[1.0,\"#f0f921\"]]}],\"heatmapgl\":[{\"type\":\"heatmapgl\",\"colorbar\":{\"outlinewidth\":0,\"ticks\":\"\"},\"colorscale\":[[0.0,\"#0d0887\"],[0.1111111111111111,\"#46039f\"],[0.2222222222222222,\"#7201a8\"],[0.3333333333333333,\"#9c179e\"],[0.4444444444444444,\"#bd3786\"],[0.5555555555555556,\"#d8576b\"],[0.6666666666666666,\"#ed7953\"],[0.7777777777777778,\"#fb9f3a\"],[0.8888888888888888,\"#fdca26\"],[1.0,\"#f0f921\"]]}],\"contourcarpet\":[{\"type\":\"contourcarpet\",\"colorbar\":{\"outlinewidth\":0,\"ticks\":\"\"}}],\"contour\":[{\"type\":\"contour\",\"colorbar\":{\"outlinewidth\":0,\"ticks\":\"\"},\"colorscale\":[[0.0,\"#0d0887\"],[0.1111111111111111,\"#46039f\"],[0.2222222222222222,\"#7201a8\"],[0.3333333333333333,\"#9c179e\"],[0.4444444444444444,\"#bd3786\"],[0.5555555555555556,\"#d8576b\"],[0.6666666666666666,\"#ed7953\"],[0.7777777777777778,\"#fb9f3a\"],[0.8888888888888888,\"#fdca26\"],[1.0,\"#f0f921\"]]}],\"surface\":[{\"type\":\"surface\",\"colorbar\":{\"outlinewidth\":0,\"ticks\":\"\"},\"colorscale\":[[0.0,\"#0d0887\"],[0.1111111111111111,\"#46039f\"],[0.2222222222222222,\"#7201a8\"],[0.3333333333333333,\"#9c179e\"],[0.4444444444444444,\"#bd3786\"],[0.5555555555555556,\"#d8576b\"],[0.6666666666666666,\"#ed7953\"],[0.7777777777777778,\"#fb9f3a\"],[0.8888888888888888,\"#fdca26\"],[1.0,\"#f0f921\"]]}],\"mesh3d\":[{\"type\":\"mesh3d\",\"colorbar\":{\"outlinewidth\":0,\"ticks\":\"\"}}],\"scatter\":[{\"fillpattern\":{\"fillmode\":\"overlay\",\"size\":10,\"solidity\":0.2},\"type\":\"scatter\"}],\"parcoords\":[{\"type\":\"parcoords\",\"line\":{\"colorbar\":{\"outlinewidth\":0,\"ticks\":\"\"}}}],\"scatterpolargl\":[{\"type\":\"scatterpolargl\",\"marker\":{\"colorbar\":{\"outlinewidth\":0,\"ticks\":\"\"}}}],\"bar\":[{\"error_x\":{\"color\":\"#2a3f5f\"},\"error_y\":{\"color\":\"#2a3f5f\"},\"marker\":{\"line\":{\"color\":\"#E5ECF6\",\"width\":0.5},\"pattern\":{\"fillmode\":\"overlay\",\"size\":10,\"solidity\":0.2}},\"type\":\"bar\"}],\"scattergeo\":[{\"type\":\"scattergeo\",\"marker\":{\"colorbar\":{\"outlinewidth\":0,\"ticks\":\"\"}}}],\"scatterpolar\":[{\"type\":\"scatterpolar\",\"marker\":{\"colorbar\":{\"outlinewidth\":0,\"ticks\":\"\"}}}],\"histogram\":[{\"marker\":{\"pattern\":{\"fillmode\":\"overlay\",\"size\":10,\"solidity\":0.2}},\"type\":\"histogram\"}],\"scattergl\":[{\"type\":\"scattergl\",\"marker\":{\"colorbar\":{\"outlinewidth\":0,\"ticks\":\"\"}}}],\"scatter3d\":[{\"type\":\"scatter3d\",\"line\":{\"colorbar\":{\"outlinewidth\":0,\"ticks\":\"\"}},\"marker\":{\"colorbar\":{\"outlinewidth\":0,\"ticks\":\"\"}}}],\"scattermapbox\":[{\"type\":\"scattermapbox\",\"marker\":{\"colorbar\":{\"outlinewidth\":0,\"ticks\":\"\"}}}],\"scatterternary\":[{\"type\":\"scatterternary\",\"marker\":{\"colorbar\":{\"outlinewidth\":0,\"ticks\":\"\"}}}],\"scattercarpet\":[{\"type\":\"scattercarpet\",\"marker\":{\"colorbar\":{\"outlinewidth\":0,\"ticks\":\"\"}}}],\"carpet\":[{\"aaxis\":{\"endlinecolor\":\"#2a3f5f\",\"gridcolor\":\"white\",\"linecolor\":\"white\",\"minorgridcolor\":\"white\",\"startlinecolor\":\"#2a3f5f\"},\"baxis\":{\"endlinecolor\":\"#2a3f5f\",\"gridcolor\":\"white\",\"linecolor\":\"white\",\"minorgridcolor\":\"white\",\"startlinecolor\":\"#2a3f5f\"},\"type\":\"carpet\"}],\"table\":[{\"cells\":{\"fill\":{\"color\":\"#EBF0F8\"},\"line\":{\"color\":\"white\"}},\"header\":{\"fill\":{\"color\":\"#C8D4E3\"},\"line\":{\"color\":\"white\"}},\"type\":\"table\"}],\"barpolar\":[{\"marker\":{\"line\":{\"color\":\"#E5ECF6\",\"width\":0.5},\"pattern\":{\"fillmode\":\"overlay\",\"size\":10,\"solidity\":0.2}},\"type\":\"barpolar\"}],\"pie\":[{\"automargin\":true,\"type\":\"pie\"}]},\"layout\":{\"autotypenumbers\":\"strict\",\"colorway\":[\"#636efa\",\"#EF553B\",\"#00cc96\",\"#ab63fa\",\"#FFA15A\",\"#19d3f3\",\"#FF6692\",\"#B6E880\",\"#FF97FF\",\"#FECB52\"],\"font\":{\"color\":\"#2a3f5f\"},\"hovermode\":\"closest\",\"hoverlabel\":{\"align\":\"left\"},\"paper_bgcolor\":\"white\",\"plot_bgcolor\":\"#E5ECF6\",\"polar\":{\"bgcolor\":\"#E5ECF6\",\"angularaxis\":{\"gridcolor\":\"white\",\"linecolor\":\"white\",\"ticks\":\"\"},\"radialaxis\":{\"gridcolor\":\"white\",\"linecolor\":\"white\",\"ticks\":\"\"}},\"ternary\":{\"bgcolor\":\"#E5ECF6\",\"aaxis\":{\"gridcolor\":\"white\",\"linecolor\":\"white\",\"ticks\":\"\"},\"baxis\":{\"gridcolor\":\"white\",\"linecolor\":\"white\",\"ticks\":\"\"},\"caxis\":{\"gridcolor\":\"white\",\"linecolor\":\"white\",\"ticks\":\"\"}},\"coloraxis\":{\"colorbar\":{\"outlinewidth\":0,\"ticks\":\"\"}},\"colorscale\":{\"sequential\":[[0.0,\"#0d0887\"],[0.1111111111111111,\"#46039f\"],[0.2222222222222222,\"#7201a8\"],[0.3333333333333333,\"#9c179e\"],[0.4444444444444444,\"#bd3786\"],[0.5555555555555556,\"#d8576b\"],[0.6666666666666666,\"#ed7953\"],[0.7777777777777778,\"#fb9f3a\"],[0.8888888888888888,\"#fdca26\"],[1.0,\"#f0f921\"]],\"sequentialminus\":[[0.0,\"#0d0887\"],[0.1111111111111111,\"#46039f\"],[0.2222222222222222,\"#7201a8\"],[0.3333333333333333,\"#9c179e\"],[0.4444444444444444,\"#bd3786\"],[0.5555555555555556,\"#d8576b\"],[0.6666666666666666,\"#ed7953\"],[0.7777777777777778,\"#fb9f3a\"],[0.8888888888888888,\"#fdca26\"],[1.0,\"#f0f921\"]],\"diverging\":[[0,\"#8e0152\"],[0.1,\"#c51b7d\"],[0.2,\"#de77ae\"],[0.3,\"#f1b6da\"],[0.4,\"#fde0ef\"],[0.5,\"#f7f7f7\"],[0.6,\"#e6f5d0\"],[0.7,\"#b8e186\"],[0.8,\"#7fbc41\"],[0.9,\"#4d9221\"],[1,\"#276419\"]]},\"xaxis\":{\"gridcolor\":\"white\",\"linecolor\":\"white\",\"ticks\":\"\",\"title\":{\"standoff\":15},\"zerolinecolor\":\"white\",\"automargin\":true,\"zerolinewidth\":2},\"yaxis\":{\"gridcolor\":\"white\",\"linecolor\":\"white\",\"ticks\":\"\",\"title\":{\"standoff\":15},\"zerolinecolor\":\"white\",\"automargin\":true,\"zerolinewidth\":2},\"scene\":{\"xaxis\":{\"backgroundcolor\":\"#E5ECF6\",\"gridcolor\":\"white\",\"linecolor\":\"white\",\"showbackground\":true,\"ticks\":\"\",\"zerolinecolor\":\"white\",\"gridwidth\":2},\"yaxis\":{\"backgroundcolor\":\"#E5ECF6\",\"gridcolor\":\"white\",\"linecolor\":\"white\",\"showbackground\":true,\"ticks\":\"\",\"zerolinecolor\":\"white\",\"gridwidth\":2},\"zaxis\":{\"backgroundcolor\":\"#E5ECF6\",\"gridcolor\":\"white\",\"linecolor\":\"white\",\"showbackground\":true,\"ticks\":\"\",\"zerolinecolor\":\"white\",\"gridwidth\":2}},\"shapedefaults\":{\"line\":{\"color\":\"#2a3f5f\"}},\"annotationdefaults\":{\"arrowcolor\":\"#2a3f5f\",\"arrowhead\":0,\"arrowwidth\":1},\"geo\":{\"bgcolor\":\"white\",\"landcolor\":\"#E5ECF6\",\"subunitcolor\":\"white\",\"showland\":true,\"showlakes\":true,\"lakecolor\":\"white\"},\"title\":{\"x\":0.05},\"mapbox\":{\"style\":\"light\"}}},\"xaxis\":{\"anchor\":\"y\",\"domain\":[0.0,1.0],\"title\":{\"text\":\"stacked_conversion\"}},\"yaxis\":{\"anchor\":\"x\",\"domain\":[0.0,1.0],\"title\":{\"text\":\"step\"}},\"legend\":{\"tracegroupgap\":0},\"margin\":{\"t\":60}},                        {\"responsive\": true}                    ).then(function(){\n",
       "                            \n",
       "var gd = document.getElementById('9750f759-50d8-4aae-92d4-519618e54f65');\n",
       "var x = new MutationObserver(function (mutations, observer) {{\n",
       "        var display = window.getComputedStyle(gd).display;\n",
       "        if (!display || display === 'none') {{\n",
       "            console.log([gd, 'removed!']);\n",
       "            Plotly.purge(gd);\n",
       "            observer.disconnect();\n",
       "        }}\n",
       "}});\n",
       "\n",
       "// Listen for the removal of the full notebook cells\n",
       "var notebookContainer = gd.closest('#notebook-container');\n",
       "if (notebookContainer) {{\n",
       "    x.observe(notebookContainer, {childList: true});\n",
       "}}\n",
       "\n",
       "// Listen for the clearing of the current output cell\n",
       "var outputEl = gd.closest('.output');\n",
       "if (outputEl) {{\n",
       "    x.observe(outputEl, {childList: true});\n",
       "}}\n",
       "\n",
       "                        })                };                });            </script>        </div>"
      ]
     },
     "metadata": {},
     "output_type": "display_data"
    }
   ],
   "source": [
    "fig = px.funnel(\n",
    "    data_frame = df_signup_raw_v1,\n",
    "    y = 'step',\n",
    "    x = 'stacked_conversion'\n",
    ")\n",
    "\n",
    "fig.show()"
   ]
  },
  {
   "cell_type": "code",
   "execution_count": 308,
   "metadata": {
    "colab": {
     "base_uri": "https://localhost:8080/"
    },
    "id": "WWHFxZrGuBFr",
    "outputId": "aece8d38-e617-4317-c961-de2ff18913cd"
   },
   "outputs": [
    {
     "name": "stdout",
     "output_type": "stream",
     "text": [
      "Wall time: 1.99 ms\n"
     ]
    }
   ],
   "source": [
    "%%time\n",
    "# 직전 전환율 구하기전 계산\n",
    "df_signup_raw_v1['previous_cnts'] = df_signup_raw_v1['cnts'].shift(1)"
   ]
  },
  {
   "cell_type": "code",
   "execution_count": 309,
   "metadata": {
    "colab": {
     "base_uri": "https://localhost:8080/",
     "height": 269
    },
    "id": "aSqQeyZrd0y9",
    "outputId": "2f93d807-493f-4517-856e-cc6f1ab7033a"
   },
   "outputs": [
    {
     "data": {
      "text/html": [
       "<div>\n",
       "<style scoped>\n",
       "    .dataframe tbody tr th:only-of-type {\n",
       "        vertical-align: middle;\n",
       "    }\n",
       "\n",
       "    .dataframe tbody tr th {\n",
       "        vertical-align: top;\n",
       "    }\n",
       "\n",
       "    .dataframe thead th {\n",
       "        text-align: right;\n",
       "    }\n",
       "</style>\n",
       "<table border=\"1\" class=\"dataframe\">\n",
       "  <thead>\n",
       "    <tr style=\"text-align: right;\">\n",
       "      <th></th>\n",
       "      <th>step</th>\n",
       "      <th>cnts</th>\n",
       "      <th>value_1</th>\n",
       "      <th>stacked_conversion</th>\n",
       "      <th>basic</th>\n",
       "      <th>value_2</th>\n",
       "      <th>value_3</th>\n",
       "      <th>stacked_conversion_v1</th>\n",
       "      <th>previous_cnts</th>\n",
       "      <th>previous_conversion</th>\n",
       "    </tr>\n",
       "  </thead>\n",
       "  <tbody>\n",
       "    <tr>\n",
       "      <th>0</th>\n",
       "      <td>se_inflowed</td>\n",
       "      <td>1899715</td>\n",
       "      <td>1899715</td>\n",
       "      <td>1.000000</td>\n",
       "      <td>1</td>\n",
       "      <td>1899715</td>\n",
       "      <td>1899715</td>\n",
       "      <td>100.0</td>\n",
       "      <td>NaN</td>\n",
       "      <td>NaN</td>\n",
       "    </tr>\n",
       "    <tr>\n",
       "      <th>1</th>\n",
       "      <td>se_joined</td>\n",
       "      <td>598172</td>\n",
       "      <td>1899715</td>\n",
       "      <td>0.314875</td>\n",
       "      <td>1</td>\n",
       "      <td>1899715</td>\n",
       "      <td>1899715</td>\n",
       "      <td>31.5</td>\n",
       "      <td>1899715.0</td>\n",
       "      <td>0.314875</td>\n",
       "    </tr>\n",
       "    <tr>\n",
       "      <th>2</th>\n",
       "      <td>se_cert_pv</td>\n",
       "      <td>304479</td>\n",
       "      <td>1899715</td>\n",
       "      <td>0.160276</td>\n",
       "      <td>1</td>\n",
       "      <td>1899715</td>\n",
       "      <td>1899715</td>\n",
       "      <td>16.0</td>\n",
       "      <td>598172.0</td>\n",
       "      <td>0.509016</td>\n",
       "    </tr>\n",
       "    <tr>\n",
       "      <th>3</th>\n",
       "      <td>se_cert_done</td>\n",
       "      <td>180434</td>\n",
       "      <td>1899715</td>\n",
       "      <td>0.094980</td>\n",
       "      <td>1</td>\n",
       "      <td>1899715</td>\n",
       "      <td>1899715</td>\n",
       "      <td>9.5</td>\n",
       "      <td>304479.0</td>\n",
       "      <td>0.592599</td>\n",
       "    </tr>\n",
       "    <tr>\n",
       "      <th>4</th>\n",
       "      <td>se_tax_calculation</td>\n",
       "      <td>148759</td>\n",
       "      <td>1899715</td>\n",
       "      <td>0.078306</td>\n",
       "      <td>1</td>\n",
       "      <td>1899715</td>\n",
       "      <td>1899715</td>\n",
       "      <td>7.8</td>\n",
       "      <td>180434.0</td>\n",
       "      <td>0.824451</td>\n",
       "    </tr>\n",
       "    <tr>\n",
       "      <th>5</th>\n",
       "      <td>se_tax_check</td>\n",
       "      <td>144110</td>\n",
       "      <td>1899715</td>\n",
       "      <td>0.075859</td>\n",
       "      <td>1</td>\n",
       "      <td>1899715</td>\n",
       "      <td>1899715</td>\n",
       "      <td>7.6</td>\n",
       "      <td>148759.0</td>\n",
       "      <td>0.968748</td>\n",
       "    </tr>\n",
       "    <tr>\n",
       "      <th>6</th>\n",
       "      <td>se_tax_result</td>\n",
       "      <td>73659</td>\n",
       "      <td>1899715</td>\n",
       "      <td>0.038774</td>\n",
       "      <td>1</td>\n",
       "      <td>1899715</td>\n",
       "      <td>1899715</td>\n",
       "      <td>3.9</td>\n",
       "      <td>144110.0</td>\n",
       "      <td>0.511130</td>\n",
       "    </tr>\n",
       "  </tbody>\n",
       "</table>\n",
       "</div>"
      ],
      "text/plain": [
       "                 step     cnts  value_1  stacked_conversion  basic  value_2  \\\n",
       "0         se_inflowed  1899715  1899715            1.000000      1  1899715   \n",
       "1           se_joined   598172  1899715            0.314875      1  1899715   \n",
       "2          se_cert_pv   304479  1899715            0.160276      1  1899715   \n",
       "3        se_cert_done   180434  1899715            0.094980      1  1899715   \n",
       "4  se_tax_calculation   148759  1899715            0.078306      1  1899715   \n",
       "5        se_tax_check   144110  1899715            0.075859      1  1899715   \n",
       "6       se_tax_result    73659  1899715            0.038774      1  1899715   \n",
       "\n",
       "   value_3  stacked_conversion_v1  previous_cnts  previous_conversion  \n",
       "0  1899715                  100.0            NaN                  NaN  \n",
       "1  1899715                   31.5      1899715.0             0.314875  \n",
       "2  1899715                   16.0       598172.0             0.509016  \n",
       "3  1899715                    9.5       304479.0             0.592599  \n",
       "4  1899715                    7.8       180434.0             0.824451  \n",
       "5  1899715                    7.6       148759.0             0.968748  \n",
       "6  1899715                    3.9       144110.0             0.511130  "
      ]
     },
     "execution_count": 309,
     "metadata": {},
     "output_type": "execute_result"
    }
   ],
   "source": [
    "## 직전 전환율 =  카운트/전 카운트 \n",
    "df_signup_raw_v1['previous_conversion'] = df_signup_raw_v1['cnts']/df_signup_raw_v1['previous_cnts']\n",
    "df_signup_raw_v1"
   ]
  },
  {
   "cell_type": "code",
   "execution_count": 310,
   "metadata": {
    "colab": {
     "base_uri": "https://localhost:8080/",
     "height": 269
    },
    "id": "yEo-1u_iuLxU",
    "outputId": "6a0be099-e36e-4d26-a5b3-495e8d11f8ea"
   },
   "outputs": [
    {
     "data": {
      "text/html": [
       "<div>\n",
       "<style scoped>\n",
       "    .dataframe tbody tr th:only-of-type {\n",
       "        vertical-align: middle;\n",
       "    }\n",
       "\n",
       "    .dataframe tbody tr th {\n",
       "        vertical-align: top;\n",
       "    }\n",
       "\n",
       "    .dataframe thead th {\n",
       "        text-align: right;\n",
       "    }\n",
       "</style>\n",
       "<table border=\"1\" class=\"dataframe\">\n",
       "  <thead>\n",
       "    <tr style=\"text-align: right;\">\n",
       "      <th></th>\n",
       "      <th>step</th>\n",
       "      <th>cnts</th>\n",
       "      <th>value_1</th>\n",
       "      <th>stacked_conversion</th>\n",
       "      <th>basic</th>\n",
       "      <th>value_2</th>\n",
       "      <th>value_3</th>\n",
       "      <th>stacked_conversion_v1</th>\n",
       "      <th>previous_cnts</th>\n",
       "      <th>previous_conversion</th>\n",
       "    </tr>\n",
       "  </thead>\n",
       "  <tbody>\n",
       "    <tr>\n",
       "      <th>0</th>\n",
       "      <td>se_inflowed</td>\n",
       "      <td>1899715</td>\n",
       "      <td>1899715</td>\n",
       "      <td>1.000000</td>\n",
       "      <td>1</td>\n",
       "      <td>1899715</td>\n",
       "      <td>1899715</td>\n",
       "      <td>100.0</td>\n",
       "      <td>NaN</td>\n",
       "      <td>NaN</td>\n",
       "    </tr>\n",
       "    <tr>\n",
       "      <th>1</th>\n",
       "      <td>se_joined</td>\n",
       "      <td>598172</td>\n",
       "      <td>1899715</td>\n",
       "      <td>0.314875</td>\n",
       "      <td>1</td>\n",
       "      <td>1899715</td>\n",
       "      <td>1899715</td>\n",
       "      <td>31.5</td>\n",
       "      <td>1899715.0</td>\n",
       "      <td>0.314875</td>\n",
       "    </tr>\n",
       "    <tr>\n",
       "      <th>2</th>\n",
       "      <td>se_cert_pv</td>\n",
       "      <td>304479</td>\n",
       "      <td>1899715</td>\n",
       "      <td>0.160276</td>\n",
       "      <td>1</td>\n",
       "      <td>1899715</td>\n",
       "      <td>1899715</td>\n",
       "      <td>16.0</td>\n",
       "      <td>598172.0</td>\n",
       "      <td>0.509016</td>\n",
       "    </tr>\n",
       "    <tr>\n",
       "      <th>3</th>\n",
       "      <td>se_cert_done</td>\n",
       "      <td>180434</td>\n",
       "      <td>1899715</td>\n",
       "      <td>0.094980</td>\n",
       "      <td>1</td>\n",
       "      <td>1899715</td>\n",
       "      <td>1899715</td>\n",
       "      <td>9.5</td>\n",
       "      <td>304479.0</td>\n",
       "      <td>0.592599</td>\n",
       "    </tr>\n",
       "    <tr>\n",
       "      <th>4</th>\n",
       "      <td>se_tax_calculation</td>\n",
       "      <td>148759</td>\n",
       "      <td>1899715</td>\n",
       "      <td>0.078306</td>\n",
       "      <td>1</td>\n",
       "      <td>1899715</td>\n",
       "      <td>1899715</td>\n",
       "      <td>7.8</td>\n",
       "      <td>180434.0</td>\n",
       "      <td>0.824451</td>\n",
       "    </tr>\n",
       "    <tr>\n",
       "      <th>5</th>\n",
       "      <td>se_tax_check</td>\n",
       "      <td>144110</td>\n",
       "      <td>1899715</td>\n",
       "      <td>0.075859</td>\n",
       "      <td>1</td>\n",
       "      <td>1899715</td>\n",
       "      <td>1899715</td>\n",
       "      <td>7.6</td>\n",
       "      <td>148759.0</td>\n",
       "      <td>0.968748</td>\n",
       "    </tr>\n",
       "    <tr>\n",
       "      <th>6</th>\n",
       "      <td>se_tax_result</td>\n",
       "      <td>73659</td>\n",
       "      <td>1899715</td>\n",
       "      <td>0.038774</td>\n",
       "      <td>1</td>\n",
       "      <td>1899715</td>\n",
       "      <td>1899715</td>\n",
       "      <td>3.9</td>\n",
       "      <td>144110.0</td>\n",
       "      <td>0.511130</td>\n",
       "    </tr>\n",
       "  </tbody>\n",
       "</table>\n",
       "</div>"
      ],
      "text/plain": [
       "                 step     cnts  value_1  stacked_conversion  basic  value_2  \\\n",
       "0         se_inflowed  1899715  1899715            1.000000      1  1899715   \n",
       "1           se_joined   598172  1899715            0.314875      1  1899715   \n",
       "2          se_cert_pv   304479  1899715            0.160276      1  1899715   \n",
       "3        se_cert_done   180434  1899715            0.094980      1  1899715   \n",
       "4  se_tax_calculation   148759  1899715            0.078306      1  1899715   \n",
       "5        se_tax_check   144110  1899715            0.075859      1  1899715   \n",
       "6       se_tax_result    73659  1899715            0.038774      1  1899715   \n",
       "\n",
       "   value_3  stacked_conversion_v1  previous_cnts  previous_conversion  \n",
       "0  1899715                  100.0            NaN                  NaN  \n",
       "1  1899715                   31.5      1899715.0             0.314875  \n",
       "2  1899715                   16.0       598172.0             0.509016  \n",
       "3  1899715                    9.5       304479.0             0.592599  \n",
       "4  1899715                    7.8       180434.0             0.824451  \n",
       "5  1899715                    7.6       148759.0             0.968748  \n",
       "6  1899715                    3.9       144110.0             0.511130  "
      ]
     },
     "execution_count": 310,
     "metadata": {},
     "output_type": "execute_result"
    }
   ],
   "source": [
    "df_signup_raw_v1"
   ]
  },
  {
   "cell_type": "code",
   "execution_count": 311,
   "metadata": {
    "id": "JgK178C4wxVP"
   },
   "outputs": [],
   "source": [
    "# 불필요한 \b컬럼 지우기\n",
    "df_signup_raw_v1.drop(['value_1', 'value_2','value_3'], axis = 1, inplace = True)"
   ]
  },
  {
   "cell_type": "code",
   "execution_count": 312,
   "metadata": {
    "colab": {
     "base_uri": "https://localhost:8080/",
     "height": 269
    },
    "id": "9PDpF7rGwsu1",
    "outputId": "a04a2189-0561-4cf1-bfd5-1b82094cbced"
   },
   "outputs": [
    {
     "data": {
      "text/html": [
       "<div>\n",
       "<style scoped>\n",
       "    .dataframe tbody tr th:only-of-type {\n",
       "        vertical-align: middle;\n",
       "    }\n",
       "\n",
       "    .dataframe tbody tr th {\n",
       "        vertical-align: top;\n",
       "    }\n",
       "\n",
       "    .dataframe thead th {\n",
       "        text-align: right;\n",
       "    }\n",
       "</style>\n",
       "<table border=\"1\" class=\"dataframe\">\n",
       "  <thead>\n",
       "    <tr style=\"text-align: right;\">\n",
       "      <th></th>\n",
       "      <th>step</th>\n",
       "      <th>cnts</th>\n",
       "      <th>stacked_conversion</th>\n",
       "      <th>basic</th>\n",
       "      <th>value_3</th>\n",
       "      <th>stacked_conversion_v1</th>\n",
       "      <th>previous_cnts</th>\n",
       "      <th>previous_conversion</th>\n",
       "    </tr>\n",
       "  </thead>\n",
       "  <tbody>\n",
       "    <tr>\n",
       "      <th>0</th>\n",
       "      <td>se_inflowed</td>\n",
       "      <td>1899715</td>\n",
       "      <td>1.000000</td>\n",
       "      <td>1</td>\n",
       "      <td>1899715</td>\n",
       "      <td>100.0</td>\n",
       "      <td>NaN</td>\n",
       "      <td>NaN</td>\n",
       "    </tr>\n",
       "    <tr>\n",
       "      <th>1</th>\n",
       "      <td>se_joined</td>\n",
       "      <td>598172</td>\n",
       "      <td>0.314875</td>\n",
       "      <td>1</td>\n",
       "      <td>1899715</td>\n",
       "      <td>31.5</td>\n",
       "      <td>1899715.0</td>\n",
       "      <td>0.314875</td>\n",
       "    </tr>\n",
       "    <tr>\n",
       "      <th>2</th>\n",
       "      <td>se_cert_pv</td>\n",
       "      <td>304479</td>\n",
       "      <td>0.160276</td>\n",
       "      <td>1</td>\n",
       "      <td>1899715</td>\n",
       "      <td>16.0</td>\n",
       "      <td>598172.0</td>\n",
       "      <td>0.509016</td>\n",
       "    </tr>\n",
       "    <tr>\n",
       "      <th>3</th>\n",
       "      <td>se_cert_done</td>\n",
       "      <td>180434</td>\n",
       "      <td>0.094980</td>\n",
       "      <td>1</td>\n",
       "      <td>1899715</td>\n",
       "      <td>9.5</td>\n",
       "      <td>304479.0</td>\n",
       "      <td>0.592599</td>\n",
       "    </tr>\n",
       "    <tr>\n",
       "      <th>4</th>\n",
       "      <td>se_tax_calculation</td>\n",
       "      <td>148759</td>\n",
       "      <td>0.078306</td>\n",
       "      <td>1</td>\n",
       "      <td>1899715</td>\n",
       "      <td>7.8</td>\n",
       "      <td>180434.0</td>\n",
       "      <td>0.824451</td>\n",
       "    </tr>\n",
       "    <tr>\n",
       "      <th>5</th>\n",
       "      <td>se_tax_check</td>\n",
       "      <td>144110</td>\n",
       "      <td>0.075859</td>\n",
       "      <td>1</td>\n",
       "      <td>1899715</td>\n",
       "      <td>7.6</td>\n",
       "      <td>148759.0</td>\n",
       "      <td>0.968748</td>\n",
       "    </tr>\n",
       "    <tr>\n",
       "      <th>6</th>\n",
       "      <td>se_tax_result</td>\n",
       "      <td>73659</td>\n",
       "      <td>0.038774</td>\n",
       "      <td>1</td>\n",
       "      <td>1899715</td>\n",
       "      <td>3.9</td>\n",
       "      <td>144110.0</td>\n",
       "      <td>0.511130</td>\n",
       "    </tr>\n",
       "  </tbody>\n",
       "</table>\n",
       "</div>"
      ],
      "text/plain": [
       "                 step     cnts  stacked_conversion  basic  value_3  \\\n",
       "0         se_inflowed  1899715            1.000000      1  1899715   \n",
       "1           se_joined   598172            0.314875      1  1899715   \n",
       "2          se_cert_pv   304479            0.160276      1  1899715   \n",
       "3        se_cert_done   180434            0.094980      1  1899715   \n",
       "4  se_tax_calculation   148759            0.078306      1  1899715   \n",
       "5        se_tax_check   144110            0.075859      1  1899715   \n",
       "6       se_tax_result    73659            0.038774      1  1899715   \n",
       "\n",
       "   stacked_conversion_v1  previous_cnts  previous_conversion  \n",
       "0                  100.0            NaN                  NaN  \n",
       "1                   31.5      1899715.0             0.314875  \n",
       "2                   16.0       598172.0             0.509016  \n",
       "3                    9.5       304479.0             0.592599  \n",
       "4                    7.8       180434.0             0.824451  \n",
       "5                    7.6       148759.0             0.968748  \n",
       "6                    3.9       144110.0             0.511130  "
      ]
     },
     "execution_count": 312,
     "metadata": {},
     "output_type": "execute_result"
    }
   ],
   "source": [
    "df_signup_raw_v1"
   ]
  },
  {
   "cell_type": "code",
   "execution_count": 313,
   "metadata": {
    "colab": {
     "base_uri": "https://localhost:8080/",
     "height": 389
    },
    "id": "2I0W4-QWPanV",
    "outputId": "87a5e70b-521c-4023-b8c4-8cad8857e6bc"
   },
   "outputs": [
    {
     "data": {
      "image/png": "[encoded data removed]",
      "text/plain": [
       "<Figure size 1728x432 with 1 Axes>"
      ]
     },
     "metadata": {
      "needs_background": "light"
     },
     "output_type": "display_data"
    }
   ],
   "source": [
    "# 직전 전환율 그리기\n",
    "fig, ax = plt.subplots(nrows = 1, ncols = 1, figsize = (24, 6))\n",
    "\n",
    "sns.barplot(\n",
    "    data = df_signup_raw_v1,\n",
    "    x = 'step',\n",
    "    y = 'previous_conversion'\n",
    ")\n",
    "\n",
    "plt.show()\n",
    "\n",
    "## step마다 직전 전환율이 상승하고 있다.\n"
   ]
  },
  {
   "cell_type": "code",
   "execution_count": 314,
   "metadata": {
    "colab": {
     "base_uri": "https://localhost:8080/",
     "height": 542
    },
    "id": "b2TBuV5m2uzd",
    "outputId": "2d27c6f3-4518-4d6d-a001-0608d7391e5d"
   },
   "outputs": [
    {
     "data": {
      "application/vnd.plotly.v1+json": {
       "config": {
        "plotlyServerURL": "https://plot.ly"
       },
       "data": [
        {
         "hovertemplate": "step=%{x}<br>previous_conversion_v1=%{y}<extra></extra>",
         "legendgroup": "",
         "marker": {
          "color": "#636efa"
         },
         "name": "",
         "orientation": "v",
         "showlegend": false,
         "type": "funnel",
         "x": [
          "se_inflowed",
          "se_joined",
          "se_cert_pv",
          "se_cert_done",
          "se_tax_calculation",
          "se_tax_check",
          "se_tax_result"
         ],
         "xaxis": "x",
         "y": [
          null,
          31.5,
          50.9,
          59.3,
          82.4,
          96.9,
          51.1
         ],
         "yaxis": "y"
        }
       ],
       "layout": {
        "legend": {
         "tracegroupgap": 0
        },
        "margin": {
         "t": 60
        },
        "template": {
         "data": {
          "bar": [
           {
            "error_x": {
             "color": "#2a3f5f"
            },
            "error_y": {
             "color": "#2a3f5f"
            },
            "marker": {
             "line": {
              "color": "#E5ECF6",
              "width": 0.5
             },
             "pattern": {
              "fillmode": "overlay",
              "size": 10,
              "solidity": 0.2
             }
            },
            "type": "bar"
           }
          ],
          "barpolar": [
           {
            "marker": {
             "line": {
              "color": "#E5ECF6",
              "width": 0.5
             },
             "pattern": {
              "fillmode": "overlay",
              "size": 10,
              "solidity": 0.2
             }
            },
            "type": "barpolar"
           }
          ],
          "carpet": [
           {
            "aaxis": {
             "endlinecolor": "#2a3f5f",
             "gridcolor": "white",
             "linecolor": "white",
             "minorgridcolor": "white",
             "startlinecolor": "#2a3f5f"
            },
            "baxis": {
             "endlinecolor": "#2a3f5f",
             "gridcolor": "white",
             "linecolor": "white",
             "minorgridcolor": "white",
             "startlinecolor": "#2a3f5f"
            },
            "type": "carpet"
           }
          ],
          "choropleth": [
           {
            "colorbar": {
             "outlinewidth": 0,
             "ticks": ""
            },
            "type": "choropleth"
           }
          ],
          "contour": [
           {
            "colorbar": {
             "outlinewidth": 0,
             "ticks": ""
            },
            "colorscale": [
             [
              0,
              "#0d0887"
             ],
             [
              0.1111111111111111,
              "#46039f"
             ],
             [
              0.2222222222222222,
              "#7201a8"
             ],
             [
              0.3333333333333333,
              "#9c179e"
             ],
             [
              0.4444444444444444,
              "#bd3786"
             ],
             [
              0.5555555555555556,
              "#d8576b"
             ],
             [
              0.6666666666666666,
              "#ed7953"
             ],
             [
              0.7777777777777778,
              "#fb9f3a"
             ],
             [
              0.8888888888888888,
              "#fdca26"
             ],
             [
              1,
              "#f0f921"
             ]
            ],
            "type": "contour"
           }
          ],
          "contourcarpet": [
           {
            "colorbar": {
             "outlinewidth": 0,
             "ticks": ""
            },
            "type": "contourcarpet"
           }
          ],
          "heatmap": [
           {
            "colorbar": {
             "outlinewidth": 0,
             "ticks": ""
            },
            "colorscale": [
             [
              0,
              "#0d0887"
             ],
             [
              0.1111111111111111,
              "#46039f"
             ],
             [
              0.2222222222222222,
              "#7201a8"
             ],
             [
              0.3333333333333333,
              "#9c179e"
             ],
             [
              0.4444444444444444,
              "#bd3786"
             ],
             [
              0.5555555555555556,
              "#d8576b"
             ],
             [
              0.6666666666666666,
              "#ed7953"
             ],
             [
              0.7777777777777778,
              "#fb9f3a"
             ],
             [
              0.8888888888888888,
              "#fdca26"
             ],
             [
              1,
              "#f0f921"
             ]
            ],
            "type": "heatmap"
           }
          ],
          "heatmapgl": [
           {
            "colorbar": {
             "outlinewidth": 0,
             "ticks": ""
            },
            "colorscale": [
             [
              0,
              "#0d0887"
             ],
             [
              0.1111111111111111,
              "#46039f"
             ],
             [
              0.2222222222222222,
              "#7201a8"
             ],
             [
              0.3333333333333333,
              "#9c179e"
             ],
             [
              0.4444444444444444,
              "#bd3786"
             ],
             [
              0.5555555555555556,
              "#d8576b"
             ],
             [
              0.6666666666666666,
              "#ed7953"
             ],
             [
              0.7777777777777778,
              "#fb9f3a"
             ],
             [
              0.8888888888888888,
              "#fdca26"
             ],
             [
              1,
              "#f0f921"
             ]
            ],
            "type": "heatmapgl"
           }
          ],
          "histogram": [
           {
            "marker": {
             "pattern": {
              "fillmode": "overlay",
              "size": 10,
              "solidity": 0.2
             }
            },
            "type": "histogram"
           }
          ],
          "histogram2d": [
           {
            "colorbar": {
             "outlinewidth": 0,
             "ticks": ""
            },
            "colorscale": [
             [
              0,
              "#0d0887"
             ],
             [
              0.1111111111111111,
              "#46039f"
             ],
             [
              0.2222222222222222,
              "#7201a8"
             ],
             [
              0.3333333333333333,
              "#9c179e"
             ],
             [
              0.4444444444444444,
              "#bd3786"
             ],
             [
              0.5555555555555556,
              "#d8576b"
             ],
             [
              0.6666666666666666,
              "#ed7953"
             ],
             [
              0.7777777777777778,
              "#fb9f3a"
             ],
             [
              0.8888888888888888,
              "#fdca26"
             ],
             [
              1,
              "#f0f921"
             ]
            ],
            "type": "histogram2d"
           }
          ],
          "histogram2dcontour": [
           {
            "colorbar": {
             "outlinewidth": 0,
             "ticks": ""
            },
            "colorscale": [
             [
              0,
              "#0d0887"
             ],
             [
              0.1111111111111111,
              "#46039f"
             ],
             [
              0.2222222222222222,
              "#7201a8"
             ],
             [
              0.3333333333333333,
              "#9c179e"
             ],
             [
              0.4444444444444444,
              "#bd3786"
             ],
             [
              0.5555555555555556,
              "#d8576b"
             ],
             [
              0.6666666666666666,
              "#ed7953"
             ],
             [
              0.7777777777777778,
              "#fb9f3a"
             ],
             [
              0.8888888888888888,
              "#fdca26"
             ],
             [
              1,
              "#f0f921"
             ]
            ],
            "type": "histogram2dcontour"
           }
          ],
          "mesh3d": [
           {
            "colorbar": {
             "outlinewidth": 0,
             "ticks": ""
            },
            "type": "mesh3d"
           }
          ],
          "parcoords": [
           {
            "line": {
             "colorbar": {
              "outlinewidth": 0,
              "ticks": ""
             }
            },
            "type": "parcoords"
           }
          ],
          "pie": [
           {
            "automargin": true,
            "type": "pie"
           }
          ],
          "scatter": [
           {
            "fillpattern": {
             "fillmode": "overlay",
             "size": 10,
             "solidity": 0.2
            },
            "type": "scatter"
           }
          ],
          "scatter3d": [
           {
            "line": {
             "colorbar": {
              "outlinewidth": 0,
              "ticks": ""
             }
            },
            "marker": {
             "colorbar": {
              "outlinewidth": 0,
              "ticks": ""
             }
            },
            "type": "scatter3d"
           }
          ],
          "scattercarpet": [
           {
            "marker": {
             "colorbar": {
              "outlinewidth": 0,
              "ticks": ""
             }
            },
            "type": "scattercarpet"
           }
          ],
          "scattergeo": [
           {
            "marker": {
             "colorbar": {
              "outlinewidth": 0,
              "ticks": ""
             }
            },
            "type": "scattergeo"
           }
          ],
          "scattergl": [
           {
            "marker": {
             "colorbar": {
              "outlinewidth": 0,
              "ticks": ""
             }
            },
            "type": "scattergl"
           }
          ],
          "scattermapbox": [
           {
            "marker": {
             "colorbar": {
              "outlinewidth": 0,
              "ticks": ""
             }
            },
            "type": "scattermapbox"
           }
          ],
          "scatterpolar": [
           {
            "marker": {
             "colorbar": {
              "outlinewidth": 0,
              "ticks": ""
             }
            },
            "type": "scatterpolar"
           }
          ],
          "scatterpolargl": [
           {
            "marker": {
             "colorbar": {
              "outlinewidth": 0,
              "ticks": ""
             }
            },
            "type": "scatterpolargl"
           }
          ],
          "scatterternary": [
           {
            "marker": {
             "colorbar": {
              "outlinewidth": 0,
              "ticks": ""
             }
            },
            "type": "scatterternary"
           }
          ],
          "surface": [
           {
            "colorbar": {
             "outlinewidth": 0,
             "ticks": ""
            },
            "colorscale": [
             [
              0,
              "#0d0887"
             ],
             [
              0.1111111111111111,
              "#46039f"
             ],
             [
              0.2222222222222222,
              "#7201a8"
             ],
             [
              0.3333333333333333,
              "#9c179e"
             ],
             [
              0.4444444444444444,
              "#bd3786"
             ],
             [
              0.5555555555555556,
              "#d8576b"
             ],
             [
              0.6666666666666666,
              "#ed7953"
             ],
             [
              0.7777777777777778,
              "#fb9f3a"
             ],
             [
              0.8888888888888888,
              "#fdca26"
             ],
             [
              1,
              "#f0f921"
             ]
            ],
            "type": "surface"
           }
          ],
          "table": [
           {
            "cells": {
             "fill": {
              "color": "#EBF0F8"
             },
             "line": {
              "color": "white"
             }
            },
            "header": {
             "fill": {
              "color": "#C8D4E3"
             },
             "line": {
              "color": "white"
             }
            },
            "type": "table"
           }
          ]
         },
         "layout": {
          "annotationdefaults": {
           "arrowcolor": "#2a3f5f",
           "arrowhead": 0,
           "arrowwidth": 1
          },
          "autotypenumbers": "strict",
          "coloraxis": {
           "colorbar": {
            "outlinewidth": 0,
            "ticks": ""
           }
          },
          "colorscale": {
           "diverging": [
            [
             0,
             "#8e0152"
            ],
            [
             0.1,
             "#c51b7d"
            ],
            [
             0.2,
             "#de77ae"
            ],
            [
             0.3,
             "#f1b6da"
            ],
            [
             0.4,
             "#fde0ef"
            ],
            [
             0.5,
             "#f7f7f7"
            ],
            [
             0.6,
             "#e6f5d0"
            ],
            [
             0.7,
             "#b8e186"
            ],
            [
             0.8,
             "#7fbc41"
            ],
            [
             0.9,
             "#4d9221"
            ],
            [
             1,
             "#276419"
            ]
           ],
           "sequential": [
            [
             0,
             "#0d0887"
            ],
            [
             0.1111111111111111,
             "#46039f"
            ],
            [
             0.2222222222222222,
             "#7201a8"
            ],
            [
             0.3333333333333333,
             "#9c179e"
            ],
            [
             0.4444444444444444,
             "#bd3786"
            ],
            [
             0.5555555555555556,
             "#d8576b"
            ],
            [
             0.6666666666666666,
             "#ed7953"
            ],
            [
             0.7777777777777778,
             "#fb9f3a"
            ],
            [
             0.8888888888888888,
             "#fdca26"
            ],
            [
             1,
             "#f0f921"
            ]
           ],
           "sequentialminus": [
            [
             0,
             "#0d0887"
            ],
            [
             0.1111111111111111,
             "#46039f"
            ],
            [
             0.2222222222222222,
             "#7201a8"
            ],
            [
             0.3333333333333333,
             "#9c179e"
            ],
            [
             0.4444444444444444,
             "#bd3786"
            ],
            [
             0.5555555555555556,
             "#d8576b"
            ],
            [
             0.6666666666666666,
             "#ed7953"
            ],
            [
             0.7777777777777778,
             "#fb9f3a"
            ],
            [
             0.8888888888888888,
             "#fdca26"
            ],
            [
             1,
             "#f0f921"
            ]
           ]
          },
          "colorway": [
           "#636efa",
           "#EF553B",
           "#00cc96",
           "#ab63fa",
           "#FFA15A",
           "#19d3f3",
           "#FF6692",
           "#B6E880",
           "#FF97FF",
           "#FECB52"
          ],
          "font": {
           "color": "#2a3f5f"
          },
          "geo": {
           "bgcolor": "white",
           "lakecolor": "white",
           "landcolor": "#E5ECF6",
           "showlakes": true,
           "showland": true,
           "subunitcolor": "white"
          },
          "hoverlabel": {
           "align": "left"
          },
          "hovermode": "closest",
          "mapbox": {
           "style": "light"
          },
          "paper_bgcolor": "white",
          "plot_bgcolor": "#E5ECF6",
          "polar": {
           "angularaxis": {
            "gridcolor": "white",
            "linecolor": "white",
            "ticks": ""
           },
           "bgcolor": "#E5ECF6",
           "radialaxis": {
            "gridcolor": "white",
            "linecolor": "white",
            "ticks": ""
           }
          },
          "scene": {
           "xaxis": {
            "backgroundcolor": "#E5ECF6",
            "gridcolor": "white",
            "gridwidth": 2,
            "linecolor": "white",
            "showbackground": true,
            "ticks": "",
            "zerolinecolor": "white"
           },
           "yaxis": {
            "backgroundcolor": "#E5ECF6",
            "gridcolor": "white",
            "gridwidth": 2,
            "linecolor": "white",
            "showbackground": true,
            "ticks": "",
            "zerolinecolor": "white"
           },
           "zaxis": {
            "backgroundcolor": "#E5ECF6",
            "gridcolor": "white",
            "gridwidth": 2,
            "linecolor": "white",
            "showbackground": true,
            "ticks": "",
            "zerolinecolor": "white"
           }
          },
          "shapedefaults": {
           "line": {
            "color": "#2a3f5f"
           }
          },
          "ternary": {
           "aaxis": {
            "gridcolor": "white",
            "linecolor": "white",
            "ticks": ""
           },
           "baxis": {
            "gridcolor": "white",
            "linecolor": "white",
            "ticks": ""
           },
           "bgcolor": "#E5ECF6",
           "caxis": {
            "gridcolor": "white",
            "linecolor": "white",
            "ticks": ""
           }
          },
          "title": {
           "x": 0.05
          },
          "xaxis": {
           "automargin": true,
           "gridcolor": "white",
           "linecolor": "white",
           "ticks": "",
           "title": {
            "standoff": 15
           },
           "zerolinecolor": "white",
           "zerolinewidth": 2
          },
          "yaxis": {
           "automargin": true,
           "gridcolor": "white",
           "linecolor": "white",
           "ticks": "",
           "title": {
            "standoff": 15
           },
           "zerolinecolor": "white",
           "zerolinewidth": 2
          }
         }
        },
        "xaxis": {
         "anchor": "y",
         "domain": [
          0,
          1
         ],
         "title": {
          "text": "step"
         }
        },
        "yaxis": {
         "anchor": "x",
         "domain": [
          0,
          1
         ],
         "title": {
          "text": "previous_conversion_v1"
         }
        }
       }
      },
      "text/html": [
       "<div>                            <div id=\"47ce304b-c122-4076-ac2d-b2bcb28d5191\" class=\"plotly-graph-div\" style=\"height:525px; width:100%;\"></div>            <script type=\"text/javascript\">                require([\"plotly\"], function(Plotly) {                    window.PLOTLYENV=window.PLOTLYENV || {};                                    if (document.getElementById(\"47ce304b-c122-4076-ac2d-b2bcb28d5191\")) {                    Plotly.newPlot(                        \"47ce304b-c122-4076-ac2d-b2bcb28d5191\",                        [{\"hovertemplate\":\"step=%{x}<br>previous_conversion_v1=%{y}<extra></extra>\",\"legendgroup\":\"\",\"marker\":{\"color\":\"#636efa\"},\"name\":\"\",\"orientation\":\"v\",\"showlegend\":false,\"x\":[\"se_inflowed\",\"se_joined\",\"se_cert_pv\",\"se_cert_done\",\"se_tax_calculation\",\"se_tax_check\",\"se_tax_result\"],\"xaxis\":\"x\",\"y\":[null,31.5,50.9,59.3,82.4,96.9,51.1],\"yaxis\":\"y\",\"type\":\"funnel\"}],                        {\"template\":{\"data\":{\"histogram2dcontour\":[{\"type\":\"histogram2dcontour\",\"colorbar\":{\"outlinewidth\":0,\"ticks\":\"\"},\"colorscale\":[[0.0,\"#0d0887\"],[0.1111111111111111,\"#46039f\"],[0.2222222222222222,\"#7201a8\"],[0.3333333333333333,\"#9c179e\"],[0.4444444444444444,\"#bd3786\"],[0.5555555555555556,\"#d8576b\"],[0.6666666666666666,\"#ed7953\"],[0.7777777777777778,\"#fb9f3a\"],[0.8888888888888888,\"#fdca26\"],[1.0,\"#f0f921\"]]}],\"choropleth\":[{\"type\":\"choropleth\",\"colorbar\":{\"outlinewidth\":0,\"ticks\":\"\"}}],\"histogram2d\":[{\"type\":\"histogram2d\",\"colorbar\":{\"outlinewidth\":0,\"ticks\":\"\"},\"colorscale\":[[0.0,\"#0d0887\"],[0.1111111111111111,\"#46039f\"],[0.2222222222222222,\"#7201a8\"],[0.3333333333333333,\"#9c179e\"],[0.4444444444444444,\"#bd3786\"],[0.5555555555555556,\"#d8576b\"],[0.6666666666666666,\"#ed7953\"],[0.7777777777777778,\"#fb9f3a\"],[0.8888888888888888,\"#fdca26\"],[1.0,\"#f0f921\"]]}],\"heatmap\":[{\"type\":\"heatmap\",\"colorbar\":{\"outlinewidth\":0,\"ticks\":\"\"},\"colorscale\":[[0.0,\"#0d0887\"],[0.1111111111111111,\"#46039f\"],[0.2222222222222222,\"#7201a8\"],[0.3333333333333333,\"#9c179e\"],[0.4444444444444444,\"#bd3786\"],[0.5555555555555556,\"#d8576b\"],[0.6666666666666666,\"#ed7953\"],[0.7777777777777778,\"#fb9f3a\"],[0.8888888888888888,\"#fdca26\"],[1.0,\"#f0f921\"]]}],\"heatmapgl\":[{\"type\":\"heatmapgl\",\"colorbar\":{\"outlinewidth\":0,\"ticks\":\"\"},\"colorscale\":[[0.0,\"#0d0887\"],[0.1111111111111111,\"#46039f\"],[0.2222222222222222,\"#7201a8\"],[0.3333333333333333,\"#9c179e\"],[0.4444444444444444,\"#bd3786\"],[0.5555555555555556,\"#d8576b\"],[0.6666666666666666,\"#ed7953\"],[0.7777777777777778,\"#fb9f3a\"],[0.8888888888888888,\"#fdca26\"],[1.0,\"#f0f921\"]]}],\"contourcarpet\":[{\"type\":\"contourcarpet\",\"colorbar\":{\"outlinewidth\":0,\"ticks\":\"\"}}],\"contour\":[{\"type\":\"contour\",\"colorbar\":{\"outlinewidth\":0,\"ticks\":\"\"},\"colorscale\":[[0.0,\"#0d0887\"],[0.1111111111111111,\"#46039f\"],[0.2222222222222222,\"#7201a8\"],[0.3333333333333333,\"#9c179e\"],[0.4444444444444444,\"#bd3786\"],[0.5555555555555556,\"#d8576b\"],[0.6666666666666666,\"#ed7953\"],[0.7777777777777778,\"#fb9f3a\"],[0.8888888888888888,\"#fdca26\"],[1.0,\"#f0f921\"]]}],\"surface\":[{\"type\":\"surface\",\"colorbar\":{\"outlinewidth\":0,\"ticks\":\"\"},\"colorscale\":[[0.0,\"#0d0887\"],[0.1111111111111111,\"#46039f\"],[0.2222222222222222,\"#7201a8\"],[0.3333333333333333,\"#9c179e\"],[0.4444444444444444,\"#bd3786\"],[0.5555555555555556,\"#d8576b\"],[0.6666666666666666,\"#ed7953\"],[0.7777777777777778,\"#fb9f3a\"],[0.8888888888888888,\"#fdca26\"],[1.0,\"#f0f921\"]]}],\"mesh3d\":[{\"type\":\"mesh3d\",\"colorbar\":{\"outlinewidth\":0,\"ticks\":\"\"}}],\"scatter\":[{\"fillpattern\":{\"fillmode\":\"overlay\",\"size\":10,\"solidity\":0.2},\"type\":\"scatter\"}],\"parcoords\":[{\"type\":\"parcoords\",\"line\":{\"colorbar\":{\"outlinewidth\":0,\"ticks\":\"\"}}}],\"scatterpolargl\":[{\"type\":\"scatterpolargl\",\"marker\":{\"colorbar\":{\"outlinewidth\":0,\"ticks\":\"\"}}}],\"bar\":[{\"error_x\":{\"color\":\"#2a3f5f\"},\"error_y\":{\"color\":\"#2a3f5f\"},\"marker\":{\"line\":{\"color\":\"#E5ECF6\",\"width\":0.5},\"pattern\":{\"fillmode\":\"overlay\",\"size\":10,\"solidity\":0.2}},\"type\":\"bar\"}],\"scattergeo\":[{\"type\":\"scattergeo\",\"marker\":{\"colorbar\":{\"outlinewidth\":0,\"ticks\":\"\"}}}],\"scatterpolar\":[{\"type\":\"scatterpolar\",\"marker\":{\"colorbar\":{\"outlinewidth\":0,\"ticks\":\"\"}}}],\"histogram\":[{\"marker\":{\"pattern\":{\"fillmode\":\"overlay\",\"size\":10,\"solidity\":0.2}},\"type\":\"histogram\"}],\"scattergl\":[{\"type\":\"scattergl\",\"marker\":{\"colorbar\":{\"outlinewidth\":0,\"ticks\":\"\"}}}],\"scatter3d\":[{\"type\":\"scatter3d\",\"line\":{\"colorbar\":{\"outlinewidth\":0,\"ticks\":\"\"}},\"marker\":{\"colorbar\":{\"outlinewidth\":0,\"ticks\":\"\"}}}],\"scattermapbox\":[{\"type\":\"scattermapbox\",\"marker\":{\"colorbar\":{\"outlinewidth\":0,\"ticks\":\"\"}}}],\"scatterternary\":[{\"type\":\"scatterternary\",\"marker\":{\"colorbar\":{\"outlinewidth\":0,\"ticks\":\"\"}}}],\"scattercarpet\":[{\"type\":\"scattercarpet\",\"marker\":{\"colorbar\":{\"outlinewidth\":0,\"ticks\":\"\"}}}],\"carpet\":[{\"aaxis\":{\"endlinecolor\":\"#2a3f5f\",\"gridcolor\":\"white\",\"linecolor\":\"white\",\"minorgridcolor\":\"white\",\"startlinecolor\":\"#2a3f5f\"},\"baxis\":{\"endlinecolor\":\"#2a3f5f\",\"gridcolor\":\"white\",\"linecolor\":\"white\",\"minorgridcolor\":\"white\",\"startlinecolor\":\"#2a3f5f\"},\"type\":\"carpet\"}],\"table\":[{\"cells\":{\"fill\":{\"color\":\"#EBF0F8\"},\"line\":{\"color\":\"white\"}},\"header\":{\"fill\":{\"color\":\"#C8D4E3\"},\"line\":{\"color\":\"white\"}},\"type\":\"table\"}],\"barpolar\":[{\"marker\":{\"line\":{\"color\":\"#E5ECF6\",\"width\":0.5},\"pattern\":{\"fillmode\":\"overlay\",\"size\":10,\"solidity\":0.2}},\"type\":\"barpolar\"}],\"pie\":[{\"automargin\":true,\"type\":\"pie\"}]},\"layout\":{\"autotypenumbers\":\"strict\",\"colorway\":[\"#636efa\",\"#EF553B\",\"#00cc96\",\"#ab63fa\",\"#FFA15A\",\"#19d3f3\",\"#FF6692\",\"#B6E880\",\"#FF97FF\",\"#FECB52\"],\"font\":{\"color\":\"#2a3f5f\"},\"hovermode\":\"closest\",\"hoverlabel\":{\"align\":\"left\"},\"paper_bgcolor\":\"white\",\"plot_bgcolor\":\"#E5ECF6\",\"polar\":{\"bgcolor\":\"#E5ECF6\",\"angularaxis\":{\"gridcolor\":\"white\",\"linecolor\":\"white\",\"ticks\":\"\"},\"radialaxis\":{\"gridcolor\":\"white\",\"linecolor\":\"white\",\"ticks\":\"\"}},\"ternary\":{\"bgcolor\":\"#E5ECF6\",\"aaxis\":{\"gridcolor\":\"white\",\"linecolor\":\"white\",\"ticks\":\"\"},\"baxis\":{\"gridcolor\":\"white\",\"linecolor\":\"white\",\"ticks\":\"\"},\"caxis\":{\"gridcolor\":\"white\",\"linecolor\":\"white\",\"ticks\":\"\"}},\"coloraxis\":{\"colorbar\":{\"outlinewidth\":0,\"ticks\":\"\"}},\"colorscale\":{\"sequential\":[[0.0,\"#0d0887\"],[0.1111111111111111,\"#46039f\"],[0.2222222222222222,\"#7201a8\"],[0.3333333333333333,\"#9c179e\"],[0.4444444444444444,\"#bd3786\"],[0.5555555555555556,\"#d8576b\"],[0.6666666666666666,\"#ed7953\"],[0.7777777777777778,\"#fb9f3a\"],[0.8888888888888888,\"#fdca26\"],[1.0,\"#f0f921\"]],\"sequentialminus\":[[0.0,\"#0d0887\"],[0.1111111111111111,\"#46039f\"],[0.2222222222222222,\"#7201a8\"],[0.3333333333333333,\"#9c179e\"],[0.4444444444444444,\"#bd3786\"],[0.5555555555555556,\"#d8576b\"],[0.6666666666666666,\"#ed7953\"],[0.7777777777777778,\"#fb9f3a\"],[0.8888888888888888,\"#fdca26\"],[1.0,\"#f0f921\"]],\"diverging\":[[0,\"#8e0152\"],[0.1,\"#c51b7d\"],[0.2,\"#de77ae\"],[0.3,\"#f1b6da\"],[0.4,\"#fde0ef\"],[0.5,\"#f7f7f7\"],[0.6,\"#e6f5d0\"],[0.7,\"#b8e186\"],[0.8,\"#7fbc41\"],[0.9,\"#4d9221\"],[1,\"#276419\"]]},\"xaxis\":{\"gridcolor\":\"white\",\"linecolor\":\"white\",\"ticks\":\"\",\"title\":{\"standoff\":15},\"zerolinecolor\":\"white\",\"automargin\":true,\"zerolinewidth\":2},\"yaxis\":{\"gridcolor\":\"white\",\"linecolor\":\"white\",\"ticks\":\"\",\"title\":{\"standoff\":15},\"zerolinecolor\":\"white\",\"automargin\":true,\"zerolinewidth\":2},\"scene\":{\"xaxis\":{\"backgroundcolor\":\"#E5ECF6\",\"gridcolor\":\"white\",\"linecolor\":\"white\",\"showbackground\":true,\"ticks\":\"\",\"zerolinecolor\":\"white\",\"gridwidth\":2},\"yaxis\":{\"backgroundcolor\":\"#E5ECF6\",\"gridcolor\":\"white\",\"linecolor\":\"white\",\"showbackground\":true,\"ticks\":\"\",\"zerolinecolor\":\"white\",\"gridwidth\":2},\"zaxis\":{\"backgroundcolor\":\"#E5ECF6\",\"gridcolor\":\"white\",\"linecolor\":\"white\",\"showbackground\":true,\"ticks\":\"\",\"zerolinecolor\":\"white\",\"gridwidth\":2}},\"shapedefaults\":{\"line\":{\"color\":\"#2a3f5f\"}},\"annotationdefaults\":{\"arrowcolor\":\"#2a3f5f\",\"arrowhead\":0,\"arrowwidth\":1},\"geo\":{\"bgcolor\":\"white\",\"landcolor\":\"#E5ECF6\",\"subunitcolor\":\"white\",\"showland\":true,\"showlakes\":true,\"lakecolor\":\"white\"},\"title\":{\"x\":0.05},\"mapbox\":{\"style\":\"light\"}}},\"xaxis\":{\"anchor\":\"y\",\"domain\":[0.0,1.0],\"title\":{\"text\":\"step\"}},\"yaxis\":{\"anchor\":\"x\",\"domain\":[0.0,1.0],\"title\":{\"text\":\"previous_conversion_v1\"}},\"legend\":{\"tracegroupgap\":0},\"margin\":{\"t\":60}},                        {\"responsive\": true}                    ).then(function(){\n",
       "                            \n",
       "var gd = document.getElementById('47ce304b-c122-4076-ac2d-b2bcb28d5191');\n",
       "var x = new MutationObserver(function (mutations, observer) {{\n",
       "        var display = window.getComputedStyle(gd).display;\n",
       "        if (!display || display === 'none') {{\n",
       "            console.log([gd, 'removed!']);\n",
       "            Plotly.purge(gd);\n",
       "            observer.disconnect();\n",
       "        }}\n",
       "}});\n",
       "\n",
       "// Listen for the removal of the full notebook cells\n",
       "var notebookContainer = gd.closest('#notebook-container');\n",
       "if (notebookContainer) {{\n",
       "    x.observe(notebookContainer, {childList: true});\n",
       "}}\n",
       "\n",
       "// Listen for the clearing of the current output cell\n",
       "var outputEl = gd.closest('.output');\n",
       "if (outputEl) {{\n",
       "    x.observe(outputEl, {childList: true});\n",
       "}}\n",
       "\n",
       "                        })                };                });            </script>        </div>"
      ]
     },
     "metadata": {},
     "output_type": "display_data"
    }
   ],
   "source": [
    "# plotly\n",
    "## 직전전환율 한번 더 보기 \n",
    "df_signup_raw_v1['previous_conversion_v1'] = round(df_signup_raw_v1['previous_conversion']*100, 1)\n",
    "fig = px.funnel(\n",
    "    data_frame = df_signup_raw_v1,\n",
    "    x = 'step',\n",
    "    y = 'previous_conversion_v1'\n",
    ")\n",
    "\n",
    "fig.show()\n",
    "\n",
    "## 직전 전환율 앞에부분을 더개선하면 더많은 유저를 진입시킬수있겠다"
   ]
  },
  {
   "cell_type": "markdown",
   "metadata": {
    "id": "tuyxYaw2zI06"
   },
   "source": [
    "### 3.1.3. 가입전환율 드릴다운"
   ]
  },
  {
   "cell_type": "markdown",
   "metadata": {
    "id": "kUVhNANjSTLp"
   },
   "source": [
    "#### 데이터 준비"
   ]
  },
  {
   "cell_type": "code",
   "execution_count": 315,
   "metadata": {
    "colab": {
     "base_uri": "https://localhost:8080/"
    },
    "id": "WsJcgMoIzIsj",
    "outputId": "532c2642-888c-406f-fca2-0d273db761a9"
   },
   "outputs": [
    {
     "name": "stdout",
     "output_type": "stream",
     "text": [
      "<class 'pandas.core.frame.DataFrame'>\n",
      "RangeIndex: 1902435 entries, 0 to 1902434\n",
      "Data columns (total 34 columns):\n",
      " #   Column                 Dtype  \n",
      "---  ------                 -----  \n",
      " 0   dates                  object \n",
      " 1   hours                  int64  \n",
      " 2   age_layer              object \n",
      " 3   se_inflowed            int64  \n",
      " 4   se_joined              float64\n",
      " 5   se_cert_pv             float64\n",
      " 6   se_cert_done           float64\n",
      " 7   se_tax_calculation     float64\n",
      " 8   se_tax_check           float64\n",
      " 9   se_pay_pv              float64\n",
      " 10  se_is_not_target       float64\n",
      " 11  se_ref                 float64\n",
      " 12  se_ref_kt              float64\n",
      " 13  se_ref_lk              float64\n",
      " 14  se_additional_info_pv  float64\n",
      " 15  se_add_done            float64\n",
      " 16  se_edit_done           float64\n",
      " 17  se_save_done           float64\n",
      " 18  et_inflowed            object \n",
      " 19  et_joined              object \n",
      " 20  et_cert_pv             object \n",
      " 21  et_cert_done           object \n",
      " 22  et_tax_calculation     object \n",
      " 23  et_tax_check           object \n",
      " 24  et_pay_pv              object \n",
      " 25  et_is_not_target       object \n",
      " 26  et_ref                 object \n",
      " 27  et_ref_kt              object \n",
      " 28  et_ref_lk              object \n",
      " 29  et_additional_info_pv  object \n",
      " 30  et_add_done            object \n",
      " 31  et_edit_done           object \n",
      " 32  et_save_done           object \n",
      " 33  basic                  int64  \n",
      "dtypes: float64(14), int64(3), object(17)\n",
      "memory usage: 493.5+ MB\n"
     ]
    }
   ],
   "source": [
    "df_base.info()"
   ]
  },
  {
   "cell_type": "code",
   "execution_count": 316,
   "metadata": {
    "colab": {
     "base_uri": "https://localhost:8080/"
    },
    "id": "C6Vr-4_Cf4Ko",
    "outputId": "fc7c511d-1ff8-4c2b-fbc5-85412e1765fc"
   },
   "outputs": [
    {
     "data": {
      "text/plain": [
       "['se_inflowed',\n",
       " 'se_joined',\n",
       " 'se_cert_pv',\n",
       " 'se_cert_done',\n",
       " 'se_tax_calculation',\n",
       " 'se_tax_check']"
      ]
     },
     "execution_count": 316,
     "metadata": {},
     "output_type": "execute_result"
    }
   ],
   "source": [
    "df_base.columns[3:9].tolist()"
   ]
  },
  {
   "cell_type": "code",
   "execution_count": 317,
   "metadata": {
    "colab": {
     "base_uri": "https://localhost:8080/",
     "height": 269
    },
    "id": "4jqeiQnngTRs",
    "outputId": "5bd593ab-dab0-43fa-c2ec-67cc63509784"
   },
   "outputs": [
    {
     "data": {
      "text/html": [
       "<div>\n",
       "<style scoped>\n",
       "    .dataframe tbody tr th:only-of-type {\n",
       "        vertical-align: middle;\n",
       "    }\n",
       "\n",
       "    .dataframe tbody tr th {\n",
       "        vertical-align: top;\n",
       "    }\n",
       "\n",
       "    .dataframe thead th {\n",
       "        text-align: right;\n",
       "    }\n",
       "</style>\n",
       "<table border=\"1\" class=\"dataframe\">\n",
       "  <thead>\n",
       "    <tr style=\"text-align: right;\">\n",
       "      <th></th>\n",
       "      <th>se_inflowed</th>\n",
       "      <th>se_joined</th>\n",
       "      <th>se_cert_pv</th>\n",
       "      <th>se_cert_done</th>\n",
       "      <th>se_tax_calculation</th>\n",
       "      <th>se_tax_check</th>\n",
       "      <th>se_pay_pv</th>\n",
       "      <th>se_is_not_target</th>\n",
       "    </tr>\n",
       "    <tr>\n",
       "      <th>age_layer</th>\n",
       "      <th></th>\n",
       "      <th></th>\n",
       "      <th></th>\n",
       "      <th></th>\n",
       "      <th></th>\n",
       "      <th></th>\n",
       "      <th></th>\n",
       "      <th></th>\n",
       "    </tr>\n",
       "  </thead>\n",
       "  <tbody>\n",
       "    <tr>\n",
       "      <th>20s</th>\n",
       "      <td>109880</td>\n",
       "      <td>97104</td>\n",
       "      <td>59990</td>\n",
       "      <td>52526</td>\n",
       "      <td>42020</td>\n",
       "      <td>39948</td>\n",
       "      <td>9806</td>\n",
       "      <td>6002</td>\n",
       "    </tr>\n",
       "    <tr>\n",
       "      <th>30s</th>\n",
       "      <td>91655</td>\n",
       "      <td>77979</td>\n",
       "      <td>60197</td>\n",
       "      <td>52864</td>\n",
       "      <td>43915</td>\n",
       "      <td>42988</td>\n",
       "      <td>10385</td>\n",
       "      <td>11224</td>\n",
       "    </tr>\n",
       "    <tr>\n",
       "      <th>40s</th>\n",
       "      <td>106767</td>\n",
       "      <td>83084</td>\n",
       "      <td>69152</td>\n",
       "      <td>58306</td>\n",
       "      <td>48946</td>\n",
       "      <td>47815</td>\n",
       "      <td>10610</td>\n",
       "      <td>16855</td>\n",
       "    </tr>\n",
       "    <tr>\n",
       "      <th>50s</th>\n",
       "      <td>47311</td>\n",
       "      <td>26144</td>\n",
       "      <td>18445</td>\n",
       "      <td>13504</td>\n",
       "      <td>11108</td>\n",
       "      <td>10706</td>\n",
       "      <td>2630</td>\n",
       "      <td>4370</td>\n",
       "    </tr>\n",
       "    <tr>\n",
       "      <th>60s</th>\n",
       "      <td>12017</td>\n",
       "      <td>6196</td>\n",
       "      <td>4804</td>\n",
       "      <td>3147</td>\n",
       "      <td>2687</td>\n",
       "      <td>2569</td>\n",
       "      <td>638</td>\n",
       "      <td>1072</td>\n",
       "    </tr>\n",
       "    <tr>\n",
       "      <th>Unknown</th>\n",
       "      <td>1532657</td>\n",
       "      <td>308035</td>\n",
       "      <td>92206</td>\n",
       "      <td>314</td>\n",
       "      <td>269</td>\n",
       "      <td>264</td>\n",
       "      <td>68</td>\n",
       "      <td>102</td>\n",
       "    </tr>\n",
       "  </tbody>\n",
       "</table>\n",
       "</div>"
      ],
      "text/plain": [
       "           se_inflowed  se_joined  se_cert_pv  se_cert_done  \\\n",
       "age_layer                                                     \n",
       "20s             109880      97104       59990         52526   \n",
       "30s              91655      77979       60197         52864   \n",
       "40s             106767      83084       69152         58306   \n",
       "50s              47311      26144       18445         13504   \n",
       "60s              12017       6196        4804          3147   \n",
       "Unknown        1532657     308035       92206           314   \n",
       "\n",
       "           se_tax_calculation  se_tax_check  se_pay_pv  se_is_not_target  \n",
       "age_layer                                                                 \n",
       "20s                     42020         39948       9806              6002  \n",
       "30s                     43915         42988      10385             11224  \n",
       "40s                     48946         47815      10610             16855  \n",
       "50s                     11108         10706       2630              4370  \n",
       "60s                      2687          2569        638              1072  \n",
       "Unknown                   269           264         68               102  "
      ]
     },
     "execution_count": 317,
     "metadata": {},
     "output_type": "execute_result"
    }
   ],
   "source": [
    "\n",
    "df_base.groupby(['age_layer'])[df_base.columns[3:10+1]].agg('nunique')  ## reset_index()를 하지 않으니까 안정적이지 않다."
   ]
  },
  {
   "cell_type": "code",
   "execution_count": 318,
   "metadata": {
    "colab": {
     "base_uri": "https://localhost:8080/",
     "height": 274
    },
    "id": "MKHoHc8q1Jr2",
    "outputId": "a92ac63c-5639-421f-ba3c-57acca8ef7e5"
   },
   "outputs": [
    {
     "name": "stdout",
     "output_type": "stream",
     "text": [
      "Wall time: 3.06 s\n"
     ]
    },
    {
     "data": {
      "text/html": [
       "<div>\n",
       "<style scoped>\n",
       "    .dataframe tbody tr th:only-of-type {\n",
       "        vertical-align: middle;\n",
       "    }\n",
       "\n",
       "    .dataframe tbody tr th {\n",
       "        vertical-align: top;\n",
       "    }\n",
       "\n",
       "    .dataframe thead th {\n",
       "        text-align: right;\n",
       "    }\n",
       "</style>\n",
       "<table border=\"1\" class=\"dataframe\">\n",
       "  <thead>\n",
       "    <tr style=\"text-align: right;\">\n",
       "      <th></th>\n",
       "      <th>age_layer</th>\n",
       "      <th>se_inflowed</th>\n",
       "      <th>se_joined</th>\n",
       "      <th>se_cert_pv</th>\n",
       "      <th>se_cert_done</th>\n",
       "      <th>se_tax_calculation</th>\n",
       "      <th>se_tax_check</th>\n",
       "      <th>se_pay_pv</th>\n",
       "      <th>se_is_not_target</th>\n",
       "    </tr>\n",
       "  </thead>\n",
       "  <tbody>\n",
       "    <tr>\n",
       "      <th>0</th>\n",
       "      <td>20s</td>\n",
       "      <td>109880</td>\n",
       "      <td>97104</td>\n",
       "      <td>59990</td>\n",
       "      <td>52526</td>\n",
       "      <td>42020</td>\n",
       "      <td>39948</td>\n",
       "      <td>9806</td>\n",
       "      <td>6002</td>\n",
       "    </tr>\n",
       "    <tr>\n",
       "      <th>1</th>\n",
       "      <td>30s</td>\n",
       "      <td>91655</td>\n",
       "      <td>77979</td>\n",
       "      <td>60197</td>\n",
       "      <td>52864</td>\n",
       "      <td>43915</td>\n",
       "      <td>42988</td>\n",
       "      <td>10385</td>\n",
       "      <td>11224</td>\n",
       "    </tr>\n",
       "    <tr>\n",
       "      <th>2</th>\n",
       "      <td>40s</td>\n",
       "      <td>106767</td>\n",
       "      <td>83084</td>\n",
       "      <td>69152</td>\n",
       "      <td>58306</td>\n",
       "      <td>48946</td>\n",
       "      <td>47815</td>\n",
       "      <td>10610</td>\n",
       "      <td>16855</td>\n",
       "    </tr>\n",
       "    <tr>\n",
       "      <th>3</th>\n",
       "      <td>50s</td>\n",
       "      <td>47311</td>\n",
       "      <td>26144</td>\n",
       "      <td>18445</td>\n",
       "      <td>13504</td>\n",
       "      <td>11108</td>\n",
       "      <td>10706</td>\n",
       "      <td>2630</td>\n",
       "      <td>4370</td>\n",
       "    </tr>\n",
       "    <tr>\n",
       "      <th>4</th>\n",
       "      <td>60s</td>\n",
       "      <td>12017</td>\n",
       "      <td>6196</td>\n",
       "      <td>4804</td>\n",
       "      <td>3147</td>\n",
       "      <td>2687</td>\n",
       "      <td>2569</td>\n",
       "      <td>638</td>\n",
       "      <td>1072</td>\n",
       "    </tr>\n",
       "    <tr>\n",
       "      <th>5</th>\n",
       "      <td>Unknown</td>\n",
       "      <td>1532657</td>\n",
       "      <td>308035</td>\n",
       "      <td>92206</td>\n",
       "      <td>314</td>\n",
       "      <td>269</td>\n",
       "      <td>264</td>\n",
       "      <td>68</td>\n",
       "      <td>102</td>\n",
       "    </tr>\n",
       "  </tbody>\n",
       "</table>\n",
       "</div>"
      ],
      "text/plain": [
       "  age_layer  se_inflowed  se_joined  se_cert_pv  se_cert_done  \\\n",
       "0       20s       109880      97104       59990         52526   \n",
       "1       30s        91655      77979       60197         52864   \n",
       "2       40s       106767      83084       69152         58306   \n",
       "3       50s        47311      26144       18445         13504   \n",
       "4       60s        12017       6196        4804          3147   \n",
       "5   Unknown      1532657     308035       92206           314   \n",
       "\n",
       "   se_tax_calculation  se_tax_check  se_pay_pv  se_is_not_target  \n",
       "0               42020         39948       9806              6002  \n",
       "1               43915         42988      10385             11224  \n",
       "2               48946         47815      10610             16855  \n",
       "3               11108         10706       2630              4370  \n",
       "4                2687          2569        638              1072  \n",
       "5                 269           264         68               102  "
      ]
     },
     "execution_count": 318,
     "metadata": {},
     "output_type": "execute_result"
    }
   ],
   "source": [
    "%%time\n",
    "# 드릴다운 항목( age_layer ) 기준으로 가입 funnel groupby\n",
    "## 앞에서 봤던 직전 전환율을 연령대별로 나누어서 보겠다\n",
    "\n",
    "df_base.groupby(['age_layer'])[df_base.columns[3:10+1]].agg('nunique').reset_index()"
   ]
  },
  {
   "cell_type": "code",
   "execution_count": 319,
   "metadata": {
    "colab": {
     "base_uri": "https://localhost:8080/"
    },
    "id": "ZZySvsMDulAW",
    "outputId": "0d19b9ac-0873-43c6-ba13-54d8596c3e41"
   },
   "outputs": [
    {
     "name": "stdout",
     "output_type": "stream",
     "text": [
      "Wall time: 3.03 s\n"
     ]
    }
   ],
   "source": [
    "%%time\n",
    "# 위 결과를 새로운 df로 선언\n",
    "df_signup_age = df_base.groupby(['age_layer'])[df_base.columns[3:10+1]].agg('nunique').reset_index()"
   ]
  },
  {
   "cell_type": "code",
   "execution_count": 320,
   "metadata": {
    "colab": {
     "base_uri": "https://localhost:8080/",
     "height": 238
    },
    "id": "9DThAK6nuk8k",
    "outputId": "41599672-7fcc-4733-ff68-ee9dc596408a"
   },
   "outputs": [
    {
     "data": {
      "text/html": [
       "<div>\n",
       "<style scoped>\n",
       "    .dataframe tbody tr th:only-of-type {\n",
       "        vertical-align: middle;\n",
       "    }\n",
       "\n",
       "    .dataframe tbody tr th {\n",
       "        vertical-align: top;\n",
       "    }\n",
       "\n",
       "    .dataframe thead th {\n",
       "        text-align: right;\n",
       "    }\n",
       "</style>\n",
       "<table border=\"1\" class=\"dataframe\">\n",
       "  <thead>\n",
       "    <tr style=\"text-align: right;\">\n",
       "      <th></th>\n",
       "      <th>age_layer</th>\n",
       "      <th>se_inflowed</th>\n",
       "      <th>se_joined</th>\n",
       "      <th>se_cert_pv</th>\n",
       "      <th>se_cert_done</th>\n",
       "      <th>se_tax_calculation</th>\n",
       "      <th>se_tax_check</th>\n",
       "      <th>se_pay_pv</th>\n",
       "      <th>se_is_not_target</th>\n",
       "    </tr>\n",
       "  </thead>\n",
       "  <tbody>\n",
       "    <tr>\n",
       "      <th>0</th>\n",
       "      <td>20s</td>\n",
       "      <td>109880</td>\n",
       "      <td>97104</td>\n",
       "      <td>59990</td>\n",
       "      <td>52526</td>\n",
       "      <td>42020</td>\n",
       "      <td>39948</td>\n",
       "      <td>9806</td>\n",
       "      <td>6002</td>\n",
       "    </tr>\n",
       "    <tr>\n",
       "      <th>1</th>\n",
       "      <td>30s</td>\n",
       "      <td>91655</td>\n",
       "      <td>77979</td>\n",
       "      <td>60197</td>\n",
       "      <td>52864</td>\n",
       "      <td>43915</td>\n",
       "      <td>42988</td>\n",
       "      <td>10385</td>\n",
       "      <td>11224</td>\n",
       "    </tr>\n",
       "    <tr>\n",
       "      <th>2</th>\n",
       "      <td>40s</td>\n",
       "      <td>106767</td>\n",
       "      <td>83084</td>\n",
       "      <td>69152</td>\n",
       "      <td>58306</td>\n",
       "      <td>48946</td>\n",
       "      <td>47815</td>\n",
       "      <td>10610</td>\n",
       "      <td>16855</td>\n",
       "    </tr>\n",
       "    <tr>\n",
       "      <th>3</th>\n",
       "      <td>50s</td>\n",
       "      <td>47311</td>\n",
       "      <td>26144</td>\n",
       "      <td>18445</td>\n",
       "      <td>13504</td>\n",
       "      <td>11108</td>\n",
       "      <td>10706</td>\n",
       "      <td>2630</td>\n",
       "      <td>4370</td>\n",
       "    </tr>\n",
       "    <tr>\n",
       "      <th>4</th>\n",
       "      <td>60s</td>\n",
       "      <td>12017</td>\n",
       "      <td>6196</td>\n",
       "      <td>4804</td>\n",
       "      <td>3147</td>\n",
       "      <td>2687</td>\n",
       "      <td>2569</td>\n",
       "      <td>638</td>\n",
       "      <td>1072</td>\n",
       "    </tr>\n",
       "    <tr>\n",
       "      <th>5</th>\n",
       "      <td>Unknown</td>\n",
       "      <td>1532657</td>\n",
       "      <td>308035</td>\n",
       "      <td>92206</td>\n",
       "      <td>314</td>\n",
       "      <td>269</td>\n",
       "      <td>264</td>\n",
       "      <td>68</td>\n",
       "      <td>102</td>\n",
       "    </tr>\n",
       "  </tbody>\n",
       "</table>\n",
       "</div>"
      ],
      "text/plain": [
       "  age_layer  se_inflowed  se_joined  se_cert_pv  se_cert_done  \\\n",
       "0       20s       109880      97104       59990         52526   \n",
       "1       30s        91655      77979       60197         52864   \n",
       "2       40s       106767      83084       69152         58306   \n",
       "3       50s        47311      26144       18445         13504   \n",
       "4       60s        12017       6196        4804          3147   \n",
       "5   Unknown      1532657     308035       92206           314   \n",
       "\n",
       "   se_tax_calculation  se_tax_check  se_pay_pv  se_is_not_target  \n",
       "0               42020         39948       9806              6002  \n",
       "1               43915         42988      10385             11224  \n",
       "2               48946         47815      10610             16855  \n",
       "3               11108         10706       2630              4370  \n",
       "4                2687          2569        638              1072  \n",
       "5                 269           264         68               102  "
      ]
     },
     "execution_count": 320,
     "metadata": {},
     "output_type": "execute_result"
    }
   ],
   "source": [
    "df_signup_age"
   ]
  },
  {
   "cell_type": "code",
   "execution_count": 321,
   "metadata": {
    "colab": {
     "base_uri": "https://localhost:8080/",
     "height": 206
    },
    "id": "5fh-QqY6uj-n",
    "outputId": "0cf17a48-54fa-4894-a48c-ac5c738e52e8"
   },
   "outputs": [
    {
     "data": {
      "text/html": [
       "<div>\n",
       "<style scoped>\n",
       "    .dataframe tbody tr th:only-of-type {\n",
       "        vertical-align: middle;\n",
       "    }\n",
       "\n",
       "    .dataframe tbody tr th {\n",
       "        vertical-align: top;\n",
       "    }\n",
       "\n",
       "    .dataframe thead th {\n",
       "        text-align: right;\n",
       "    }\n",
       "</style>\n",
       "<table border=\"1\" class=\"dataframe\">\n",
       "  <thead>\n",
       "    <tr style=\"text-align: right;\">\n",
       "      <th></th>\n",
       "      <th>age_layer</th>\n",
       "      <th>se_inflowed</th>\n",
       "      <th>se_joined</th>\n",
       "      <th>se_cert_pv</th>\n",
       "      <th>se_cert_done</th>\n",
       "      <th>se_tax_calculation</th>\n",
       "      <th>se_tax_check</th>\n",
       "      <th>se_pay_pv</th>\n",
       "    </tr>\n",
       "  </thead>\n",
       "  <tbody>\n",
       "    <tr>\n",
       "      <th>0</th>\n",
       "      <td>20s</td>\n",
       "      <td>109880</td>\n",
       "      <td>97104</td>\n",
       "      <td>59990</td>\n",
       "      <td>52526</td>\n",
       "      <td>42020</td>\n",
       "      <td>39948</td>\n",
       "      <td>9806</td>\n",
       "    </tr>\n",
       "    <tr>\n",
       "      <th>1</th>\n",
       "      <td>30s</td>\n",
       "      <td>91655</td>\n",
       "      <td>77979</td>\n",
       "      <td>60197</td>\n",
       "      <td>52864</td>\n",
       "      <td>43915</td>\n",
       "      <td>42988</td>\n",
       "      <td>10385</td>\n",
       "    </tr>\n",
       "    <tr>\n",
       "      <th>2</th>\n",
       "      <td>40s</td>\n",
       "      <td>106767</td>\n",
       "      <td>83084</td>\n",
       "      <td>69152</td>\n",
       "      <td>58306</td>\n",
       "      <td>48946</td>\n",
       "      <td>47815</td>\n",
       "      <td>10610</td>\n",
       "    </tr>\n",
       "    <tr>\n",
       "      <th>3</th>\n",
       "      <td>50s</td>\n",
       "      <td>47311</td>\n",
       "      <td>26144</td>\n",
       "      <td>18445</td>\n",
       "      <td>13504</td>\n",
       "      <td>11108</td>\n",
       "      <td>10706</td>\n",
       "      <td>2630</td>\n",
       "    </tr>\n",
       "    <tr>\n",
       "      <th>4</th>\n",
       "      <td>60s</td>\n",
       "      <td>12017</td>\n",
       "      <td>6196</td>\n",
       "      <td>4804</td>\n",
       "      <td>3147</td>\n",
       "      <td>2687</td>\n",
       "      <td>2569</td>\n",
       "      <td>638</td>\n",
       "    </tr>\n",
       "  </tbody>\n",
       "</table>\n",
       "</div>"
      ],
      "text/plain": [
       "  age_layer  se_inflowed  se_joined  se_cert_pv  se_cert_done  \\\n",
       "0       20s       109880      97104       59990         52526   \n",
       "1       30s        91655      77979       60197         52864   \n",
       "2       40s       106767      83084       69152         58306   \n",
       "3       50s        47311      26144       18445         13504   \n",
       "4       60s        12017       6196        4804          3147   \n",
       "\n",
       "   se_tax_calculation  se_tax_check  se_pay_pv  \n",
       "0               42020         39948       9806  \n",
       "1               43915         42988      10385  \n",
       "2               48946         47815      10610  \n",
       "3               11108         10706       2630  \n",
       "4                2687          2569        638  "
      ]
     },
     "execution_count": 321,
     "metadata": {},
     "output_type": "execute_result"
    }
   ],
   "source": [
    "# Unknown row 없애기\n",
    "df_signup_age = df_signup_age.iloc[:4+1, :-1]\n",
    "df_signup_age"
   ]
  },
  {
   "cell_type": "code",
   "execution_count": 322,
   "metadata": {
    "id": "lLoWcfym0Bqb"
   },
   "outputs": [],
   "source": [
    "# 이제, age_layer는 그대로 두고, 그 이하의 컬럼들( se... )을 row로 전환 해 주려 함\n",
    "# Unpivot"
   ]
  },
  {
   "cell_type": "code",
   "execution_count": 323,
   "metadata": {
    "colab": {
     "base_uri": "https://localhost:8080/",
     "height": 137
    },
    "id": "7kveR-cH3MNR",
    "outputId": "9615b241-1978-4d2e-c48c-22f6a789b64d"
   },
   "outputs": [
    {
     "ename": "SyntaxError",
     "evalue": "invalid syntax (Temp/ipykernel_9072/476618649.py, line 2)",
     "output_type": "error",
     "traceback": [
      "\u001b[1;36m  File \u001b[1;32m\"C:\\Users\\minja\\AppData\\Local\\Temp/ipykernel_9072/476618649.py\"\u001b[1;36m, line \u001b[1;32m2\u001b[0m\n\u001b[1;33m    df_signup_age.melt?  ##melt 메서드 도움말보기\u001b[0m\n\u001b[1;37m                      ^\u001b[0m\n\u001b[1;31mSyntaxError\u001b[0m\u001b[1;31m:\u001b[0m invalid syntax\n"
     ]
    }
   ],
   "source": [
    "# melt method 활용\n",
    "df_signup_age.melt?  ##melt 메서드 도움말보기"
   ]
  },
  {
   "cell_type": "code",
   "execution_count": null,
   "metadata": {
    "colab": {
     "base_uri": "https://localhost:8080/",
     "height": 1000
    },
    "id": "vfV_dtyh3MKd",
    "outputId": "7ebc7f86-c7e0-4a80-beb4-d656aae20282"
   },
   "outputs": [],
   "source": [
    "## 연령대별 단계별 카운트\n",
    " \n",
    "df_signup_age_v1 = df_signup_age.melt(\n",
    "    id_vars = ['age_layer'], ## 무엇을 고정시킬것인가 age_layer\n",
    "    value_vars = df_signup_age.columns[1:].tolist(), ## 무엇을 값으로 만들것인가\n",
    "    var_name = 'step', ## 변수이름 \n",
    "    value_name = 'cnts' ## 값 이름\n",
    ")\n",
    "\n",
    "df_signup_age_v1"
   ]
  },
  {
   "cell_type": "code",
   "execution_count": null,
   "metadata": {
    "colab": {
     "base_uri": "https://localhost:8080/",
     "height": 426
    },
    "id": "cai0dOoV3MHd",
    "outputId": "18612483-f34b-4669-963d-a713862794c9"
   },
   "outputs": [],
   "source": [
    "## 이벤트 볼륨으로 시각화( bar )\n",
    "\n",
    "%%time\n",
    "\n",
    "fig, ax = plt.subplots(nrows = 1, ncols = 1, figsize = (24, 6))\n",
    "\n",
    "sns.barplot(\n",
    "    data = df_signup_age_v1,\n",
    "    x = 'step',\n",
    "    y = 'cnts',\n",
    "    hue = 'age_layer' ## 연령대마다 나오기\n",
    ")\n",
    "\n",
    "plt.show()"
   ]
  },
  {
   "cell_type": "code",
   "execution_count": null,
   "metadata": {
    "colab": {
     "base_uri": "https://localhost:8080/",
     "height": 389
    },
    "id": "idmpwxNf3MEf",
    "outputId": "80d14410-cde3-4334-ab85-81dd2a9ea9d1"
   },
   "outputs": [],
   "source": [
    "## 이벤트 볼륨으로 시각화( line )\n",
    "fig, ax = plt.subplots(nrows = 1, ncols = 1, figsize = (24, 6))\n",
    "\n",
    "sns.lineplot(\n",
    "    data = df_signup_age_v1,\n",
    "    x = 'step',\n",
    "    y = 'cnts',\n",
    "    hue = 'age_layer',\n",
    "    marker = 'o'\n",
    ")\n",
    "\n",
    "plt.show()"
   ]
  },
  {
   "cell_type": "markdown",
   "metadata": {
    "id": "CdKHgef51ckm"
   },
   "source": [
    "#### 누적전환율"
   ]
  },
  {
   "cell_type": "code",
   "execution_count": null,
   "metadata": {
    "colab": {
     "base_uri": "https://localhost:8080/"
    },
    "id": "P9hRe9zZ3MBs",
    "outputId": "aede2988-b4cc-4275-f251-a8f0fa332c8f"
   },
   "outputs": [],
   "source": [
    "%%time\n",
    "## 연령대로 나누기 전, 20s만 시범적으로 나눠서 보기\n",
    "\n",
    "temp_20 = df_signup_age_v1[df_signup_age_v1['age_layer'] == '20s']\n"
   ]
  },
  {
   "cell_type": "code",
   "execution_count": null,
   "metadata": {
    "colab": {
     "base_uri": "https://localhost:8080/",
     "height": 269
    },
    "id": "8iPkymg14Rz0",
    "outputId": "6166327f-e01c-4ac8-9701-543028047eba"
   },
   "outputs": [],
   "source": [
    "temp_20"
   ]
  },
  {
   "cell_type": "code",
   "execution_count": null,
   "metadata": {
    "colab": {
     "base_uri": "https://localhost:8080/",
     "height": 269
    },
    "id": "x3HPucSzGfPV",
    "outputId": "f859782e-e192-45d3-f66d-0827f1030351"
   },
   "outputs": [],
   "source": [
    "temp_20['first_value'] = temp_20.iloc[0, 2]\n",
    "temp_20['stacked_conversion'] = temp_20['cnts']/temp_20['first_value']    ## 20대 누적전환율\n",
    "temp_20['stacked_conversion_v1'] = round(temp_20['stacked_conversion']*100, 1) ## 20대 직전전환율\n",
    "temp_20"
   ]
  },
  {
   "cell_type": "code",
   "execution_count": null,
   "metadata": {
    "colab": {
     "base_uri": "https://localhost:8080/",
     "height": 269
    },
    "id": "fQBCRd8c5eB1",
    "outputId": "01731acd-5525-4006-b50e-16e83c5a7d76"
   },
   "outputs": [],
   "source": [
    "temp_20['previous_cnts'] = temp_20['cnts'].shift(1) ## cnts의 값을 한칸씩 내려서 할당\n",
    "temp_20['previous_conversion'] = temp_20['cnts']/temp_20['previous_cnts']\n",
    "temp_20['previous_conversion_v1'] = round(temp_20['previous_conversion']*100, 1)\n",
    "temp_20"
   ]
  },
  {
   "cell_type": "code",
   "execution_count": null,
   "metadata": {
    "colab": {
     "base_uri": "https://localhost:8080/"
    },
    "id": "S0-xszKlk6vk",
    "outputId": "1419ea8b-93a0-4650-ae88-ad8bd2202db3"
   },
   "outputs": [],
   "source": [
    "## previous_conversion 검증 \n",
    "97104\t/109880.0\t"
   ]
  },
  {
   "cell_type": "code",
   "execution_count": null,
   "metadata": {
    "colab": {
     "base_uri": "https://localhost:8080/"
    },
    "id": "CZzQnHyW57_6",
    "outputId": "5ddc7084-b9af-43e2-ee94-a2030b44544d"
   },
   "outputs": [],
   "source": [
    "## for문 준비: age_layer unique\n",
    "sorted(df_signup_age_v1['age_layer'].unique().tolist()) ## 20대부터 60대까지 고유값만 만들기"
   ]
  },
  {
   "cell_type": "code",
   "execution_count": null,
   "metadata": {
    "colab": {
     "base_uri": "https://localhost:8080/"
    },
    "id": "MXbgUo004QXD",
    "outputId": "43fab558-9e86-4c13-d369-d1359cb541b7"
   },
   "outputs": [],
   "source": [
    "%%time\n",
    "df_conversion = pd.DataFrame() ## for 문 에서 바꿔주긴 하지만 담아주진 않아서 데이터 프레임 형태로 만들어주기\n",
    "\n",
    "for temp_age in sorted(df_signup_age_v1['age_layer'].unique().tolist()):\n",
    "\n",
    "    # 해당 연령대만의 df 만들어 주기\n",
    "    temp_df = df_signup_age_v1[df_signup_age_v1['age_layer'] == temp_age] ## 특정 연령대\n",
    "\n",
    "    # 해당 연령대에서의 누적 전환율\n",
    "    temp_df['first_value'] = temp_df.iloc[0, 2]\n",
    "    temp_df['stacked_conversion'] = temp_df['cnts']/temp_df['first_value']\n",
    "    temp_df['stacked_conversion_v1'] = round(temp_df['stacked_conversion']*100, 1)\n",
    "\n",
    "    # 해당 연령대에서의 직전 전환율\n",
    "    temp_df['previous_cnts'] = temp_df['cnts'].shift(1)\n",
    "    temp_df['previous_conversion'] = temp_df['cnts']/temp_df['previous_cnts']\n",
    "    temp_df['previous_conversion_v1'] = round(temp_df['previous_conversion']*100, 1)\n",
    "\n",
    "    df_conversion = pd.concat([df_conversion, temp_df], axis = 0, ignore_index = True)"
   ]
  },
  {
   "cell_type": "code",
   "execution_count": null,
   "metadata": {
    "colab": {
     "base_uri": "https://localhost:8080/",
     "height": 1000
    },
    "id": "QQp2_C_g4QT-",
    "outputId": "170d1f61-f4aa-4b33-eed9-e7eac1cddb72"
   },
   "outputs": [],
   "source": [
    "df_conversion"
   ]
  },
  {
   "cell_type": "code",
   "execution_count": null,
   "metadata": {
    "colab": {
     "base_uri": "https://localhost:8080/",
     "height": 426
    },
    "id": "QsyqlT4K5CbC",
    "outputId": "7799f860-8d68-44e7-aa76-4e8eb9c8b328"
   },
   "outputs": [],
   "source": [
    "%%time\n",
    "# 누적 전환율 그려보기( line )\n",
    "\n",
    "fig, ax = plt.subplots(nrows = 1, ncols = 1, figsize = (24, 6))\n",
    "\n",
    "sns.lineplot(\n",
    "    data = df_conversion,\n",
    "    x = 'step',\n",
    "    y = 'stacked_conversion_v1',\n",
    "    hue = 'age_layer',\n",
    "    marker = 'o'\n",
    ")\n",
    "\n",
    "plt.show()"
   ]
  },
  {
   "cell_type": "code",
   "execution_count": null,
   "metadata": {
    "colab": {
     "base_uri": "https://localhost:8080/",
     "height": 688
    },
    "id": "AoJ_qVXn19wr",
    "outputId": "9ade28cc-ab96-41d4-8b09-cc65ed811f4f"
   },
   "outputs": [],
   "source": [
    "%%time\n",
    "# 이벤트 볼륨과의 직접 비교를 위해 동시에 2개 그려보기\n",
    "\n",
    "fig, ax = plt.subplots(nrows = 2, ncols = 1, figsize = (24, 10))\n",
    "\n",
    "sns.lineplot(\n",
    "    data = df_conversion,\n",
    "    x = 'step',\n",
    "    y = 'stacked_conversion_v1',\n",
    "    hue = 'age_layer',\n",
    "    marker = 'o',\n",
    "    ax = ax[0]\n",
    ").set_title(f'conversion_ratio', fontsize = 30)\n",
    "\n",
    "sns.lineplot(\n",
    "    data = df_signup_age_v1,\n",
    "    x = 'step',\n",
    "    y = 'cnts',\n",
    "    hue = 'age_layer',\n",
    "    marker = 'o',\n",
    "    ax = ax[1]\n",
    ").set_title(f'conversion_cnts', fontsize = 30)\n",
    "\n",
    "plt.tight_layout()\n",
    "plt.show()"
   ]
  },
  {
   "cell_type": "code",
   "execution_count": null,
   "metadata": {
    "colab": {
     "base_uri": "https://localhost:8080/",
     "height": 542
    },
    "id": "4f6BKBAmQ8vF",
    "outputId": "f22c082e-d525-405b-8c61-03d1380889a9"
   },
   "outputs": [],
   "source": [
    "# plotly\n",
    "fig = px.funnel(\n",
    "    data_frame = df_conversion,\n",
    "    x = 'step',\n",
    "    y = 'stacked_conversion_v1',\n",
    "    color = 'age_layer',\n",
    "    title = 'Funnel'\n",
    ")\n",
    "\n",
    "fig.show()"
   ]
  },
  {
   "cell_type": "code",
   "execution_count": null,
   "metadata": {
    "colab": {
     "base_uri": "https://localhost:8080/",
     "height": 542
    },
    "id": "9ukh15AeRkVL",
    "outputId": "410fdb41-0761-4f77-d1d1-d65c240b81f1"
   },
   "outputs": [],
   "source": [
    "# plotly\n",
    "fig = px.funnel(\n",
    "    data_frame = df_conversion,\n",
    "    y = 'step',\n",
    "    x = 'stacked_conversion_v1',\n",
    "    color = 'age_layer',\n",
    "    title = 'Funnel'\n",
    ")\n",
    "\n",
    "fig.show()"
   ]
  },
  {
   "cell_type": "markdown",
   "metadata": {
    "id": "2C_ysf1oSKSH"
   },
   "source": [
    "#### 직전 전환율"
   ]
  },
  {
   "cell_type": "code",
   "execution_count": null,
   "metadata": {
    "colab": {
     "base_uri": "https://localhost:8080/",
     "height": 643
    },
    "id": "dpbmY_ba4QRA",
    "outputId": "9b69865c-29c1-4fca-a1b2-948d57276ebb"
   },
   "outputs": [],
   "source": [
    "%%time\n",
    "## 직전전환율\n",
    "fig, ax = plt.subplots(nrows = 1, ncols = 1, figsize = (24, 10))\n",
    "\n",
    "sns.lineplot(\n",
    "    data = df_conversion,\n",
    "    x = 'step',\n",
    "    y = 'previous_conversion_v1',\n",
    "    hue = 'age_layer',\n",
    "    marker = 'P' # 변곡점 점 표시\n",
    ")\n",
    "\n",
    "plt.show()"
   ]
  },
  {
   "cell_type": "code",
   "execution_count": null,
   "metadata": {
    "colab": {
     "base_uri": "https://localhost:8080/",
     "height": 542
    },
    "id": "AKcZzwrA4QOT",
    "outputId": "8f80794d-3fc4-49bf-90a4-ab6884465fee"
   },
   "outputs": [],
   "source": [
    "# plotly\n",
    "fig = px.funnel(\n",
    "    data_frame = df_conversion,\n",
    "    x = 'step',\n",
    "    y = 'previous_conversion_v1',\n",
    "    color = 'age_layer'\n",
    ")\n",
    "\n",
    "fig.show()"
   ]
  },
  {
   "cell_type": "code",
   "execution_count": null,
   "metadata": {
    "colab": {
     "base_uri": "https://localhost:8080/",
     "height": 542
    },
    "id": "CoPMhvzQtTwf",
    "outputId": "99768ae3-4e98-4bf6-dbd4-afa7c3640c15"
   },
   "outputs": [],
   "source": [
    "# plotly\n",
    "fig = px.funnel(\n",
    "    data_frame = df_conversion,\n",
    "    y = 'step',\n",
    "    x = 'previous_conversion_v1',\n",
    "    color = 'age_layer'\n",
    ")\n",
    "\n",
    "fig.show()"
   ]
  },
  {
   "cell_type": "markdown",
   "metadata": {
    "id": "ClWpqNx5sZXj"
   },
   "source": [
    "## 3.2. 친구소개 (pass 하고 체류시간으로)"
   ]
  },
  {
   "cell_type": "markdown",
   "metadata": {
    "id": "uD54uYvz_Z1C"
   },
   "source": [
    "### 3.2.1. 데이터 준비"
   ]
  },
  {
   "cell_type": "code",
   "execution_count": null,
   "metadata": {
    "id": "fMb3vH-W3haT"
   },
   "outputs": [],
   "source": [
    "# 친구소개 화면으로 진입하는 두 가지 경로\n",
    "# 한 가지는 결제 회원\n",
    "# 다른 한 가지는 서비스 대상이 아닌 경우"
   ]
  },
  {
   "cell_type": "code",
   "execution_count": null,
   "metadata": {
    "colab": {
     "base_uri": "https://localhost:8080/"
    },
    "id": "i5hfdHOqFJhT",
    "outputId": "7fb3a7df-9208-45b9-e485-9bf44e32b5a3"
   },
   "outputs": [],
   "source": [
    "# case 1. 결제 회원 df info\n",
    "df_ref_pay.info()"
   ]
  },
  {
   "cell_type": "code",
   "execution_count": null,
   "metadata": {
    "colab": {
     "base_uri": "https://localhost:8080/"
    },
    "id": "ogu_tq1wFJem",
    "outputId": "82b91b8d-7942-450e-cf56-11fe21911dff"
   },
   "outputs": [],
   "source": [
    "# case 2. 서비스 비대상 회원 df info\n",
    "df_ref_none.info()"
   ]
  },
  {
   "cell_type": "code",
   "execution_count": null,
   "metadata": {
    "colab": {
     "base_uri": "https://localhost:8080/",
     "height": 206
    },
    "id": "Ep10JqeMHIVq",
    "outputId": "b1f79345-b4c3-44ea-fa60-78e7cdd8288a"
   },
   "outputs": [],
   "source": [
    "df_ref_pay.head()"
   ]
  },
  {
   "cell_type": "code",
   "execution_count": null,
   "metadata": {
    "colab": {
     "base_uri": "https://localhost:8080/",
     "height": 206
    },
    "id": "8hQ7vzNuHH7d",
    "outputId": "dcc3d514-1db6-4aae-f5de-be5878d41eab"
   },
   "outputs": [],
   "source": [
    "df_ref_none.head()"
   ]
  },
  {
   "cell_type": "code",
   "execution_count": null,
   "metadata": {
    "id": "4ceiBuJkHc_7"
   },
   "outputs": [],
   "source": [
    "# 각각의 df 내 dates와 age_layer를 기준삼아 session_id를 집계하여 재 선언\n",
    "df_ref_pay = df_ref_pay.groupby(['dates', 'age_layer'])[df_ref_pay.columns[2:].tolist()].agg('nunique').reset_index()\n",
    "df_ref_none = df_ref_none.groupby(['dates', 'age_layer'])[df_ref_none.columns[2:].tolist()].agg('nunique').reset_index()"
   ]
  },
  {
   "cell_type": "code",
   "execution_count": null,
   "metadata": {
    "colab": {
     "base_uri": "https://localhost:8080/",
     "height": 112
    },
    "id": "TY8OOgHKHc86",
    "outputId": "e82800e1-11d8-4374-99aa-ab59595d987a"
   },
   "outputs": [],
   "source": [
    "df_ref_pay.head(2)"
   ]
  },
  {
   "cell_type": "code",
   "execution_count": null,
   "metadata": {
    "colab": {
     "base_uri": "https://localhost:8080/",
     "height": 112
    },
    "id": "ZJzAlk-bHc5m",
    "outputId": "e9421213-9326-4148-fa60-0f73a2cbde31"
   },
   "outputs": [],
   "source": [
    "df_ref_none.head(2)"
   ]
  },
  {
   "cell_type": "code",
   "execution_count": null,
   "metadata": {
    "colab": {
     "base_uri": "https://localhost:8080/",
     "height": 112
    },
    "id": "CiTaYaK4Hc2V",
    "outputId": "e2de8fde-53fd-40db-acfe-78a728372989"
   },
   "outputs": [],
   "source": [
    "# 위의 두 가지 df를 dates와 age_layer를 기준으로 합쳐주기: merge 활용\n",
    "df_ref = df_ref_pay.merge(df_ref_none, how = 'inner', on = ['dates', 'age_layer'], copy = False)\n",
    "df_ref.head(2)"
   ]
  },
  {
   "cell_type": "code",
   "execution_count": null,
   "metadata": {
    "colab": {
     "base_uri": "https://localhost:8080/",
     "height": 112
    },
    "id": "GyHPlPlbHczP",
    "outputId": "62be8481-2d63-460e-c1a2-b8a34044b4a9"
   },
   "outputs": [],
   "source": [
    "# column 성격에 따라 합쳐주기\n",
    "df_ref['01_ref_intro'] = df_ref['se_pay_pv'] + df_ref['se_is_not_target']\n",
    "df_ref['02_ref_entered'] = df_ref['se_ref_x'] + df_ref['se_ref_y']\n",
    "df_ref['03_ref_tried'] = df_ref['se_ref_kt_x'] + df_ref['se_ref_lk_x'] + df_ref['se_ref_kt_y'] + df_ref['se_ref_lk_y']\n",
    "\n",
    "df_ref.head(2)"
   ]
  },
  {
   "cell_type": "code",
   "execution_count": null,
   "metadata": {
    "colab": {
     "base_uri": "https://localhost:8080/",
     "height": 112
    },
    "id": "8q0i3kelIary",
    "outputId": "5bf00447-b9e4-4c9b-ec1b-2c53dfd4c52a"
   },
   "outputs": [],
   "source": [
    "# 필요한 컬럼만 가져오기\n",
    "df_ref = df_ref[['dates', 'age_layer', '01_ref_intro', '02_ref_entered', '03_ref_tried']]\n",
    "df_ref.head(2)"
   ]
  },
  {
   "cell_type": "code",
   "execution_count": null,
   "metadata": {
    "colab": {
     "base_uri": "https://localhost:8080/",
     "height": 424
    },
    "id": "eY3_ET-_ImbB",
    "outputId": "fe881346-ebab-4f2b-88e4-20d5c35cc664"
   },
   "outputs": [],
   "source": [
    "# melt 활용\n",
    "df_ref.melt(\n",
    "    id_vars = ['dates', 'age_layer'],\n",
    "    value_vars = df_ref.columns[2:].tolist(),\n",
    "    var_name = 'step',\n",
    "    value_name = 'cnts'\n",
    ")"
   ]
  },
  {
   "cell_type": "code",
   "execution_count": null,
   "metadata": {
    "id": "k8i43cfcFJbm"
   },
   "outputs": [],
   "source": [
    "# melt 결과를 새로운 df로 선언하기\n",
    "df_ref_raws = df_ref.melt(\n",
    "    id_vars = ['dates', 'age_layer'],\n",
    "    value_vars = df_ref.columns[2:].tolist(),\n",
    "    var_name = 'step',\n",
    "    value_name = 'cnts'\n",
    ")"
   ]
  },
  {
   "cell_type": "code",
   "execution_count": null,
   "metadata": {
    "colab": {
     "base_uri": "https://localhost:8080/",
     "height": 112
    },
    "id": "xYrfl35aFJYe",
    "outputId": "3ab846aa-0314-4016-dfa8-bffaaad3e74d"
   },
   "outputs": [],
   "source": [
    "df_ref_raws.head(2)"
   ]
  },
  {
   "cell_type": "markdown",
   "metadata": {
    "id": "3D6d9k5SKRCz"
   },
   "source": [
    "### 3.2.2. total 친구소개"
   ]
  },
  {
   "cell_type": "code",
   "execution_count": null,
   "metadata": {
    "colab": {
     "base_uri": "https://localhost:8080/",
     "height": 143
    },
    "id": "T9EjEUsZFJVW",
    "outputId": "5a4b687a-c650-44da-fa11-283438f5f604"
   },
   "outputs": [],
   "source": [
    "# step을 기준으로 집계\n",
    "df_ref_raws.groupby(['step'])['cnts'].agg('sum').reset_index()"
   ]
  },
  {
   "cell_type": "code",
   "execution_count": null,
   "metadata": {
    "colab": {
     "base_uri": "https://localhost:8080/",
     "height": 143
    },
    "id": "l4coBqxpKs8c",
    "outputId": "c938029a-fba0-4722-8c3e-137b1196512a"
   },
   "outputs": [],
   "source": [
    "# 새로운 df로 선언하고 전환율 계산하기\n",
    "df_ref_step = df_ref_raws.groupby(['step'])['cnts'].agg('sum').reset_index()\n",
    "df_ref_step['first_value'] = df_ref_step.iloc[0, 1]\n",
    "df_ref_step['stacked_conversion'] = round(df_ref_step['cnts']*100/df_ref_step['first_value'], 1)\n",
    "df_ref_step['previous_cnts'] = df_ref_step['cnts'].shift(1)\n",
    "df_ref_step['previous_conversion'] = round(df_ref_step['cnts']*100/df_ref_step['previous_cnts'], 1)\n",
    "df_ref_step"
   ]
  },
  {
   "cell_type": "code",
   "execution_count": null,
   "metadata": {
    "colab": {
     "base_uri": "https://localhost:8080/",
     "height": 426
    },
    "id": "rt-0GlZRKm5W",
    "outputId": "049b341c-e960-4cba-eb25-bec93155c406"
   },
   "outputs": [],
   "source": [
    "%%time\n",
    "# 누적 전환율( bar )\n",
    "fig, ax = plt.subplots(nrows = 1, ncols = 1, figsize = (24, 6))\n",
    "\n",
    "sns.barplot(\n",
    "    data = df_ref_step,\n",
    "    x = 'step',\n",
    "    y = 'stacked_conversion'\n",
    ")\n",
    "\n",
    "plt.show()"
   ]
  },
  {
   "cell_type": "code",
   "execution_count": null,
   "metadata": {
    "colab": {
     "base_uri": "https://localhost:8080/",
     "height": 426
    },
    "id": "vsuPbs2sKqTV",
    "outputId": "4225c00c-8e31-4a61-df5f-afcc2993d7b6"
   },
   "outputs": [],
   "source": [
    "%%time\n",
    "# 직전 전환율\n",
    "fig, ax = plt.subplots(nrows = 1, ncols = 1, figsize = (24, 6))\n",
    "\n",
    "sns.barplot(\n",
    "    data = df_ref_step,\n",
    "    x = 'step',\n",
    "    y = 'previous_conversion'\n",
    ")\n",
    "\n",
    "plt.show()"
   ]
  },
  {
   "cell_type": "code",
   "execution_count": null,
   "metadata": {
    "colab": {
     "base_uri": "https://localhost:8080/",
     "height": 542
    },
    "id": "56aLiEuO5GaN",
    "outputId": "17d8ee8e-dfbf-4c1e-caac-77b4cb4ba42e"
   },
   "outputs": [],
   "source": [
    "# plotly\n",
    "fig = px.funnel(\n",
    "    data_frame = df_ref_step,\n",
    "    x = 'step',\n",
    "    y = 'stacked_conversion'\n",
    ")\n",
    "\n",
    "fig.show()"
   ]
  },
  {
   "cell_type": "code",
   "execution_count": null,
   "metadata": {
    "colab": {
     "base_uri": "https://localhost:8080/",
     "height": 542
    },
    "id": "co-g2Yma5bEw",
    "outputId": "696986af-e12f-4f65-9370-31106a54effb"
   },
   "outputs": [],
   "source": [
    "# plotly\n",
    "fig = px.funnel(\n",
    "    data_frame = df_ref_step,\n",
    "    x = 'step',\n",
    "    y = 'previous_conversion'\n",
    ")\n",
    "\n",
    "fig.show()"
   ]
  },
  {
   "cell_type": "markdown",
   "metadata": {
    "id": "Zz3Ie2FO_VYv"
   },
   "source": [
    "### 3.2.2. 친구소개 드릴다운"
   ]
  },
  {
   "cell_type": "code",
   "execution_count": null,
   "metadata": {
    "colab": {
     "base_uri": "https://localhost:8080/"
    },
    "id": "QNAXqFFvVU6x",
    "outputId": "d9adf9a9-6971-4544-c3dc-3a0eccd4dc09"
   },
   "outputs": [],
   "source": [
    "# total ref 만들기 직전 df_ref_raws\n",
    "df_ref_raws.info()"
   ]
  },
  {
   "cell_type": "code",
   "execution_count": null,
   "metadata": {
    "colab": {
     "base_uri": "https://localhost:8080/",
     "height": 614
    },
    "id": "6l1ea3BeACR2",
    "outputId": "f5d0d312-63f1-4cee-af21-01a5b5ef329c"
   },
   "outputs": [],
   "source": [
    "# age를 기준으로 집계( df_ref_raws_age )\n",
    "df_ref_age = df_ref_raws.groupby(['age_layer', 'step'])['cnts'].agg('sum').reset_index()\n",
    "df_ref_age"
   ]
  },
  {
   "cell_type": "code",
   "execution_count": null,
   "metadata": {
    "colab": {
     "base_uri": "https://localhost:8080/",
     "height": 520
    },
    "id": "6DN1XWp-Ds8G",
    "outputId": "2afff6c2-9e4b-47a0-c376-33865a474002"
   },
   "outputs": [],
   "source": [
    "# 전환율 계산에 필요한 컬럼들 만들기\n",
    "\n",
    "# 누적전환율\n",
    "df_ref_age['first_value'] = df_ref_age.groupby(['age_layer'])['cnts'].transform('max')\n",
    "df_ref_age['stacked_conversion'] = round(df_ref_age['cnts']*100/df_ref_age['first_value'], 1)\n",
    "\n",
    "# 직전전환율\n",
    "df_ref_age['previous_cnts'] = np.where(df_ref_age['step'] == '01_ref_intro', np.nan, df_ref_age['cnts'].shift(1))\n",
    "df_ref_age['previous_conversion'] = round(df_ref_age['cnts']*100/df_ref_age['previous_cnts'], 1)\n",
    "\n",
    "# age_layer Unknown 제거\n",
    "df_ref_age = df_ref_age[df_ref_age['age_layer'] != 'Unknown']\n",
    "df_ref_age"
   ]
  },
  {
   "cell_type": "code",
   "execution_count": null,
   "metadata": {
    "colab": {
     "base_uri": "https://localhost:8080/",
     "height": 426
    },
    "id": "AUOWupkoC_TC",
    "outputId": "7b23d45d-46b2-4add-ba28-eff5bb45460b"
   },
   "outputs": [],
   "source": [
    "%%time\n",
    "# 누적전환율\n",
    "fig, ax = plt.subplots(nrows = 1, ncols = 1, figsize = (24, 6))\n",
    "\n",
    "sns.lineplot(\n",
    "    data = df_ref_age,\n",
    "    x = 'step',\n",
    "    y = 'stacked_conversion',\n",
    "    hue = 'age_layer'\n",
    ")\n",
    "\n",
    "plt.show()"
   ]
  },
  {
   "cell_type": "code",
   "execution_count": null,
   "metadata": {
    "colab": {
     "base_uri": "https://localhost:8080/",
     "height": 426
    },
    "id": "7BlBABQHDJQE",
    "outputId": "7ecb2bd8-c260-4197-f9e6-373e809141f3"
   },
   "outputs": [],
   "source": [
    "%%time\n",
    "# 직전전환율\n",
    "fig, ax = plt.subplots(nrows = 1, ncols = 1, figsize = (24, 6))\n",
    "\n",
    "sns.lineplot(\n",
    "    data = df_ref_age,\n",
    "    x = 'step',\n",
    "    y = 'previous_conversion',\n",
    "    hue = 'age_layer'\n",
    ")\n",
    "\n",
    "plt.show()"
   ]
  },
  {
   "cell_type": "markdown",
   "metadata": {
    "id": "1IFLA7fAr1fW"
   },
   "source": [
    "# _4. 체류시간"
   ]
  },
  {
   "cell_type": "markdown",
   "metadata": {
    "id": "ijmRtcryoYqb"
   },
   "source": [
    "## 4.1. 라이브러리 불러오기 및 data type 변경"
   ]
  },
  {
   "cell_type": "code",
   "execution_count": null,
   "metadata": {
    "id": "tl3IMVQtXzso"
   },
   "outputs": [],
   "source": [
    "# date 관련 library\n",
    "from datetime import *"
   ]
  },
  {
   "cell_type": "code",
   "execution_count": null,
   "metadata": {
    "colab": {
     "base_uri": "https://localhost:8080/"
    },
    "id": "8kzm0ZxnsEgj",
    "outputId": "08a95a83-f92d-41bb-858b-734d2edcb5d7"
   },
   "outputs": [],
   "source": [
    "df_base.info() ## 18-32 이벤트 타임을 사용할거임"
   ]
  },
  {
   "cell_type": "markdown",
   "metadata": {
    "id": "_A2euJwZsQ95"
   },
   "source": [
    "***★ 체류시간에 대해 염두에 두어야 할 사항***\n",
    "\n",
    "다음 단계로 진입한 회원만 시간이 잡히므로,  \n",
    "다음 단계로 진입하지 않고 이탈 한 사람들은 얼마나 머물다가 이탈했는 지 모른다  \n",
    "\n",
    "다만, 화면 체류시간 분포를 가늠하면서  \n",
    "어떠한 이슈가 있는 지 추정해보고 가설세워 AB테스트로 검증하는 작업 반복"
   ]
  },
  {
   "cell_type": "code",
   "execution_count": null,
   "metadata": {
    "colab": {
     "base_uri": "https://localhost:8080/"
    },
    "id": "V4ndiPxuPyXU",
    "outputId": "b12d7c46-daa9-4b4f-c0fc-edba3676ff78"
   },
   "outputs": [],
   "source": [
    "# 체류시간과 관련된 컬럼 가져오기\n",
    "df_base.columns[18:32+1].tolist()"
   ]
  },
  {
   "cell_type": "code",
   "execution_count": null,
   "metadata": {
    "colab": {
     "base_uri": "https://localhost:8080/"
    },
    "id": "yGLPEjSMI90x",
    "outputId": "f439883e-2c59-4fb4-e70b-a64ce515d98c"
   },
   "outputs": [],
   "source": [
    "# category column과 합칠 예정\n",
    "category"
   ]
  },
  {
   "cell_type": "code",
   "execution_count": null,
   "metadata": {
    "colab": {
     "base_uri": "https://localhost:8080/"
    },
    "id": "EVnfrR1gsQN9",
    "outputId": "81c610db-3942-42ac-e1da-a445df7b6088"
   },
   "outputs": [],
   "source": [
    "et_columns = category + df_base.columns[18:32+1].tolist()\n",
    "et_columns ## 이벤트 칼럼 리스트로 만들기"
   ]
  },
  {
   "cell_type": "code",
   "execution_count": null,
   "metadata": {
    "colab": {
     "base_uri": "https://localhost:8080/",
     "height": 357
    },
    "id": "1TS7t6tUpEXb",
    "outputId": "1cdea8a6-88c6-49f6-874d-88a2ab7e2393"
   },
   "outputs": [],
   "source": [
    "# 체류시간 df 완성\n",
    "df_et = df_base[et_columns]\n",
    "df_et.head()"
   ]
  },
  {
   "cell_type": "code",
   "execution_count": null,
   "metadata": {
    "colab": {
     "base_uri": "https://localhost:8080/"
    },
    "id": "s7SWUjw_pMEU",
    "outputId": "73b05206-4d4a-463f-d399-f1c4476aafe8"
   },
   "outputs": [],
   "source": [
    "df_et.info() ## 시간 칼럼을 다룰 건데 대부분 칼럼이 오브젝트형이다.오브젝트는 연산이 불가능. 문자열과 같음"
   ]
  },
  {
   "cell_type": "code",
   "execution_count": null,
   "metadata": {
    "colab": {
     "base_uri": "https://localhost:8080/"
    },
    "id": "t9746jJ-7TQ6",
    "outputId": "7ca375f0-1d3a-4ba2-b18d-136477b29e0b"
   },
   "outputs": [],
   "source": [
    "# object type에 해당하는 column들 확인\n",
    "df_et.columns[3:].tolist()"
   ]
  },
  {
   "cell_type": "code",
   "execution_count": null,
   "metadata": {
    "colab": {
     "base_uri": "https://localhost:8080/",
     "height": 211
    },
    "id": "tR5LWfNGECgy",
    "outputId": "a0b923f9-8fba-459f-b956-c89e83c379e0"
   },
   "outputs": [],
   "source": [
    "df_et.head(2)"
   ]
  },
  {
   "cell_type": "code",
   "execution_count": null,
   "metadata": {
    "colab": {
     "base_uri": "https://localhost:8080/"
    },
    "id": "7vPBf-iLDyql",
    "outputId": "003936bd-f45d-42b1-c49e-c8c2285d8b67"
   },
   "outputs": [],
   "source": [
    "%%time\n",
    "# data type 변경\n",
    "# object == string == varchar == char 등, 연산이 불가능한 data type 이므로,\n",
    "# 연산이 가능한 data type → 그 중, 우리의 목적인 시간 연산이 가능한 datetime으로 변경\n",
    "\n",
    "for temp_et in df_et.columns[3:].tolist():\n",
    "    print(temp_et)\n",
    "    df_et[temp_et] = pd.to_datetime(df_et[temp_et], format = '%Y-%m-%d %H:%M:%S') ## 문자열을 DATETIME으로 바꾸기, 연산하기 위해\n",
    "\n",
    "print('\\n\\ndata type conversion is completed\\n↓ here is info\\n\\n')\n",
    "df_et.info()"
   ]
  },
  {
   "cell_type": "markdown",
   "metadata": {
    "id": "RCTc9n76Mx0D"
   },
   "source": [
    "## 4.2. 체류시간 산출"
   ]
  },
  {
   "cell_type": "code",
   "execution_count": null,
   "metadata": {
    "colab": {
     "base_uri": "https://localhost:8080/",
     "height": 206
    },
    "id": "Hva0obSvpPAL",
    "outputId": "10eacd9f-df06-48fe-88c4-2daac0e1de54"
   },
   "outputs": [],
   "source": [
    "# 첫 번째 체류시간 구해보기\n",
    "# s와 ms 차이\n",
    "# df_et['stay_inflowed'] = (df_et['et_joined'] - df_et['et_inflowed']).astype('timedelta64[s]')\n",
    "df_et['stay_inflowed'] = (df_et['et_joined'] - df_et['et_inflowed']).astype('timedelta64[ms]')/1000 ## 유입이 된시간 - 다음 유입이 있었던시간 = 머물렀던 시간( 체류 시간 )\n",
    "\n",
    "df_et[['et_inflowed', 'et_joined', 'stay_inflowed']].sample(5)"
   ]
  },
  {
   "cell_type": "code",
   "execution_count": null,
   "metadata": {
    "id": "oVbQXI4gswT3"
   },
   "outputs": [],
   "source": [
    "# 나머지 채류시간도 구해보기\n",
    "df_et['stay_joined'] = (df_et['et_cert_pv'] - df_et['et_joined']).astype('timedelta64[ms]')/1000\n",
    "df_et['stay_cert'] = (df_et['et_cert_done'] - df_et['et_cert_pv']).astype('timedelta64[ms]')/1000"
   ]
  },
  {
   "cell_type": "code",
   "execution_count": null,
   "metadata": {
    "colab": {
     "base_uri": "https://localhost:8080/",
     "height": 206
    },
    "id": "q6o9e01NyeIP",
    "outputId": "d410b5d5-4f69-49b2-c882-5dd1519b0cdf"
   },
   "outputs": [],
   "source": [
    "# 체류시간 샘플\n",
    "df_et[['dates', 'hours', 'age_layer', 'stay_inflowed', 'stay_joined', 'stay_cert']].sample(5)"
   ]
  },
  {
   "cell_type": "code",
   "execution_count": null,
   "metadata": {
    "colab": {
     "base_uri": "https://localhost:8080/",
     "height": 424
    },
    "id": "XG8NHXBgyfOj",
    "outputId": "96e1080c-c25c-45f0-c41d-fed574f2b463"
   },
   "outputs": [],
   "source": [
    "# 체류시간 샘플을 새로운 df로 선언 (DF_STAY)\n",
    "df_stay = df_et[['dates', 'hours', 'age_layer', 'stay_inflowed', 'stay_joined', 'stay_cert']]\n",
    "df_stay"
   ]
  },
  {
   "cell_type": "code",
   "execution_count": null,
   "metadata": {
    "colab": {
     "base_uri": "https://localhost:8080/"
    },
    "id": "Aj4p_KCZK3dc",
    "outputId": "55942866-8672-4ac7-f8bc-949b80a4e720"
   },
   "outputs": [],
   "source": [
    "# 체류시간이 측정된 건들만 남기기( df_stay_inflowed // notnull() )\n",
    "df_stay= df_stay[df_stay['stay_inflowed'].notnull()]  ## 유입이 있는것만 남기기\n",
    "df_stay.info()"
   ]
  },
  {
   "cell_type": "markdown",
   "metadata": {
    "id": "LIPK7DxBM4gW"
   },
   "source": [
    "## 4.3. 체류 시간 분포 확인"
   ]
  },
  {
   "cell_type": "markdown",
   "metadata": {
    "id": "Osl8Li9nTdR5"
   },
   "source": [
    "### 4.3.1. 유입 화면 ( 수업 여기 까지 함 )"
   ]
  },
  {
   "cell_type": "code",
   "execution_count": null,
   "metadata": {
    "colab": {
     "base_uri": "https://localhost:8080/",
     "height": 112
    },
    "id": "x90LQl9Qw-VW",
    "outputId": "0dd89649-9326-403b-a329-b1bf4f8757da"
   },
   "outputs": [],
   "source": [
    "df_stay.head(2)"
   ]
  },
  {
   "cell_type": "code",
   "execution_count": null,
   "metadata": {
    "colab": {
     "base_uri": "https://localhost:8080/",
     "height": 426
    },
    "id": "1dTEflBlLHom",
    "outputId": "933beeae-56ff-4f78-a8ea-8c7fec3ff6a4"
   },
   "outputs": [],
   "source": [
    "%%time\n",
    "fig, ax = plt.subplots(nrows = 1, ncols = 1, figsize = (24, 6))\n",
    "sns.distplot(df_stay_inflowed['stay_inflowed'], hist = False) ##distplot : 수치 분포 나타내기\n",
    "plt.show()"
   ]
  },
  {
   "cell_type": "code",
   "execution_count": null,
   "metadata": {
    "colab": {
     "base_uri": "https://localhost:8080/",
     "height": 426
    },
    "id": "iCmfA_T5LV95",
    "outputId": "474ab0d0-d9df-48d5-a5cb-819ddba530a0"
   },
   "outputs": [],
   "source": [
    "%%time\n",
    "fig, ax = plt.subplots(nrows = 1, ncols = 1, figsize = (24, 6))\n",
    "\n",
    "sns.distplot(\n",
    "    np.log10(df_stay_inflowed['stay_inflowed']), ## x축 : 10의 제곱을 나타냄\n",
    "    hist = False\n",
    ")\n",
    "\n",
    "\n",
    "plt.show()"
   ]
  },
  {
   "cell_type": "code",
   "execution_count": null,
   "metadata": {
    "colab": {
     "base_uri": "https://localhost:8080/",
     "height": 435
    },
    "id": "83L85Kr3LpOu",
    "outputId": "7cc32473-9859-4595-f81b-c83cb1b5c773"
   },
   "outputs": [],
   "source": [
    "%%time\n",
    "# hist = True\n",
    "\n",
    "fig, ax = plt.subplots(nrows = 1, ncols = 1, figsize = (24, 6))\n",
    "\n",
    "sns.distplot(\n",
    "    np.log10(df_stay_inflowed['stay_inflowed']),\n",
    "    hist = True\n",
    ")\n",
    "\n",
    "plt.xticks(fontsize = 20)\n",
    "plt.show()"
   ]
  },
  {
   "cell_type": "code",
   "execution_count": null,
   "metadata": {
    "colab": {
     "base_uri": "https://localhost:8080/",
     "height": 435
    },
    "id": "o7pZCpEBLrFW",
    "outputId": "5afb0291-075f-4bd7-ae7a-6e8b6c41b81e"
   },
   "outputs": [],
   "source": [
    "%%time\n",
    "# 5초, 10초 등등에 선 그어보기\n",
    "\n",
    "fig, ax = plt.subplots(nrows = 1, ncols = 1, figsize = (24, 6))\n",
    "\n",
    "sns.distplot(\n",
    "    np.log10(df_stay_inflowed['stay_inflowed']),\n",
    "    hist = False\n",
    ")\n",
    "\n",
    "plt.axvline(np.log10(5), color = 'darkred', linestyle = '--', linewidth = 0.5) # 5초 선\n",
    "plt.axvline(np.log10(10), color = 'darkred', linestyle = '--', linewidth = 0.5) # 10초 선 \n",
    "plt.axvline(np.log10(15), color = 'darkred', linestyle = '--', linewidth = 0.5) # 15초 선 \n",
    "plt.axvline(np.log10(20), color = 'darkred', linestyle = '--', linewidth = 0.5) # 20초 선\n",
    "\n",
    "plt.xticks(fontsize = 20)\n",
    "plt.show()"
   ]
  },
  {
   "cell_type": "code",
   "execution_count": null,
   "metadata": {
    "colab": {
     "base_uri": "https://localhost:8080/",
     "height": 435
    },
    "id": "7yB8OsMJL72Y",
    "outputId": "0b5b6ad0-ec26-4884-86fb-e340ed8abd9a"
   },
   "outputs": [],
   "source": [
    "%%time\n",
    "# 연령대 구분 추가(hist = True)\n",
    "fig, ax = plt.subplots(nrows = 1, ncols = 1, figsize = (24, 6))\n",
    "\n",
    "sns.distplot( np.log10(df_stay_inflowed[df_stay_inflowed['age_layer'] == '20s']['stay_inflowed']), hist = True, label = '20s' )\n",
    "sns.distplot( np.log10(df_stay_inflowed[df_stay_inflowed['age_layer'] == '30s']['stay_inflowed']), hist = True, label = '30s' )\n",
    "sns.distplot( np.log10(df_stay_inflowed[df_stay_inflowed['age_layer'] == '40s']['stay_inflowed']), hist = True, label = '40s' )\n",
    "sns.distplot( np.log10(df_stay_inflowed[df_stay_inflowed['age_layer'] == '50s']['stay_inflowed']), hist = True, label = '50s' )\n",
    "sns.distplot( np.log10(df_stay_inflowed[df_stay_inflowed['age_layer'] == '60s']['stay_inflowed']), hist = True, label = '60s' )\n",
    "\n",
    "plt.axvline(np.log10(5), color = 'darkred', linestyle = '--', linewidth = 0.5) #1\n",
    "plt.axvline(np.log10(10), color = 'darkred', linestyle = '--', linewidth = 0.5) #2\n",
    "plt.axvline(np.log10(15), color = 'darkred', linestyle = '--', linewidth = 0.5) #3\n",
    "plt.axvline(np.log10(20), color = 'darkred', linestyle = '--', linewidth = 0.5) #4\n",
    "\n",
    "plt.legend() ##\n",
    "\n",
    "plt.xticks(fontsize = 20)\n",
    "plt.show()\n",
    "\n",
    "## 20대: 가장 왼쪽\n",
    "## 60대 : 가장 오른쪽 \n",
    "#### 연령대에 따라 체류시간이 비례함을 보이고 있다. \n"
   ]
  },
  {
   "cell_type": "code",
   "execution_count": null,
   "metadata": {
    "colab": {
     "base_uri": "https://localhost:8080/",
     "height": 435
    },
    "id": "bjbjIjtuMNA3",
    "outputId": "a2fece82-3e9f-4011-9543-5d6395e3ecdc"
   },
   "outputs": [],
   "source": [
    "%%time\n",
    "# 선만 보이기( hist = False )\n",
    "fig, ax = plt.subplots(nrows = 1, ncols = 1, figsize = (12, 6))\n",
    "\n",
    "sns.distplot( np.log10(df_stay_inflowed[df_stay_inflowed['age_layer'] == '20s']['stay_inflowed']), hist = False, label = '20s' )\n",
    "sns.distplot( np.log10(df_stay_inflowed[df_stay_inflowed['age_layer'] == '30s']['stay_inflowed']), hist = False, label = '30s' )\n",
    "sns.distplot( np.log10(df_stay_inflowed[df_stay_inflowed['age_layer'] == '40s']['stay_inflowed']), hist = False, label = '40s' )\n",
    "sns.distplot( np.log10(df_stay_inflowed[df_stay_inflowed['age_layer'] == '50s']['stay_inflowed']), hist = False, label = '50s' )\n",
    "sns.distplot( np.log10(df_stay_inflowed[df_stay_inflowed['age_layer'] == '60s']['stay_inflowed']), hist = False, label = '60s' )\n",
    "\n",
    "plt.axvline(np.log10(5), color = 'darkred', linestyle = '--', linewidth = 0.5)\n",
    "plt.axvline(np.log10(10), color = 'darkred', linestyle = '--', linewidth = 0.5)\n",
    "plt.axvline(np.log10(15), color = 'darkred', linestyle = '--', linewidth = 0.5)\n",
    "plt.axvline(np.log10(20), color = 'darkred', linestyle = '--', linewidth = 0.5)\n",
    "\n",
    "plt.legend()\n",
    "\n",
    "plt.xticks(fontsize = 20)\n",
    "plt.show()\n",
    "\n"
   ]
  },
  {
   "cell_type": "markdown",
   "metadata": {
    "id": "PDxP0b9HUDu0"
   },
   "source": [
    "#### 유입화면 체류시간 daily trend"
   ]
  },
  {
   "cell_type": "code",
   "execution_count": null,
   "metadata": {
    "colab": {
     "base_uri": "https://localhost:8080/"
    },
    "id": "n4ZXuM-8TrSu",
    "outputId": "4fd6fe2c-55bf-420c-9338-66b612eae267"
   },
   "outputs": [],
   "source": [
    "df_stay_inflowed.info()"
   ]
  },
  {
   "cell_type": "code",
   "execution_count": null,
   "metadata": {
    "colab": {
     "base_uri": "https://localhost:8080/",
     "height": 0
    },
    "id": "nG-qoPeBUrdt",
    "outputId": "4dde530d-f20a-4b94-b64c-a9b16e3442d4"
   },
   "outputs": [],
   "source": [
    "# 날짜별 평균 체류시간 집계\n",
    "df_stay_inflowed.groupby(['dates'])['stay_inflowed'].agg('mean').reset_index()"
   ]
  },
  {
   "cell_type": "code",
   "execution_count": null,
   "metadata": {
    "colab": {
     "base_uri": "https://localhost:8080/",
     "height": 0
    },
    "id": "aWSYau_8UPwu",
    "outputId": "1fb05d97-0041-4355-c393-5cff5b4c2a10"
   },
   "outputs": [],
   "source": [
    "%%time\n",
    "# daily trend 그려보기: line\n",
    "fig, ax = plt.subplots(nrows = 1, ncols = 1, figsize = (24, 6))\n",
    "\n",
    "sns.lineplot(\n",
    "    data = df_stay_inflowed.groupby(['dates'])['stay_inflowed'].agg('mean').reset_index(),\n",
    "    x = 'dates',\n",
    "    y = 'stay_inflowed',\n",
    "    marker = 'o'\n",
    ")\n",
    "\n",
    "plt.ylim([0, 60])\n",
    "plt.show()"
   ]
  },
  {
   "cell_type": "code",
   "execution_count": null,
   "metadata": {
    "colab": {
     "base_uri": "https://localhost:8080/",
     "height": 0
    },
    "id": "s_CqTsdnUuPg",
    "outputId": "6f301147-a84c-4d88-f11d-5bdcbb8a4a6a"
   },
   "outputs": [],
   "source": [
    "# 연령별로 쪼개보기\n",
    "fig, ax = plt.subplots(nrows = 1, ncols = 1, figsize = (24, 6))\n",
    "\n",
    "sns.lineplot(\n",
    "    data = df_stay_inflowed.groupby(['dates', 'age_layer'])['stay_inflowed'].agg('mean').reset_index(),\n",
    "    x = 'dates',\n",
    "    y = 'stay_inflowed',\n",
    "    marker = 'o',\n",
    "    hue = 'age_layer'\n",
    ")\n",
    "\n",
    "plt.ylim([0, 130])\n",
    "plt.axhline(120, color = 'darkred', linewidth = 0.5)\n",
    "plt.show()"
   ]
  },
  {
   "cell_type": "markdown",
   "metadata": {
    "id": "hMRLqIYcTiR2"
   },
   "source": [
    "### 4.3.2. 가입 화면"
   ]
  },
  {
   "cell_type": "code",
   "execution_count": null,
   "metadata": {
    "colab": {
     "base_uri": "https://localhost:8080/",
     "height": 206
    },
    "id": "wnhhRlQMKCQz",
    "outputId": "c12603b4-4461-44b4-e3d6-df5ee7539e97"
   },
   "outputs": [],
   "source": [
    "df_stay_inflowed.head()"
   ]
  },
  {
   "cell_type": "code",
   "execution_count": null,
   "metadata": {
    "colab": {
     "base_uri": "https://localhost:8080/"
    },
    "id": "ZPhyeg42KD18",
    "outputId": "ad55190c-2b14-4edb-9329-dceb4fb3daa4"
   },
   "outputs": [],
   "source": [
    "df_stay_joined = df_stay_inflowed[df_stay_inflowed['stay_joined'].notnull()]\n",
    "df_stay_joined.info()"
   ]
  },
  {
   "cell_type": "code",
   "execution_count": null,
   "metadata": {
    "colab": {
     "base_uri": "https://localhost:8080/",
     "height": 426
    },
    "id": "c467MM2nMYhi",
    "outputId": "c9e893bd-bb9b-4131-cf8b-092e5dfc59a4"
   },
   "outputs": [],
   "source": [
    "%%time\n",
    "fig, ax = plt.subplots(nrows = 1, ncols = 1, figsize = (24, 6))\n",
    "\n",
    "sns.distplot(df_stay_joined['stay_joined'], hist = False)\n",
    "plt.show()"
   ]
  },
  {
   "cell_type": "code",
   "execution_count": null,
   "metadata": {
    "colab": {
     "base_uri": "https://localhost:8080/",
     "height": 426
    },
    "id": "1hYOIFKdTqO1",
    "outputId": "0aca2fa1-e7ac-4cf4-8ebe-bbc1e96dfba8"
   },
   "outputs": [],
   "source": [
    "%%time\n",
    "fig, ax = plt.subplots(nrows = 1, ncols = 1, figsize = (24, 6))\n",
    "sns.distplot(np.log10(df_stay_joined['stay_joined']), hist = False)\n",
    "plt.show()"
   ]
  },
  {
   "cell_type": "code",
   "execution_count": null,
   "metadata": {
    "colab": {
     "base_uri": "https://localhost:8080/",
     "height": 426
    },
    "id": "nlZhIKJCVKbN",
    "outputId": "a17d14c0-6e4c-444e-9477-6cfbd9a8c477"
   },
   "outputs": [],
   "source": [
    "%%time\n",
    "fig, ax = plt.subplots(nrows = 1, ncols = 1, figsize = (24, 6))\n",
    "sns.distplot(np.log10(df_stay_joined['stay_joined']), hist = False)\n",
    "\n",
    "plt.axvline(np.log10(5), color = 'darkred', linestyle = '--', linewidth = 0.5)\n",
    "plt.axvline(np.log10(10), color = 'darkred', linestyle = '--', linewidth = 0.5)\n",
    "plt.axvline(np.log10(15), color = 'darkred', linestyle = '--', linewidth = 0.5)\n",
    "plt.axvline(np.log10(20), color = 'darkred', linestyle = '--', linewidth = 0.5)\n",
    "plt.axvline(np.log10(25), color = 'darkred', linestyle = '--', linewidth = 0.5)\n",
    "\n",
    "plt.show()"
   ]
  },
  {
   "cell_type": "code",
   "execution_count": null,
   "metadata": {
    "colab": {
     "base_uri": "https://localhost:8080/",
     "height": 426
    },
    "id": "hx31XMXQVXt6",
    "outputId": "c1f535cc-7474-4136-fec4-aff4e1aadec1"
   },
   "outputs": [],
   "source": [
    "%%time\n",
    "fig, ax = plt.subplots(nrows = 1, ncols = 1, figsize = (24, 6))\n",
    "sns.distplot(np.log10(df_stay_joined[df_stay_joined['age_layer'] == '20s']['stay_joined']), hist = False, label = '20s')\n",
    "sns.distplot(np.log10(df_stay_joined[df_stay_joined['age_layer'] == '30s']['stay_joined']), hist = False, label = '30s')\n",
    "sns.distplot(np.log10(df_stay_joined[df_stay_joined['age_layer'] == '40s']['stay_joined']), hist = False, label = '40s')\n",
    "sns.distplot(np.log10(df_stay_joined[df_stay_joined['age_layer'] == '50s']['stay_joined']), hist = False, label = '50s')\n",
    "sns.distplot(np.log10(df_stay_joined[df_stay_joined['age_layer'] == '60s']['stay_joined']), hist = False, label = '60s')\n",
    "\n",
    "plt.axvline(np.log10(5), color = 'darkred', linestyle = '--', linewidth = 0.5)\n",
    "plt.axvline(np.log10(10), color = 'darkred', linestyle = '--', linewidth = 0.5)\n",
    "plt.axvline(np.log10(15), color = 'darkred', linestyle = '--', linewidth = 0.5)\n",
    "plt.axvline(np.log10(20), color = 'darkred', linestyle = '--', linewidth = 0.5)\n",
    "plt.axvline(np.log10(25), color = 'darkred', linestyle = '--', linewidth = 0.5)\n",
    "\n",
    "plt.legend()\n",
    "plt.show()"
   ]
  },
  {
   "cell_type": "markdown",
   "metadata": {
    "id": "vZw5H7bOVxRJ"
   },
   "source": [
    "#### 가입화면 체류시간 daily trend"
   ]
  },
  {
   "cell_type": "code",
   "execution_count": null,
   "metadata": {
    "colab": {
     "base_uri": "https://localhost:8080/",
     "height": 269
    },
    "id": "mrRdtx5XMWlY",
    "outputId": "2eb05bb5-f33d-44c5-d684-442175d30b35"
   },
   "outputs": [],
   "source": [
    "df_stay_joined.groupby(['dates'])['stay_joined'].agg('mean').reset_index()"
   ]
  },
  {
   "cell_type": "code",
   "execution_count": null,
   "metadata": {
    "colab": {
     "base_uri": "https://localhost:8080/",
     "height": 426
    },
    "id": "vhq67VoFVmCa",
    "outputId": "7b55daa5-67a4-4152-b6ff-6b57b785a579"
   },
   "outputs": [],
   "source": [
    "%%time\n",
    "# 가입화면 체류 시간 daily trend: line\n",
    "\n",
    "fig, ax = plt.subplots(nrows = 1, ncols = 1, figsize = (24, 6))\n",
    "\n",
    "sns.lineplot(\n",
    "    data = df_stay_joined.groupby(['dates'])['stay_joined'].agg('mean').reset_index(),\n",
    "    x = 'dates',\n",
    "    y = 'stay_joined',\n",
    "    marker = 'o'\n",
    ")\n",
    "\n",
    "plt.show()"
   ]
  },
  {
   "cell_type": "code",
   "execution_count": null,
   "metadata": {
    "colab": {
     "base_uri": "https://localhost:8080/",
     "height": 388
    },
    "id": "31UFgBgCV_O2",
    "outputId": "f225141b-7d3a-4ce1-d9b1-e16c465d1365"
   },
   "outputs": [],
   "source": [
    "## 연령대 구분\n",
    "fig, ax = plt.subplots(nrows = 1, ncols = 1, figsize = (24, 6))\n",
    "\n",
    "sns.lineplot(\n",
    "    data = df_stay_joined.groupby(['dates', 'age_layer'])['stay_joined'].agg('mean').reset_index(),\n",
    "    x = 'dates',\n",
    "    y = 'stay_joined',\n",
    "    marker = 'o',\n",
    "    hue = 'age_layer'\n",
    ")\n",
    "\n",
    "plt.show()"
   ]
  },
  {
   "cell_type": "markdown",
   "metadata": {
    "id": "zBUHUVW4WO06"
   },
   "source": [
    "### 4.3.3. 인증화면"
   ]
  },
  {
   "cell_type": "code",
   "execution_count": null,
   "metadata": {
    "colab": {
     "base_uri": "https://localhost:8080/",
     "height": 206
    },
    "id": "fYtZzK4iMvQf",
    "outputId": "26c2c53a-8b04-4407-ef04-5aba2da22241"
   },
   "outputs": [],
   "source": [
    "df_stay_joined.head()"
   ]
  },
  {
   "cell_type": "code",
   "execution_count": null,
   "metadata": {
    "colab": {
     "base_uri": "https://localhost:8080/"
    },
    "id": "BQd6uSj9MzNg",
    "outputId": "6aa2f07f-d629-4eee-809e-ab2a9fb2b0fb"
   },
   "outputs": [],
   "source": [
    "df_stay_cert = df_stay_joined[df_stay_joined['stay_cert'].notnull()]\n",
    "df_stay_cert.info()"
   ]
  },
  {
   "cell_type": "code",
   "execution_count": null,
   "metadata": {
    "colab": {
     "base_uri": "https://localhost:8080/",
     "height": 425
    },
    "id": "c6g5i1iqWFzQ",
    "outputId": "4d2ba711-0663-4bea-a06e-cbcb002fb579"
   },
   "outputs": [],
   "source": [
    "%%time\n",
    "fig, ax = plt.subplots(nrows = 1, ncols = 1, figsize = (24, 6))\n",
    "\n",
    "sns.distplot(df_stay_cert['stay_cert'], hist = False)\n",
    "\n",
    "plt.show()"
   ]
  },
  {
   "cell_type": "code",
   "execution_count": null,
   "metadata": {
    "colab": {
     "base_uri": "https://localhost:8080/",
     "height": 425
    },
    "id": "DP6BErq0WVeZ",
    "outputId": "e1d10e9e-584f-43c6-97ca-52eb3ede5d78"
   },
   "outputs": [],
   "source": [
    "%%time\n",
    "fig, ax = plt.subplots(nrows = 1, ncols = 1, figsize = (24, 6))\n",
    "sns.distplot(np.log10(df_stay_cert['stay_cert']), hist = False)\n",
    "plt.show()"
   ]
  },
  {
   "cell_type": "code",
   "execution_count": null,
   "metadata": {
    "colab": {
     "base_uri": "https://localhost:8080/",
     "height": 425
    },
    "id": "N2nMer1JWZtc",
    "outputId": "57951a73-f365-4df4-c744-dfa230a35bd5"
   },
   "outputs": [],
   "source": [
    "%%time\n",
    "fig, ax = plt.subplots(nrows = 1, ncols = 1, figsize = (24, 6))\n",
    "sns.distplot(np.log10(df_stay_cert['stay_cert']), hist = False)\n",
    "plt.axvline(np.log10(40), color = 'darkred', linestyle = '--', linewidth = 0.5)\n",
    "plt.axvline(np.log10(60), color = 'darkred', linestyle = '--', linewidth = 0.5)\n",
    "plt.axvline(np.log10(100), color = 'darkred', linestyle = '--', linewidth = 0.5)\n",
    "plt.axvline(np.log10(120), color = 'darkred', linestyle = '--', linewidth = 0.5)\n",
    "plt.axvline(np.log10(150), color = 'darkred', linestyle = '--', linewidth = 0.5)\n",
    "plt.show()"
   ]
  },
  {
   "cell_type": "code",
   "execution_count": null,
   "metadata": {
    "colab": {
     "base_uri": "https://localhost:8080/",
     "height": 425
    },
    "id": "_vRBgbYuWxHb",
    "outputId": "3c50a029-1950-4761-e481-ebd93b6af86e"
   },
   "outputs": [],
   "source": [
    "%%time\n",
    "fig, ax = plt.subplots(nrows = 1, ncols = 1, figsize = (24, 6))\n",
    "sns.distplot(np.log10(df_stay_cert['stay_cert']), hist = False)\n",
    "plt.axvline(np.log10(30), color = 'darkred', linestyle = '--', linewidth = 0.5)\n",
    "plt.axvline(np.log10(60), color = 'darkred', linestyle = '--', linewidth = 0.5)\n",
    "plt.axvline(np.log10(120), color = 'darkred', linestyle = '--', linewidth = 0.5)\n",
    "plt.axvline(np.log10(180), color = 'darkred', linestyle = '--', linewidth = 0.5)\n",
    "plt.show()"
   ]
  },
  {
   "cell_type": "code",
   "execution_count": null,
   "metadata": {
    "colab": {
     "base_uri": "https://localhost:8080/"
    },
    "id": "qnrFFUhDOw-U",
    "outputId": "3ecbaa8d-fe82-499d-d675-ca9cccae77cd"
   },
   "outputs": [],
   "source": [
    "\n",
    "np.log10(df_stay_cert[df_stay_cert['age_layer'] == '20s']['stay_cert'])"
   ]
  },
  {
   "cell_type": "code",
   "execution_count": null,
   "metadata": {
    "colab": {
     "base_uri": "https://localhost:8080/",
     "height": 425
    },
    "id": "7PguEpJiW8oj",
    "outputId": "8fe44b2b-48a9-437b-f0fe-9b9ddb871ce2"
   },
   "outputs": [],
   "source": [
    "%%time\n",
    "fig, ax = plt.subplots(nrows = 1, ncols = 1, figsize = (24, 6))\n",
    "\n",
    "sns.distplot(np.log10(df_stay_cert[df_stay_cert['age_layer'] == '20s']['stay_cert']), hist = False, label = '20s')\n",
    "sns.distplot(np.log10(df_stay_cert[df_stay_cert['age_layer'] == '30s']['stay_cert']), hist = False, label = '30s')\n",
    "sns.distplot(np.log10(df_stay_cert[df_stay_cert['age_layer'] == '40s']['stay_cert']), hist = False, label = '40s')\n",
    "sns.distplot(np.log10(df_stay_cert[df_stay_cert['age_layer'] == '50s']['stay_cert']), hist = False, label = '50s')\n",
    "sns.distplot(np.log10(df_stay_cert[df_stay_cert['age_layer'] == '60s']['stay_cert']), hist = False, label = '60s')\n",
    "\n",
    "plt.axvline(np.log10(30), color = 'darkred', linestyle = '--', linewidth = 0.5)\n",
    "plt.axvline(np.log10(60), color = 'darkred', linestyle = '--', linewidth = 0.5)\n",
    "plt.axvline(np.log10(120), color = 'darkred', linestyle = '--', linewidth = 0.5)\n",
    "plt.axvline(np.log10(180), color = 'darkred', linestyle = '--', linewidth = 0.5)\n",
    "\n",
    "plt.legend()\n",
    "plt.show()"
   ]
  },
  {
   "cell_type": "markdown",
   "metadata": {
    "id": "XDc4EM6HXg_o"
   },
   "source": [
    "#### 인증화면 체류시간 daily trend"
   ]
  },
  {
   "cell_type": "code",
   "execution_count": null,
   "metadata": {
    "colab": {
     "base_uri": "https://localhost:8080/",
     "height": 238
    },
    "id": "CdMWQeQjPe7H",
    "outputId": "3c16c866-e532-4b14-ffa8-4345aa391ad1"
   },
   "outputs": [],
   "source": [
    "df_stay_cert.groupby(['dates'])['stay_cert'].agg('mean').reset_index()"
   ]
  },
  {
   "cell_type": "code",
   "execution_count": null,
   "metadata": {
    "colab": {
     "base_uri": "https://localhost:8080/",
     "height": 388
    },
    "id": "ks19jICWsfIn",
    "outputId": "bb5cd160-39b4-4d67-eb3d-25cf0eb55de8"
   },
   "outputs": [],
   "source": [
    "# 인증화면 체류시간 daily trend\n",
    "fig, ax = plt.subplots(nrows = 1, ncols = 1, figsize = (18, 6))\n",
    "\n",
    "sns.lineplot(\n",
    "    data = df_stay_cert.groupby(['dates'])['stay_cert'].agg('mean').reset_index(),\n",
    "    x = 'dates',\n",
    "    y = 'stay_cert',\n",
    "    marker = 'o'\n",
    ")\n",
    "\n",
    "plt.show()"
   ]
  },
  {
   "cell_type": "code",
   "execution_count": null,
   "metadata": {
    "id": "P-D08j_YskBd"
   },
   "outputs": [],
   "source": [
    "# ↑ 변동성 크다 ?!!?!?!?\n",
    "# Y 축 구간(초) 보정\n",
    "####################"
   ]
  },
  {
   "cell_type": "code",
   "execution_count": null,
   "metadata": {
    "colab": {
     "base_uri": "https://localhost:8080/",
     "height": 392
    },
    "id": "B_NA3RVgXNEN",
    "outputId": "08c1d5cd-10ef-4b2e-f55a-03259e85ccfd"
   },
   "outputs": [],
   "source": [
    "# 인증화면 체류시간 daily trend\n",
    "fig, ax = plt.subplots(nrows = 1, ncols = 1, figsize = (18, 6))\n",
    "\n",
    "sns.lineplot(\n",
    "    data = df_stay_cert.groupby(['dates'])['stay_cert'].agg('mean').reset_index(),\n",
    "    x = 'dates',\n",
    "    y = 'stay_cert',\n",
    "    marker = 'o'\n",
    ")\n",
    "\n",
    "plt.ylim([0, 180])\n",
    "plt.show()"
   ]
  },
  {
   "cell_type": "code",
   "execution_count": null,
   "metadata": {
    "colab": {
     "base_uri": "https://localhost:8080/",
     "height": 392
    },
    "id": "CnzsPEZGXofk",
    "outputId": "88df1315-c6bf-4efa-9b04-9959402acfc0"
   },
   "outputs": [],
   "source": [
    "## 연령대 구분\n",
    "fig, ax = plt.subplots(nrows = 1, ncols = 1, figsize = (18, 6))\n",
    "\n",
    "sns.lineplot(\n",
    "    data = df_stay_cert[df_stay_cert['age_layer'] != 'Unknown'].groupby(['dates', 'age_layer'])['stay_cert'].agg('mean').reset_index(),\n",
    "    x = 'dates',\n",
    "    y = 'stay_cert',\n",
    "    marker = 'o',\n",
    "    hue = 'age_layer'\n",
    ")\n",
    "plt.ylim([0, 400])\n",
    "plt.legend(loc = 'upper left')\n",
    "plt.show()"
   ]
  },
  {
   "cell_type": "code",
   "execution_count": null,
   "metadata": {
    "id": "UU-dsaRAXrl5"
   },
   "outputs": [],
   "source": [
    "\n"
   ]
  }
 ],
 "metadata": {
  "colab": {
   "collapsed_sections": [
    "PDxP0b9HUDu0"
   ],
   "name": "3주차_Funnel_실습용_코드공유ipynb의 사본의 사본",
   "provenance": [],
   "toc_visible": true
  },
  "kernelspec": {
   "display_name": "Python 3 (ipykernel)",
   "language": "python",
   "name": "python3"
  },
  "language_info": {
   "codemirror_mode": {
    "name": "ipython",
    "version": 3
   },
   "file_extension": ".py",
   "mimetype": "text/x-python",
   "name": "python",
   "nbconvert_exporter": "python",
   "pygments_lexer": "ipython3",
   "version": "3.9.7"
  },
  "toc": {
   "base_numbering": 1,
   "nav_menu": {},
   "number_sections": true,
   "sideBar": true,
   "skip_h1_title": false,
   "title_cell": "Table of Contents",
   "title_sidebar": "Contents",
   "toc_cell": false,
   "toc_position": {
    "height": "calc(100% - 180px)",
    "left": "10px",
    "top": "150px",
    "width": "232px"
   },
   "toc_section_display": true,
   "toc_window_display": true
  }
 },
 "nbformat": 4,
 "nbformat_minor": 1
}
