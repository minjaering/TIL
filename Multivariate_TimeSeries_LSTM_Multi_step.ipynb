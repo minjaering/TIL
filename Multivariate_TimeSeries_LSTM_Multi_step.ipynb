{
 "cells": [
  {
   "cell_type": "code",
   "execution_count": 1,
   "metadata": {
    "executionInfo": {
     "elapsed": 4,
     "status": "ok",
     "timestamp": 1658043492010,
     "user": {
      "displayName": "James Lee",
      "userId": "17665317456088603930"
     },
     "user_tz": -540
    },
    "id": "KA2Evz19jgeK"
   },
   "outputs": [],
   "source": [
    "import warnings\n",
    "warnings.filterwarnings('ignore')"
   ]
  },
  {
   "cell_type": "code",
   "execution_count": 2,
   "metadata": {
    "executionInfo": {
     "elapsed": 2600,
     "status": "ok",
     "timestamp": 1658043494607,
     "user": {
      "displayName": "James Lee",
      "userId": "17665317456088603930"
     },
     "user_tz": -540
    },
    "id": "oDCQvxXTjic8"
   },
   "outputs": [],
   "source": [
    "%matplotlib inline\n",
    "\n",
    "from pathlib import Path\n",
    "import numpy as np\n",
    "import pandas as pd\n",
    "import pandas_datareader.data as web\n",
    "\n",
    "from sklearn.metrics import mean_absolute_error\n",
    "from sklearn.preprocessing import minmax_scale\n",
    "\n",
    "import tensorflow as tf\n",
    "from tensorflow.keras.callbacks import ModelCheckpoint, EarlyStopping\n",
    "from tensorflow.keras.models import Sequential, Model\n",
    "from tensorflow.keras.layers import Dense, LSTM, RepeatVector, TimeDistributed, Dropout, Concatenate, Reshape, Input, Conv1D, Flatten, MaxPooling1D\n",
    "import tensorflow.keras.backend as K\n",
    "\n",
    "import matplotlib.pyplot as plt\n",
    "import seaborn as sns"
   ]
  },
  {
   "cell_type": "code",
   "execution_count": 3,
   "metadata": {
    "colab": {
     "base_uri": "https://localhost:8080/"
    },
    "executionInfo": {
     "elapsed": 6,
     "status": "ok",
     "timestamp": 1658043494608,
     "user": {
      "displayName": "James Lee",
      "userId": "17665317456088603930"
     },
     "user_tz": -540
    },
    "id": "ZT5drkCNjjQB",
    "outputId": "c3574e3f-df00-4ad8-d15a-442cead10931"
   },
   "outputs": [
    {
     "name": "stdout",
     "output_type": "stream",
     "text": [
      "Using GPU\n"
     ]
    }
   ],
   "source": [
    "gpu_devices = tf.config.experimental.list_physical_devices('GPU')\n",
    "if gpu_devices:\n",
    "    print('Using GPU')\n",
    "    tf.config.experimental.set_memory_growth(gpu_devices[0], True)\n",
    "else:\n",
    "    print('Using CPU')"
   ]
  },
  {
   "cell_type": "code",
   "execution_count": 4,
   "metadata": {
    "executionInfo": {
     "elapsed": 4,
     "status": "ok",
     "timestamp": 1658043494608,
     "user": {
      "displayName": "James Lee",
      "userId": "17665317456088603930"
     },
     "user_tz": -540
    },
    "id": "f_Hb8Xy6jmU6"
   },
   "outputs": [],
   "source": [
    "sns.set_style('whitegrid')\n",
    "np.random.seed(42)"
   ]
  },
  {
   "cell_type": "code",
   "execution_count": 5,
   "metadata": {
    "executionInfo": {
     "elapsed": 5,
     "status": "ok",
     "timestamp": 1658043494609,
     "user": {
      "displayName": "James Lee",
      "userId": "17665317456088603930"
     },
     "user_tz": -540
    },
    "id": "q_YikiSYjnZh"
   },
   "outputs": [],
   "source": [
    "results_path = Path('results', 'multivariate_time_series')\n",
    "if not results_path.exists():\n",
    "    results_path.mkdir(parents=True)"
   ]
  },
  {
   "cell_type": "code",
   "execution_count": 6,
   "metadata": {
    "colab": {
     "base_uri": "https://localhost:8080/"
    },
    "executionInfo": {
     "elapsed": 1268,
     "status": "ok",
     "timestamp": 1658043495873,
     "user": {
      "displayName": "James Lee",
      "userId": "17665317456088603930"
     },
     "user_tz": -540
    },
    "id": "ad0jB8pbjoKq",
    "outputId": "72ab8c13-9635-4402-f464-cbc68f648ffc"
   },
   "outputs": [
    {
     "name": "stdout",
     "output_type": "stream",
     "text": [
      "<class 'pandas.core.frame.DataFrame'>\n",
      "DatetimeIndex: 480 entries, 1980-01-01 to 2019-12-01\n",
      "Data columns (total 2 columns):\n",
      " #   Column     Non-Null Count  Dtype  \n",
      "---  ------     --------------  -----  \n",
      " 0   sentiment  480 non-null    float64\n",
      " 1   ip         480 non-null    float64\n",
      "dtypes: float64(2)\n",
      "memory usage: 11.2 KB\n"
     ]
    }
   ],
   "source": [
    "df = web.DataReader(['UMCSENT', 'IPGMFN'], 'fred', '1980', '2019-12').dropna()\n",
    "df.columns = ['sentiment', 'ip']\n",
    "df.info()"
   ]
  },
  {
   "cell_type": "code",
   "execution_count": 7,
   "metadata": {
    "colab": {
     "base_uri": "https://localhost:8080/",
     "height": 237
    },
    "executionInfo": {
     "elapsed": 503,
     "status": "ok",
     "timestamp": 1658043502383,
     "user": {
      "displayName": "James Lee",
      "userId": "17665317456088603930"
     },
     "user_tz": -540
    },
    "id": "VVozIuKtjqnx",
    "outputId": "5af4519e-f9d3-46b1-e556-d2ba1ede92d3"
   },
   "outputs": [
    {
     "data": {
      "text/html": [
       "\n",
       "  <div id=\"df-646202bc-74a6-4114-86e9-ef9b23f37d02\">\n",
       "    <div class=\"colab-df-container\">\n",
       "      <div>\n",
       "<style scoped>\n",
       "    .dataframe tbody tr th:only-of-type {\n",
       "        vertical-align: middle;\n",
       "    }\n",
       "\n",
       "    .dataframe tbody tr th {\n",
       "        vertical-align: top;\n",
       "    }\n",
       "\n",
       "    .dataframe thead th {\n",
       "        text-align: right;\n",
       "    }\n",
       "</style>\n",
       "<table border=\"1\" class=\"dataframe\">\n",
       "  <thead>\n",
       "    <tr style=\"text-align: right;\">\n",
       "      <th></th>\n",
       "      <th>sentiment</th>\n",
       "      <th>ip</th>\n",
       "    </tr>\n",
       "    <tr>\n",
       "      <th>DATE</th>\n",
       "      <th></th>\n",
       "      <th></th>\n",
       "    </tr>\n",
       "  </thead>\n",
       "  <tbody>\n",
       "    <tr>\n",
       "      <th>1980-01-01</th>\n",
       "      <td>67.0</td>\n",
       "      <td>46.0471</td>\n",
       "    </tr>\n",
       "    <tr>\n",
       "      <th>1980-02-01</th>\n",
       "      <td>66.9</td>\n",
       "      <td>47.1305</td>\n",
       "    </tr>\n",
       "    <tr>\n",
       "      <th>1980-03-01</th>\n",
       "      <td>56.5</td>\n",
       "      <td>47.6433</td>\n",
       "    </tr>\n",
       "    <tr>\n",
       "      <th>1980-04-01</th>\n",
       "      <td>52.7</td>\n",
       "      <td>46.2537</td>\n",
       "    </tr>\n",
       "    <tr>\n",
       "      <th>1980-05-01</th>\n",
       "      <td>51.7</td>\n",
       "      <td>44.9161</td>\n",
       "    </tr>\n",
       "  </tbody>\n",
       "</table>\n",
       "</div>\n",
       "      <button class=\"colab-df-convert\" onclick=\"convertToInteractive('df-646202bc-74a6-4114-86e9-ef9b23f37d02')\"\n",
       "              title=\"Convert this dataframe to an interactive table.\"\n",
       "              style=\"display:none;\">\n",
       "        \n",
       "  <svg xmlns=\"http://www.w3.org/2000/svg\" height=\"24px\"viewBox=\"0 0 24 24\"\n",
       "       width=\"24px\">\n",
       "    <path d=\"M0 0h24v24H0V0z\" fill=\"none\"/>\n",
       "    <path d=\"M18.56 5.44l.94 2.06.94-2.06 2.06-.94-2.06-.94-.94-2.06-.94 2.06-2.06.94zm-11 1L8.5 8.5l.94-2.06 2.06-.94-2.06-.94L8.5 2.5l-.94 2.06-2.06.94zm10 10l.94 2.06.94-2.06 2.06-.94-2.06-.94-.94-2.06-.94 2.06-2.06.94z\"/><path d=\"M17.41 7.96l-1.37-1.37c-.4-.4-.92-.59-1.43-.59-.52 0-1.04.2-1.43.59L10.3 9.45l-7.72 7.72c-.78.78-.78 2.05 0 2.83L4 21.41c.39.39.9.59 1.41.59.51 0 1.02-.2 1.41-.59l7.78-7.78 2.81-2.81c.8-.78.8-2.07 0-2.86zM5.41 20L4 18.59l7.72-7.72 1.47 1.35L5.41 20z\"/>\n",
       "  </svg>\n",
       "      </button>\n",
       "      \n",
       "  <style>\n",
       "    .colab-df-container {\n",
       "      display:flex;\n",
       "      flex-wrap:wrap;\n",
       "      gap: 12px;\n",
       "    }\n",
       "\n",
       "    .colab-df-convert {\n",
       "      background-color: #E8F0FE;\n",
       "      border: none;\n",
       "      border-radius: 50%;\n",
       "      cursor: pointer;\n",
       "      display: none;\n",
       "      fill: #1967D2;\n",
       "      height: 32px;\n",
       "      padding: 0 0 0 0;\n",
       "      width: 32px;\n",
       "    }\n",
       "\n",
       "    .colab-df-convert:hover {\n",
       "      background-color: #E2EBFA;\n",
       "      box-shadow: 0px 1px 2px rgba(60, 64, 67, 0.3), 0px 1px 3px 1px rgba(60, 64, 67, 0.15);\n",
       "      fill: #174EA6;\n",
       "    }\n",
       "\n",
       "    [theme=dark] .colab-df-convert {\n",
       "      background-color: #3B4455;\n",
       "      fill: #D2E3FC;\n",
       "    }\n",
       "\n",
       "    [theme=dark] .colab-df-convert:hover {\n",
       "      background-color: #434B5C;\n",
       "      box-shadow: 0px 1px 3px 1px rgba(0, 0, 0, 0.15);\n",
       "      filter: drop-shadow(0px 1px 2px rgba(0, 0, 0, 0.3));\n",
       "      fill: #FFFFFF;\n",
       "    }\n",
       "  </style>\n",
       "\n",
       "      <script>\n",
       "        const buttonEl =\n",
       "          document.querySelector('#df-646202bc-74a6-4114-86e9-ef9b23f37d02 button.colab-df-convert');\n",
       "        buttonEl.style.display =\n",
       "          google.colab.kernel.accessAllowed ? 'block' : 'none';\n",
       "\n",
       "        async function convertToInteractive(key) {\n",
       "          const element = document.querySelector('#df-646202bc-74a6-4114-86e9-ef9b23f37d02');\n",
       "          const dataTable =\n",
       "            await google.colab.kernel.invokeFunction('convertToInteractive',\n",
       "                                                     [key], {});\n",
       "          if (!dataTable) return;\n",
       "\n",
       "          const docLinkHtml = 'Like what you see? Visit the ' +\n",
       "            '<a target=\"_blank\" href=https://colab.research.google.com/notebooks/data_table.ipynb>data table notebook</a>'\n",
       "            + ' to learn more about interactive tables.';\n",
       "          element.innerHTML = '';\n",
       "          dataTable['output_type'] = 'display_data';\n",
       "          await google.colab.output.renderOutput(dataTable, element);\n",
       "          const docLink = document.createElement('div');\n",
       "          docLink.innerHTML = docLinkHtml;\n",
       "          element.appendChild(docLink);\n",
       "        }\n",
       "      </script>\n",
       "    </div>\n",
       "  </div>\n",
       "  "
      ],
      "text/plain": [
       "            sentiment       ip\n",
       "DATE                          \n",
       "1980-01-01       67.0  46.0471\n",
       "1980-02-01       66.9  47.1305\n",
       "1980-03-01       56.5  47.6433\n",
       "1980-04-01       52.7  46.2537\n",
       "1980-05-01       51.7  44.9161"
      ]
     },
     "execution_count": 7,
     "metadata": {},
     "output_type": "execute_result"
    }
   ],
   "source": [
    "df.head()"
   ]
  },
  {
   "cell_type": "code",
   "execution_count": 8,
   "metadata": {
    "colab": {
     "base_uri": "https://localhost:8080/",
     "height": 297
    },
    "executionInfo": {
     "elapsed": 1742,
     "status": "ok",
     "timestamp": 1658043508255,
     "user": {
      "displayName": "James Lee",
      "userId": "17665317456088603930"
     },
     "user_tz": -540
    },
    "id": "UFzEPxt0jyuq",
    "outputId": "e85341a2-4131-4d28-b7c9-6199c0621626"
   },
   "outputs": [
    {
     "data": {
      "text/plain": [
       "<matplotlib.axes._subplots.AxesSubplot at 0x7f2284695190>"
      ]
     },
     "execution_count": 8,
     "metadata": {},
     "output_type": "execute_result"
    },
    {
     "data": {
      "image/png": "[encoded data removed]",
      "text/plain": [
       "<Figure size 432x288 with 1 Axes>"
      ]
     },
     "metadata": {},
     "output_type": "display_data"
    }
   ],
   "source": [
    "# 이 2개의 시계열을 한번에 모델링 해서\n",
    "# 2개의 시계열을 각각 예측\n",
    "df.plot()"
   ]
  },
  {
   "cell_type": "markdown",
   "metadata": {
    "id": "y_86uVxqjug_"
   },
   "source": [
    "Stationarity"
   ]
  },
  {
   "cell_type": "code",
   "execution_count": 9,
   "metadata": {
    "executionInfo": {
     "elapsed": 4,
     "status": "ok",
     "timestamp": 1658043510165,
     "user": {
      "displayName": "James Lee",
      "userId": "17665317456088603930"
     },
     "user_tz": -540
    },
    "id": "w4vGN0gKjsER"
   },
   "outputs": [],
   "source": [
    "df_transformed = (pd.DataFrame({'ip': np.log(df.ip).diff(12),\n",
    "                                'sentiment': df.sentiment.diff(12)})\n",
    "                  .dropna())"
   ]
  },
  {
   "cell_type": "markdown",
   "metadata": {
    "id": "udbCoea3j3dX"
   },
   "source": [
    "Scaling"
   ]
  },
  {
   "cell_type": "code",
   "execution_count": 10,
   "metadata": {
    "executionInfo": {
     "elapsed": 524,
     "status": "ok",
     "timestamp": 1658043516624,
     "user": {
      "displayName": "James Lee",
      "userId": "17665317456088603930"
     },
     "user_tz": -540
    },
    "id": "MTe8VHTVj0DL"
   },
   "outputs": [],
   "source": [
    "df_transformed = df_transformed.apply(minmax_scale)"
   ]
  },
  {
   "cell_type": "markdown",
   "metadata": {
    "id": "jY_-m-Zy1R2S"
   },
   "source": [
    "변환과정 수행 후에도 데이터가 비정상\n",
    "=> RNN에 데이터를 넣어도 모델링이 안됨\n",
    "=> RNN은 앞 뒤 관계를 통해서 미래를 맞춤.\n",
    "=> RNN을 쓰기 위해서는 앞 뒤 관계가 명확한 데이터를 넣어주어야 한다."
   ]
  },
  {
   "cell_type": "code",
   "execution_count": 11,
   "metadata": {
    "colab": {
     "base_uri": "https://localhost:8080/",
     "height": 297
    },
    "executionInfo": {
     "elapsed": 3573,
     "status": "ok",
     "timestamp": 1658043521831,
     "user": {
      "displayName": "James Lee",
      "userId": "17665317456088603930"
     },
     "user_tz": -540
    },
    "id": "xi89W3nkj2zr",
    "outputId": "a3da1548-9c99-45d8-ab37-fd7ddade6670"
   },
   "outputs": [
    {
     "data": {
      "image/png": "[encoded data removed]",
      "text/plain": [
       "<Figure size 1008x288 with 2 Axes>"
      ]
     },
     "metadata": {},
     "output_type": "display_data"
    }
   ],
   "source": [
    "fig, axes = plt.subplots(ncols=2, figsize=(14,4))\n",
    "columns={'ip': 'Industrial Production', 'sentiment': 'Sentiment'}\n",
    "df.rename(columns=columns).plot(ax=axes[0], title='Original Series')\n",
    "df_transformed.rename(columns=columns).plot(ax=axes[1], title='Tansformed Series')\n",
    "sns.despine()\n",
    "fig.tight_layout()\n",
    "fig.savefig(results_path / 'multi_rnn', dpi=300)"
   ]
  },
  {
   "cell_type": "code",
   "execution_count": 12,
   "metadata": {
    "executionInfo": {
     "elapsed": 517,
     "status": "ok",
     "timestamp": 1658043580900,
     "user": {
      "displayName": "James Lee",
      "userId": "17665317456088603930"
     },
     "user_tz": -540
    },
    "id": "kNnZ5Agdj8kd"
   },
   "outputs": [],
   "source": [
    "from numpy import array\n",
    "def split_sequence(sequence, n_steps_in, n_steps_out):\n",
    "\tX, y = list(), list()\n",
    "\tfor i in range(len(sequence)):\n",
    "\t\tend_ix = i + n_steps_in\n",
    "\t\tout_end_ix = end_ix + n_steps_out\n",
    "\t\tif out_end_ix > len(sequence):\n",
    "\t\t\tbreak\n",
    "\t\tseq_x, seq_y = sequence[i:end_ix], sequence[end_ix:out_end_ix]\n",
    "\t\tX.append(seq_x)\n",
    "\t\ty.append(seq_y)\n",
    "\treturn array(X), array(y)"
   ]
  },
  {
   "cell_type": "code",
   "execution_count": 13,
   "metadata": {
    "executionInfo": {
     "elapsed": 429,
     "status": "ok",
     "timestamp": 1658043594066,
     "user": {
      "displayName": "James Lee",
      "userId": "17665317456088603930"
     },
     "user_tz": -540
    },
    "id": "TjFC1dFhkAAd"
   },
   "outputs": [],
   "source": [
    "window_size = 20\n",
    "n_step_out = 6"
   ]
  },
  {
   "cell_type": "code",
   "execution_count": 14,
   "metadata": {
    "executionInfo": {
     "elapsed": 427,
     "status": "ok",
     "timestamp": 1658043596507,
     "user": {
      "displayName": "James Lee",
      "userId": "17665317456088603930"
     },
     "user_tz": -540
    },
    "id": "UIi0m5mwkCO9"
   },
   "outputs": [],
   "source": [
    "X, y = split_sequence(df_transformed, window_size, n_step_out)"
   ]
  },
  {
   "cell_type": "code",
   "execution_count": 15,
   "metadata": {
    "colab": {
     "base_uri": "https://localhost:8080/"
    },
    "executionInfo": {
     "elapsed": 3,
     "status": "ok",
     "timestamp": 1658043596507,
     "user": {
      "displayName": "James Lee",
      "userId": "17665317456088603930"
     },
     "user_tz": -540
    },
    "id": "WWClASRekEUW",
    "outputId": "f21a982d-fd58-490d-f01e-fdcd68eb8892"
   },
   "outputs": [
    {
     "data": {
      "text/plain": [
       "((443, 20, 2), (443, 6, 2))"
      ]
     },
     "execution_count": 15,
     "metadata": {},
     "output_type": "execute_result"
    }
   ],
   "source": [
    "X.shape, y.shape"
   ]
  },
  {
   "cell_type": "code",
   "execution_count": 16,
   "metadata": {
    "executionInfo": {
     "elapsed": 438,
     "status": "ok",
     "timestamp": 1658043612727,
     "user": {
      "displayName": "James Lee",
      "userId": "17665317456088603930"
     },
     "user_tz": -540
    },
    "id": "Kdzv8_vKkGpu"
   },
   "outputs": [],
   "source": [
    "test_size = 24\n",
    "train_size = X.shape[0]-test_size"
   ]
  },
  {
   "cell_type": "code",
   "execution_count": 17,
   "metadata": {
    "executionInfo": {
     "elapsed": 1,
     "status": "ok",
     "timestamp": 1658043617554,
     "user": {
      "displayName": "James Lee",
      "userId": "17665317456088603930"
     },
     "user_tz": -540
    },
    "id": "fPUBtQwpkJmn"
   },
   "outputs": [],
   "source": [
    "X_train, y_train = X[:train_size], y[:train_size]\n",
    "X_test, y_test = X[train_size:], y[train_size:]"
   ]
  },
  {
   "cell_type": "code",
   "execution_count": 18,
   "metadata": {
    "colab": {
     "base_uri": "https://localhost:8080/"
    },
    "executionInfo": {
     "elapsed": 423,
     "status": "ok",
     "timestamp": 1658043621380,
     "user": {
      "displayName": "James Lee",
      "userId": "17665317456088603930"
     },
     "user_tz": -540
    },
    "id": "_4FZ6BmbeiiZ",
    "outputId": "20211893-c527-4aaa-eb19-98d09b74f93d"
   },
   "outputs": [
    {
     "data": {
      "text/plain": [
       "array([[[0.55111661, 0.48576214],\n",
       "        [0.58191998, 0.40033501],\n",
       "        [0.59112016, 0.44053601],\n",
       "        [0.55643056, 0.46901173],\n",
       "        [0.5910033 , 0.38693467],\n",
       "        [0.56733137, 0.56951424],\n",
       "        [0.59086607, 0.45896147],\n",
       "        [0.5714395 , 0.45058626],\n",
       "        [0.5646568 , 0.46733668],\n",
       "        [0.60022792, 0.56951424],\n",
       "        [0.59806401, 0.45561139],\n",
       "        [0.59802122, 0.54438861],\n",
       "        [0.61246204, 0.59631491],\n",
       "        [0.60452417, 0.61139028],\n",
       "        [0.61384603, 0.57956449],\n",
       "        [0.6208421 , 0.60134003],\n",
       "        [0.59730404, 0.63651591],\n",
       "        [0.63442978, 0.54271357],\n",
       "        [0.62699183, 0.52763819],\n",
       "        [0.63333687, 0.55946399]],\n",
       "\n",
       "       [[0.58191998, 0.40033501],\n",
       "        [0.59112016, 0.44053601],\n",
       "        [0.55643056, 0.46901173],\n",
       "        [0.5910033 , 0.38693467],\n",
       "        [0.56733137, 0.56951424],\n",
       "        [0.59086607, 0.45896147],\n",
       "        [0.5714395 , 0.45058626],\n",
       "        [0.5646568 , 0.46733668],\n",
       "        [0.60022792, 0.56951424],\n",
       "        [0.59806401, 0.45561139],\n",
       "        [0.59802122, 0.54438861],\n",
       "        [0.61246204, 0.59631491],\n",
       "        [0.60452417, 0.61139028],\n",
       "        [0.61384603, 0.57956449],\n",
       "        [0.6208421 , 0.60134003],\n",
       "        [0.59730404, 0.63651591],\n",
       "        [0.63442978, 0.54271357],\n",
       "        [0.62699183, 0.52763819],\n",
       "        [0.63333687, 0.55946399],\n",
       "        [0.62537391, 0.61976549]],\n",
       "\n",
       "       [[0.59112016, 0.44053601],\n",
       "        [0.55643056, 0.46901173],\n",
       "        [0.5910033 , 0.38693467],\n",
       "        [0.56733137, 0.56951424],\n",
       "        [0.59086607, 0.45896147],\n",
       "        [0.5714395 , 0.45058626],\n",
       "        [0.5646568 , 0.46733668],\n",
       "        [0.60022792, 0.56951424],\n",
       "        [0.59806401, 0.45561139],\n",
       "        [0.59802122, 0.54438861],\n",
       "        [0.61246204, 0.59631491],\n",
       "        [0.60452417, 0.61139028],\n",
       "        [0.61384603, 0.57956449],\n",
       "        [0.6208421 , 0.60134003],\n",
       "        [0.59730404, 0.63651591],\n",
       "        [0.63442978, 0.54271357],\n",
       "        [0.62699183, 0.52763819],\n",
       "        [0.63333687, 0.55946399],\n",
       "        [0.62537391, 0.61976549],\n",
       "        [0.61270604, 0.5678392 ]],\n",
       "\n",
       "       [[0.55643056, 0.46901173],\n",
       "        [0.5910033 , 0.38693467],\n",
       "        [0.56733137, 0.56951424],\n",
       "        [0.59086607, 0.45896147],\n",
       "        [0.5714395 , 0.45058626],\n",
       "        [0.5646568 , 0.46733668],\n",
       "        [0.60022792, 0.56951424],\n",
       "        [0.59806401, 0.45561139],\n",
       "        [0.59802122, 0.54438861],\n",
       "        [0.61246204, 0.59631491],\n",
       "        [0.60452417, 0.61139028],\n",
       "        [0.61384603, 0.57956449],\n",
       "        [0.6208421 , 0.60134003],\n",
       "        [0.59730404, 0.63651591],\n",
       "        [0.63442978, 0.54271357],\n",
       "        [0.62699183, 0.52763819],\n",
       "        [0.63333687, 0.55946399],\n",
       "        [0.62537391, 0.61976549],\n",
       "        [0.61270604, 0.5678392 ],\n",
       "        [0.63965874, 0.72864322]],\n",
       "\n",
       "       [[0.5910033 , 0.38693467],\n",
       "        [0.56733137, 0.56951424],\n",
       "        [0.59086607, 0.45896147],\n",
       "        [0.5714395 , 0.45058626],\n",
       "        [0.5646568 , 0.46733668],\n",
       "        [0.60022792, 0.56951424],\n",
       "        [0.59806401, 0.45561139],\n",
       "        [0.59802122, 0.54438861],\n",
       "        [0.61246204, 0.59631491],\n",
       "        [0.60452417, 0.61139028],\n",
       "        [0.61384603, 0.57956449],\n",
       "        [0.6208421 , 0.60134003],\n",
       "        [0.59730404, 0.63651591],\n",
       "        [0.63442978, 0.54271357],\n",
       "        [0.62699183, 0.52763819],\n",
       "        [0.63333687, 0.55946399],\n",
       "        [0.62537391, 0.61976549],\n",
       "        [0.61270604, 0.5678392 ],\n",
       "        [0.63965874, 0.72864322],\n",
       "        [0.6527998 , 0.58123953]],\n",
       "\n",
       "       [[0.56733137, 0.56951424],\n",
       "        [0.59086607, 0.45896147],\n",
       "        [0.5714395 , 0.45058626],\n",
       "        [0.5646568 , 0.46733668],\n",
       "        [0.60022792, 0.56951424],\n",
       "        [0.59806401, 0.45561139],\n",
       "        [0.59802122, 0.54438861],\n",
       "        [0.61246204, 0.59631491],\n",
       "        [0.60452417, 0.61139028],\n",
       "        [0.61384603, 0.57956449],\n",
       "        [0.6208421 , 0.60134003],\n",
       "        [0.59730404, 0.63651591],\n",
       "        [0.63442978, 0.54271357],\n",
       "        [0.62699183, 0.52763819],\n",
       "        [0.63333687, 0.55946399],\n",
       "        [0.62537391, 0.61976549],\n",
       "        [0.61270604, 0.5678392 ],\n",
       "        [0.63965874, 0.72864322],\n",
       "        [0.6527998 , 0.58123953],\n",
       "        [0.65662855, 0.4639866 ]],\n",
       "\n",
       "       [[0.59086607, 0.45896147],\n",
       "        [0.5714395 , 0.45058626],\n",
       "        [0.5646568 , 0.46733668],\n",
       "        [0.60022792, 0.56951424],\n",
       "        [0.59806401, 0.45561139],\n",
       "        [0.59802122, 0.54438861],\n",
       "        [0.61246204, 0.59631491],\n",
       "        [0.60452417, 0.61139028],\n",
       "        [0.61384603, 0.57956449],\n",
       "        [0.6208421 , 0.60134003],\n",
       "        [0.59730404, 0.63651591],\n",
       "        [0.63442978, 0.54271357],\n",
       "        [0.62699183, 0.52763819],\n",
       "        [0.63333687, 0.55946399],\n",
       "        [0.62537391, 0.61976549],\n",
       "        [0.61270604, 0.5678392 ],\n",
       "        [0.63965874, 0.72864322],\n",
       "        [0.6527998 , 0.58123953],\n",
       "        [0.65662855, 0.4639866 ],\n",
       "        [0.62809522, 0.45561139]],\n",
       "\n",
       "       [[0.5714395 , 0.45058626],\n",
       "        [0.5646568 , 0.46733668],\n",
       "        [0.60022792, 0.56951424],\n",
       "        [0.59806401, 0.45561139],\n",
       "        [0.59802122, 0.54438861],\n",
       "        [0.61246204, 0.59631491],\n",
       "        [0.60452417, 0.61139028],\n",
       "        [0.61384603, 0.57956449],\n",
       "        [0.6208421 , 0.60134003],\n",
       "        [0.59730404, 0.63651591],\n",
       "        [0.63442978, 0.54271357],\n",
       "        [0.62699183, 0.52763819],\n",
       "        [0.63333687, 0.55946399],\n",
       "        [0.62537391, 0.61976549],\n",
       "        [0.61270604, 0.5678392 ],\n",
       "        [0.63965874, 0.72864322],\n",
       "        [0.6527998 , 0.58123953],\n",
       "        [0.65662855, 0.4639866 ],\n",
       "        [0.62809522, 0.45561139],\n",
       "        [0.65811463, 0.55946399]],\n",
       "\n",
       "       [[0.5646568 , 0.46733668],\n",
       "        [0.60022792, 0.56951424],\n",
       "        [0.59806401, 0.45561139],\n",
       "        [0.59802122, 0.54438861],\n",
       "        [0.61246204, 0.59631491],\n",
       "        [0.60452417, 0.61139028],\n",
       "        [0.61384603, 0.57956449],\n",
       "        [0.6208421 , 0.60134003],\n",
       "        [0.59730404, 0.63651591],\n",
       "        [0.63442978, 0.54271357],\n",
       "        [0.62699183, 0.52763819],\n",
       "        [0.63333687, 0.55946399],\n",
       "        [0.62537391, 0.61976549],\n",
       "        [0.61270604, 0.5678392 ],\n",
       "        [0.63965874, 0.72864322],\n",
       "        [0.6527998 , 0.58123953],\n",
       "        [0.65662855, 0.4639866 ],\n",
       "        [0.62809522, 0.45561139],\n",
       "        [0.65811463, 0.55946399],\n",
       "        [0.66343843, 0.57788945]],\n",
       "\n",
       "       [[0.60022792, 0.56951424],\n",
       "        [0.59806401, 0.45561139],\n",
       "        [0.59802122, 0.54438861],\n",
       "        [0.61246204, 0.59631491],\n",
       "        [0.60452417, 0.61139028],\n",
       "        [0.61384603, 0.57956449],\n",
       "        [0.6208421 , 0.60134003],\n",
       "        [0.59730404, 0.63651591],\n",
       "        [0.63442978, 0.54271357],\n",
       "        [0.62699183, 0.52763819],\n",
       "        [0.63333687, 0.55946399],\n",
       "        [0.62537391, 0.61976549],\n",
       "        [0.61270604, 0.5678392 ],\n",
       "        [0.63965874, 0.72864322],\n",
       "        [0.6527998 , 0.58123953],\n",
       "        [0.65662855, 0.4639866 ],\n",
       "        [0.62809522, 0.45561139],\n",
       "        [0.65811463, 0.55946399],\n",
       "        [0.66343843, 0.57788945],\n",
       "        [0.6891259 , 0.53266332]],\n",
       "\n",
       "       [[0.59806401, 0.45561139],\n",
       "        [0.59802122, 0.54438861],\n",
       "        [0.61246204, 0.59631491],\n",
       "        [0.60452417, 0.61139028],\n",
       "        [0.61384603, 0.57956449],\n",
       "        [0.6208421 , 0.60134003],\n",
       "        [0.59730404, 0.63651591],\n",
       "        [0.63442978, 0.54271357],\n",
       "        [0.62699183, 0.52763819],\n",
       "        [0.63333687, 0.55946399],\n",
       "        [0.62537391, 0.61976549],\n",
       "        [0.61270604, 0.5678392 ],\n",
       "        [0.63965874, 0.72864322],\n",
       "        [0.6527998 , 0.58123953],\n",
       "        [0.65662855, 0.4639866 ],\n",
       "        [0.62809522, 0.45561139],\n",
       "        [0.65811463, 0.55946399],\n",
       "        [0.66343843, 0.57788945],\n",
       "        [0.6891259 , 0.53266332],\n",
       "        [0.63383053, 0.51758794]],\n",
       "\n",
       "       [[0.59802122, 0.54438861],\n",
       "        [0.61246204, 0.59631491],\n",
       "        [0.60452417, 0.61139028],\n",
       "        [0.61384603, 0.57956449],\n",
       "        [0.6208421 , 0.60134003],\n",
       "        [0.59730404, 0.63651591],\n",
       "        [0.63442978, 0.54271357],\n",
       "        [0.62699183, 0.52763819],\n",
       "        [0.63333687, 0.55946399],\n",
       "        [0.62537391, 0.61976549],\n",
       "        [0.61270604, 0.5678392 ],\n",
       "        [0.63965874, 0.72864322],\n",
       "        [0.6527998 , 0.58123953],\n",
       "        [0.65662855, 0.4639866 ],\n",
       "        [0.62809522, 0.45561139],\n",
       "        [0.65811463, 0.55946399],\n",
       "        [0.66343843, 0.57788945],\n",
       "        [0.6891259 , 0.53266332],\n",
       "        [0.63383053, 0.51758794],\n",
       "        [0.64856114, 0.5561139 ]],\n",
       "\n",
       "       [[0.61246204, 0.59631491],\n",
       "        [0.60452417, 0.61139028],\n",
       "        [0.61384603, 0.57956449],\n",
       "        [0.6208421 , 0.60134003],\n",
       "        [0.59730404, 0.63651591],\n",
       "        [0.63442978, 0.54271357],\n",
       "        [0.62699183, 0.52763819],\n",
       "        [0.63333687, 0.55946399],\n",
       "        [0.62537391, 0.61976549],\n",
       "        [0.61270604, 0.5678392 ],\n",
       "        [0.63965874, 0.72864322],\n",
       "        [0.6527998 , 0.58123953],\n",
       "        [0.65662855, 0.4639866 ],\n",
       "        [0.62809522, 0.45561139],\n",
       "        [0.65811463, 0.55946399],\n",
       "        [0.66343843, 0.57788945],\n",
       "        [0.6891259 , 0.53266332],\n",
       "        [0.63383053, 0.51758794],\n",
       "        [0.64856114, 0.5561139 ],\n",
       "        [0.66471849, 0.57788945]],\n",
       "\n",
       "       [[0.60452417, 0.61139028],\n",
       "        [0.61384603, 0.57956449],\n",
       "        [0.6208421 , 0.60134003],\n",
       "        [0.59730404, 0.63651591],\n",
       "        [0.63442978, 0.54271357],\n",
       "        [0.62699183, 0.52763819],\n",
       "        [0.63333687, 0.55946399],\n",
       "        [0.62537391, 0.61976549],\n",
       "        [0.61270604, 0.5678392 ],\n",
       "        [0.63965874, 0.72864322],\n",
       "        [0.6527998 , 0.58123953],\n",
       "        [0.65662855, 0.4639866 ],\n",
       "        [0.62809522, 0.45561139],\n",
       "        [0.65811463, 0.55946399],\n",
       "        [0.66343843, 0.57788945],\n",
       "        [0.6891259 , 0.53266332],\n",
       "        [0.63383053, 0.51758794],\n",
       "        [0.64856114, 0.5561139 ],\n",
       "        [0.66471849, 0.57788945],\n",
       "        [0.67841799, 0.49246231]],\n",
       "\n",
       "       [[0.61384603, 0.57956449],\n",
       "        [0.6208421 , 0.60134003],\n",
       "        [0.59730404, 0.63651591],\n",
       "        [0.63442978, 0.54271357],\n",
       "        [0.62699183, 0.52763819],\n",
       "        [0.63333687, 0.55946399],\n",
       "        [0.62537391, 0.61976549],\n",
       "        [0.61270604, 0.5678392 ],\n",
       "        [0.63965874, 0.72864322],\n",
       "        [0.6527998 , 0.58123953],\n",
       "        [0.65662855, 0.4639866 ],\n",
       "        [0.62809522, 0.45561139],\n",
       "        [0.65811463, 0.55946399],\n",
       "        [0.66343843, 0.57788945],\n",
       "        [0.6891259 , 0.53266332],\n",
       "        [0.63383053, 0.51758794],\n",
       "        [0.64856114, 0.5561139 ],\n",
       "        [0.66471849, 0.57788945],\n",
       "        [0.67841799, 0.49246231],\n",
       "        [0.67768364, 0.58626466]],\n",
       "\n",
       "       [[0.6208421 , 0.60134003],\n",
       "        [0.59730404, 0.63651591],\n",
       "        [0.63442978, 0.54271357],\n",
       "        [0.62699183, 0.52763819],\n",
       "        [0.63333687, 0.55946399],\n",
       "        [0.62537391, 0.61976549],\n",
       "        [0.61270604, 0.5678392 ],\n",
       "        [0.63965874, 0.72864322],\n",
       "        [0.6527998 , 0.58123953],\n",
       "        [0.65662855, 0.4639866 ],\n",
       "        [0.62809522, 0.45561139],\n",
       "        [0.65811463, 0.55946399],\n",
       "        [0.66343843, 0.57788945],\n",
       "        [0.6891259 , 0.53266332],\n",
       "        [0.63383053, 0.51758794],\n",
       "        [0.64856114, 0.5561139 ],\n",
       "        [0.66471849, 0.57788945],\n",
       "        [0.67841799, 0.49246231],\n",
       "        [0.67768364, 0.58626466],\n",
       "        [0.62273894, 0.46733668]],\n",
       "\n",
       "       [[0.59730404, 0.63651591],\n",
       "        [0.63442978, 0.54271357],\n",
       "        [0.62699183, 0.52763819],\n",
       "        [0.63333687, 0.55946399],\n",
       "        [0.62537391, 0.61976549],\n",
       "        [0.61270604, 0.5678392 ],\n",
       "        [0.63965874, 0.72864322],\n",
       "        [0.6527998 , 0.58123953],\n",
       "        [0.65662855, 0.4639866 ],\n",
       "        [0.62809522, 0.45561139],\n",
       "        [0.65811463, 0.55946399],\n",
       "        [0.66343843, 0.57788945],\n",
       "        [0.6891259 , 0.53266332],\n",
       "        [0.63383053, 0.51758794],\n",
       "        [0.64856114, 0.5561139 ],\n",
       "        [0.66471849, 0.57788945],\n",
       "        [0.67841799, 0.49246231],\n",
       "        [0.67768364, 0.58626466],\n",
       "        [0.62273894, 0.46733668],\n",
       "        [0.6124303 , 0.48576214]],\n",
       "\n",
       "       [[0.63442978, 0.54271357],\n",
       "        [0.62699183, 0.52763819],\n",
       "        [0.63333687, 0.55946399],\n",
       "        [0.62537391, 0.61976549],\n",
       "        [0.61270604, 0.5678392 ],\n",
       "        [0.63965874, 0.72864322],\n",
       "        [0.6527998 , 0.58123953],\n",
       "        [0.65662855, 0.4639866 ],\n",
       "        [0.62809522, 0.45561139],\n",
       "        [0.65811463, 0.55946399],\n",
       "        [0.66343843, 0.57788945],\n",
       "        [0.6891259 , 0.53266332],\n",
       "        [0.63383053, 0.51758794],\n",
       "        [0.64856114, 0.5561139 ],\n",
       "        [0.66471849, 0.57788945],\n",
       "        [0.67841799, 0.49246231],\n",
       "        [0.67768364, 0.58626466],\n",
       "        [0.62273894, 0.46733668],\n",
       "        [0.6124303 , 0.48576214],\n",
       "        [0.62570779, 0.54271357]],\n",
       "\n",
       "       [[0.62699183, 0.52763819],\n",
       "        [0.63333687, 0.55946399],\n",
       "        [0.62537391, 0.61976549],\n",
       "        [0.61270604, 0.5678392 ],\n",
       "        [0.63965874, 0.72864322],\n",
       "        [0.6527998 , 0.58123953],\n",
       "        [0.65662855, 0.4639866 ],\n",
       "        [0.62809522, 0.45561139],\n",
       "        [0.65811463, 0.55946399],\n",
       "        [0.66343843, 0.57788945],\n",
       "        [0.6891259 , 0.53266332],\n",
       "        [0.63383053, 0.51758794],\n",
       "        [0.64856114, 0.5561139 ],\n",
       "        [0.66471849, 0.57788945],\n",
       "        [0.67841799, 0.49246231],\n",
       "        [0.67768364, 0.58626466],\n",
       "        [0.62273894, 0.46733668],\n",
       "        [0.6124303 , 0.48576214],\n",
       "        [0.62570779, 0.54271357],\n",
       "        [0.62465324, 0.42713568]],\n",
       "\n",
       "       [[0.63333687, 0.55946399],\n",
       "        [0.62537391, 0.61976549],\n",
       "        [0.61270604, 0.5678392 ],\n",
       "        [0.63965874, 0.72864322],\n",
       "        [0.6527998 , 0.58123953],\n",
       "        [0.65662855, 0.4639866 ],\n",
       "        [0.62809522, 0.45561139],\n",
       "        [0.65811463, 0.55946399],\n",
       "        [0.66343843, 0.57788945],\n",
       "        [0.6891259 , 0.53266332],\n",
       "        [0.63383053, 0.51758794],\n",
       "        [0.64856114, 0.5561139 ],\n",
       "        [0.66471849, 0.57788945],\n",
       "        [0.67841799, 0.49246231],\n",
       "        [0.67768364, 0.58626466],\n",
       "        [0.62273894, 0.46733668],\n",
       "        [0.6124303 , 0.48576214],\n",
       "        [0.62570779, 0.54271357],\n",
       "        [0.62465324, 0.42713568],\n",
       "        [0.57984642, 0.40368509]],\n",
       "\n",
       "       [[0.62537391, 0.61976549],\n",
       "        [0.61270604, 0.5678392 ],\n",
       "        [0.63965874, 0.72864322],\n",
       "        [0.6527998 , 0.58123953],\n",
       "        [0.65662855, 0.4639866 ],\n",
       "        [0.62809522, 0.45561139],\n",
       "        [0.65811463, 0.55946399],\n",
       "        [0.66343843, 0.57788945],\n",
       "        [0.6891259 , 0.53266332],\n",
       "        [0.63383053, 0.51758794],\n",
       "        [0.64856114, 0.5561139 ],\n",
       "        [0.66471849, 0.57788945],\n",
       "        [0.67841799, 0.49246231],\n",
       "        [0.67768364, 0.58626466],\n",
       "        [0.62273894, 0.46733668],\n",
       "        [0.6124303 , 0.48576214],\n",
       "        [0.62570779, 0.54271357],\n",
       "        [0.62465324, 0.42713568],\n",
       "        [0.57984642, 0.40368509],\n",
       "        [0.57776702, 0.45226131]],\n",
       "\n",
       "       [[0.61270604, 0.5678392 ],\n",
       "        [0.63965874, 0.72864322],\n",
       "        [0.6527998 , 0.58123953],\n",
       "        [0.65662855, 0.4639866 ],\n",
       "        [0.62809522, 0.45561139],\n",
       "        [0.65811463, 0.55946399],\n",
       "        [0.66343843, 0.57788945],\n",
       "        [0.6891259 , 0.53266332],\n",
       "        [0.63383053, 0.51758794],\n",
       "        [0.64856114, 0.5561139 ],\n",
       "        [0.66471849, 0.57788945],\n",
       "        [0.67841799, 0.49246231],\n",
       "        [0.67768364, 0.58626466],\n",
       "        [0.62273894, 0.46733668],\n",
       "        [0.6124303 , 0.48576214],\n",
       "        [0.62570779, 0.54271357],\n",
       "        [0.62465324, 0.42713568],\n",
       "        [0.57984642, 0.40368509],\n",
       "        [0.57776702, 0.45226131],\n",
       "        [0.52399637, 0.47571189]],\n",
       "\n",
       "       [[0.63965874, 0.72864322],\n",
       "        [0.6527998 , 0.58123953],\n",
       "        [0.65662855, 0.4639866 ],\n",
       "        [0.62809522, 0.45561139],\n",
       "        [0.65811463, 0.55946399],\n",
       "        [0.66343843, 0.57788945],\n",
       "        [0.6891259 , 0.53266332],\n",
       "        [0.63383053, 0.51758794],\n",
       "        [0.64856114, 0.5561139 ],\n",
       "        [0.66471849, 0.57788945],\n",
       "        [0.67841799, 0.49246231],\n",
       "        [0.67768364, 0.58626466],\n",
       "        [0.62273894, 0.46733668],\n",
       "        [0.6124303 , 0.48576214],\n",
       "        [0.62570779, 0.54271357],\n",
       "        [0.62465324, 0.42713568],\n",
       "        [0.57984642, 0.40368509],\n",
       "        [0.57776702, 0.45226131],\n",
       "        [0.52399637, 0.47571189],\n",
       "        [0.55622182, 0.5360134 ]],\n",
       "\n",
       "       [[0.6527998 , 0.58123953],\n",
       "        [0.65662855, 0.4639866 ],\n",
       "        [0.62809522, 0.45561139],\n",
       "        [0.65811463, 0.55946399],\n",
       "        [0.66343843, 0.57788945],\n",
       "        [0.6891259 , 0.53266332],\n",
       "        [0.63383053, 0.51758794],\n",
       "        [0.64856114, 0.5561139 ],\n",
       "        [0.66471849, 0.57788945],\n",
       "        [0.67841799, 0.49246231],\n",
       "        [0.67768364, 0.58626466],\n",
       "        [0.62273894, 0.46733668],\n",
       "        [0.6124303 , 0.48576214],\n",
       "        [0.62570779, 0.54271357],\n",
       "        [0.62465324, 0.42713568],\n",
       "        [0.57984642, 0.40368509],\n",
       "        [0.57776702, 0.45226131],\n",
       "        [0.52399637, 0.47571189],\n",
       "        [0.55622182, 0.5360134 ],\n",
       "        [0.55226098, 0.50251256]]])"
      ]
     },
     "execution_count": 18,
     "metadata": {},
     "output_type": "execute_result"
    }
   ],
   "source": [
    "X_test"
   ]
  },
  {
   "cell_type": "code",
   "execution_count": 19,
   "metadata": {
    "colab": {
     "base_uri": "https://localhost:8080/"
    },
    "executionInfo": {
     "elapsed": 2,
     "status": "ok",
     "timestamp": 1658043623378,
     "user": {
      "displayName": "James Lee",
      "userId": "17665317456088603930"
     },
     "user_tz": -540
    },
    "id": "_54B3v7CkKcu",
    "outputId": "5c6011ad-b6fe-4ee8-df5d-f3cf98f37aa8"
   },
   "outputs": [
    {
     "data": {
      "text/plain": [
       "((419, 20, 2), (24, 20, 2))"
      ]
     },
     "execution_count": 19,
     "metadata": {},
     "output_type": "execute_result"
    }
   ],
   "source": [
    "X_train.shape, X_test.shape"
   ]
  },
  {
   "cell_type": "code",
   "execution_count": 20,
   "metadata": {
    "executionInfo": {
     "elapsed": 429,
     "status": "ok",
     "timestamp": 1658043626675,
     "user": {
      "displayName": "James Lee",
      "userId": "17665317456088603930"
     },
     "user_tz": -540
    },
    "id": "xbr4FBCXkLYP"
   },
   "outputs": [],
   "source": [
    "K.clear_session()"
   ]
  },
  {
   "cell_type": "code",
   "execution_count": 21,
   "metadata": {
    "executionInfo": {
     "elapsed": 2,
     "status": "ok",
     "timestamp": 1658043627450,
     "user": {
      "displayName": "James Lee",
      "userId": "17665317456088603930"
     },
     "user_tz": -540
    },
    "id": "BxlgNrMXkMLX"
   },
   "outputs": [],
   "source": [
    "n_features = output_size = 2"
   ]
  },
  {
   "cell_type": "code",
   "execution_count": 22,
   "metadata": {
    "executionInfo": {
     "elapsed": 2,
     "status": "ok",
     "timestamp": 1658043627934,
     "user": {
      "displayName": "James Lee",
      "userId": "17665317456088603930"
     },
     "user_tz": -540
    },
    "id": "IaddoCcDkM7Q"
   },
   "outputs": [],
   "source": [
    "lstm_units = 200\n",
    "dense_units = 128"
   ]
  },
  {
   "cell_type": "code",
   "execution_count": 23,
   "metadata": {
    "colab": {
     "base_uri": "https://localhost:8080/"
    },
    "executionInfo": {
     "elapsed": 5187,
     "status": "ok",
     "timestamp": 1658043835075,
     "user": {
      "displayName": "James Lee",
      "userId": "17665317456088603930"
     },
     "user_tz": -540
    },
    "id": "CfmxkX2wkOkn",
    "outputId": "177abe5d-3936-4848-fcf2-f13b00d89be7"
   },
   "outputs": [
    {
     "name": "stdout",
     "output_type": "stream",
     "text": [
      "WARNING:tensorflow:Layer lstm will not use cuDNN kernels since it doesn't meet the criteria. It will use a generic GPU kernel as fallback when running on GPU.\n",
      "WARNING:tensorflow:Layer lstm_1 will not use cuDNN kernels since it doesn't meet the criteria. It will use a generic GPU kernel as fallback when running on GPU.\n",
      "WARNING:tensorflow:Layer lstm_2 will not use cuDNN kernels since it doesn't meet the criteria. It will use a generic GPU kernel as fallback when running on GPU.\n",
      "WARNING:tensorflow:Layer lstm_3 will not use cuDNN kernels since it doesn't meet the criteria. It will use a generic GPU kernel as fallback when running on GPU.\n"
     ]
    }
   ],
   "source": [
    "rnn = Sequential([\n",
    "    LSTM(units=lstm_units,\n",
    "         dropout=.1,\n",
    "         recurrent_dropout=.1,\n",
    "         input_shape=(window_size, n_features),\n",
    "         return_sequences=True),\n",
    "      LSTM(units=lstm_units,\n",
    "         dropout=.1,\n",
    "         recurrent_dropout=.1,\n",
    "        #  input_shape=(window_size, n_features),\n",
    "         return_sequences=False),\n",
    "    RepeatVector(n_step_out),\n",
    "      LSTM(units=lstm_units,\n",
    "         dropout=.1,\n",
    "         recurrent_dropout=.1,\n",
    "        #  input_shape=(window_size, n_features),\n",
    "         return_sequences=True),\n",
    "    LSTM(units=lstm_units,\n",
    "         dropout=.1,\n",
    "         recurrent_dropout=.1,\n",
    "        #  input_shape=(window_size, n_features),\n",
    "         return_sequences=True),\n",
    "    TimeDistributed(Dense(dense_units)),\n",
    "    TimeDistributed(Dropout(0.5)),\n",
    "    TimeDistributed(Dense(dense_units)),\n",
    "    TimeDistributed(Dense(output_size))\n",
    "])"
   ]
  },
  {
   "cell_type": "code",
   "execution_count": null,
   "metadata": {
    "colab": {
     "base_uri": "https://localhost:8080/"
    },
    "executionInfo": {
     "elapsed": 677,
     "status": "ok",
     "timestamp": 1658029960954,
     "user": {
      "displayName": "James Lee",
      "userId": "17665317456088603930"
     },
     "user_tz": -540
    },
    "id": "1kOTxRv-RQIl",
    "outputId": "6899e571-0ea1-48f6-f93d-6d6a31077dc6"
   },
   "outputs": [
    {
     "name": "stdout",
     "output_type": "stream",
     "text": [
      "WARNING:tensorflow:Layer lstm_8 will not use cuDNN kernels since it doesn't meet the criteria. It will use a generic GPU kernel as fallback when running on GPU.\n",
      "WARNING:tensorflow:Layer lstm_9 will not use cuDNN kernels since it doesn't meet the criteria. It will use a generic GPU kernel as fallback when running on GPU.\n"
     ]
    }
   ],
   "source": [
    "rnn = Sequential([\n",
    "    Conv1D(filters=64, kernel_size=3, activation='relu',\n",
    "\t          input_shape=(window_size, n_features)),\n",
    "    MaxPooling1D(pool_size=2),\n",
    "    Flatten(),\n",
    "    RepeatVector(n_step_out),\n",
    "      LSTM(units=lstm_units,\n",
    "         dropout=.1,\n",
    "         recurrent_dropout=.1,\n",
    "        #  input_shape=(window_size, n_features),\n",
    "         return_sequences=True),\n",
    "    LSTM(units=lstm_units,\n",
    "         dropout=.1,\n",
    "         recurrent_dropout=.1,\n",
    "        #  input_shape=(window_size, n_features),\n",
    "         return_sequences=True),\n",
    "    TimeDistributed(Dense(dense_units)),\n",
    "    TimeDistributed(Dropout(0.5)),\n",
    "    TimeDistributed(Dense(dense_units)),\n",
    "    TimeDistributed(Dense(output_size))\n",
    "])"
   ]
  },
  {
   "cell_type": "code",
   "execution_count": 24,
   "metadata": {
    "colab": {
     "base_uri": "https://localhost:8080/"
    },
    "executionInfo": {
     "elapsed": 629,
     "status": "ok",
     "timestamp": 1658043849253,
     "user": {
      "displayName": "James Lee",
      "userId": "17665317456088603930"
     },
     "user_tz": -540
    },
    "id": "3Fxm6xuTkQa4",
    "outputId": "3e9292fc-324e-469a-e2ec-f5935340d91a"
   },
   "outputs": [
    {
     "name": "stdout",
     "output_type": "stream",
     "text": [
      "Model: \"sequential\"\n",
      "_________________________________________________________________\n",
      " Layer (type)                Output Shape              Param #   \n",
      "=================================================================\n",
      " lstm (LSTM)                 (None, 20, 200)           162400    \n",
      "                                                                 \n",
      " lstm_1 (LSTM)               (None, 200)               320800    \n",
      "                                                                 \n",
      " repeat_vector (RepeatVector  (None, 6, 200)           0         \n",
      " )                                                               \n",
      "                                                                 \n",
      " lstm_2 (LSTM)               (None, 6, 200)            320800    \n",
      "                                                                 \n",
      " lstm_3 (LSTM)               (None, 6, 200)            320800    \n",
      "                                                                 \n",
      " time_distributed (TimeDistr  (None, 6, 128)           25728     \n",
      " ibuted)                                                         \n",
      "                                                                 \n",
      " time_distributed_1 (TimeDis  (None, 6, 128)           0         \n",
      " tributed)                                                       \n",
      "                                                                 \n",
      " time_distributed_2 (TimeDis  (None, 6, 128)           16512     \n",
      " tributed)                                                       \n",
      "                                                                 \n",
      " time_distributed_3 (TimeDis  (None, 6, 2)             258       \n",
      " tributed)                                                       \n",
      "                                                                 \n",
      "=================================================================\n",
      "Total params: 1,167,298\n",
      "Trainable params: 1,167,298\n",
      "Non-trainable params: 0\n",
      "_________________________________________________________________\n"
     ]
    }
   ],
   "source": [
    "rnn.summary()"
   ]
  },
  {
   "cell_type": "code",
   "execution_count": 25,
   "metadata": {
    "executionInfo": {
     "elapsed": 2,
     "status": "ok",
     "timestamp": 1658043858624,
     "user": {
      "displayName": "James Lee",
      "userId": "17665317456088603930"
     },
     "user_tz": -540
    },
    "id": "JidXSbXCkRrI"
   },
   "outputs": [],
   "source": [
    "rnn.compile(loss='mse', optimizer='RMSProp')"
   ]
  },
  {
   "cell_type": "code",
   "execution_count": 26,
   "metadata": {
    "executionInfo": {
     "elapsed": 2,
     "status": "ok",
     "timestamp": 1658043862096,
     "user": {
      "displayName": "James Lee",
      "userId": "17665317456088603930"
     },
     "user_tz": -540
    },
    "id": "RSEElneekUJI"
   },
   "outputs": [],
   "source": [
    "lstm_path = (results_path / 'lstm.h5').as_posix()\n",
    "\n",
    "checkpointer = ModelCheckpoint(filepath=lstm_path,\n",
    "                               verbose=1,\n",
    "                               monitor='val_loss',\n",
    "                               mode='min',\n",
    "                               save_best_only=True)"
   ]
  },
  {
   "cell_type": "code",
   "execution_count": 27,
   "metadata": {
    "executionInfo": {
     "elapsed": 2,
     "status": "ok",
     "timestamp": 1658043862097,
     "user": {
      "displayName": "James Lee",
      "userId": "17665317456088603930"
     },
     "user_tz": -540
    },
    "id": "gWBik00ckVpx"
   },
   "outputs": [],
   "source": [
    "early_stopping = EarlyStopping(monitor='val_loss', \n",
    "                              patience=10,\n",
    "                              restore_best_weights=True)"
   ]
  },
  {
   "cell_type": "code",
   "execution_count": 28,
   "metadata": {
    "colab": {
     "base_uri": "https://localhost:8080/"
    },
    "executionInfo": {
     "elapsed": 171815,
     "status": "ok",
     "timestamp": 1658044035085,
     "user": {
      "displayName": "James Lee",
      "userId": "17665317456088603930"
     },
     "user_tz": -540
    },
    "id": "z00JuuBSkWyY",
    "outputId": "278e9684-6fca-43fa-b41a-8ab9382ff9ae"
   },
   "outputs": [
    {
     "name": "stdout",
     "output_type": "stream",
     "text": [
      "Epoch 1/100\n",
      "21/21 [==============================] - ETA: 0s - loss: 0.1209\n",
      "Epoch 1: val_loss improved from inf to 0.00937, saving model to results/multivariate_time_series/lstm.h5\n",
      "21/21 [==============================] - 18s 255ms/step - loss: 0.1209 - val_loss: 0.0094\n",
      "Epoch 2/100\n",
      "21/21 [==============================] - ETA: 0s - loss: 0.0337\n",
      "Epoch 2: val_loss improved from 0.00937 to 0.00583, saving model to results/multivariate_time_series/lstm.h5\n",
      "21/21 [==============================] - 5s 218ms/step - loss: 0.0337 - val_loss: 0.0058\n",
      "Epoch 3/100\n",
      "21/21 [==============================] - ETA: 0s - loss: 0.0309\n",
      "Epoch 3: val_loss improved from 0.00583 to 0.00525, saving model to results/multivariate_time_series/lstm.h5\n",
      "21/21 [==============================] - 4s 214ms/step - loss: 0.0309 - val_loss: 0.0053\n",
      "Epoch 4/100\n",
      "21/21 [==============================] - ETA: 0s - loss: 0.0300\n",
      "Epoch 4: val_loss improved from 0.00525 to 0.00449, saving model to results/multivariate_time_series/lstm.h5\n",
      "21/21 [==============================] - 4s 214ms/step - loss: 0.0300 - val_loss: 0.0045\n",
      "Epoch 5/100\n",
      "21/21 [==============================] - ETA: 0s - loss: 0.0294\n",
      "Epoch 5: val_loss improved from 0.00449 to 0.00389, saving model to results/multivariate_time_series/lstm.h5\n",
      "21/21 [==============================] - 5s 216ms/step - loss: 0.0294 - val_loss: 0.0039\n",
      "Epoch 6/100\n",
      "21/21 [==============================] - ETA: 0s - loss: 0.0293\n",
      "Epoch 6: val_loss did not improve from 0.00389\n",
      "21/21 [==============================] - 5s 216ms/step - loss: 0.0293 - val_loss: 0.0049\n",
      "Epoch 7/100\n",
      "21/21 [==============================] - ETA: 0s - loss: 0.0287\n",
      "Epoch 7: val_loss did not improve from 0.00389\n",
      "21/21 [==============================] - 4s 210ms/step - loss: 0.0287 - val_loss: 0.0045\n",
      "Epoch 8/100\n",
      "21/21 [==============================] - ETA: 0s - loss: 0.0267\n",
      "Epoch 8: val_loss did not improve from 0.00389\n",
      "21/21 [==============================] - 5s 217ms/step - loss: 0.0267 - val_loss: 0.0042\n",
      "Epoch 9/100\n",
      "21/21 [==============================] - ETA: 0s - loss: 0.0276\n",
      "Epoch 9: val_loss did not improve from 0.00389\n",
      "21/21 [==============================] - 5s 216ms/step - loss: 0.0276 - val_loss: 0.0044\n",
      "Epoch 10/100\n",
      "21/21 [==============================] - ETA: 0s - loss: 0.0267\n",
      "Epoch 10: val_loss did not improve from 0.00389\n",
      "21/21 [==============================] - 4s 209ms/step - loss: 0.0267 - val_loss: 0.0039\n",
      "Epoch 11/100\n",
      "21/21 [==============================] - ETA: 0s - loss: 0.0285\n",
      "Epoch 11: val_loss improved from 0.00389 to 0.00350, saving model to results/multivariate_time_series/lstm.h5\n",
      "21/21 [==============================] - 5s 216ms/step - loss: 0.0285 - val_loss: 0.0035\n",
      "Epoch 12/100\n",
      "21/21 [==============================] - ETA: 0s - loss: 0.0248\n",
      "Epoch 12: val_loss did not improve from 0.00350\n",
      "21/21 [==============================] - 5s 213ms/step - loss: 0.0248 - val_loss: 0.0042\n",
      "Epoch 13/100\n",
      "21/21 [==============================] - ETA: 0s - loss: 0.0248\n",
      "Epoch 13: val_loss did not improve from 0.00350\n",
      "21/21 [==============================] - 5s 216ms/step - loss: 0.0248 - val_loss: 0.0046\n",
      "Epoch 14/100\n",
      "21/21 [==============================] - ETA: 0s - loss: 0.0243\n",
      "Epoch 14: val_loss did not improve from 0.00350\n",
      "21/21 [==============================] - 4s 213ms/step - loss: 0.0243 - val_loss: 0.0042\n",
      "Epoch 15/100\n",
      "21/21 [==============================] - ETA: 0s - loss: 0.0238\n",
      "Epoch 15: val_loss did not improve from 0.00350\n",
      "21/21 [==============================] - 4s 209ms/step - loss: 0.0238 - val_loss: 0.0045\n",
      "Epoch 16/100\n",
      "21/21 [==============================] - ETA: 0s - loss: 0.0230\n",
      "Epoch 16: val_loss did not improve from 0.00350\n",
      "21/21 [==============================] - 4s 209ms/step - loss: 0.0230 - val_loss: 0.0043\n",
      "Epoch 17/100\n",
      "21/21 [==============================] - ETA: 0s - loss: 0.0231\n",
      "Epoch 17: val_loss did not improve from 0.00350\n",
      "21/21 [==============================] - 5s 215ms/step - loss: 0.0231 - val_loss: 0.0041\n",
      "Epoch 18/100\n",
      "21/21 [==============================] - ETA: 0s - loss: 0.0241\n",
      "Epoch 18: val_loss improved from 0.00350 to 0.00338, saving model to results/multivariate_time_series/lstm.h5\n",
      "21/21 [==============================] - 5s 216ms/step - loss: 0.0241 - val_loss: 0.0034\n",
      "Epoch 19/100\n",
      "21/21 [==============================] - ETA: 0s - loss: 0.0216\n",
      "Epoch 19: val_loss did not improve from 0.00338\n",
      "21/21 [==============================] - 4s 210ms/step - loss: 0.0216 - val_loss: 0.0038\n",
      "Epoch 20/100\n",
      "21/21 [==============================] - ETA: 0s - loss: 0.0218\n",
      "Epoch 20: val_loss did not improve from 0.00338\n",
      "21/21 [==============================] - 4s 210ms/step - loss: 0.0218 - val_loss: 0.0038\n",
      "Epoch 21/100\n",
      "21/21 [==============================] - ETA: 0s - loss: 0.0219\n",
      "Epoch 21: val_loss did not improve from 0.00338\n",
      "21/21 [==============================] - 4s 210ms/step - loss: 0.0219 - val_loss: 0.0036\n",
      "Epoch 22/100\n",
      "21/21 [==============================] - ETA: 0s - loss: 0.0202\n",
      "Epoch 22: val_loss did not improve from 0.00338\n",
      "21/21 [==============================] - 4s 209ms/step - loss: 0.0202 - val_loss: 0.0040\n",
      "Epoch 23/100\n",
      "21/21 [==============================] - ETA: 0s - loss: 0.0206\n",
      "Epoch 23: val_loss did not improve from 0.00338\n",
      "21/21 [==============================] - 4s 207ms/step - loss: 0.0206 - val_loss: 0.0042\n",
      "Epoch 24/100\n",
      "21/21 [==============================] - ETA: 0s - loss: 0.0208\n",
      "Epoch 24: val_loss did not improve from 0.00338\n",
      "21/21 [==============================] - 4s 210ms/step - loss: 0.0208 - val_loss: 0.0041\n",
      "Epoch 25/100\n",
      "21/21 [==============================] - ETA: 0s - loss: 0.0232\n",
      "Epoch 25: val_loss improved from 0.00338 to 0.00337, saving model to results/multivariate_time_series/lstm.h5\n",
      "21/21 [==============================] - 5s 217ms/step - loss: 0.0232 - val_loss: 0.0034\n",
      "Epoch 26/100\n",
      "21/21 [==============================] - ETA: 0s - loss: 0.0196\n",
      "Epoch 26: val_loss did not improve from 0.00337\n",
      "21/21 [==============================] - 4s 206ms/step - loss: 0.0196 - val_loss: 0.0039\n",
      "Epoch 27/100\n",
      "21/21 [==============================] - ETA: 0s - loss: 0.0194\n",
      "Epoch 27: val_loss did not improve from 0.00337\n",
      "21/21 [==============================] - 4s 213ms/step - loss: 0.0194 - val_loss: 0.0038\n",
      "Epoch 28/100\n",
      "21/21 [==============================] - ETA: 0s - loss: 0.0193\n",
      "Epoch 28: val_loss did not improve from 0.00337\n",
      "21/21 [==============================] - 4s 213ms/step - loss: 0.0193 - val_loss: 0.0046\n",
      "Epoch 29/100\n",
      "21/21 [==============================] - ETA: 0s - loss: 0.0198\n",
      "Epoch 29: val_loss did not improve from 0.00337\n",
      "21/21 [==============================] - 5s 217ms/step - loss: 0.0198 - val_loss: 0.0040\n",
      "Epoch 30/100\n",
      "21/21 [==============================] - ETA: 0s - loss: 0.0192\n",
      "Epoch 30: val_loss did not improve from 0.00337\n",
      "21/21 [==============================] - 5s 256ms/step - loss: 0.0192 - val_loss: 0.0038\n",
      "Epoch 31/100\n",
      "21/21 [==============================] - ETA: 0s - loss: 0.0194\n",
      "Epoch 31: val_loss did not improve from 0.00337\n",
      "21/21 [==============================] - 5s 215ms/step - loss: 0.0194 - val_loss: 0.0038\n",
      "Epoch 32/100\n",
      "21/21 [==============================] - ETA: 0s - loss: 0.0188\n",
      "Epoch 32: val_loss did not improve from 0.00337\n",
      "21/21 [==============================] - 4s 214ms/step - loss: 0.0188 - val_loss: 0.0045\n",
      "Epoch 33/100\n",
      "21/21 [==============================] - ETA: 0s - loss: 0.0195\n",
      "Epoch 33: val_loss did not improve from 0.00337\n",
      "21/21 [==============================] - 4s 213ms/step - loss: 0.0195 - val_loss: 0.0036\n",
      "Epoch 34/100\n",
      "21/21 [==============================] - ETA: 0s - loss: 0.0175\n",
      "Epoch 34: val_loss did not improve from 0.00337\n",
      "21/21 [==============================] - 4s 213ms/step - loss: 0.0175 - val_loss: 0.0038\n",
      "Epoch 35/100\n",
      "21/21 [==============================] - ETA: 0s - loss: 0.0195\n",
      "Epoch 35: val_loss did not improve from 0.00337\n",
      "21/21 [==============================] - 5s 219ms/step - loss: 0.0195 - val_loss: 0.0037\n"
     ]
    }
   ],
   "source": [
    "result = rnn.fit(X_train,\n",
    "                 y_train,\n",
    "                 epochs=100,\n",
    "                 batch_size=20,\n",
    "                 shuffle=False,\n",
    "                 validation_data=(X_test, y_test),\n",
    "                 callbacks=[early_stopping, checkpointer],\n",
    "                 verbose=1)"
   ]
  },
  {
   "cell_type": "code",
   "execution_count": 29,
   "metadata": {
    "colab": {
     "base_uri": "https://localhost:8080/",
     "height": 283
    },
    "executionInfo": {
     "elapsed": 740,
     "status": "ok",
     "timestamp": 1658044040590,
     "user": {
      "displayName": "James Lee",
      "userId": "17665317456088603930"
     },
     "user_tz": -540
    },
    "id": "sLDxJJ5ykX8p",
    "outputId": "7ddf7728-e1e5-4ae8-bf27-a1ab22685099"
   },
   "outputs": [
    {
     "data": {
      "text/plain": [
       "<matplotlib.axes._subplots.AxesSubplot at 0x7f21e406b590>"
      ]
     },
     "execution_count": 29,
     "metadata": {},
     "output_type": "execute_result"
    },
    {
     "data": {
      "image/png": "[encoded data removed]",
      "text/plain": [
       "<Figure size 432x288 with 1 Axes>"
      ]
     },
     "metadata": {},
     "output_type": "display_data"
    }
   ],
   "source": [
    "pd.DataFrame(result.history).plot()"
   ]
  },
  {
   "cell_type": "code",
   "execution_count": 30,
   "metadata": {
    "executionInfo": {
     "elapsed": 1006,
     "status": "ok",
     "timestamp": 1658044051386,
     "user": {
      "displayName": "James Lee",
      "userId": "17665317456088603930"
     },
     "user_tz": -540
    },
    "id": "kKSOgkLFeElv"
   },
   "outputs": [],
   "source": [
    "pred = rnn.predict(X_test)"
   ]
  },
  {
   "cell_type": "code",
   "execution_count": 31,
   "metadata": {
    "colab": {
     "base_uri": "https://localhost:8080/"
    },
    "executionInfo": {
     "elapsed": 3,
     "status": "ok",
     "timestamp": 1658044052168,
     "user": {
      "displayName": "James Lee",
      "userId": "17665317456088603930"
     },
     "user_tz": -540
    },
    "id": "igTlCRdbN6f2",
    "outputId": "65c47a30-04e0-4397-c0aa-b586b6e8648a"
   },
   "outputs": [
    {
     "data": {
      "text/plain": [
       "(24, 6, 2)"
      ]
     },
     "execution_count": 31,
     "metadata": {},
     "output_type": "execute_result"
    }
   ],
   "source": [
    "pred.shape"
   ]
  },
  {
   "cell_type": "code",
   "execution_count": null,
   "metadata": {
    "colab": {
     "base_uri": "https://localhost:8080/",
     "height": 355
    },
    "executionInfo": {
     "elapsed": 254,
     "status": "error",
     "timestamp": 1658028776649,
     "user": {
      "displayName": "James Lee",
      "userId": "17665317456088603930"
     },
     "user_tz": -540
    },
    "id": "8tqz0P8qeF_n",
    "outputId": "714ab6f3-3ccc-46c2-ca04-fb06764f4617"
   },
   "outputs": [
    {
     "ename": "ValueError",
     "evalue": "ignored",
     "output_type": "error",
     "traceback": [
      "\u001b[0;31m---------------------------------------------------------------------------\u001b[0m",
      "\u001b[0;31mValueError\u001b[0m                                Traceback (most recent call last)",
      "\u001b[0;32m<ipython-input-34-165c51220f8f>\u001b[0m in \u001b[0;36m<module>\u001b[0;34m()\u001b[0m\n\u001b[1;32m      1\u001b[0m y_pred = pd.DataFrame(rnn.predict(X_test), \n\u001b[0;32m----> 2\u001b[0;31m                       columns=['sentiment', 'ip'])\n\u001b[0m\u001b[1;32m      3\u001b[0m \u001b[0my_pred\u001b[0m\u001b[0;34m.\u001b[0m\u001b[0minfo\u001b[0m\u001b[0;34m(\u001b[0m\u001b[0;34m)\u001b[0m\u001b[0;34m\u001b[0m\u001b[0;34m\u001b[0m\u001b[0m\n",
      "\u001b[0;32m/usr/local/lib/python3.7/dist-packages/pandas/core/frame.py\u001b[0m in \u001b[0;36m__init__\u001b[0;34m(self, data, index, columns, dtype, copy)\u001b[0m\n\u001b[1;32m    676\u001b[0m                     \u001b[0mdtype\u001b[0m\u001b[0;34m=\u001b[0m\u001b[0mdtype\u001b[0m\u001b[0;34m,\u001b[0m\u001b[0;34m\u001b[0m\u001b[0;34m\u001b[0m\u001b[0m\n\u001b[1;32m    677\u001b[0m                     \u001b[0mcopy\u001b[0m\u001b[0;34m=\u001b[0m\u001b[0mcopy\u001b[0m\u001b[0;34m,\u001b[0m\u001b[0;34m\u001b[0m\u001b[0;34m\u001b[0m\u001b[0m\n\u001b[0;32m--> 678\u001b[0;31m                     \u001b[0mtyp\u001b[0m\u001b[0;34m=\u001b[0m\u001b[0mmanager\u001b[0m\u001b[0;34m,\u001b[0m\u001b[0;34m\u001b[0m\u001b[0;34m\u001b[0m\u001b[0m\n\u001b[0m\u001b[1;32m    679\u001b[0m                 )\n\u001b[1;32m    680\u001b[0m \u001b[0;34m\u001b[0m\u001b[0m\n",
      "\u001b[0;32m/usr/local/lib/python3.7/dist-packages/pandas/core/internals/construction.py\u001b[0m in \u001b[0;36mndarray_to_mgr\u001b[0;34m(values, index, columns, dtype, copy, typ)\u001b[0m\n\u001b[1;32m    302\u001b[0m         \u001b[0;31m# by definition an array here\u001b[0m\u001b[0;34m\u001b[0m\u001b[0;34m\u001b[0m\u001b[0;34m\u001b[0m\u001b[0m\n\u001b[1;32m    303\u001b[0m         \u001b[0;31m# the dtypes will be coerced to a single dtype\u001b[0m\u001b[0;34m\u001b[0m\u001b[0;34m\u001b[0m\u001b[0;34m\u001b[0m\u001b[0m\n\u001b[0;32m--> 304\u001b[0;31m         \u001b[0mvalues\u001b[0m \u001b[0;34m=\u001b[0m \u001b[0m_prep_ndarray\u001b[0m\u001b[0;34m(\u001b[0m\u001b[0mvalues\u001b[0m\u001b[0;34m,\u001b[0m \u001b[0mcopy\u001b[0m\u001b[0;34m=\u001b[0m\u001b[0mcopy\u001b[0m\u001b[0;34m)\u001b[0m\u001b[0;34m\u001b[0m\u001b[0;34m\u001b[0m\u001b[0m\n\u001b[0m\u001b[1;32m    305\u001b[0m \u001b[0;34m\u001b[0m\u001b[0m\n\u001b[1;32m    306\u001b[0m     \u001b[0;32mif\u001b[0m \u001b[0mdtype\u001b[0m \u001b[0;32mis\u001b[0m \u001b[0;32mnot\u001b[0m \u001b[0;32mNone\u001b[0m \u001b[0;32mand\u001b[0m \u001b[0;32mnot\u001b[0m \u001b[0mis_dtype_equal\u001b[0m\u001b[0;34m(\u001b[0m\u001b[0mvalues\u001b[0m\u001b[0;34m.\u001b[0m\u001b[0mdtype\u001b[0m\u001b[0;34m,\u001b[0m \u001b[0mdtype\u001b[0m\u001b[0;34m)\u001b[0m\u001b[0;34m:\u001b[0m\u001b[0;34m\u001b[0m\u001b[0;34m\u001b[0m\u001b[0m\n",
      "\u001b[0;32m/usr/local/lib/python3.7/dist-packages/pandas/core/internals/construction.py\u001b[0m in \u001b[0;36m_prep_ndarray\u001b[0;34m(values, copy)\u001b[0m\n\u001b[1;32m    553\u001b[0m         \u001b[0mvalues\u001b[0m \u001b[0;34m=\u001b[0m \u001b[0mvalues\u001b[0m\u001b[0;34m.\u001b[0m\u001b[0mreshape\u001b[0m\u001b[0;34m(\u001b[0m\u001b[0;34m(\u001b[0m\u001b[0mvalues\u001b[0m\u001b[0;34m.\u001b[0m\u001b[0mshape\u001b[0m\u001b[0;34m[\u001b[0m\u001b[0;36m0\u001b[0m\u001b[0;34m]\u001b[0m\u001b[0;34m,\u001b[0m \u001b[0;36m1\u001b[0m\u001b[0;34m)\u001b[0m\u001b[0;34m)\u001b[0m\u001b[0;34m\u001b[0m\u001b[0;34m\u001b[0m\u001b[0m\n\u001b[1;32m    554\u001b[0m     \u001b[0;32melif\u001b[0m \u001b[0mvalues\u001b[0m\u001b[0;34m.\u001b[0m\u001b[0mndim\u001b[0m \u001b[0;34m!=\u001b[0m \u001b[0;36m2\u001b[0m\u001b[0;34m:\u001b[0m\u001b[0;34m\u001b[0m\u001b[0;34m\u001b[0m\u001b[0m\n\u001b[0;32m--> 555\u001b[0;31m         \u001b[0;32mraise\u001b[0m \u001b[0mValueError\u001b[0m\u001b[0;34m(\u001b[0m\u001b[0;34mf\"Must pass 2-d input. shape={values.shape}\"\u001b[0m\u001b[0;34m)\u001b[0m\u001b[0;34m\u001b[0m\u001b[0;34m\u001b[0m\u001b[0m\n\u001b[0m\u001b[1;32m    556\u001b[0m \u001b[0;34m\u001b[0m\u001b[0m\n\u001b[1;32m    557\u001b[0m     \u001b[0;32mreturn\u001b[0m \u001b[0mvalues\u001b[0m\u001b[0;34m\u001b[0m\u001b[0;34m\u001b[0m\u001b[0m\n",
      "\u001b[0;31mValueError\u001b[0m: Must pass 2-d input. shape=(24, 6, 2)"
     ]
    }
   ],
   "source": [
    "# y_pred = pd.DataFrame(rnn.predict(X_test), \n",
    "#                       columns=['sentiment', 'ip'])\n",
    "# y_pred.info()"
   ]
  },
  {
   "cell_type": "code",
   "execution_count": 34,
   "metadata": {
    "colab": {
     "base_uri": "https://localhost:8080/",
     "height": 301
    },
    "executionInfo": {
     "elapsed": 864,
     "status": "ok",
     "timestamp": 1658044089552,
     "user": {
      "displayName": "James Lee",
      "userId": "17665317456088603930"
     },
     "user_tz": -540
    },
    "id": "0S0gO2ffeqhp",
    "outputId": "03f6cc05-7397-433e-895d-b57c8191dded"
   },
   "outputs": [
    {
     "data": {
      "text/plain": [
       "[<matplotlib.lines.Line2D at 0x7f21e8075fd0>,\n",
       " <matplotlib.lines.Line2D at 0x7f21e8081250>]"
      ]
     },
     "execution_count": 34,
     "metadata": {},
     "output_type": "execute_result"
    },
    {
     "data": {
      "image/png": "[encoded data removed]",
      "text/plain": [
       "<Figure size 432x288 with 1 Axes>"
      ]
     },
     "metadata": {},
     "output_type": "display_data"
    }
   ],
   "source": [
    "plt.plot(pred[1])"
   ]
  },
  {
   "cell_type": "code",
   "execution_count": 35,
   "metadata": {
    "colab": {
     "base_uri": "https://localhost:8080/",
     "height": 301
    },
    "executionInfo": {
     "elapsed": 507,
     "status": "ok",
     "timestamp": 1658044090054,
     "user": {
      "displayName": "James Lee",
      "userId": "17665317456088603930"
     },
     "user_tz": -540
    },
    "id": "7Yct2DAieqg2",
    "outputId": "af2e353e-baf7-48f8-c50f-8d8c094c2d0d"
   },
   "outputs": [
    {
     "data": {
      "text/plain": [
       "[<matplotlib.lines.Line2D at 0x7f21e8067a10>,\n",
       " <matplotlib.lines.Line2D at 0x7f21e8067c50>]"
      ]
     },
     "execution_count": 35,
     "metadata": {},
     "output_type": "execute_result"
    },
    {
     "data": {
      "image/png": "[encoded data removed]",
      "text/plain": [
       "<Figure size 432x288 with 1 Axes>"
      ]
     },
     "metadata": {},
     "output_type": "display_data"
    }
   ],
   "source": [
    "plt.plot(y_test[2])"
   ]
  },
  {
   "cell_type": "code",
   "execution_count": 36,
   "metadata": {
    "executionInfo": {
     "elapsed": 817,
     "status": "ok",
     "timestamp": 1658044106787,
     "user": {
      "displayName": "James Lee",
      "userId": "17665317456088603930"
     },
     "user_tz": -540
    },
    "id": "5uiJe8a2OndQ"
   },
   "outputs": [],
   "source": [
    "test_mae_loss = np.mean(np.abs(pred - y_test), axis=1)"
   ]
  },
  {
   "cell_type": "code",
   "execution_count": 37,
   "metadata": {
    "colab": {
     "base_uri": "https://localhost:8080/"
    },
    "executionInfo": {
     "elapsed": 478,
     "status": "ok",
     "timestamp": 1658044109141,
     "user": {
      "displayName": "James Lee",
      "userId": "17665317456088603930"
     },
     "user_tz": -540
    },
    "id": "q2ZmQktqOwQ0",
    "outputId": "474feb18-bf9d-44c8-9b0b-392adb3bceca"
   },
   "outputs": [
    {
     "data": {
      "text/plain": [
       "array([[0.01584228, 0.07762318],\n",
       "       [0.01942275, 0.06822241],\n",
       "       [0.02490075, 0.07235689],\n",
       "       [0.03041236, 0.04517609],\n",
       "       [0.02659242, 0.04742047],\n",
       "       [0.02718046, 0.03102067],\n",
       "       [0.04018198, 0.02800366],\n",
       "       [0.04672252, 0.0290584 ],\n",
       "       [0.04913379, 0.03345645],\n",
       "       [0.03790318, 0.04090613],\n",
       "       [0.03527553, 0.04214566],\n",
       "       [0.03124268, 0.04226974],\n",
       "       [0.02429675, 0.05454442],\n",
       "       [0.02013701, 0.067404  ],\n",
       "       [0.01634849, 0.0765427 ],\n",
       "       [0.02909919, 0.06929269],\n",
       "       [0.03780884, 0.05972433],\n",
       "       [0.04688849, 0.06411697],\n",
       "       [0.05631972, 0.04565784],\n",
       "       [0.0570538 , 0.04198062],\n",
       "       [0.06340567, 0.05040475],\n",
       "       [0.06384382, 0.05245293],\n",
       "       [0.06834043, 0.06353859],\n",
       "       [0.07366275, 0.07105464]])"
      ]
     },
     "execution_count": 37,
     "metadata": {},
     "output_type": "execute_result"
    }
   ],
   "source": [
    "test_mae_loss"
   ]
  },
  {
   "cell_type": "markdown",
   "metadata": {
    "id": "1LjCdpoH0JPF"
   },
   "source": []
  }
 ],
 "metadata": {
  "accelerator": "GPU",
  "colab": {
   "collapsed_sections": [],
   "name": "Multivariate_TimeSeries_LSTM_Multi_step.ipynb",
   "provenance": []
  },
  "kernelspec": {
   "display_name": "Python 3 (ipykernel)",
   "language": "python",
   "name": "python3"
  },
  "language_info": {
   "codemirror_mode": {
    "name": "ipython",
    "version": 3
   },
   "file_extension": ".py",
   "mimetype": "text/x-python",
   "name": "python",
   "nbconvert_exporter": "python",
   "pygments_lexer": "ipython3",
   "version": "3.9.12"
  }
 },
 "nbformat": 4,
 "nbformat_minor": 4
}
