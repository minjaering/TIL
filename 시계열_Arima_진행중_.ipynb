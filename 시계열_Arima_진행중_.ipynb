{
  "nbformat": 4,
  "nbformat_minor": 0,
  "metadata": {
    "colab": {
      "name": "시계열 Arima - 진행중 .ipynb",
      "provenance": [],
      "collapsed_sections": [],
      "authorship_tag": "ABX9TyOv5iR4MnjUlgmjbwxqLEw3",
      "include_colab_link": true
    },
    "kernelspec": {
      "name": "python3",
      "display_name": "Python 3"
    },
    "language_info": {
      "name": "python"
    }
  },
  "cells": [
    {
      "cell_type": "markdown",
      "metadata": {
        "id": "view-in-github",
        "colab_type": "text"
      },
      "source": [
        "<a href=\"https://colab.research.google.com/github/minjaering/TIL/blob/master/%EC%8B%9C%EA%B3%84%EC%97%B4_Arima_%EC%A7%84%ED%96%89%EC%A4%91_.ipynb\" target=\"_parent\"><img src=\"https://colab.research.google.com/assets/colab-badge.svg\" alt=\"Open In Colab\"/></a>"
      ]
    },
    {
      "cell_type": "markdown",
      "source": [
        "Setting "
      ],
      "metadata": {
        "id": "z0m9laNxy3jo"
      }
    },
    {
      "cell_type": "markdown",
      "source": [
        "- Kaggle 에서 제공된 제2차 세계대전 날씨데이터를 활용"
      ],
      "metadata": {
        "id": "K8GoI0VazGjH"
      }
    },
    {
      "cell_type": "code",
      "source": [
        "import numpy as np # linear algebra\n",
        "import pandas as pd # data proxessing., csv file\n",
        "import seaborn as sns # visualization\n",
        "import matplotlib.pyplot as plt\n",
        "# import plotly.plotly as py # visualization\n",
        "from plotly.offline import init_notebook_mode, iplot # plotly offline mode in\n",
        "init_notebook_mode(connected = True)\n",
        "\n",
        "import plotly.graph_objs as go  #plotly graphical object\n",
        "import os # 디렉토리 설정\n",
        "import warnings\n",
        "warnings.filterwarnings(\"ignore\")\n",
        "plt.style.use('ggplot')\n",
        "\n"
      ],
      "metadata": {
        "colab": {
          "base_uri": "https://localhost:8080/",
          "height": 17
        },
        "id": "RQOtxUpQzMBf",
        "outputId": "5ab5090a-27c1-40ee-d2dc-78b59e273022"
      },
      "execution_count": 4,
      "outputs": [
        {
          "output_type": "display_data",
          "data": {
            "text/html": [
              "        <script type=\"text/javascript\">\n",
              "        window.PlotlyConfig = {MathJaxConfig: 'local'};\n",
              "        if (window.MathJax) {MathJax.Hub.Config({SVG: {font: \"STIX-Web\"}});}\n",
              "        if (typeof require !== 'undefined') {\n",
              "        require.undef(\"plotly\");\n",
              "        requirejs.config({\n",
              "            paths: {\n",
              "                'plotly': ['https://cdn.plot.ly/plotly-2.8.3.min']\n",
              "            }\n",
              "        });\n",
              "        require(['plotly'], function(Plotly) {\n",
              "            window._Plotly = Plotly;\n",
              "        });\n",
              "        }\n",
              "        </script>\n",
              "        "
            ]
          },
          "metadata": {}
        }
      ]
    },
    {
      "cell_type": "code",
      "source": [
        ""
      ],
      "metadata": {
        "id": "yUoUb7m8zYII"
      },
      "execution_count": null,
      "outputs": []
    }
  ]
}